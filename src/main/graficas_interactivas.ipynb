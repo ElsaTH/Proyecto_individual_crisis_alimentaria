{
 "metadata": {
  "language_info": {
   "codemirror_mode": {
    "name": "ipython",
    "version": 3
   },
   "file_extension": ".py",
   "mimetype": "text/x-python",
   "name": "python",
   "nbconvert_exporter": "python",
   "pygments_lexer": "ipython3",
   "version": "3.8.3-final"
  },
  "orig_nbformat": 2,
  "kernelspec": {
   "name": "python_defaultSpec_1598735251598",
   "display_name": "Python 3.8.3 64-bit"
  }
 },
 "nbformat": 4,
 "nbformat_minor": 2,
 "cells": [
  {
   "cell_type": "code",
   "execution_count": null,
   "metadata": {},
   "outputs": [],
   "source": []
  },
  {
   "cell_type": "code",
   "execution_count": 25,
   "metadata": {},
   "outputs": [],
   "source": [
    "import pandas as pd\n",
    "import numpy as np "
   ]
  },
  {
   "cell_type": "code",
   "execution_count": 53,
   "metadata": {},
   "outputs": [],
   "source": [
    "import matplotlib.pyplot as plt \n",
    "import seaborn as sns \n",
    "from plotly.graph_objs import *\n",
    "import plotly.graph_objects as go\n",
    "import plotly.figure_factory as ff\n"
   ]
  },
  {
   "cell_type": "markdown",
   "metadata": {},
   "source": [
    "## GRÁFICAS DINÁMICAS:"
   ]
  },
  {
   "cell_type": "code",
   "execution_count": null,
   "metadata": {},
   "outputs": [],
   "source": [
    "Realizo algún ejemplo de gráficos interactivos.\n",
    "No he realizado mi proyecto con este tipo de gráficos debido a que en la presentación no se puede demostrar directamente el potencial del gráfico y disponemos de poco tiempo para estar cambiando de pantallas."
   ]
  },
  {
   "cell_type": "code",
   "execution_count": 27,
   "metadata": {},
   "outputs": [
    {
     "output_type": "execute_result",
     "data": {
      "text/plain": "    Domain Code           Domain  Area Code   Area  Element Code  \\\n0            PP  Producer Prices        203  Spain          5530   \n1            PP  Producer Prices        203  Spain          5530   \n2            PP  Producer Prices        203  Spain          5530   \n3            PP  Producer Prices        203  Spain          5530   \n4            PP  Producer Prices        203  Spain          5530   \n..          ...              ...        ...    ...           ...   \n326          PP  Producer Prices        203  Spain          5530   \n327          PP  Producer Prices        203  Spain          5530   \n328          PP  Producer Prices        203  Spain          5530   \n329          PP  Producer Prices        203  Spain          5530   \n330          PP  Producer Prices        203  Spain          5530   \n\n                        Element  Item Code                 Item  Year Code  \\\n0    Producer Price (LCU/tonne)        221  Almonds, with shell       2007   \n1    Producer Price (LCU/tonne)        515               Apples       2007   \n2    Producer Price (LCU/tonne)        526             Apricots       2007   \n3    Producer Price (LCU/tonne)        366           Artichokes       2007   \n4    Producer Price (LCU/tonne)        367            Asparagus       2007   \n..                          ...        ...                  ...        ...   \n326  Producer Price (LCU/tonne)        205              Vetches       2012   \n327  Producer Price (LCU/tonne)        222  Walnuts, with shell       2012   \n328  Producer Price (LCU/tonne)        567          Watermelons       2012   \n329  Producer Price (LCU/tonne)         15                Wheat       2012   \n330  Producer Price (LCU/tonne)        987         Wool, greasy       2012   \n\n     Year  Months Code        Months Unit   Value Flag Flag Description  \n0    2007         7021  Annual value  LCU   887.4  NaN    Official data  \n1    2007         7021  Annual value  LCU   422.5  NaN    Official data  \n2    2007         7021  Annual value  LCU   671.0  NaN    Official data  \n3    2007         7021  Annual value  LCU   590.0  NaN    Official data  \n4    2007         7021  Annual value  LCU  1460.9  NaN    Official data  \n..    ...          ...           ...  ...     ...  ...              ...  \n326  2012         7021  Annual value  LCU   263.6  NaN    Official data  \n327  2012         7021  Annual value  LCU  2771.7  NaN    Official data  \n328  2012         7021  Annual value  LCU   204.0  NaN    Official data  \n329  2012         7021  Annual value  LCU   247.9  NaN    Official data  \n330  2012         7021  Annual value  LCU   713.4  NaN    Official data  \n\n[331 rows x 16 columns]",
      "text/html": "<div>\n<style scoped>\n    .dataframe tbody tr th:only-of-type {\n        vertical-align: middle;\n    }\n\n    .dataframe tbody tr th {\n        vertical-align: top;\n    }\n\n    .dataframe thead th {\n        text-align: right;\n    }\n</style>\n<table border=\"1\" class=\"dataframe\">\n  <thead>\n    <tr style=\"text-align: right;\">\n      <th></th>\n      <th>Domain Code</th>\n      <th>Domain</th>\n      <th>Area Code</th>\n      <th>Area</th>\n      <th>Element Code</th>\n      <th>Element</th>\n      <th>Item Code</th>\n      <th>Item</th>\n      <th>Year Code</th>\n      <th>Year</th>\n      <th>Months Code</th>\n      <th>Months</th>\n      <th>Unit</th>\n      <th>Value</th>\n      <th>Flag</th>\n      <th>Flag Description</th>\n    </tr>\n  </thead>\n  <tbody>\n    <tr>\n      <th>0</th>\n      <td>PP</td>\n      <td>Producer Prices</td>\n      <td>203</td>\n      <td>Spain</td>\n      <td>5530</td>\n      <td>Producer Price (LCU/tonne)</td>\n      <td>221</td>\n      <td>Almonds, with shell</td>\n      <td>2007</td>\n      <td>2007</td>\n      <td>7021</td>\n      <td>Annual value</td>\n      <td>LCU</td>\n      <td>887.4</td>\n      <td>NaN</td>\n      <td>Official data</td>\n    </tr>\n    <tr>\n      <th>1</th>\n      <td>PP</td>\n      <td>Producer Prices</td>\n      <td>203</td>\n      <td>Spain</td>\n      <td>5530</td>\n      <td>Producer Price (LCU/tonne)</td>\n      <td>515</td>\n      <td>Apples</td>\n      <td>2007</td>\n      <td>2007</td>\n      <td>7021</td>\n      <td>Annual value</td>\n      <td>LCU</td>\n      <td>422.5</td>\n      <td>NaN</td>\n      <td>Official data</td>\n    </tr>\n    <tr>\n      <th>2</th>\n      <td>PP</td>\n      <td>Producer Prices</td>\n      <td>203</td>\n      <td>Spain</td>\n      <td>5530</td>\n      <td>Producer Price (LCU/tonne)</td>\n      <td>526</td>\n      <td>Apricots</td>\n      <td>2007</td>\n      <td>2007</td>\n      <td>7021</td>\n      <td>Annual value</td>\n      <td>LCU</td>\n      <td>671.0</td>\n      <td>NaN</td>\n      <td>Official data</td>\n    </tr>\n    <tr>\n      <th>3</th>\n      <td>PP</td>\n      <td>Producer Prices</td>\n      <td>203</td>\n      <td>Spain</td>\n      <td>5530</td>\n      <td>Producer Price (LCU/tonne)</td>\n      <td>366</td>\n      <td>Artichokes</td>\n      <td>2007</td>\n      <td>2007</td>\n      <td>7021</td>\n      <td>Annual value</td>\n      <td>LCU</td>\n      <td>590.0</td>\n      <td>NaN</td>\n      <td>Official data</td>\n    </tr>\n    <tr>\n      <th>4</th>\n      <td>PP</td>\n      <td>Producer Prices</td>\n      <td>203</td>\n      <td>Spain</td>\n      <td>5530</td>\n      <td>Producer Price (LCU/tonne)</td>\n      <td>367</td>\n      <td>Asparagus</td>\n      <td>2007</td>\n      <td>2007</td>\n      <td>7021</td>\n      <td>Annual value</td>\n      <td>LCU</td>\n      <td>1460.9</td>\n      <td>NaN</td>\n      <td>Official data</td>\n    </tr>\n    <tr>\n      <th>...</th>\n      <td>...</td>\n      <td>...</td>\n      <td>...</td>\n      <td>...</td>\n      <td>...</td>\n      <td>...</td>\n      <td>...</td>\n      <td>...</td>\n      <td>...</td>\n      <td>...</td>\n      <td>...</td>\n      <td>...</td>\n      <td>...</td>\n      <td>...</td>\n      <td>...</td>\n      <td>...</td>\n    </tr>\n    <tr>\n      <th>326</th>\n      <td>PP</td>\n      <td>Producer Prices</td>\n      <td>203</td>\n      <td>Spain</td>\n      <td>5530</td>\n      <td>Producer Price (LCU/tonne)</td>\n      <td>205</td>\n      <td>Vetches</td>\n      <td>2012</td>\n      <td>2012</td>\n      <td>7021</td>\n      <td>Annual value</td>\n      <td>LCU</td>\n      <td>263.6</td>\n      <td>NaN</td>\n      <td>Official data</td>\n    </tr>\n    <tr>\n      <th>327</th>\n      <td>PP</td>\n      <td>Producer Prices</td>\n      <td>203</td>\n      <td>Spain</td>\n      <td>5530</td>\n      <td>Producer Price (LCU/tonne)</td>\n      <td>222</td>\n      <td>Walnuts, with shell</td>\n      <td>2012</td>\n      <td>2012</td>\n      <td>7021</td>\n      <td>Annual value</td>\n      <td>LCU</td>\n      <td>2771.7</td>\n      <td>NaN</td>\n      <td>Official data</td>\n    </tr>\n    <tr>\n      <th>328</th>\n      <td>PP</td>\n      <td>Producer Prices</td>\n      <td>203</td>\n      <td>Spain</td>\n      <td>5530</td>\n      <td>Producer Price (LCU/tonne)</td>\n      <td>567</td>\n      <td>Watermelons</td>\n      <td>2012</td>\n      <td>2012</td>\n      <td>7021</td>\n      <td>Annual value</td>\n      <td>LCU</td>\n      <td>204.0</td>\n      <td>NaN</td>\n      <td>Official data</td>\n    </tr>\n    <tr>\n      <th>329</th>\n      <td>PP</td>\n      <td>Producer Prices</td>\n      <td>203</td>\n      <td>Spain</td>\n      <td>5530</td>\n      <td>Producer Price (LCU/tonne)</td>\n      <td>15</td>\n      <td>Wheat</td>\n      <td>2012</td>\n      <td>2012</td>\n      <td>7021</td>\n      <td>Annual value</td>\n      <td>LCU</td>\n      <td>247.9</td>\n      <td>NaN</td>\n      <td>Official data</td>\n    </tr>\n    <tr>\n      <th>330</th>\n      <td>PP</td>\n      <td>Producer Prices</td>\n      <td>203</td>\n      <td>Spain</td>\n      <td>5530</td>\n      <td>Producer Price (LCU/tonne)</td>\n      <td>987</td>\n      <td>Wool, greasy</td>\n      <td>2012</td>\n      <td>2012</td>\n      <td>7021</td>\n      <td>Annual value</td>\n      <td>LCU</td>\n      <td>713.4</td>\n      <td>NaN</td>\n      <td>Official data</td>\n    </tr>\n  </tbody>\n</table>\n<p>331 rows × 16 columns</p>\n</div>"
     },
     "metadata": {},
     "execution_count": 27
    }
   ],
   "source": [
    "df = pd.read_csv(\"FAOSTAT_data_8-10-2020.csv\",encoding=\"ISO-8859-1\",date_parser=\"Year\")  \n",
    "df"
   ]
  },
  {
   "cell_type": "code",
   "execution_count": 6,
   "metadata": {},
   "outputs": [
    {
     "output_type": "execute_result",
     "data": {
      "text/plain": "Spinach                            3\nMelons, other (inc.cantaloupes)    3\nBeeswax                            3\nCarrots and turnips                3\nPersimmons                         3\n                                  ..\nMeat live weight, turkey           2\nMillet                             2\nChicory roots                      2\nCotton lint                        1\nPoppy seed                         1\nName: Item, Length: 114, dtype: int64"
     },
     "metadata": {},
     "execution_count": 6
    }
   ],
   "source": [
    "df.Item.value_counts()"
   ]
  },
  {
   "cell_type": "code",
   "execution_count": 28,
   "metadata": {},
   "outputs": [],
   "source": [
    "df = df.loc[:,[\"Area\",\"Item\",\"Year\",\"Value\"]]"
   ]
  },
  {
   "cell_type": "code",
   "execution_count": 29,
   "metadata": {},
   "outputs": [],
   "source": [
    "year_price_2007 = df[df.Year == 2007] \n",
    "year_price_2008 = df[df.Year == 2008] \n",
    "year_price_2012 = df[df.Year == 2012] "
   ]
  },
  {
   "cell_type": "code",
   "execution_count": 30,
   "metadata": {},
   "outputs": [
    {
     "output_type": "display_data",
     "data": {
      "application/vnd.plotly.v1+json": {
       "config": {
        "plotlyServerURL": "https://plot.ly"
       },
       "data": [
        {
         "fillcolor": "white",
         "line": {
          "color": "#76D7C4"
         },
         "mode": "lines",
         "type": "scatter",
         "x": [
          "Almonds, with shell",
          "Apples",
          "Apricots",
          "Artichokes",
          "Asparagus",
          "Avocados",
          "Bananas",
          "Barley",
          "Beans, dry",
          "Beans, green",
          "Beeswax",
          "Broad beans, horse beans, dry",
          "Cabbages and other brassicas",
          "Canary seed",
          "Carobs",
          "Carrots and turnips",
          "Cauliflowers and broccoli",
          "Cherries",
          "Cherries, sour",
          "Chestnut",
          "Chick peas",
          "Chillies and peppers, dry",
          "Chillies and peppers, green",
          "Cottonseed",
          "Cucumbers and gherkins",
          "Dates",
          "Eggplants (aubergines)",
          "Eggs, hen, in shell",
          "Figs",
          "Garlic",
          "Grapefruit (inc. pomelos)",
          "Grapes",
          "Groundnuts, with shell",
          "Hazelnuts, with shell",
          "Honey, natural",
          "Hops",
          "Kiwi fruit",
          "Leeks, other alliaceous vegetables",
          "Lemons and limes",
          "Lentils",
          "Lettuce and chicory",
          "Lupins",
          "Maize",
          "Mangoes, mangosteens, guavas",
          "Meat live weight, ass",
          "Meat live weight, chicken",
          "Meat live weight, goat",
          "Meat live weight, horse",
          "Meat live weight, mule",
          "Meat live weight, pig",
          "Meat live weight, rabbit",
          "Meat live weight, sheep",
          "Meat, ass",
          "Meat, chicken",
          "Meat, goat",
          "Meat, horse",
          "Meat, mule",
          "Meat, pig",
          "Meat, rabbit",
          "Meat, sheep",
          "Meat, turkey",
          "Melons, other (inc.cantaloupes)",
          "Milk, whole fresh cow",
          "Milk, whole fresh goat",
          "Milk, whole fresh sheep",
          "Millet",
          "Mushrooms and truffles",
          "Oats",
          "Olives",
          "Onions, dry",
          "Onions, shallots, green",
          "Oranges",
          "Papayas",
          "Peaches and nectarines",
          "Pears",
          "Peas, dry",
          "Peas, green",
          "Persimmons",
          "Pineapples",
          "Plums and sloes",
          "Potatoes",
          "Pumpkins, squash and gourds",
          "Quinces",
          "Rapeseed",
          "Raspberries",
          "Rice, paddy",
          "Rye",
          "Safflower seed",
          "Seed cotton",
          "Sorghum",
          "Soybeans",
          "Spinach",
          "Strawberries",
          "Sugar beet",
          "Sugar cane",
          "Sunflower seed",
          "Sweet potatoes",
          "Tangerines, mandarins, clementines, satsumas",
          "Tobacco, unmanufactured",
          "Tomatoes",
          "Triticale",
          "Vegetables, leguminous nes",
          "Vetches",
          "Walnuts, with shell",
          "Watermelons",
          "Wheat",
          "Wool, greasy"
         ],
         "y": [
          887.4,
          422.5,
          671,
          590,
          1460.9,
          1138.3,
          449,
          183.6,
          2047.5,
          1728.2,
          2412.7,
          249.1,
          299,
          492.3,
          338.8,
          268.1,
          439.9,
          1960.7,
          1960.7,
          1454.5,
          632.5,
          2884.6,
          917.7,
          81.8,
          485.6,
          2469.7,
          553.2,
          1356.7,
          1316.5,
          1319.2,
          214,
          548.4,
          1301.7,
          1571.9,
          2376.6,
          3360,
          664.4,
          546.1,
          276.7,
          608.5,
          421.6,
          242.3,
          204.5,
          1475.1,
          322.4,
          1087.9,
          579.4,
          932.1,
          362.1,
          834.6,
          960.9,
          276.4,
          644.8,
          1450.5,
          5189.1,
          1864.2,
          724.1,
          1056.5,
          1455.7,
          2378.9,
          1072.1,
          346.4,
          353.5,
          556.1,
          754.5,
          349.4,
          1143.4,
          158.2,
          655,
          245,
          885.7,
          175.1,
          1098.4,
          560.8,
          556.7,
          220.3,
          1842.3,
          647.2,
          1464.7,
          518,
          244.6,
          378.4,
          451.1,
          241.9,
          3732.5,
          271.4,
          177.9,
          210,
          327.3,
          198.1,
          244.8,
          674.6,
          1094.1,
          35.1,
          36.3,
          394.3,
          382.5,
          222.5,
          553.4,
          641.3,
          183.8,
          1026.3,
          242.2,
          2200.4,
          241.2,
          210.3,
          360.5
         ]
        }
       ],
       "layout": {
        "font": {
         "color": "#424949",
         "family": "Courier New, monospace",
         "size": 10
        },
        "height": 700,
        "legend": {
         "title": {}
        },
        "plot_bgcolor": "white",
        "template": {
         "data": {
          "bar": [
           {
            "error_x": {
             "color": "#2a3f5f"
            },
            "error_y": {
             "color": "#2a3f5f"
            },
            "marker": {
             "line": {
              "color": "#E5ECF6",
              "width": 0.5
             }
            },
            "type": "bar"
           }
          ],
          "barpolar": [
           {
            "marker": {
             "line": {
              "color": "#E5ECF6",
              "width": 0.5
             }
            },
            "type": "barpolar"
           }
          ],
          "carpet": [
           {
            "aaxis": {
             "endlinecolor": "#2a3f5f",
             "gridcolor": "white",
             "linecolor": "white",
             "minorgridcolor": "white",
             "startlinecolor": "#2a3f5f"
            },
            "baxis": {
             "endlinecolor": "#2a3f5f",
             "gridcolor": "white",
             "linecolor": "white",
             "minorgridcolor": "white",
             "startlinecolor": "#2a3f5f"
            },
            "type": "carpet"
           }
          ],
          "choropleth": [
           {
            "colorbar": {
             "outlinewidth": 0,
             "ticks": ""
            },
            "type": "choropleth"
           }
          ],
          "contour": [
           {
            "colorbar": {
             "outlinewidth": 0,
             "ticks": ""
            },
            "colorscale": [
             [
              0,
              "#0d0887"
             ],
             [
              0.1111111111111111,
              "#46039f"
             ],
             [
              0.2222222222222222,
              "#7201a8"
             ],
             [
              0.3333333333333333,
              "#9c179e"
             ],
             [
              0.4444444444444444,
              "#bd3786"
             ],
             [
              0.5555555555555556,
              "#d8576b"
             ],
             [
              0.6666666666666666,
              "#ed7953"
             ],
             [
              0.7777777777777778,
              "#fb9f3a"
             ],
             [
              0.8888888888888888,
              "#fdca26"
             ],
             [
              1,
              "#f0f921"
             ]
            ],
            "type": "contour"
           }
          ],
          "contourcarpet": [
           {
            "colorbar": {
             "outlinewidth": 0,
             "ticks": ""
            },
            "type": "contourcarpet"
           }
          ],
          "heatmap": [
           {
            "colorbar": {
             "outlinewidth": 0,
             "ticks": ""
            },
            "colorscale": [
             [
              0,
              "#0d0887"
             ],
             [
              0.1111111111111111,
              "#46039f"
             ],
             [
              0.2222222222222222,
              "#7201a8"
             ],
             [
              0.3333333333333333,
              "#9c179e"
             ],
             [
              0.4444444444444444,
              "#bd3786"
             ],
             [
              0.5555555555555556,
              "#d8576b"
             ],
             [
              0.6666666666666666,
              "#ed7953"
             ],
             [
              0.7777777777777778,
              "#fb9f3a"
             ],
             [
              0.8888888888888888,
              "#fdca26"
             ],
             [
              1,
              "#f0f921"
             ]
            ],
            "type": "heatmap"
           }
          ],
          "heatmapgl": [
           {
            "colorbar": {
             "outlinewidth": 0,
             "ticks": ""
            },
            "colorscale": [
             [
              0,
              "#0d0887"
             ],
             [
              0.1111111111111111,
              "#46039f"
             ],
             [
              0.2222222222222222,
              "#7201a8"
             ],
             [
              0.3333333333333333,
              "#9c179e"
             ],
             [
              0.4444444444444444,
              "#bd3786"
             ],
             [
              0.5555555555555556,
              "#d8576b"
             ],
             [
              0.6666666666666666,
              "#ed7953"
             ],
             [
              0.7777777777777778,
              "#fb9f3a"
             ],
             [
              0.8888888888888888,
              "#fdca26"
             ],
             [
              1,
              "#f0f921"
             ]
            ],
            "type": "heatmapgl"
           }
          ],
          "histogram": [
           {
            "marker": {
             "colorbar": {
              "outlinewidth": 0,
              "ticks": ""
             }
            },
            "type": "histogram"
           }
          ],
          "histogram2d": [
           {
            "colorbar": {
             "outlinewidth": 0,
             "ticks": ""
            },
            "colorscale": [
             [
              0,
              "#0d0887"
             ],
             [
              0.1111111111111111,
              "#46039f"
             ],
             [
              0.2222222222222222,
              "#7201a8"
             ],
             [
              0.3333333333333333,
              "#9c179e"
             ],
             [
              0.4444444444444444,
              "#bd3786"
             ],
             [
              0.5555555555555556,
              "#d8576b"
             ],
             [
              0.6666666666666666,
              "#ed7953"
             ],
             [
              0.7777777777777778,
              "#fb9f3a"
             ],
             [
              0.8888888888888888,
              "#fdca26"
             ],
             [
              1,
              "#f0f921"
             ]
            ],
            "type": "histogram2d"
           }
          ],
          "histogram2dcontour": [
           {
            "colorbar": {
             "outlinewidth": 0,
             "ticks": ""
            },
            "colorscale": [
             [
              0,
              "#0d0887"
             ],
             [
              0.1111111111111111,
              "#46039f"
             ],
             [
              0.2222222222222222,
              "#7201a8"
             ],
             [
              0.3333333333333333,
              "#9c179e"
             ],
             [
              0.4444444444444444,
              "#bd3786"
             ],
             [
              0.5555555555555556,
              "#d8576b"
             ],
             [
              0.6666666666666666,
              "#ed7953"
             ],
             [
              0.7777777777777778,
              "#fb9f3a"
             ],
             [
              0.8888888888888888,
              "#fdca26"
             ],
             [
              1,
              "#f0f921"
             ]
            ],
            "type": "histogram2dcontour"
           }
          ],
          "mesh3d": [
           {
            "colorbar": {
             "outlinewidth": 0,
             "ticks": ""
            },
            "type": "mesh3d"
           }
          ],
          "parcoords": [
           {
            "line": {
             "colorbar": {
              "outlinewidth": 0,
              "ticks": ""
             }
            },
            "type": "parcoords"
           }
          ],
          "pie": [
           {
            "automargin": true,
            "type": "pie"
           }
          ],
          "scatter": [
           {
            "marker": {
             "colorbar": {
              "outlinewidth": 0,
              "ticks": ""
             }
            },
            "type": "scatter"
           }
          ],
          "scatter3d": [
           {
            "line": {
             "colorbar": {
              "outlinewidth": 0,
              "ticks": ""
             }
            },
            "marker": {
             "colorbar": {
              "outlinewidth": 0,
              "ticks": ""
             }
            },
            "type": "scatter3d"
           }
          ],
          "scattercarpet": [
           {
            "marker": {
             "colorbar": {
              "outlinewidth": 0,
              "ticks": ""
             }
            },
            "type": "scattercarpet"
           }
          ],
          "scattergeo": [
           {
            "marker": {
             "colorbar": {
              "outlinewidth": 0,
              "ticks": ""
             }
            },
            "type": "scattergeo"
           }
          ],
          "scattergl": [
           {
            "marker": {
             "colorbar": {
              "outlinewidth": 0,
              "ticks": ""
             }
            },
            "type": "scattergl"
           }
          ],
          "scattermapbox": [
           {
            "marker": {
             "colorbar": {
              "outlinewidth": 0,
              "ticks": ""
             }
            },
            "type": "scattermapbox"
           }
          ],
          "scatterpolar": [
           {
            "marker": {
             "colorbar": {
              "outlinewidth": 0,
              "ticks": ""
             }
            },
            "type": "scatterpolar"
           }
          ],
          "scatterpolargl": [
           {
            "marker": {
             "colorbar": {
              "outlinewidth": 0,
              "ticks": ""
             }
            },
            "type": "scatterpolargl"
           }
          ],
          "scatterternary": [
           {
            "marker": {
             "colorbar": {
              "outlinewidth": 0,
              "ticks": ""
             }
            },
            "type": "scatterternary"
           }
          ],
          "surface": [
           {
            "colorbar": {
             "outlinewidth": 0,
             "ticks": ""
            },
            "colorscale": [
             [
              0,
              "#0d0887"
             ],
             [
              0.1111111111111111,
              "#46039f"
             ],
             [
              0.2222222222222222,
              "#7201a8"
             ],
             [
              0.3333333333333333,
              "#9c179e"
             ],
             [
              0.4444444444444444,
              "#bd3786"
             ],
             [
              0.5555555555555556,
              "#d8576b"
             ],
             [
              0.6666666666666666,
              "#ed7953"
             ],
             [
              0.7777777777777778,
              "#fb9f3a"
             ],
             [
              0.8888888888888888,
              "#fdca26"
             ],
             [
              1,
              "#f0f921"
             ]
            ],
            "type": "surface"
           }
          ],
          "table": [
           {
            "cells": {
             "fill": {
              "color": "#EBF0F8"
             },
             "line": {
              "color": "white"
             }
            },
            "header": {
             "fill": {
              "color": "#C8D4E3"
             },
             "line": {
              "color": "white"
             }
            },
            "type": "table"
           }
          ]
         },
         "layout": {
          "annotationdefaults": {
           "arrowcolor": "#2a3f5f",
           "arrowhead": 0,
           "arrowwidth": 1
          },
          "coloraxis": {
           "colorbar": {
            "outlinewidth": 0,
            "ticks": ""
           }
          },
          "colorscale": {
           "diverging": [
            [
             0,
             "#8e0152"
            ],
            [
             0.1,
             "#c51b7d"
            ],
            [
             0.2,
             "#de77ae"
            ],
            [
             0.3,
             "#f1b6da"
            ],
            [
             0.4,
             "#fde0ef"
            ],
            [
             0.5,
             "#f7f7f7"
            ],
            [
             0.6,
             "#e6f5d0"
            ],
            [
             0.7,
             "#b8e186"
            ],
            [
             0.8,
             "#7fbc41"
            ],
            [
             0.9,
             "#4d9221"
            ],
            [
             1,
             "#276419"
            ]
           ],
           "sequential": [
            [
             0,
             "#0d0887"
            ],
            [
             0.1111111111111111,
             "#46039f"
            ],
            [
             0.2222222222222222,
             "#7201a8"
            ],
            [
             0.3333333333333333,
             "#9c179e"
            ],
            [
             0.4444444444444444,
             "#bd3786"
            ],
            [
             0.5555555555555556,
             "#d8576b"
            ],
            [
             0.6666666666666666,
             "#ed7953"
            ],
            [
             0.7777777777777778,
             "#fb9f3a"
            ],
            [
             0.8888888888888888,
             "#fdca26"
            ],
            [
             1,
             "#f0f921"
            ]
           ],
           "sequentialminus": [
            [
             0,
             "#0d0887"
            ],
            [
             0.1111111111111111,
             "#46039f"
            ],
            [
             0.2222222222222222,
             "#7201a8"
            ],
            [
             0.3333333333333333,
             "#9c179e"
            ],
            [
             0.4444444444444444,
             "#bd3786"
            ],
            [
             0.5555555555555556,
             "#d8576b"
            ],
            [
             0.6666666666666666,
             "#ed7953"
            ],
            [
             0.7777777777777778,
             "#fb9f3a"
            ],
            [
             0.8888888888888888,
             "#fdca26"
            ],
            [
             1,
             "#f0f921"
            ]
           ]
          },
          "colorway": [
           "#636efa",
           "#EF553B",
           "#00cc96",
           "#ab63fa",
           "#FFA15A",
           "#19d3f3",
           "#FF6692",
           "#B6E880",
           "#FF97FF",
           "#FECB52"
          ],
          "font": {
           "color": "#2a3f5f"
          },
          "geo": {
           "bgcolor": "white",
           "lakecolor": "white",
           "landcolor": "#E5ECF6",
           "showlakes": true,
           "showland": true,
           "subunitcolor": "white"
          },
          "hoverlabel": {
           "align": "left"
          },
          "hovermode": "closest",
          "mapbox": {
           "style": "light"
          },
          "paper_bgcolor": "white",
          "plot_bgcolor": "#E5ECF6",
          "polar": {
           "angularaxis": {
            "gridcolor": "white",
            "linecolor": "white",
            "ticks": ""
           },
           "bgcolor": "#E5ECF6",
           "radialaxis": {
            "gridcolor": "white",
            "linecolor": "white",
            "ticks": ""
           }
          },
          "scene": {
           "xaxis": {
            "backgroundcolor": "#E5ECF6",
            "gridcolor": "white",
            "gridwidth": 2,
            "linecolor": "white",
            "showbackground": true,
            "ticks": "",
            "zerolinecolor": "white"
           },
           "yaxis": {
            "backgroundcolor": "#E5ECF6",
            "gridcolor": "white",
            "gridwidth": 2,
            "linecolor": "white",
            "showbackground": true,
            "ticks": "",
            "zerolinecolor": "white"
           },
           "zaxis": {
            "backgroundcolor": "#E5ECF6",
            "gridcolor": "white",
            "gridwidth": 2,
            "linecolor": "white",
            "showbackground": true,
            "ticks": "",
            "zerolinecolor": "white"
           }
          },
          "shapedefaults": {
           "line": {
            "color": "#2a3f5f"
           }
          },
          "ternary": {
           "aaxis": {
            "gridcolor": "white",
            "linecolor": "white",
            "ticks": ""
           },
           "baxis": {
            "gridcolor": "white",
            "linecolor": "white",
            "ticks": ""
           },
           "bgcolor": "#E5ECF6",
           "caxis": {
            "gridcolor": "white",
            "linecolor": "white",
            "ticks": ""
           }
          },
          "title": {
           "x": 0.05
          },
          "xaxis": {
           "automargin": true,
           "gridcolor": "white",
           "linecolor": "white",
           "ticks": "",
           "title": {
            "standoff": 15
           },
           "zerolinecolor": "white",
           "zerolinewidth": 2
          },
          "yaxis": {
           "automargin": true,
           "gridcolor": "white",
           "linecolor": "white",
           "ticks": "",
           "title": {
            "standoff": 15
           },
           "zerolinecolor": "white",
           "zerolinewidth": 2
          }
         }
        },
        "title": {
         "text": "PRODUCCIÓN ESPAÑA 2007"
        },
        "xaxis": {
         "linecolor": "grey",
         "linewidth": 2,
         "showline": true,
         "tickangle": 45,
         "title": {
          "text": "Materia prima producida"
         }
        },
        "yaxis": {
         "linecolor": "grey",
         "linewidth": 2,
         "showline": true,
         "title": {
          "text": "Value"
         }
        }
       }
      }
     },
     "metadata": {}
    }
   ],
   "source": [
    "\n",
    "fig = go.Figure(data=go.Scatter(x=year_price_2007[\"Item\"],\n",
    "                                y=year_price_2007[\"Value\"],\n",
    "                                mode='lines',line_color=\"#76D7C4\",fillcolor='white',\n",
    "))\n",
    "fig.update_xaxes(showline=True, linewidth=2, linecolor='grey',tickangle = 45  )\n",
    "fig.update_yaxes(showline=True, linewidth=2, linecolor='grey')\n",
    "fig . update_layout ( \n",
    "    title = \"PRODUCCIÓN ESPAÑA 2007\" , \n",
    "    xaxis_title = \"Materia prima producida\" , \n",
    "    yaxis_title = \"Value\" , \n",
    "    legend_title = None ,\n",
    "    height= 700,\n",
    "    plot_bgcolor=\"white\", \n",
    "    font = dict ( \n",
    "        family = \"Courier New, monospace\" , \n",
    "        size = 10 , \n",
    "        color = \"#424949\" \n",
    "    ) \n",
    ")\n",
    "\n",
    "fig.show() "
   ]
  },
  {
   "cell_type": "code",
   "execution_count": 11,
   "metadata": {},
   "outputs": [
    {
     "output_type": "display_data",
     "data": {
      "application/vnd.plotly.v1+json": {
       "config": {
        "plotlyServerURL": "https://plot.ly"
       },
       "data": [
        {
         "fillcolor": "white",
         "line": {
          "color": "#909F43"
         },
         "mode": "lines",
         "type": "scatter",
         "x": [
          "Almonds, with shell",
          "Apples",
          "Apricots",
          "Artichokes",
          "Asparagus",
          "Avocados",
          "Bananas",
          "Barley",
          "Beans, dry",
          "Beans, green",
          "Beeswax",
          "Broad beans, horse beans, dry",
          "Cabbages and other brassicas",
          "Canary seed",
          "Carobs",
          "Carrots and turnips",
          "Cauliflowers and broccoli",
          "Cherries",
          "Cherries, sour",
          "Chestnut",
          "Chick peas",
          "Chicory roots",
          "Chillies and peppers, dry",
          "Chillies and peppers, green",
          "Cotton lint",
          "Cottonseed",
          "Cucumbers and gherkins",
          "Dates",
          "Eggplants (aubergines)",
          "Eggs, hen, in shell",
          "Figs",
          "Garlic",
          "Grapefruit (inc. pomelos)",
          "Grapes",
          "Groundnuts, with shell",
          "Hazelnuts, with shell",
          "Honey, natural",
          "Hops",
          "Kiwi fruit",
          "Leeks, other alliaceous vegetables",
          "Lemons and limes",
          "Lentils",
          "Lettuce and chicory",
          "Lupins",
          "Maize",
          "Mangoes, mangosteens, guavas",
          "Meat live weight, ass",
          "Meat live weight, chicken",
          "Meat live weight, duck",
          "Meat live weight, goat",
          "Meat live weight, horse",
          "Meat live weight, mule",
          "Meat live weight, pig",
          "Meat live weight, rabbit",
          "Meat live weight, sheep",
          "Meat live weight, turkey",
          "Meat, ass",
          "Meat, chicken",
          "Meat, duck",
          "Meat, goat",
          "Meat, horse",
          "Meat, mule",
          "Meat, pig",
          "Meat, rabbit",
          "Meat, sheep",
          "Meat, turkey",
          "Melons, other (inc.cantaloupes)",
          "Milk, whole fresh cow",
          "Milk, whole fresh goat",
          "Milk, whole fresh sheep",
          "Millet",
          "Mushrooms and truffles",
          "Oats",
          "Olives",
          "Onions, dry",
          "Onions, shallots, green",
          "Oranges",
          "Papayas",
          "Peaches and nectarines",
          "Pears",
          "Peas, dry",
          "Peas, green",
          "Peppermint",
          "Persimmons",
          "Pineapples",
          "Plums and sloes",
          "Potatoes",
          "Pumpkins, squash and gourds",
          "Quinces",
          "Rapeseed",
          "Raspberries",
          "Rice, paddy",
          "Rye",
          "Safflower seed",
          "Seed cotton",
          "Sorghum",
          "Soybeans",
          "Spinach",
          "Strawberries",
          "Sugar beet",
          "Sugar cane",
          "Sunflower seed",
          "Sweet potatoes",
          "Tangerines, mandarins, clementines, satsumas",
          "Tobacco, unmanufactured",
          "Tomatoes",
          "Triticale",
          "Vegetables, leguminous nes",
          "Vetches",
          "Walnuts, with shell",
          "Watermelons",
          "Wheat",
          "Wool, greasy"
         ],
         "y": [
          866.2,
          391.9,
          687.8,
          471.3,
          1533,
          1214.8,
          468.4,
          169.7,
          1983.4,
          1793.6,
          3033.9,
          306.9,
          299.7,
          430.3,
          297.4,
          291.8,
          375,
          1895.8,
          1895.8,
          1500.9,
          657.3,
          372.5,
          3473.3,
          906.9,
          835.3,
          66.8,
          444.1,
          2469.7,
          648.2,
          1346.8,
          1109.1,
          1260.3,
          158.9,
          534.8,
          1288.8,
          1375.8,
          2648.4,
          4940,
          730.7,
          553.4,
          480.9,
          579,
          490,
          263.9,
          182,
          1558.5,
          288.4,
          1023.7,
          2230.3,
          560.7,
          831.3,
          376.1,
          914,
          1170,
          256.8,
          1083.6,
          576.8,
          1364.9,
          2973.7,
          4921.9,
          1662.5,
          752.1,
          1157,
          1772.6,
          2458.6,
          1305.5,
          420.6,
          379.4,
          591.7,
          814.8,
          389.6,
          1160.7,
          171.1,
          522.2,
          163.6,
          801.2,
          231.5,
          783.1,
          607,
          577.3,
          217.6,
          1834.6,
          1525,
          783.7,
          1343.8,
          520.1,
          225.9,
          453,
          407.4,
          268.9,
          4735.2,
          370.2,
          160.3,
          220,
          267.3,
          165.2,
          273,
          698.2,
          1562.2,
          37.1,
          36.3,
          387.1,
          377.1,
          256.3,
          642.9,
          588.9,
          184.8,
          940.9,
          289.4,
          2253,
          370.8,
          218.9,
          340.5
         ]
        }
       ],
       "layout": {
        "font": {
         "color": "#424949",
         "family": "Courier New, monospace",
         "size": 10
        },
        "height": 700,
        "legend": {
         "title": {}
        },
        "plot_bgcolor": "white",
        "template": {
         "data": {
          "bar": [
           {
            "error_x": {
             "color": "#2a3f5f"
            },
            "error_y": {
             "color": "#2a3f5f"
            },
            "marker": {
             "line": {
              "color": "#E5ECF6",
              "width": 0.5
             }
            },
            "type": "bar"
           }
          ],
          "barpolar": [
           {
            "marker": {
             "line": {
              "color": "#E5ECF6",
              "width": 0.5
             }
            },
            "type": "barpolar"
           }
          ],
          "carpet": [
           {
            "aaxis": {
             "endlinecolor": "#2a3f5f",
             "gridcolor": "white",
             "linecolor": "white",
             "minorgridcolor": "white",
             "startlinecolor": "#2a3f5f"
            },
            "baxis": {
             "endlinecolor": "#2a3f5f",
             "gridcolor": "white",
             "linecolor": "white",
             "minorgridcolor": "white",
             "startlinecolor": "#2a3f5f"
            },
            "type": "carpet"
           }
          ],
          "choropleth": [
           {
            "colorbar": {
             "outlinewidth": 0,
             "ticks": ""
            },
            "type": "choropleth"
           }
          ],
          "contour": [
           {
            "colorbar": {
             "outlinewidth": 0,
             "ticks": ""
            },
            "colorscale": [
             [
              0,
              "#0d0887"
             ],
             [
              0.1111111111111111,
              "#46039f"
             ],
             [
              0.2222222222222222,
              "#7201a8"
             ],
             [
              0.3333333333333333,
              "#9c179e"
             ],
             [
              0.4444444444444444,
              "#bd3786"
             ],
             [
              0.5555555555555556,
              "#d8576b"
             ],
             [
              0.6666666666666666,
              "#ed7953"
             ],
             [
              0.7777777777777778,
              "#fb9f3a"
             ],
             [
              0.8888888888888888,
              "#fdca26"
             ],
             [
              1,
              "#f0f921"
             ]
            ],
            "type": "contour"
           }
          ],
          "contourcarpet": [
           {
            "colorbar": {
             "outlinewidth": 0,
             "ticks": ""
            },
            "type": "contourcarpet"
           }
          ],
          "heatmap": [
           {
            "colorbar": {
             "outlinewidth": 0,
             "ticks": ""
            },
            "colorscale": [
             [
              0,
              "#0d0887"
             ],
             [
              0.1111111111111111,
              "#46039f"
             ],
             [
              0.2222222222222222,
              "#7201a8"
             ],
             [
              0.3333333333333333,
              "#9c179e"
             ],
             [
              0.4444444444444444,
              "#bd3786"
             ],
             [
              0.5555555555555556,
              "#d8576b"
             ],
             [
              0.6666666666666666,
              "#ed7953"
             ],
             [
              0.7777777777777778,
              "#fb9f3a"
             ],
             [
              0.8888888888888888,
              "#fdca26"
             ],
             [
              1,
              "#f0f921"
             ]
            ],
            "type": "heatmap"
           }
          ],
          "heatmapgl": [
           {
            "colorbar": {
             "outlinewidth": 0,
             "ticks": ""
            },
            "colorscale": [
             [
              0,
              "#0d0887"
             ],
             [
              0.1111111111111111,
              "#46039f"
             ],
             [
              0.2222222222222222,
              "#7201a8"
             ],
             [
              0.3333333333333333,
              "#9c179e"
             ],
             [
              0.4444444444444444,
              "#bd3786"
             ],
             [
              0.5555555555555556,
              "#d8576b"
             ],
             [
              0.6666666666666666,
              "#ed7953"
             ],
             [
              0.7777777777777778,
              "#fb9f3a"
             ],
             [
              0.8888888888888888,
              "#fdca26"
             ],
             [
              1,
              "#f0f921"
             ]
            ],
            "type": "heatmapgl"
           }
          ],
          "histogram": [
           {
            "marker": {
             "colorbar": {
              "outlinewidth": 0,
              "ticks": ""
             }
            },
            "type": "histogram"
           }
          ],
          "histogram2d": [
           {
            "colorbar": {
             "outlinewidth": 0,
             "ticks": ""
            },
            "colorscale": [
             [
              0,
              "#0d0887"
             ],
             [
              0.1111111111111111,
              "#46039f"
             ],
             [
              0.2222222222222222,
              "#7201a8"
             ],
             [
              0.3333333333333333,
              "#9c179e"
             ],
             [
              0.4444444444444444,
              "#bd3786"
             ],
             [
              0.5555555555555556,
              "#d8576b"
             ],
             [
              0.6666666666666666,
              "#ed7953"
             ],
             [
              0.7777777777777778,
              "#fb9f3a"
             ],
             [
              0.8888888888888888,
              "#fdca26"
             ],
             [
              1,
              "#f0f921"
             ]
            ],
            "type": "histogram2d"
           }
          ],
          "histogram2dcontour": [
           {
            "colorbar": {
             "outlinewidth": 0,
             "ticks": ""
            },
            "colorscale": [
             [
              0,
              "#0d0887"
             ],
             [
              0.1111111111111111,
              "#46039f"
             ],
             [
              0.2222222222222222,
              "#7201a8"
             ],
             [
              0.3333333333333333,
              "#9c179e"
             ],
             [
              0.4444444444444444,
              "#bd3786"
             ],
             [
              0.5555555555555556,
              "#d8576b"
             ],
             [
              0.6666666666666666,
              "#ed7953"
             ],
             [
              0.7777777777777778,
              "#fb9f3a"
             ],
             [
              0.8888888888888888,
              "#fdca26"
             ],
             [
              1,
              "#f0f921"
             ]
            ],
            "type": "histogram2dcontour"
           }
          ],
          "mesh3d": [
           {
            "colorbar": {
             "outlinewidth": 0,
             "ticks": ""
            },
            "type": "mesh3d"
           }
          ],
          "parcoords": [
           {
            "line": {
             "colorbar": {
              "outlinewidth": 0,
              "ticks": ""
             }
            },
            "type": "parcoords"
           }
          ],
          "pie": [
           {
            "automargin": true,
            "type": "pie"
           }
          ],
          "scatter": [
           {
            "marker": {
             "colorbar": {
              "outlinewidth": 0,
              "ticks": ""
             }
            },
            "type": "scatter"
           }
          ],
          "scatter3d": [
           {
            "line": {
             "colorbar": {
              "outlinewidth": 0,
              "ticks": ""
             }
            },
            "marker": {
             "colorbar": {
              "outlinewidth": 0,
              "ticks": ""
             }
            },
            "type": "scatter3d"
           }
          ],
          "scattercarpet": [
           {
            "marker": {
             "colorbar": {
              "outlinewidth": 0,
              "ticks": ""
             }
            },
            "type": "scattercarpet"
           }
          ],
          "scattergeo": [
           {
            "marker": {
             "colorbar": {
              "outlinewidth": 0,
              "ticks": ""
             }
            },
            "type": "scattergeo"
           }
          ],
          "scattergl": [
           {
            "marker": {
             "colorbar": {
              "outlinewidth": 0,
              "ticks": ""
             }
            },
            "type": "scattergl"
           }
          ],
          "scattermapbox": [
           {
            "marker": {
             "colorbar": {
              "outlinewidth": 0,
              "ticks": ""
             }
            },
            "type": "scattermapbox"
           }
          ],
          "scatterpolar": [
           {
            "marker": {
             "colorbar": {
              "outlinewidth": 0,
              "ticks": ""
             }
            },
            "type": "scatterpolar"
           }
          ],
          "scatterpolargl": [
           {
            "marker": {
             "colorbar": {
              "outlinewidth": 0,
              "ticks": ""
             }
            },
            "type": "scatterpolargl"
           }
          ],
          "scatterternary": [
           {
            "marker": {
             "colorbar": {
              "outlinewidth": 0,
              "ticks": ""
             }
            },
            "type": "scatterternary"
           }
          ],
          "surface": [
           {
            "colorbar": {
             "outlinewidth": 0,
             "ticks": ""
            },
            "colorscale": [
             [
              0,
              "#0d0887"
             ],
             [
              0.1111111111111111,
              "#46039f"
             ],
             [
              0.2222222222222222,
              "#7201a8"
             ],
             [
              0.3333333333333333,
              "#9c179e"
             ],
             [
              0.4444444444444444,
              "#bd3786"
             ],
             [
              0.5555555555555556,
              "#d8576b"
             ],
             [
              0.6666666666666666,
              "#ed7953"
             ],
             [
              0.7777777777777778,
              "#fb9f3a"
             ],
             [
              0.8888888888888888,
              "#fdca26"
             ],
             [
              1,
              "#f0f921"
             ]
            ],
            "type": "surface"
           }
          ],
          "table": [
           {
            "cells": {
             "fill": {
              "color": "#EBF0F8"
             },
             "line": {
              "color": "white"
             }
            },
            "header": {
             "fill": {
              "color": "#C8D4E3"
             },
             "line": {
              "color": "white"
             }
            },
            "type": "table"
           }
          ]
         },
         "layout": {
          "annotationdefaults": {
           "arrowcolor": "#2a3f5f",
           "arrowhead": 0,
           "arrowwidth": 1
          },
          "coloraxis": {
           "colorbar": {
            "outlinewidth": 0,
            "ticks": ""
           }
          },
          "colorscale": {
           "diverging": [
            [
             0,
             "#8e0152"
            ],
            [
             0.1,
             "#c51b7d"
            ],
            [
             0.2,
             "#de77ae"
            ],
            [
             0.3,
             "#f1b6da"
            ],
            [
             0.4,
             "#fde0ef"
            ],
            [
             0.5,
             "#f7f7f7"
            ],
            [
             0.6,
             "#e6f5d0"
            ],
            [
             0.7,
             "#b8e186"
            ],
            [
             0.8,
             "#7fbc41"
            ],
            [
             0.9,
             "#4d9221"
            ],
            [
             1,
             "#276419"
            ]
           ],
           "sequential": [
            [
             0,
             "#0d0887"
            ],
            [
             0.1111111111111111,
             "#46039f"
            ],
            [
             0.2222222222222222,
             "#7201a8"
            ],
            [
             0.3333333333333333,
             "#9c179e"
            ],
            [
             0.4444444444444444,
             "#bd3786"
            ],
            [
             0.5555555555555556,
             "#d8576b"
            ],
            [
             0.6666666666666666,
             "#ed7953"
            ],
            [
             0.7777777777777778,
             "#fb9f3a"
            ],
            [
             0.8888888888888888,
             "#fdca26"
            ],
            [
             1,
             "#f0f921"
            ]
           ],
           "sequentialminus": [
            [
             0,
             "#0d0887"
            ],
            [
             0.1111111111111111,
             "#46039f"
            ],
            [
             0.2222222222222222,
             "#7201a8"
            ],
            [
             0.3333333333333333,
             "#9c179e"
            ],
            [
             0.4444444444444444,
             "#bd3786"
            ],
            [
             0.5555555555555556,
             "#d8576b"
            ],
            [
             0.6666666666666666,
             "#ed7953"
            ],
            [
             0.7777777777777778,
             "#fb9f3a"
            ],
            [
             0.8888888888888888,
             "#fdca26"
            ],
            [
             1,
             "#f0f921"
            ]
           ]
          },
          "colorway": [
           "#636efa",
           "#EF553B",
           "#00cc96",
           "#ab63fa",
           "#FFA15A",
           "#19d3f3",
           "#FF6692",
           "#B6E880",
           "#FF97FF",
           "#FECB52"
          ],
          "font": {
           "color": "#2a3f5f"
          },
          "geo": {
           "bgcolor": "white",
           "lakecolor": "white",
           "landcolor": "#E5ECF6",
           "showlakes": true,
           "showland": true,
           "subunitcolor": "white"
          },
          "hoverlabel": {
           "align": "left"
          },
          "hovermode": "closest",
          "mapbox": {
           "style": "light"
          },
          "paper_bgcolor": "white",
          "plot_bgcolor": "#E5ECF6",
          "polar": {
           "angularaxis": {
            "gridcolor": "white",
            "linecolor": "white",
            "ticks": ""
           },
           "bgcolor": "#E5ECF6",
           "radialaxis": {
            "gridcolor": "white",
            "linecolor": "white",
            "ticks": ""
           }
          },
          "scene": {
           "xaxis": {
            "backgroundcolor": "#E5ECF6",
            "gridcolor": "white",
            "gridwidth": 2,
            "linecolor": "white",
            "showbackground": true,
            "ticks": "",
            "zerolinecolor": "white"
           },
           "yaxis": {
            "backgroundcolor": "#E5ECF6",
            "gridcolor": "white",
            "gridwidth": 2,
            "linecolor": "white",
            "showbackground": true,
            "ticks": "",
            "zerolinecolor": "white"
           },
           "zaxis": {
            "backgroundcolor": "#E5ECF6",
            "gridcolor": "white",
            "gridwidth": 2,
            "linecolor": "white",
            "showbackground": true,
            "ticks": "",
            "zerolinecolor": "white"
           }
          },
          "shapedefaults": {
           "line": {
            "color": "#2a3f5f"
           }
          },
          "ternary": {
           "aaxis": {
            "gridcolor": "white",
            "linecolor": "white",
            "ticks": ""
           },
           "baxis": {
            "gridcolor": "white",
            "linecolor": "white",
            "ticks": ""
           },
           "bgcolor": "#E5ECF6",
           "caxis": {
            "gridcolor": "white",
            "linecolor": "white",
            "ticks": ""
           }
          },
          "title": {
           "x": 0.05
          },
          "xaxis": {
           "automargin": true,
           "gridcolor": "white",
           "linecolor": "white",
           "ticks": "",
           "title": {
            "standoff": 15
           },
           "zerolinecolor": "white",
           "zerolinewidth": 2
          },
          "yaxis": {
           "automargin": true,
           "gridcolor": "white",
           "linecolor": "white",
           "ticks": "",
           "title": {
            "standoff": 15
           },
           "zerolinecolor": "white",
           "zerolinewidth": 2
          }
         }
        },
        "title": {
         "text": "PRODUCCIÓN ESPAÑA 2008"
        },
        "xaxis": {
         "linecolor": "grey",
         "linewidth": 2,
         "showline": true,
         "tickangle": 45,
         "title": {
          "text": "Materia prima producida"
         }
        },
        "yaxis": {
         "linecolor": "grey",
         "linewidth": 2,
         "showline": true,
         "title": {
          "text": "Value"
         }
        }
       }
      }
     },
     "metadata": {}
    }
   ],
   "source": [
    "\n",
    "fig = go.Figure(data=go.Scatter(x=year_price_2008[\"Item\"],\n",
    "                                y=year_price_2008[\"Value\"],\n",
    "                                mode='lines',line_color=\"#909F43\",fillcolor='white',\n",
    "))\n",
    "fig.update_xaxes(showline=True, linewidth=2, linecolor='grey',tickangle = 45  )\n",
    "fig.update_yaxes(showline=True, linewidth=2, linecolor='grey')\n",
    "fig . update_layout ( \n",
    "    title = \"PRODUCCIÓN ESPAÑA 2008\" , \n",
    "    xaxis_title = \"Materia prima producida\" , \n",
    "    yaxis_title = \"Value\" , \n",
    "    legend_title = None ,\n",
    "    height= 700,\n",
    "    plot_bgcolor=\"white\", \n",
    "    font = dict ( \n",
    "        family = \"Courier New, monospace\" , \n",
    "        size = 10 , \n",
    "        color = \"#424949\" \n",
    "    ) \n",
    ")\n",
    "\n",
    "fig.show() "
   ]
  },
  {
   "cell_type": "code",
   "execution_count": 12,
   "metadata": {},
   "outputs": [
    {
     "output_type": "display_data",
     "data": {
      "application/vnd.plotly.v1+json": {
       "config": {
        "plotlyServerURL": "https://plot.ly"
       },
       "data": [
        {
         "fillcolor": "white",
         "line": {
          "color": "#F6D573"
         },
         "mode": "lines",
         "type": "scatter",
         "x": [
          "Almonds, with shell",
          "Apples",
          "Apricots",
          "Artichokes",
          "Asparagus",
          "Avocados",
          "Bananas",
          "Barley",
          "Beans, dry",
          "Beans, green",
          "Beeswax",
          "Broad beans, horse beans, dry",
          "Cabbages and other brassicas",
          "Canary seed",
          "Carobs",
          "Carrots and turnips",
          "Cauliflowers and broccoli",
          "Cherries",
          "Cherries, sour",
          "Chestnut",
          "Chick peas",
          "Chicory roots",
          "Chillies and peppers, dry",
          "Chillies and peppers, green",
          "Cottonseed",
          "Cucumbers and gherkins",
          "Dates",
          "Eggplants (aubergines)",
          "Eggs, hen, in shell",
          "Figs",
          "Garlic",
          "Grapefruit (inc. pomelos)",
          "Grapes",
          "Groundnuts, with shell",
          "Hazelnuts, with shell",
          "Honey, natural",
          "Hops",
          "Kiwi fruit",
          "Leeks, other alliaceous vegetables",
          "Lemons and limes",
          "Lentils",
          "Lettuce and chicory",
          "Lupins",
          "Maize",
          "Mangoes, mangosteens, guavas",
          "Meat live weight, ass",
          "Meat live weight, chicken",
          "Meat live weight, duck",
          "Meat live weight, goat",
          "Meat live weight, horse",
          "Meat live weight, mule",
          "Meat live weight, pig",
          "Meat live weight, rabbit",
          "Meat live weight, sheep",
          "Meat live weight, turkey",
          "Meat, ass",
          "Meat, chicken",
          "Meat, duck",
          "Meat, goat",
          "Meat, horse",
          "Meat, mule",
          "Meat, pig",
          "Meat, rabbit",
          "Meat, sheep",
          "Meat, turkey",
          "Melons, other (inc.cantaloupes)",
          "Milk, whole fresh cow",
          "Milk, whole fresh goat",
          "Milk, whole fresh sheep",
          "Mushrooms and truffles",
          "Oats",
          "Olives",
          "Onions, dry",
          "Onions, shallots, green",
          "Oranges",
          "Papayas",
          "Peaches and nectarines",
          "Pears",
          "Peas, dry",
          "Peas, green",
          "Peppermint",
          "Persimmons",
          "Pineapples",
          "Plums and sloes",
          "Poppy seed",
          "Potatoes",
          "Pumpkins, squash and gourds",
          "Quinces",
          "Rapeseed",
          "Raspberries",
          "Rice, paddy",
          "Rye",
          "Safflower seed",
          "Seed cotton",
          "Sorghum",
          "Soybeans",
          "Spinach",
          "Strawberries",
          "Sugar beet",
          "Sunflower seed",
          "Sweet potatoes",
          "Tangerines, mandarins, clementines, satsumas",
          "Tobacco, unmanufactured",
          "Tomatoes",
          "Triticale",
          "Vegetables, leguminous nes",
          "Vetches",
          "Walnuts, with shell",
          "Watermelons",
          "Wheat",
          "Wool, greasy"
         ],
         "y": [
          897.4,
          434.4,
          717.7,
          599.7,
          1450.5,
          1257.6,
          209.7,
          223.3,
          1890,
          1743.5,
          3614.3,
          309.8,
          302.8,
          598.6,
          286.8,
          275.2,
          413.7,
          1402.9,
          1402.9,
          1867,
          654.2,
          503.3,
          3260.2,
          666.3,
          98.7,
          399.4,
          1350,
          448,
          1895.9,
          1351.9,
          1341.6,
          152.7,
          608.7,
          700,
          1645.2,
          3243.2,
          3500,
          708.3,
          493.7,
          233.6,
          794.9,
          439,
          268.1,
          233,
          1200.7,
          345.6,
          1249.4,
          2850,
          820.1,
          677,
          423.4,
          1065.6,
          1218.3,
          457.4,
          1445,
          691.2,
          1665.9,
          3800,
          4895.7,
          1353.9,
          846.7,
          1348.9,
          1845.7,
          2926.9,
          1741,
          273.5,
          304,
          557.7,
          806.5,
          1135.2,
          217.1,
          451.7,
          201.3,
          639.4,
          171.6,
          556.2,
          620.5,
          522.3,
          266.5,
          1775,
          1800,
          410.4,
          1496.5,
          494.9,
          850,
          246.5,
          346.4,
          325.4,
          349.6,
          4260.5,
          276.6,
          219.2,
          311.9,
          394.8,
          229.5,
          441.3,
          498.3,
          1114.5,
          34.5,
          500.4,
          451.2,
          164.5,
          1856,
          540.4,
          219.4,
          749.1,
          263.6,
          2771.7,
          204,
          247.9,
          713.4
         ]
        }
       ],
       "layout": {
        "font": {
         "color": "#424949",
         "family": "Courier New, monospace",
         "size": 10
        },
        "height": 700,
        "legend": {
         "title": {}
        },
        "plot_bgcolor": "white",
        "template": {
         "data": {
          "bar": [
           {
            "error_x": {
             "color": "#2a3f5f"
            },
            "error_y": {
             "color": "#2a3f5f"
            },
            "marker": {
             "line": {
              "color": "#E5ECF6",
              "width": 0.5
             }
            },
            "type": "bar"
           }
          ],
          "barpolar": [
           {
            "marker": {
             "line": {
              "color": "#E5ECF6",
              "width": 0.5
             }
            },
            "type": "barpolar"
           }
          ],
          "carpet": [
           {
            "aaxis": {
             "endlinecolor": "#2a3f5f",
             "gridcolor": "white",
             "linecolor": "white",
             "minorgridcolor": "white",
             "startlinecolor": "#2a3f5f"
            },
            "baxis": {
             "endlinecolor": "#2a3f5f",
             "gridcolor": "white",
             "linecolor": "white",
             "minorgridcolor": "white",
             "startlinecolor": "#2a3f5f"
            },
            "type": "carpet"
           }
          ],
          "choropleth": [
           {
            "colorbar": {
             "outlinewidth": 0,
             "ticks": ""
            },
            "type": "choropleth"
           }
          ],
          "contour": [
           {
            "colorbar": {
             "outlinewidth": 0,
             "ticks": ""
            },
            "colorscale": [
             [
              0,
              "#0d0887"
             ],
             [
              0.1111111111111111,
              "#46039f"
             ],
             [
              0.2222222222222222,
              "#7201a8"
             ],
             [
              0.3333333333333333,
              "#9c179e"
             ],
             [
              0.4444444444444444,
              "#bd3786"
             ],
             [
              0.5555555555555556,
              "#d8576b"
             ],
             [
              0.6666666666666666,
              "#ed7953"
             ],
             [
              0.7777777777777778,
              "#fb9f3a"
             ],
             [
              0.8888888888888888,
              "#fdca26"
             ],
             [
              1,
              "#f0f921"
             ]
            ],
            "type": "contour"
           }
          ],
          "contourcarpet": [
           {
            "colorbar": {
             "outlinewidth": 0,
             "ticks": ""
            },
            "type": "contourcarpet"
           }
          ],
          "heatmap": [
           {
            "colorbar": {
             "outlinewidth": 0,
             "ticks": ""
            },
            "colorscale": [
             [
              0,
              "#0d0887"
             ],
             [
              0.1111111111111111,
              "#46039f"
             ],
             [
              0.2222222222222222,
              "#7201a8"
             ],
             [
              0.3333333333333333,
              "#9c179e"
             ],
             [
              0.4444444444444444,
              "#bd3786"
             ],
             [
              0.5555555555555556,
              "#d8576b"
             ],
             [
              0.6666666666666666,
              "#ed7953"
             ],
             [
              0.7777777777777778,
              "#fb9f3a"
             ],
             [
              0.8888888888888888,
              "#fdca26"
             ],
             [
              1,
              "#f0f921"
             ]
            ],
            "type": "heatmap"
           }
          ],
          "heatmapgl": [
           {
            "colorbar": {
             "outlinewidth": 0,
             "ticks": ""
            },
            "colorscale": [
             [
              0,
              "#0d0887"
             ],
             [
              0.1111111111111111,
              "#46039f"
             ],
             [
              0.2222222222222222,
              "#7201a8"
             ],
             [
              0.3333333333333333,
              "#9c179e"
             ],
             [
              0.4444444444444444,
              "#bd3786"
             ],
             [
              0.5555555555555556,
              "#d8576b"
             ],
             [
              0.6666666666666666,
              "#ed7953"
             ],
             [
              0.7777777777777778,
              "#fb9f3a"
             ],
             [
              0.8888888888888888,
              "#fdca26"
             ],
             [
              1,
              "#f0f921"
             ]
            ],
            "type": "heatmapgl"
           }
          ],
          "histogram": [
           {
            "marker": {
             "colorbar": {
              "outlinewidth": 0,
              "ticks": ""
             }
            },
            "type": "histogram"
           }
          ],
          "histogram2d": [
           {
            "colorbar": {
             "outlinewidth": 0,
             "ticks": ""
            },
            "colorscale": [
             [
              0,
              "#0d0887"
             ],
             [
              0.1111111111111111,
              "#46039f"
             ],
             [
              0.2222222222222222,
              "#7201a8"
             ],
             [
              0.3333333333333333,
              "#9c179e"
             ],
             [
              0.4444444444444444,
              "#bd3786"
             ],
             [
              0.5555555555555556,
              "#d8576b"
             ],
             [
              0.6666666666666666,
              "#ed7953"
             ],
             [
              0.7777777777777778,
              "#fb9f3a"
             ],
             [
              0.8888888888888888,
              "#fdca26"
             ],
             [
              1,
              "#f0f921"
             ]
            ],
            "type": "histogram2d"
           }
          ],
          "histogram2dcontour": [
           {
            "colorbar": {
             "outlinewidth": 0,
             "ticks": ""
            },
            "colorscale": [
             [
              0,
              "#0d0887"
             ],
             [
              0.1111111111111111,
              "#46039f"
             ],
             [
              0.2222222222222222,
              "#7201a8"
             ],
             [
              0.3333333333333333,
              "#9c179e"
             ],
             [
              0.4444444444444444,
              "#bd3786"
             ],
             [
              0.5555555555555556,
              "#d8576b"
             ],
             [
              0.6666666666666666,
              "#ed7953"
             ],
             [
              0.7777777777777778,
              "#fb9f3a"
             ],
             [
              0.8888888888888888,
              "#fdca26"
             ],
             [
              1,
              "#f0f921"
             ]
            ],
            "type": "histogram2dcontour"
           }
          ],
          "mesh3d": [
           {
            "colorbar": {
             "outlinewidth": 0,
             "ticks": ""
            },
            "type": "mesh3d"
           }
          ],
          "parcoords": [
           {
            "line": {
             "colorbar": {
              "outlinewidth": 0,
              "ticks": ""
             }
            },
            "type": "parcoords"
           }
          ],
          "pie": [
           {
            "automargin": true,
            "type": "pie"
           }
          ],
          "scatter": [
           {
            "marker": {
             "colorbar": {
              "outlinewidth": 0,
              "ticks": ""
             }
            },
            "type": "scatter"
           }
          ],
          "scatter3d": [
           {
            "line": {
             "colorbar": {
              "outlinewidth": 0,
              "ticks": ""
             }
            },
            "marker": {
             "colorbar": {
              "outlinewidth": 0,
              "ticks": ""
             }
            },
            "type": "scatter3d"
           }
          ],
          "scattercarpet": [
           {
            "marker": {
             "colorbar": {
              "outlinewidth": 0,
              "ticks": ""
             }
            },
            "type": "scattercarpet"
           }
          ],
          "scattergeo": [
           {
            "marker": {
             "colorbar": {
              "outlinewidth": 0,
              "ticks": ""
             }
            },
            "type": "scattergeo"
           }
          ],
          "scattergl": [
           {
            "marker": {
             "colorbar": {
              "outlinewidth": 0,
              "ticks": ""
             }
            },
            "type": "scattergl"
           }
          ],
          "scattermapbox": [
           {
            "marker": {
             "colorbar": {
              "outlinewidth": 0,
              "ticks": ""
             }
            },
            "type": "scattermapbox"
           }
          ],
          "scatterpolar": [
           {
            "marker": {
             "colorbar": {
              "outlinewidth": 0,
              "ticks": ""
             }
            },
            "type": "scatterpolar"
           }
          ],
          "scatterpolargl": [
           {
            "marker": {
             "colorbar": {
              "outlinewidth": 0,
              "ticks": ""
             }
            },
            "type": "scatterpolargl"
           }
          ],
          "scatterternary": [
           {
            "marker": {
             "colorbar": {
              "outlinewidth": 0,
              "ticks": ""
             }
            },
            "type": "scatterternary"
           }
          ],
          "surface": [
           {
            "colorbar": {
             "outlinewidth": 0,
             "ticks": ""
            },
            "colorscale": [
             [
              0,
              "#0d0887"
             ],
             [
              0.1111111111111111,
              "#46039f"
             ],
             [
              0.2222222222222222,
              "#7201a8"
             ],
             [
              0.3333333333333333,
              "#9c179e"
             ],
             [
              0.4444444444444444,
              "#bd3786"
             ],
             [
              0.5555555555555556,
              "#d8576b"
             ],
             [
              0.6666666666666666,
              "#ed7953"
             ],
             [
              0.7777777777777778,
              "#fb9f3a"
             ],
             [
              0.8888888888888888,
              "#fdca26"
             ],
             [
              1,
              "#f0f921"
             ]
            ],
            "type": "surface"
           }
          ],
          "table": [
           {
            "cells": {
             "fill": {
              "color": "#EBF0F8"
             },
             "line": {
              "color": "white"
             }
            },
            "header": {
             "fill": {
              "color": "#C8D4E3"
             },
             "line": {
              "color": "white"
             }
            },
            "type": "table"
           }
          ]
         },
         "layout": {
          "annotationdefaults": {
           "arrowcolor": "#2a3f5f",
           "arrowhead": 0,
           "arrowwidth": 1
          },
          "coloraxis": {
           "colorbar": {
            "outlinewidth": 0,
            "ticks": ""
           }
          },
          "colorscale": {
           "diverging": [
            [
             0,
             "#8e0152"
            ],
            [
             0.1,
             "#c51b7d"
            ],
            [
             0.2,
             "#de77ae"
            ],
            [
             0.3,
             "#f1b6da"
            ],
            [
             0.4,
             "#fde0ef"
            ],
            [
             0.5,
             "#f7f7f7"
            ],
            [
             0.6,
             "#e6f5d0"
            ],
            [
             0.7,
             "#b8e186"
            ],
            [
             0.8,
             "#7fbc41"
            ],
            [
             0.9,
             "#4d9221"
            ],
            [
             1,
             "#276419"
            ]
           ],
           "sequential": [
            [
             0,
             "#0d0887"
            ],
            [
             0.1111111111111111,
             "#46039f"
            ],
            [
             0.2222222222222222,
             "#7201a8"
            ],
            [
             0.3333333333333333,
             "#9c179e"
            ],
            [
             0.4444444444444444,
             "#bd3786"
            ],
            [
             0.5555555555555556,
             "#d8576b"
            ],
            [
             0.6666666666666666,
             "#ed7953"
            ],
            [
             0.7777777777777778,
             "#fb9f3a"
            ],
            [
             0.8888888888888888,
             "#fdca26"
            ],
            [
             1,
             "#f0f921"
            ]
           ],
           "sequentialminus": [
            [
             0,
             "#0d0887"
            ],
            [
             0.1111111111111111,
             "#46039f"
            ],
            [
             0.2222222222222222,
             "#7201a8"
            ],
            [
             0.3333333333333333,
             "#9c179e"
            ],
            [
             0.4444444444444444,
             "#bd3786"
            ],
            [
             0.5555555555555556,
             "#d8576b"
            ],
            [
             0.6666666666666666,
             "#ed7953"
            ],
            [
             0.7777777777777778,
             "#fb9f3a"
            ],
            [
             0.8888888888888888,
             "#fdca26"
            ],
            [
             1,
             "#f0f921"
            ]
           ]
          },
          "colorway": [
           "#636efa",
           "#EF553B",
           "#00cc96",
           "#ab63fa",
           "#FFA15A",
           "#19d3f3",
           "#FF6692",
           "#B6E880",
           "#FF97FF",
           "#FECB52"
          ],
          "font": {
           "color": "#2a3f5f"
          },
          "geo": {
           "bgcolor": "white",
           "lakecolor": "white",
           "landcolor": "#E5ECF6",
           "showlakes": true,
           "showland": true,
           "subunitcolor": "white"
          },
          "hoverlabel": {
           "align": "left"
          },
          "hovermode": "closest",
          "mapbox": {
           "style": "light"
          },
          "paper_bgcolor": "white",
          "plot_bgcolor": "#E5ECF6",
          "polar": {
           "angularaxis": {
            "gridcolor": "white",
            "linecolor": "white",
            "ticks": ""
           },
           "bgcolor": "#E5ECF6",
           "radialaxis": {
            "gridcolor": "white",
            "linecolor": "white",
            "ticks": ""
           }
          },
          "scene": {
           "xaxis": {
            "backgroundcolor": "#E5ECF6",
            "gridcolor": "white",
            "gridwidth": 2,
            "linecolor": "white",
            "showbackground": true,
            "ticks": "",
            "zerolinecolor": "white"
           },
           "yaxis": {
            "backgroundcolor": "#E5ECF6",
            "gridcolor": "white",
            "gridwidth": 2,
            "linecolor": "white",
            "showbackground": true,
            "ticks": "",
            "zerolinecolor": "white"
           },
           "zaxis": {
            "backgroundcolor": "#E5ECF6",
            "gridcolor": "white",
            "gridwidth": 2,
            "linecolor": "white",
            "showbackground": true,
            "ticks": "",
            "zerolinecolor": "white"
           }
          },
          "shapedefaults": {
           "line": {
            "color": "#2a3f5f"
           }
          },
          "ternary": {
           "aaxis": {
            "gridcolor": "white",
            "linecolor": "white",
            "ticks": ""
           },
           "baxis": {
            "gridcolor": "white",
            "linecolor": "white",
            "ticks": ""
           },
           "bgcolor": "#E5ECF6",
           "caxis": {
            "gridcolor": "white",
            "linecolor": "white",
            "ticks": ""
           }
          },
          "title": {
           "x": 0.05
          },
          "xaxis": {
           "automargin": true,
           "gridcolor": "white",
           "linecolor": "white",
           "ticks": "",
           "title": {
            "standoff": 15
           },
           "zerolinecolor": "white",
           "zerolinewidth": 2
          },
          "yaxis": {
           "automargin": true,
           "gridcolor": "white",
           "linecolor": "white",
           "ticks": "",
           "title": {
            "standoff": 15
           },
           "zerolinecolor": "white",
           "zerolinewidth": 2
          }
         }
        },
        "title": {
         "text": "PRODUCCIÓN ESPAÑA 2012"
        },
        "xaxis": {
         "linecolor": "grey",
         "linewidth": 2,
         "showline": true,
         "tickangle": 45,
         "title": {
          "text": "Materia prima producida"
         }
        },
        "yaxis": {
         "linecolor": "grey",
         "linewidth": 2,
         "showline": true,
         "title": {
          "text": "Value"
         }
        }
       }
      }
     },
     "metadata": {}
    }
   ],
   "source": [
    "fig = go.Figure(data=go.Scatter(x=year_price_2012[\"Item\"],\n",
    "                                y=year_price_2012[\"Value\"],\n",
    "                                mode='lines',line_color=\"#F6D573\",fillcolor='white',\n",
    "))\n",
    "fig.update_xaxes(showline=True, linewidth=2, linecolor='grey',tickangle = 45  )\n",
    "fig.update_yaxes(showline=True, linewidth=2, linecolor='grey')\n",
    "fig . update_layout ( \n",
    "    title = \"PRODUCCIÓN ESPAÑA 2012\" , \n",
    "    xaxis_title = \"Materia prima producida\" , \n",
    "    yaxis_title = \"Value\" , \n",
    "    legend_title = None ,\n",
    "    height= 700,\n",
    "    plot_bgcolor=\"white\", \n",
    "    font = dict ( \n",
    "        family = \"Courier New, monospace\" , \n",
    "        size = 10 , \n",
    "        color = \"#424949\" \n",
    "    ) \n",
    ")\n",
    "\n",
    "fig.show() "
   ]
  },
  {
   "cell_type": "code",
   "execution_count": 14,
   "metadata": {},
   "outputs": [
    {
     "output_type": "execute_result",
     "data": {
      "text/plain": "      Area                 Item  Year   Value\n0    Spain  Almonds, with shell  2007   887.4\n1    Spain               Apples  2007   422.5\n2    Spain             Apricots  2007   671.0\n3    Spain           Artichokes  2007   590.0\n4    Spain            Asparagus  2007  1460.9\n..     ...                  ...   ...     ...\n326  Spain              Vetches  2012   263.6\n327  Spain  Walnuts, with shell  2012  2771.7\n328  Spain          Watermelons  2012   204.0\n329  Spain                Wheat  2012   247.9\n330  Spain         Wool, greasy  2012   713.4\n\n[331 rows x 4 columns]",
      "text/html": "<div>\n<style scoped>\n    .dataframe tbody tr th:only-of-type {\n        vertical-align: middle;\n    }\n\n    .dataframe tbody tr th {\n        vertical-align: top;\n    }\n\n    .dataframe thead th {\n        text-align: right;\n    }\n</style>\n<table border=\"1\" class=\"dataframe\">\n  <thead>\n    <tr style=\"text-align: right;\">\n      <th></th>\n      <th>Area</th>\n      <th>Item</th>\n      <th>Year</th>\n      <th>Value</th>\n    </tr>\n  </thead>\n  <tbody>\n    <tr>\n      <th>0</th>\n      <td>Spain</td>\n      <td>Almonds, with shell</td>\n      <td>2007</td>\n      <td>887.4</td>\n    </tr>\n    <tr>\n      <th>1</th>\n      <td>Spain</td>\n      <td>Apples</td>\n      <td>2007</td>\n      <td>422.5</td>\n    </tr>\n    <tr>\n      <th>2</th>\n      <td>Spain</td>\n      <td>Apricots</td>\n      <td>2007</td>\n      <td>671.0</td>\n    </tr>\n    <tr>\n      <th>3</th>\n      <td>Spain</td>\n      <td>Artichokes</td>\n      <td>2007</td>\n      <td>590.0</td>\n    </tr>\n    <tr>\n      <th>4</th>\n      <td>Spain</td>\n      <td>Asparagus</td>\n      <td>2007</td>\n      <td>1460.9</td>\n    </tr>\n    <tr>\n      <th>...</th>\n      <td>...</td>\n      <td>...</td>\n      <td>...</td>\n      <td>...</td>\n    </tr>\n    <tr>\n      <th>326</th>\n      <td>Spain</td>\n      <td>Vetches</td>\n      <td>2012</td>\n      <td>263.6</td>\n    </tr>\n    <tr>\n      <th>327</th>\n      <td>Spain</td>\n      <td>Walnuts, with shell</td>\n      <td>2012</td>\n      <td>2771.7</td>\n    </tr>\n    <tr>\n      <th>328</th>\n      <td>Spain</td>\n      <td>Watermelons</td>\n      <td>2012</td>\n      <td>204.0</td>\n    </tr>\n    <tr>\n      <th>329</th>\n      <td>Spain</td>\n      <td>Wheat</td>\n      <td>2012</td>\n      <td>247.9</td>\n    </tr>\n    <tr>\n      <th>330</th>\n      <td>Spain</td>\n      <td>Wool, greasy</td>\n      <td>2012</td>\n      <td>713.4</td>\n    </tr>\n  </tbody>\n</table>\n<p>331 rows × 4 columns</p>\n</div>"
     },
     "metadata": {},
     "execution_count": 14
    }
   ],
   "source": [
    "df"
   ]
  },
  {
   "cell_type": "code",
   "execution_count": null,
   "metadata": {},
   "outputs": [],
   "source": [
    "Me ha sido imposible hacer una gráfica mejor con los tres años juntos"
   ]
  },
  {
   "cell_type": "code",
   "execution_count": 77,
   "metadata": {},
   "outputs": [
    {
     "output_type": "display_data",
     "data": {
      "application/vnd.plotly.v1+json": {
       "config": {
        "linkText": "Export to plot.ly",
        "plotlyServerURL": "https://plot.ly",
        "showLink": false
       },
       "data": [
        {
         "marker": {
          "color": "#76D7C4"
         },
         "mode": "lines",
         "name": "Year 2007",
         "type": "scatter",
         "x": [
          "Almonds, with shell",
          "Apples",
          "Apricots",
          "Artichokes",
          "Asparagus",
          "Avocados",
          "Bananas",
          "Barley",
          "Beans, dry",
          "Beans, green",
          "Beeswax",
          "Broad beans, horse beans, dry",
          "Cabbages and other brassicas",
          "Canary seed",
          "Carobs",
          "Carrots and turnips",
          "Cauliflowers and broccoli",
          "Cherries",
          "Cherries, sour",
          "Chestnut",
          "Chick peas",
          "Chillies and peppers, dry",
          "Chillies and peppers, green",
          "Cottonseed",
          "Cucumbers and gherkins",
          "Dates",
          "Eggplants (aubergines)",
          "Eggs, hen, in shell",
          "Figs",
          "Garlic",
          "Grapefruit (inc. pomelos)",
          "Grapes",
          "Groundnuts, with shell",
          "Hazelnuts, with shell",
          "Honey, natural",
          "Hops",
          "Kiwi fruit",
          "Leeks, other alliaceous vegetables",
          "Lemons and limes",
          "Lentils",
          "Lettuce and chicory",
          "Lupins",
          "Maize",
          "Mangoes, mangosteens, guavas",
          "Meat live weight, ass",
          "Meat live weight, chicken",
          "Meat live weight, goat",
          "Meat live weight, horse",
          "Meat live weight, mule",
          "Meat live weight, pig",
          "Meat live weight, rabbit",
          "Meat live weight, sheep",
          "Meat, ass",
          "Meat, chicken",
          "Meat, goat",
          "Meat, horse",
          "Meat, mule",
          "Meat, pig",
          "Meat, rabbit",
          "Meat, sheep",
          "Meat, turkey",
          "Melons, other (inc.cantaloupes)",
          "Milk, whole fresh cow",
          "Milk, whole fresh goat",
          "Milk, whole fresh sheep",
          "Millet",
          "Mushrooms and truffles",
          "Oats",
          "Olives",
          "Onions, dry",
          "Onions, shallots, green",
          "Oranges",
          "Papayas",
          "Peaches and nectarines",
          "Pears",
          "Peas, dry",
          "Peas, green",
          "Persimmons",
          "Pineapples",
          "Plums and sloes",
          "Potatoes",
          "Pumpkins, squash and gourds",
          "Quinces",
          "Rapeseed",
          "Raspberries",
          "Rice, paddy",
          "Rye",
          "Safflower seed",
          "Seed cotton",
          "Sorghum",
          "Soybeans",
          "Spinach",
          "Strawberries",
          "Sugar beet",
          "Sugar cane",
          "Sunflower seed",
          "Sweet potatoes",
          "Tangerines, mandarins, clementines, satsumas",
          "Tobacco, unmanufactured",
          "Tomatoes",
          "Triticale",
          "Vegetables, leguminous nes",
          "Vetches",
          "Walnuts, with shell",
          "Watermelons",
          "Wheat",
          "Wool, greasy"
         ],
         "y": [
          887.4,
          422.5,
          671,
          590,
          1460.9,
          1138.3,
          449,
          183.6,
          2047.5,
          1728.2,
          2412.7,
          249.1,
          299,
          492.3,
          338.8,
          268.1,
          439.9,
          1960.7,
          1960.7,
          1454.5,
          632.5,
          2884.6,
          917.7,
          81.8,
          485.6,
          2469.7,
          553.2,
          1356.7,
          1316.5,
          1319.2,
          214,
          548.4,
          1301.7,
          1571.9,
          2376.6,
          3360,
          664.4,
          546.1,
          276.7,
          608.5,
          421.6,
          242.3,
          204.5,
          1475.1,
          322.4,
          1087.9,
          579.4,
          932.1,
          362.1,
          834.6,
          960.9,
          276.4,
          644.8,
          1450.5,
          5189.1,
          1864.2,
          724.1,
          1056.5,
          1455.7,
          2378.9,
          1072.1,
          346.4,
          353.5,
          556.1,
          754.5,
          349.4,
          1143.4,
          158.2,
          655,
          245,
          885.7,
          175.1,
          1098.4,
          560.8,
          556.7,
          220.3,
          1842.3,
          647.2,
          1464.7,
          518,
          244.6,
          378.4,
          451.1,
          241.9,
          3732.5,
          271.4,
          177.9,
          210,
          327.3,
          198.1,
          244.8,
          674.6,
          1094.1,
          35.1,
          36.3,
          394.3,
          382.5,
          222.5,
          553.4,
          641.3,
          183.8,
          1026.3,
          242.2,
          2200.4,
          241.2,
          210.3,
          360.5
         ]
        },
        {
         "marker": {
          "color": "#909F43"
         },
         "mode": "lines+markers",
         "name": "Year 2008",
         "type": "scatter",
         "x": [
          "Almonds, with shell",
          "Apples",
          "Apricots",
          "Artichokes",
          "Asparagus",
          "Avocados",
          "Bananas",
          "Barley",
          "Beans, dry",
          "Beans, green",
          "Beeswax",
          "Broad beans, horse beans, dry",
          "Cabbages and other brassicas",
          "Canary seed",
          "Carobs",
          "Carrots and turnips",
          "Cauliflowers and broccoli",
          "Cherries",
          "Cherries, sour",
          "Chestnut",
          "Chick peas",
          "Chicory roots",
          "Chillies and peppers, dry",
          "Chillies and peppers, green",
          "Cotton lint",
          "Cottonseed",
          "Cucumbers and gherkins",
          "Dates",
          "Eggplants (aubergines)",
          "Eggs, hen, in shell",
          "Figs",
          "Garlic",
          "Grapefruit (inc. pomelos)",
          "Grapes",
          "Groundnuts, with shell",
          "Hazelnuts, with shell",
          "Honey, natural",
          "Hops",
          "Kiwi fruit",
          "Leeks, other alliaceous vegetables",
          "Lemons and limes",
          "Lentils",
          "Lettuce and chicory",
          "Lupins",
          "Maize",
          "Mangoes, mangosteens, guavas",
          "Meat live weight, ass",
          "Meat live weight, chicken",
          "Meat live weight, duck",
          "Meat live weight, goat",
          "Meat live weight, horse",
          "Meat live weight, mule",
          "Meat live weight, pig",
          "Meat live weight, rabbit",
          "Meat live weight, sheep",
          "Meat live weight, turkey",
          "Meat, ass",
          "Meat, chicken",
          "Meat, duck",
          "Meat, goat",
          "Meat, horse",
          "Meat, mule",
          "Meat, pig",
          "Meat, rabbit",
          "Meat, sheep",
          "Meat, turkey",
          "Melons, other (inc.cantaloupes)",
          "Milk, whole fresh cow",
          "Milk, whole fresh goat",
          "Milk, whole fresh sheep",
          "Millet",
          "Mushrooms and truffles",
          "Oats",
          "Olives",
          "Onions, dry",
          "Onions, shallots, green",
          "Oranges",
          "Papayas",
          "Peaches and nectarines",
          "Pears",
          "Peas, dry",
          "Peas, green",
          "Peppermint",
          "Persimmons",
          "Pineapples",
          "Plums and sloes",
          "Potatoes",
          "Pumpkins, squash and gourds",
          "Quinces",
          "Rapeseed",
          "Raspberries",
          "Rice, paddy",
          "Rye",
          "Safflower seed",
          "Seed cotton",
          "Sorghum",
          "Soybeans",
          "Spinach",
          "Strawberries",
          "Sugar beet",
          "Sugar cane",
          "Sunflower seed",
          "Sweet potatoes",
          "Tangerines, mandarins, clementines, satsumas",
          "Tobacco, unmanufactured",
          "Tomatoes",
          "Triticale",
          "Vegetables, leguminous nes",
          "Vetches",
          "Walnuts, with shell",
          "Watermelons",
          "Wheat",
          "Wool, greasy"
         ],
         "y": [
          866.2,
          391.9,
          687.8,
          471.3,
          1533,
          1214.8,
          468.4,
          169.7,
          1983.4,
          1793.6,
          3033.9,
          306.9,
          299.7,
          430.3,
          297.4,
          291.8,
          375,
          1895.8,
          1895.8,
          1500.9,
          657.3,
          372.5,
          3473.3,
          906.9,
          835.3,
          66.8,
          444.1,
          2469.7,
          648.2,
          1346.8,
          1109.1,
          1260.3,
          158.9,
          534.8,
          1288.8,
          1375.8,
          2648.4,
          4940,
          730.7,
          553.4,
          480.9,
          579,
          490,
          263.9,
          182,
          1558.5,
          288.4,
          1023.7,
          2230.3,
          560.7,
          831.3,
          376.1,
          914,
          1170,
          256.8,
          1083.6,
          576.8,
          1364.9,
          2973.7,
          4921.9,
          1662.5,
          752.1,
          1157,
          1772.6,
          2458.6,
          1305.5,
          420.6,
          379.4,
          591.7,
          814.8,
          389.6,
          1160.7,
          171.1,
          522.2,
          163.6,
          801.2,
          231.5,
          783.1,
          607,
          577.3,
          217.6,
          1834.6,
          1525,
          783.7,
          1343.8,
          520.1,
          225.9,
          453,
          407.4,
          268.9,
          4735.2,
          370.2,
          160.3,
          220,
          267.3,
          165.2,
          273,
          698.2,
          1562.2,
          37.1,
          36.3,
          387.1,
          377.1,
          256.3,
          642.9,
          588.9,
          184.8,
          940.9,
          289.4,
          2253,
          370.8,
          218.9,
          340.5
         ]
        },
        {
         "marker": {
          "color": "#F6D573"
         },
         "mode": "lines+markers",
         "name": "Year 2012",
         "type": "scatter",
         "x": [
          "Almonds, with shell",
          "Apples",
          "Apricots",
          "Artichokes",
          "Asparagus",
          "Avocados",
          "Bananas",
          "Barley",
          "Beans, dry",
          "Beans, green",
          "Beeswax",
          "Broad beans, horse beans, dry",
          "Cabbages and other brassicas",
          "Canary seed",
          "Carobs",
          "Carrots and turnips",
          "Cauliflowers and broccoli",
          "Cherries",
          "Cherries, sour",
          "Chestnut",
          "Chick peas",
          "Chicory roots",
          "Chillies and peppers, dry",
          "Chillies and peppers, green",
          "Cottonseed",
          "Cucumbers and gherkins",
          "Dates",
          "Eggplants (aubergines)",
          "Eggs, hen, in shell",
          "Figs",
          "Garlic",
          "Grapefruit (inc. pomelos)",
          "Grapes",
          "Groundnuts, with shell",
          "Hazelnuts, with shell",
          "Honey, natural",
          "Hops",
          "Kiwi fruit",
          "Leeks, other alliaceous vegetables",
          "Lemons and limes",
          "Lentils",
          "Lettuce and chicory",
          "Lupins",
          "Maize",
          "Mangoes, mangosteens, guavas",
          "Meat live weight, ass",
          "Meat live weight, chicken",
          "Meat live weight, duck",
          "Meat live weight, goat",
          "Meat live weight, horse",
          "Meat live weight, mule",
          "Meat live weight, pig",
          "Meat live weight, rabbit",
          "Meat live weight, sheep",
          "Meat live weight, turkey",
          "Meat, ass",
          "Meat, chicken",
          "Meat, duck",
          "Meat, goat",
          "Meat, horse",
          "Meat, mule",
          "Meat, pig",
          "Meat, rabbit",
          "Meat, sheep",
          "Meat, turkey",
          "Melons, other (inc.cantaloupes)",
          "Milk, whole fresh cow",
          "Milk, whole fresh goat",
          "Milk, whole fresh sheep",
          "Mushrooms and truffles",
          "Oats",
          "Olives",
          "Onions, dry",
          "Onions, shallots, green",
          "Oranges",
          "Papayas",
          "Peaches and nectarines",
          "Pears",
          "Peas, dry",
          "Peas, green",
          "Peppermint",
          "Persimmons",
          "Pineapples",
          "Plums and sloes",
          "Poppy seed",
          "Potatoes",
          "Pumpkins, squash and gourds",
          "Quinces",
          "Rapeseed",
          "Raspberries",
          "Rice, paddy",
          "Rye",
          "Safflower seed",
          "Seed cotton",
          "Sorghum",
          "Soybeans",
          "Spinach",
          "Strawberries",
          "Sugar beet",
          "Sunflower seed",
          "Sweet potatoes",
          "Tangerines, mandarins, clementines, satsumas",
          "Tobacco, unmanufactured",
          "Tomatoes",
          "Triticale",
          "Vegetables, leguminous nes",
          "Vetches",
          "Walnuts, with shell",
          "Watermelons",
          "Wheat",
          "Wool, greasy"
         ],
         "y": [
          897.4,
          434.4,
          717.7,
          599.7,
          1450.5,
          1257.6,
          209.7,
          223.3,
          1890,
          1743.5,
          3614.3,
          309.8,
          302.8,
          598.6,
          286.8,
          275.2,
          413.7,
          1402.9,
          1402.9,
          1867,
          654.2,
          503.3,
          3260.2,
          666.3,
          98.7,
          399.4,
          1350,
          448,
          1895.9,
          1351.9,
          1341.6,
          152.7,
          608.7,
          700,
          1645.2,
          3243.2,
          3500,
          708.3,
          493.7,
          233.6,
          794.9,
          439,
          268.1,
          233,
          1200.7,
          345.6,
          1249.4,
          2850,
          820.1,
          677,
          423.4,
          1065.6,
          1218.3,
          457.4,
          1445,
          691.2,
          1665.9,
          3800,
          4895.7,
          1353.9,
          846.7,
          1348.9,
          1845.7,
          2926.9,
          1741,
          273.5,
          304,
          557.7,
          806.5,
          1135.2,
          217.1,
          451.7,
          201.3,
          639.4,
          171.6,
          556.2,
          620.5,
          522.3,
          266.5,
          1775,
          1800,
          410.4,
          1496.5,
          494.9,
          850,
          246.5,
          346.4,
          325.4,
          349.6,
          4260.5,
          276.6,
          219.2,
          311.9,
          394.8,
          229.5,
          441.3,
          498.3,
          1114.5,
          34.5,
          500.4,
          451.2,
          164.5,
          1856,
          540.4,
          219.4,
          749.1,
          263.6,
          2771.7,
          204,
          247.9,
          713.4
         ]
        }
       ],
       "layout": {
        "plot_bgcolor": "white",
        "template": {
         "data": {
          "bar": [
           {
            "error_x": {
             "color": "#2a3f5f"
            },
            "error_y": {
             "color": "#2a3f5f"
            },
            "marker": {
             "line": {
              "color": "#E5ECF6",
              "width": 0.5
             }
            },
            "type": "bar"
           }
          ],
          "barpolar": [
           {
            "marker": {
             "line": {
              "color": "#E5ECF6",
              "width": 0.5
             }
            },
            "type": "barpolar"
           }
          ],
          "carpet": [
           {
            "aaxis": {
             "endlinecolor": "#2a3f5f",
             "gridcolor": "white",
             "linecolor": "white",
             "minorgridcolor": "white",
             "startlinecolor": "#2a3f5f"
            },
            "baxis": {
             "endlinecolor": "#2a3f5f",
             "gridcolor": "white",
             "linecolor": "white",
             "minorgridcolor": "white",
             "startlinecolor": "#2a3f5f"
            },
            "type": "carpet"
           }
          ],
          "choropleth": [
           {
            "colorbar": {
             "outlinewidth": 0,
             "ticks": ""
            },
            "type": "choropleth"
           }
          ],
          "contour": [
           {
            "colorbar": {
             "outlinewidth": 0,
             "ticks": ""
            },
            "colorscale": [
             [
              0,
              "#0d0887"
             ],
             [
              0.1111111111111111,
              "#46039f"
             ],
             [
              0.2222222222222222,
              "#7201a8"
             ],
             [
              0.3333333333333333,
              "#9c179e"
             ],
             [
              0.4444444444444444,
              "#bd3786"
             ],
             [
              0.5555555555555556,
              "#d8576b"
             ],
             [
              0.6666666666666666,
              "#ed7953"
             ],
             [
              0.7777777777777778,
              "#fb9f3a"
             ],
             [
              0.8888888888888888,
              "#fdca26"
             ],
             [
              1,
              "#f0f921"
             ]
            ],
            "type": "contour"
           }
          ],
          "contourcarpet": [
           {
            "colorbar": {
             "outlinewidth": 0,
             "ticks": ""
            },
            "type": "contourcarpet"
           }
          ],
          "heatmap": [
           {
            "colorbar": {
             "outlinewidth": 0,
             "ticks": ""
            },
            "colorscale": [
             [
              0,
              "#0d0887"
             ],
             [
              0.1111111111111111,
              "#46039f"
             ],
             [
              0.2222222222222222,
              "#7201a8"
             ],
             [
              0.3333333333333333,
              "#9c179e"
             ],
             [
              0.4444444444444444,
              "#bd3786"
             ],
             [
              0.5555555555555556,
              "#d8576b"
             ],
             [
              0.6666666666666666,
              "#ed7953"
             ],
             [
              0.7777777777777778,
              "#fb9f3a"
             ],
             [
              0.8888888888888888,
              "#fdca26"
             ],
             [
              1,
              "#f0f921"
             ]
            ],
            "type": "heatmap"
           }
          ],
          "heatmapgl": [
           {
            "colorbar": {
             "outlinewidth": 0,
             "ticks": ""
            },
            "colorscale": [
             [
              0,
              "#0d0887"
             ],
             [
              0.1111111111111111,
              "#46039f"
             ],
             [
              0.2222222222222222,
              "#7201a8"
             ],
             [
              0.3333333333333333,
              "#9c179e"
             ],
             [
              0.4444444444444444,
              "#bd3786"
             ],
             [
              0.5555555555555556,
              "#d8576b"
             ],
             [
              0.6666666666666666,
              "#ed7953"
             ],
             [
              0.7777777777777778,
              "#fb9f3a"
             ],
             [
              0.8888888888888888,
              "#fdca26"
             ],
             [
              1,
              "#f0f921"
             ]
            ],
            "type": "heatmapgl"
           }
          ],
          "histogram": [
           {
            "marker": {
             "colorbar": {
              "outlinewidth": 0,
              "ticks": ""
             }
            },
            "type": "histogram"
           }
          ],
          "histogram2d": [
           {
            "colorbar": {
             "outlinewidth": 0,
             "ticks": ""
            },
            "colorscale": [
             [
              0,
              "#0d0887"
             ],
             [
              0.1111111111111111,
              "#46039f"
             ],
             [
              0.2222222222222222,
              "#7201a8"
             ],
             [
              0.3333333333333333,
              "#9c179e"
             ],
             [
              0.4444444444444444,
              "#bd3786"
             ],
             [
              0.5555555555555556,
              "#d8576b"
             ],
             [
              0.6666666666666666,
              "#ed7953"
             ],
             [
              0.7777777777777778,
              "#fb9f3a"
             ],
             [
              0.8888888888888888,
              "#fdca26"
             ],
             [
              1,
              "#f0f921"
             ]
            ],
            "type": "histogram2d"
           }
          ],
          "histogram2dcontour": [
           {
            "colorbar": {
             "outlinewidth": 0,
             "ticks": ""
            },
            "colorscale": [
             [
              0,
              "#0d0887"
             ],
             [
              0.1111111111111111,
              "#46039f"
             ],
             [
              0.2222222222222222,
              "#7201a8"
             ],
             [
              0.3333333333333333,
              "#9c179e"
             ],
             [
              0.4444444444444444,
              "#bd3786"
             ],
             [
              0.5555555555555556,
              "#d8576b"
             ],
             [
              0.6666666666666666,
              "#ed7953"
             ],
             [
              0.7777777777777778,
              "#fb9f3a"
             ],
             [
              0.8888888888888888,
              "#fdca26"
             ],
             [
              1,
              "#f0f921"
             ]
            ],
            "type": "histogram2dcontour"
           }
          ],
          "mesh3d": [
           {
            "colorbar": {
             "outlinewidth": 0,
             "ticks": ""
            },
            "type": "mesh3d"
           }
          ],
          "parcoords": [
           {
            "line": {
             "colorbar": {
              "outlinewidth": 0,
              "ticks": ""
             }
            },
            "type": "parcoords"
           }
          ],
          "pie": [
           {
            "automargin": true,
            "type": "pie"
           }
          ],
          "scatter": [
           {
            "marker": {
             "colorbar": {
              "outlinewidth": 0,
              "ticks": ""
             }
            },
            "type": "scatter"
           }
          ],
          "scatter3d": [
           {
            "line": {
             "colorbar": {
              "outlinewidth": 0,
              "ticks": ""
             }
            },
            "marker": {
             "colorbar": {
              "outlinewidth": 0,
              "ticks": ""
             }
            },
            "type": "scatter3d"
           }
          ],
          "scattercarpet": [
           {
            "marker": {
             "colorbar": {
              "outlinewidth": 0,
              "ticks": ""
             }
            },
            "type": "scattercarpet"
           }
          ],
          "scattergeo": [
           {
            "marker": {
             "colorbar": {
              "outlinewidth": 0,
              "ticks": ""
             }
            },
            "type": "scattergeo"
           }
          ],
          "scattergl": [
           {
            "marker": {
             "colorbar": {
              "outlinewidth": 0,
              "ticks": ""
             }
            },
            "type": "scattergl"
           }
          ],
          "scattermapbox": [
           {
            "marker": {
             "colorbar": {
              "outlinewidth": 0,
              "ticks": ""
             }
            },
            "type": "scattermapbox"
           }
          ],
          "scatterpolar": [
           {
            "marker": {
             "colorbar": {
              "outlinewidth": 0,
              "ticks": ""
             }
            },
            "type": "scatterpolar"
           }
          ],
          "scatterpolargl": [
           {
            "marker": {
             "colorbar": {
              "outlinewidth": 0,
              "ticks": ""
             }
            },
            "type": "scatterpolargl"
           }
          ],
          "scatterternary": [
           {
            "marker": {
             "colorbar": {
              "outlinewidth": 0,
              "ticks": ""
             }
            },
            "type": "scatterternary"
           }
          ],
          "surface": [
           {
            "colorbar": {
             "outlinewidth": 0,
             "ticks": ""
            },
            "colorscale": [
             [
              0,
              "#0d0887"
             ],
             [
              0.1111111111111111,
              "#46039f"
             ],
             [
              0.2222222222222222,
              "#7201a8"
             ],
             [
              0.3333333333333333,
              "#9c179e"
             ],
             [
              0.4444444444444444,
              "#bd3786"
             ],
             [
              0.5555555555555556,
              "#d8576b"
             ],
             [
              0.6666666666666666,
              "#ed7953"
             ],
             [
              0.7777777777777778,
              "#fb9f3a"
             ],
             [
              0.8888888888888888,
              "#fdca26"
             ],
             [
              1,
              "#f0f921"
             ]
            ],
            "type": "surface"
           }
          ],
          "table": [
           {
            "cells": {
             "fill": {
              "color": "#EBF0F8"
             },
             "line": {
              "color": "white"
             }
            },
            "header": {
             "fill": {
              "color": "#C8D4E3"
             },
             "line": {
              "color": "white"
             }
            },
            "type": "table"
           }
          ]
         },
         "layout": {
          "annotationdefaults": {
           "arrowcolor": "#2a3f5f",
           "arrowhead": 0,
           "arrowwidth": 1
          },
          "coloraxis": {
           "colorbar": {
            "outlinewidth": 0,
            "ticks": ""
           }
          },
          "colorscale": {
           "diverging": [
            [
             0,
             "#8e0152"
            ],
            [
             0.1,
             "#c51b7d"
            ],
            [
             0.2,
             "#de77ae"
            ],
            [
             0.3,
             "#f1b6da"
            ],
            [
             0.4,
             "#fde0ef"
            ],
            [
             0.5,
             "#f7f7f7"
            ],
            [
             0.6,
             "#e6f5d0"
            ],
            [
             0.7,
             "#b8e186"
            ],
            [
             0.8,
             "#7fbc41"
            ],
            [
             0.9,
             "#4d9221"
            ],
            [
             1,
             "#276419"
            ]
           ],
           "sequential": [
            [
             0,
             "#0d0887"
            ],
            [
             0.1111111111111111,
             "#46039f"
            ],
            [
             0.2222222222222222,
             "#7201a8"
            ],
            [
             0.3333333333333333,
             "#9c179e"
            ],
            [
             0.4444444444444444,
             "#bd3786"
            ],
            [
             0.5555555555555556,
             "#d8576b"
            ],
            [
             0.6666666666666666,
             "#ed7953"
            ],
            [
             0.7777777777777778,
             "#fb9f3a"
            ],
            [
             0.8888888888888888,
             "#fdca26"
            ],
            [
             1,
             "#f0f921"
            ]
           ],
           "sequentialminus": [
            [
             0,
             "#0d0887"
            ],
            [
             0.1111111111111111,
             "#46039f"
            ],
            [
             0.2222222222222222,
             "#7201a8"
            ],
            [
             0.3333333333333333,
             "#9c179e"
            ],
            [
             0.4444444444444444,
             "#bd3786"
            ],
            [
             0.5555555555555556,
             "#d8576b"
            ],
            [
             0.6666666666666666,
             "#ed7953"
            ],
            [
             0.7777777777777778,
             "#fb9f3a"
            ],
            [
             0.8888888888888888,
             "#fdca26"
            ],
            [
             1,
             "#f0f921"
            ]
           ]
          },
          "colorway": [
           "#636efa",
           "#EF553B",
           "#00cc96",
           "#ab63fa",
           "#FFA15A",
           "#19d3f3",
           "#FF6692",
           "#B6E880",
           "#FF97FF",
           "#FECB52"
          ],
          "font": {
           "color": "#2a3f5f"
          },
          "geo": {
           "bgcolor": "white",
           "lakecolor": "white",
           "landcolor": "#E5ECF6",
           "showlakes": true,
           "showland": true,
           "subunitcolor": "white"
          },
          "hoverlabel": {
           "align": "left"
          },
          "hovermode": "closest",
          "mapbox": {
           "style": "light"
          },
          "paper_bgcolor": "white",
          "plot_bgcolor": "#E5ECF6",
          "polar": {
           "angularaxis": {
            "gridcolor": "white",
            "linecolor": "white",
            "ticks": ""
           },
           "bgcolor": "#E5ECF6",
           "radialaxis": {
            "gridcolor": "white",
            "linecolor": "white",
            "ticks": ""
           }
          },
          "scene": {
           "xaxis": {
            "backgroundcolor": "#E5ECF6",
            "gridcolor": "white",
            "gridwidth": 2,
            "linecolor": "white",
            "showbackground": true,
            "ticks": "",
            "zerolinecolor": "white"
           },
           "yaxis": {
            "backgroundcolor": "#E5ECF6",
            "gridcolor": "white",
            "gridwidth": 2,
            "linecolor": "white",
            "showbackground": true,
            "ticks": "",
            "zerolinecolor": "white"
           },
           "zaxis": {
            "backgroundcolor": "#E5ECF6",
            "gridcolor": "white",
            "gridwidth": 2,
            "linecolor": "white",
            "showbackground": true,
            "ticks": "",
            "zerolinecolor": "white"
           }
          },
          "shapedefaults": {
           "line": {
            "color": "#2a3f5f"
           }
          },
          "ternary": {
           "aaxis": {
            "gridcolor": "white",
            "linecolor": "white",
            "ticks": ""
           },
           "baxis": {
            "gridcolor": "white",
            "linecolor": "white",
            "ticks": ""
           },
           "bgcolor": "#E5ECF6",
           "caxis": {
            "gridcolor": "white",
            "linecolor": "white",
            "ticks": ""
           }
          },
          "title": {
           "x": 0.05
          },
          "xaxis": {
           "automargin": true,
           "gridcolor": "white",
           "linecolor": "white",
           "ticks": "",
           "title": {
            "standoff": 15
           },
           "zerolinecolor": "white",
           "zerolinewidth": 2
          },
          "yaxis": {
           "automargin": true,
           "gridcolor": "white",
           "linecolor": "white",
           "ticks": "",
           "title": {
            "standoff": 15
           },
           "zerolinecolor": "white",
           "zerolinewidth": 2
          }
         }
        },
        "title": {
         "text": "Produción/Precio"
        },
        "xaxis": {
         "ticklen": 10,
         "title": {
          "text": "Materia prima"
         },
         "zeroline": true
        }
       }
      }
     },
     "metadata": {}
    }
   ],
   "source": [
    "from plotly.offline import init_notebook_mode, iplot\n",
    "\n",
    "# Creating trace1\n",
    "trace1 = go.Scatter(\n",
    "                    x = year_price_2007[\"Item\"],\n",
    "                    y = year_price_2007[\"Value\"],\n",
    "                    mode = \"lines\",\n",
    "                    name = \"Year 2007\",\n",
    "                    marker = dict(color =\"#76D7C4\"),\n",
    "                    )\n",
    "# Creating trace2\n",
    "trace2 = go.Scatter(\n",
    "                    x = year_price_2008[\"Item\"],\n",
    "                    y = year_price_2008[\"Value\"],\n",
    "                    mode = \"lines+markers\",\n",
    "                    name = \"Year 2008\",\n",
    "                    marker = dict(color =\"#909F43\"),\n",
    "                    )\n",
    "\n",
    "# Creating trace3\n",
    "trace3 = go.Scatter(\n",
    "                    x = year_price_2012[\"Item\"],\n",
    "                    y = year_price_2012[\"Value\"],\n",
    "                    mode = \"lines+markers\",\n",
    "                    name = \"Year 2012\",\n",
    "                    marker = dict(color = \"#F6D573\"),\n",
    "                    )\n",
    "\n",
    "\n",
    "data = [trace1, trace2,trace3]\n",
    "layout = dict(title = 'Produción/Precio',\n",
    "              xaxis= dict(title= 'Materia prima',ticklen= 10,zeroline= True),\n",
    "              plot_bgcolor=\"white\"\n",
    "             )\n",
    "fig = dict(data = data, layout = layout)\n",
    "iplot(fig)\n"
   ]
  },
  {
   "cell_type": "code",
   "execution_count": 90,
   "metadata": {},
   "outputs": [
    {
     "output_type": "display_data",
     "data": {
      "application/vnd.plotly.v1+json": {
       "config": {
        "plotlyServerURL": "https://plot.ly"
       },
       "data": [
        {
         "marker": {
          "color": "white",
          "line": {
           "width": 1
          },
          "opacity": 0.7,
          "size": 8,
          "symbol": "x"
         },
         "mode": "markers",
         "showlegend": false,
         "type": "scatter",
         "x": [
          "Almonds, with shell",
          "Apples",
          "Apricots",
          "Artichokes",
          "Asparagus",
          "Avocados",
          "Bananas",
          "Barley",
          "Beans, dry",
          "Beans, green",
          "Beeswax",
          "Broad beans, horse beans, dry",
          "Cabbages and other brassicas",
          "Canary seed",
          "Carobs",
          "Carrots and turnips",
          "Cauliflowers and broccoli",
          "Cherries",
          "Cherries, sour",
          "Chestnut",
          "Chick peas",
          "Chillies and peppers, dry",
          "Chillies and peppers, green",
          "Cottonseed",
          "Cucumbers and gherkins",
          "Dates",
          "Eggplants (aubergines)",
          "Eggs, hen, in shell",
          "Figs",
          "Garlic",
          "Grapefruit (inc. pomelos)",
          "Grapes",
          "Groundnuts, with shell",
          "Hazelnuts, with shell",
          "Honey, natural",
          "Hops",
          "Kiwi fruit",
          "Leeks, other alliaceous vegetables",
          "Lemons and limes",
          "Lentils",
          "Lettuce and chicory",
          "Lupins",
          "Maize",
          "Mangoes, mangosteens, guavas",
          "Meat live weight, ass",
          "Meat live weight, chicken",
          "Meat live weight, goat",
          "Meat live weight, horse",
          "Meat live weight, mule",
          "Meat live weight, pig",
          "Meat live weight, rabbit",
          "Meat live weight, sheep",
          "Meat, ass",
          "Meat, chicken",
          "Meat, goat",
          "Meat, horse",
          "Meat, mule",
          "Meat, pig",
          "Meat, rabbit",
          "Meat, sheep",
          "Meat, turkey",
          "Melons, other (inc.cantaloupes)",
          "Milk, whole fresh cow",
          "Milk, whole fresh goat",
          "Milk, whole fresh sheep",
          "Millet",
          "Mushrooms and truffles",
          "Oats",
          "Olives",
          "Onions, dry",
          "Onions, shallots, green",
          "Oranges",
          "Papayas",
          "Peaches and nectarines",
          "Pears",
          "Peas, dry",
          "Peas, green",
          "Persimmons",
          "Pineapples",
          "Plums and sloes",
          "Potatoes",
          "Pumpkins, squash and gourds",
          "Quinces",
          "Rapeseed",
          "Raspberries",
          "Rice, paddy",
          "Rye",
          "Safflower seed",
          "Seed cotton",
          "Sorghum",
          "Soybeans",
          "Spinach",
          "Strawberries",
          "Sugar beet",
          "Sugar cane",
          "Sunflower seed",
          "Sweet potatoes",
          "Tangerines, mandarins, clementines, satsumas",
          "Tobacco, unmanufactured",
          "Tomatoes",
          "Triticale",
          "Vegetables, leguminous nes",
          "Vetches",
          "Walnuts, with shell",
          "Watermelons",
          "Wheat",
          "Wool, greasy"
         ],
         "y": [
          887.4,
          422.5,
          671,
          590,
          1460.9,
          1138.3,
          449,
          183.6,
          2047.5,
          1728.2,
          2412.7,
          249.1,
          299,
          492.3,
          338.8,
          268.1,
          439.9,
          1960.7,
          1960.7,
          1454.5,
          632.5,
          2884.6,
          917.7,
          81.8,
          485.6,
          2469.7,
          553.2,
          1356.7,
          1316.5,
          1319.2,
          214,
          548.4,
          1301.7,
          1571.9,
          2376.6,
          3360,
          664.4,
          546.1,
          276.7,
          608.5,
          421.6,
          242.3,
          204.5,
          1475.1,
          322.4,
          1087.9,
          579.4,
          932.1,
          362.1,
          834.6,
          960.9,
          276.4,
          644.8,
          1450.5,
          5189.1,
          1864.2,
          724.1,
          1056.5,
          1455.7,
          2378.9,
          1072.1,
          346.4,
          353.5,
          556.1,
          754.5,
          349.4,
          1143.4,
          158.2,
          655,
          245,
          885.7,
          175.1,
          1098.4,
          560.8,
          556.7,
          220.3,
          1842.3,
          647.2,
          1464.7,
          518,
          244.6,
          378.4,
          451.1,
          241.9,
          3732.5,
          271.4,
          177.9,
          210,
          327.3,
          198.1,
          244.8,
          674.6,
          1094.1,
          35.1,
          36.3,
          394.3,
          382.5,
          222.5,
          553.4,
          641.3,
          183.8,
          1026.3,
          242.2,
          2200.4,
          241.2,
          210.3,
          360.5
         ]
        },
        {
         "marker": {
          "color": "white",
          "line": {
           "width": 1
          },
          "opacity": 0.7,
          "size": 8,
          "symbol": "circle"
         },
         "mode": "markers",
         "showlegend": false,
         "type": "scatter",
         "x": [
          "Almonds, with shell",
          "Apples",
          "Apricots",
          "Artichokes",
          "Asparagus",
          "Avocados",
          "Bananas",
          "Barley",
          "Beans, dry",
          "Beans, green",
          "Beeswax",
          "Broad beans, horse beans, dry",
          "Cabbages and other brassicas",
          "Canary seed",
          "Carobs",
          "Carrots and turnips",
          "Cauliflowers and broccoli",
          "Cherries",
          "Cherries, sour",
          "Chestnut",
          "Chick peas",
          "Chicory roots",
          "Chillies and peppers, dry",
          "Chillies and peppers, green",
          "Cotton lint",
          "Cottonseed",
          "Cucumbers and gherkins",
          "Dates",
          "Eggplants (aubergines)",
          "Eggs, hen, in shell",
          "Figs",
          "Garlic",
          "Grapefruit (inc. pomelos)",
          "Grapes",
          "Groundnuts, with shell",
          "Hazelnuts, with shell",
          "Honey, natural",
          "Hops",
          "Kiwi fruit",
          "Leeks, other alliaceous vegetables",
          "Lemons and limes",
          "Lentils",
          "Lettuce and chicory",
          "Lupins",
          "Maize",
          "Mangoes, mangosteens, guavas",
          "Meat live weight, ass",
          "Meat live weight, chicken",
          "Meat live weight, duck",
          "Meat live weight, goat",
          "Meat live weight, horse",
          "Meat live weight, mule",
          "Meat live weight, pig",
          "Meat live weight, rabbit",
          "Meat live weight, sheep",
          "Meat live weight, turkey",
          "Meat, ass",
          "Meat, chicken",
          "Meat, duck",
          "Meat, goat",
          "Meat, horse",
          "Meat, mule",
          "Meat, pig",
          "Meat, rabbit",
          "Meat, sheep",
          "Meat, turkey",
          "Melons, other (inc.cantaloupes)",
          "Milk, whole fresh cow",
          "Milk, whole fresh goat",
          "Milk, whole fresh sheep",
          "Millet",
          "Mushrooms and truffles",
          "Oats",
          "Olives",
          "Onions, dry",
          "Onions, shallots, green",
          "Oranges",
          "Papayas",
          "Peaches and nectarines",
          "Pears",
          "Peas, dry",
          "Peas, green",
          "Peppermint",
          "Persimmons",
          "Pineapples",
          "Plums and sloes",
          "Potatoes",
          "Pumpkins, squash and gourds",
          "Quinces",
          "Rapeseed",
          "Raspberries",
          "Rice, paddy",
          "Rye",
          "Safflower seed",
          "Seed cotton",
          "Sorghum",
          "Soybeans",
          "Spinach",
          "Strawberries",
          "Sugar beet",
          "Sugar cane",
          "Sunflower seed",
          "Sweet potatoes",
          "Tangerines, mandarins, clementines, satsumas",
          "Tobacco, unmanufactured",
          "Tomatoes",
          "Triticale",
          "Vegetables, leguminous nes",
          "Vetches",
          "Walnuts, with shell",
          "Watermelons",
          "Wheat",
          "Wool, greasy"
         ],
         "y": [
          866.2,
          391.9,
          687.8,
          471.3,
          1533,
          1214.8,
          468.4,
          169.7,
          1983.4,
          1793.6,
          3033.9,
          306.9,
          299.7,
          430.3,
          297.4,
          291.8,
          375,
          1895.8,
          1895.8,
          1500.9,
          657.3,
          372.5,
          3473.3,
          906.9,
          835.3,
          66.8,
          444.1,
          2469.7,
          648.2,
          1346.8,
          1109.1,
          1260.3,
          158.9,
          534.8,
          1288.8,
          1375.8,
          2648.4,
          4940,
          730.7,
          553.4,
          480.9,
          579,
          490,
          263.9,
          182,
          1558.5,
          288.4,
          1023.7,
          2230.3,
          560.7,
          831.3,
          376.1,
          914,
          1170,
          256.8,
          1083.6,
          576.8,
          1364.9,
          2973.7,
          4921.9,
          1662.5,
          752.1,
          1157,
          1772.6,
          2458.6,
          1305.5,
          420.6,
          379.4,
          591.7,
          814.8,
          389.6,
          1160.7,
          171.1,
          522.2,
          163.6,
          801.2,
          231.5,
          783.1,
          607,
          577.3,
          217.6,
          1834.6,
          1525,
          783.7,
          1343.8,
          520.1,
          225.9,
          453,
          407.4,
          268.9,
          4735.2,
          370.2,
          160.3,
          220,
          267.3,
          165.2,
          273,
          698.2,
          1562.2,
          37.1,
          36.3,
          387.1,
          377.1,
          256.3,
          642.9,
          588.9,
          184.8,
          940.9,
          289.4,
          2253,
          370.8,
          218.9,
          340.5
         ]
        },
        {
         "colorscale": [
          [
           0,
           "rgb(255,255,217)"
          ],
          [
           0.125,
           "rgb(237,248,177)"
          ],
          [
           0.25,
           "rgb(199,233,180)"
          ],
          [
           0.375,
           "rgb(127,205,187)"
          ],
          [
           0.5,
           "rgb(65,182,196)"
          ],
          [
           0.625,
           "rgb(29,145,192)"
          ],
          [
           0.75,
           "rgb(34,94,168)"
          ],
          [
           0.875,
           "rgb(37,52,148)"
          ],
          [
           1,
           "rgb(8,29,88)"
          ]
         ],
         "nbinsx": 14,
         "nbinsy": 14,
         "type": "histogram2d",
         "x": [
          "Almonds, with shell",
          "Apples",
          "Apricots",
          "Artichokes",
          "Asparagus",
          "Avocados",
          "Bananas",
          "Barley",
          "Beans, dry",
          "Beans, green",
          "Beeswax",
          "Broad beans, horse beans, dry",
          "Cabbages and other brassicas",
          "Canary seed",
          "Carobs",
          "Carrots and turnips",
          "Cauliflowers and broccoli",
          "Cherries",
          "Cherries, sour",
          "Chestnut",
          "Chick peas",
          "Chicory roots",
          "Chillies and peppers, dry",
          "Chillies and peppers, green",
          "Cottonseed",
          "Cucumbers and gherkins",
          "Dates",
          "Eggplants (aubergines)",
          "Eggs, hen, in shell",
          "Figs",
          "Garlic",
          "Grapefruit (inc. pomelos)",
          "Grapes",
          "Groundnuts, with shell",
          "Hazelnuts, with shell",
          "Honey, natural",
          "Hops",
          "Kiwi fruit",
          "Leeks, other alliaceous vegetables",
          "Lemons and limes",
          "Lentils",
          "Lettuce and chicory",
          "Lupins",
          "Maize",
          "Mangoes, mangosteens, guavas",
          "Meat live weight, ass",
          "Meat live weight, chicken",
          "Meat live weight, duck",
          "Meat live weight, goat",
          "Meat live weight, horse",
          "Meat live weight, mule",
          "Meat live weight, pig",
          "Meat live weight, rabbit",
          "Meat live weight, sheep",
          "Meat live weight, turkey",
          "Meat, ass",
          "Meat, chicken",
          "Meat, duck",
          "Meat, goat",
          "Meat, horse",
          "Meat, mule",
          "Meat, pig",
          "Meat, rabbit",
          "Meat, sheep",
          "Meat, turkey",
          "Melons, other (inc.cantaloupes)",
          "Milk, whole fresh cow",
          "Milk, whole fresh goat",
          "Milk, whole fresh sheep",
          "Mushrooms and truffles",
          "Oats",
          "Olives",
          "Onions, dry",
          "Onions, shallots, green",
          "Oranges",
          "Papayas",
          "Peaches and nectarines",
          "Pears",
          "Peas, dry",
          "Peas, green",
          "Peppermint",
          "Persimmons",
          "Pineapples",
          "Plums and sloes",
          "Poppy seed",
          "Potatoes",
          "Pumpkins, squash and gourds",
          "Quinces",
          "Rapeseed",
          "Raspberries",
          "Rice, paddy",
          "Rye",
          "Safflower seed",
          "Seed cotton",
          "Sorghum",
          "Soybeans",
          "Spinach",
          "Strawberries",
          "Sugar beet",
          "Sunflower seed",
          "Sweet potatoes",
          "Tangerines, mandarins, clementines, satsumas",
          "Tobacco, unmanufactured",
          "Tomatoes",
          "Triticale",
          "Vegetables, leguminous nes",
          "Vetches",
          "Walnuts, with shell",
          "Watermelons",
          "Wheat",
          "Wool, greasy"
         ],
         "y": [
          897.4,
          434.4,
          717.7,
          599.7,
          1450.5,
          1257.6,
          209.7,
          223.3,
          1890,
          1743.5,
          3614.3,
          309.8,
          302.8,
          598.6,
          286.8,
          275.2,
          413.7,
          1402.9,
          1402.9,
          1867,
          654.2,
          503.3,
          3260.2,
          666.3,
          98.7,
          399.4,
          1350,
          448,
          1895.9,
          1351.9,
          1341.6,
          152.7,
          608.7,
          700,
          1645.2,
          3243.2,
          3500,
          708.3,
          493.7,
          233.6,
          794.9,
          439,
          268.1,
          233,
          1200.7,
          345.6,
          1249.4,
          2850,
          820.1,
          677,
          423.4,
          1065.6,
          1218.3,
          457.4,
          1445,
          691.2,
          1665.9,
          3800,
          4895.7,
          1353.9,
          846.7,
          1348.9,
          1845.7,
          2926.9,
          1741,
          273.5,
          304,
          557.7,
          806.5,
          1135.2,
          217.1,
          451.7,
          201.3,
          639.4,
          171.6,
          556.2,
          620.5,
          522.3,
          266.5,
          1775,
          1800,
          410.4,
          1496.5,
          494.9,
          850,
          246.5,
          346.4,
          325.4,
          349.6,
          4260.5,
          276.6,
          219.2,
          311.9,
          394.8,
          229.5,
          441.3,
          498.3,
          1114.5,
          34.5,
          500.4,
          451.2,
          164.5,
          1856,
          540.4,
          219.4,
          749.1,
          263.6,
          2771.7,
          204,
          247.9,
          713.4
         ],
         "zauto": false,
         "zmax": 10
        }
       ],
       "layout": {
        "autosize": false,
        "height": 550,
        "hovermode": "closest",
        "template": {
         "data": {
          "bar": [
           {
            "error_x": {
             "color": "#2a3f5f"
            },
            "error_y": {
             "color": "#2a3f5f"
            },
            "marker": {
             "line": {
              "color": "#E5ECF6",
              "width": 0.5
             }
            },
            "type": "bar"
           }
          ],
          "barpolar": [
           {
            "marker": {
             "line": {
              "color": "#E5ECF6",
              "width": 0.5
             }
            },
            "type": "barpolar"
           }
          ],
          "carpet": [
           {
            "aaxis": {
             "endlinecolor": "#2a3f5f",
             "gridcolor": "white",
             "linecolor": "white",
             "minorgridcolor": "white",
             "startlinecolor": "#2a3f5f"
            },
            "baxis": {
             "endlinecolor": "#2a3f5f",
             "gridcolor": "white",
             "linecolor": "white",
             "minorgridcolor": "white",
             "startlinecolor": "#2a3f5f"
            },
            "type": "carpet"
           }
          ],
          "choropleth": [
           {
            "colorbar": {
             "outlinewidth": 0,
             "ticks": ""
            },
            "type": "choropleth"
           }
          ],
          "contour": [
           {
            "colorbar": {
             "outlinewidth": 0,
             "ticks": ""
            },
            "colorscale": [
             [
              0,
              "#0d0887"
             ],
             [
              0.1111111111111111,
              "#46039f"
             ],
             [
              0.2222222222222222,
              "#7201a8"
             ],
             [
              0.3333333333333333,
              "#9c179e"
             ],
             [
              0.4444444444444444,
              "#bd3786"
             ],
             [
              0.5555555555555556,
              "#d8576b"
             ],
             [
              0.6666666666666666,
              "#ed7953"
             ],
             [
              0.7777777777777778,
              "#fb9f3a"
             ],
             [
              0.8888888888888888,
              "#fdca26"
             ],
             [
              1,
              "#f0f921"
             ]
            ],
            "type": "contour"
           }
          ],
          "contourcarpet": [
           {
            "colorbar": {
             "outlinewidth": 0,
             "ticks": ""
            },
            "type": "contourcarpet"
           }
          ],
          "heatmap": [
           {
            "colorbar": {
             "outlinewidth": 0,
             "ticks": ""
            },
            "colorscale": [
             [
              0,
              "#0d0887"
             ],
             [
              0.1111111111111111,
              "#46039f"
             ],
             [
              0.2222222222222222,
              "#7201a8"
             ],
             [
              0.3333333333333333,
              "#9c179e"
             ],
             [
              0.4444444444444444,
              "#bd3786"
             ],
             [
              0.5555555555555556,
              "#d8576b"
             ],
             [
              0.6666666666666666,
              "#ed7953"
             ],
             [
              0.7777777777777778,
              "#fb9f3a"
             ],
             [
              0.8888888888888888,
              "#fdca26"
             ],
             [
              1,
              "#f0f921"
             ]
            ],
            "type": "heatmap"
           }
          ],
          "heatmapgl": [
           {
            "colorbar": {
             "outlinewidth": 0,
             "ticks": ""
            },
            "colorscale": [
             [
              0,
              "#0d0887"
             ],
             [
              0.1111111111111111,
              "#46039f"
             ],
             [
              0.2222222222222222,
              "#7201a8"
             ],
             [
              0.3333333333333333,
              "#9c179e"
             ],
             [
              0.4444444444444444,
              "#bd3786"
             ],
             [
              0.5555555555555556,
              "#d8576b"
             ],
             [
              0.6666666666666666,
              "#ed7953"
             ],
             [
              0.7777777777777778,
              "#fb9f3a"
             ],
             [
              0.8888888888888888,
              "#fdca26"
             ],
             [
              1,
              "#f0f921"
             ]
            ],
            "type": "heatmapgl"
           }
          ],
          "histogram": [
           {
            "marker": {
             "colorbar": {
              "outlinewidth": 0,
              "ticks": ""
             }
            },
            "type": "histogram"
           }
          ],
          "histogram2d": [
           {
            "colorbar": {
             "outlinewidth": 0,
             "ticks": ""
            },
            "colorscale": [
             [
              0,
              "#0d0887"
             ],
             [
              0.1111111111111111,
              "#46039f"
             ],
             [
              0.2222222222222222,
              "#7201a8"
             ],
             [
              0.3333333333333333,
              "#9c179e"
             ],
             [
              0.4444444444444444,
              "#bd3786"
             ],
             [
              0.5555555555555556,
              "#d8576b"
             ],
             [
              0.6666666666666666,
              "#ed7953"
             ],
             [
              0.7777777777777778,
              "#fb9f3a"
             ],
             [
              0.8888888888888888,
              "#fdca26"
             ],
             [
              1,
              "#f0f921"
             ]
            ],
            "type": "histogram2d"
           }
          ],
          "histogram2dcontour": [
           {
            "colorbar": {
             "outlinewidth": 0,
             "ticks": ""
            },
            "colorscale": [
             [
              0,
              "#0d0887"
             ],
             [
              0.1111111111111111,
              "#46039f"
             ],
             [
              0.2222222222222222,
              "#7201a8"
             ],
             [
              0.3333333333333333,
              "#9c179e"
             ],
             [
              0.4444444444444444,
              "#bd3786"
             ],
             [
              0.5555555555555556,
              "#d8576b"
             ],
             [
              0.6666666666666666,
              "#ed7953"
             ],
             [
              0.7777777777777778,
              "#fb9f3a"
             ],
             [
              0.8888888888888888,
              "#fdca26"
             ],
             [
              1,
              "#f0f921"
             ]
            ],
            "type": "histogram2dcontour"
           }
          ],
          "mesh3d": [
           {
            "colorbar": {
             "outlinewidth": 0,
             "ticks": ""
            },
            "type": "mesh3d"
           }
          ],
          "parcoords": [
           {
            "line": {
             "colorbar": {
              "outlinewidth": 0,
              "ticks": ""
             }
            },
            "type": "parcoords"
           }
          ],
          "pie": [
           {
            "automargin": true,
            "type": "pie"
           }
          ],
          "scatter": [
           {
            "marker": {
             "colorbar": {
              "outlinewidth": 0,
              "ticks": ""
             }
            },
            "type": "scatter"
           }
          ],
          "scatter3d": [
           {
            "line": {
             "colorbar": {
              "outlinewidth": 0,
              "ticks": ""
             }
            },
            "marker": {
             "colorbar": {
              "outlinewidth": 0,
              "ticks": ""
             }
            },
            "type": "scatter3d"
           }
          ],
          "scattercarpet": [
           {
            "marker": {
             "colorbar": {
              "outlinewidth": 0,
              "ticks": ""
             }
            },
            "type": "scattercarpet"
           }
          ],
          "scattergeo": [
           {
            "marker": {
             "colorbar": {
              "outlinewidth": 0,
              "ticks": ""
             }
            },
            "type": "scattergeo"
           }
          ],
          "scattergl": [
           {
            "marker": {
             "colorbar": {
              "outlinewidth": 0,
              "ticks": ""
             }
            },
            "type": "scattergl"
           }
          ],
          "scattermapbox": [
           {
            "marker": {
             "colorbar": {
              "outlinewidth": 0,
              "ticks": ""
             }
            },
            "type": "scattermapbox"
           }
          ],
          "scatterpolar": [
           {
            "marker": {
             "colorbar": {
              "outlinewidth": 0,
              "ticks": ""
             }
            },
            "type": "scatterpolar"
           }
          ],
          "scatterpolargl": [
           {
            "marker": {
             "colorbar": {
              "outlinewidth": 0,
              "ticks": ""
             }
            },
            "type": "scatterpolargl"
           }
          ],
          "scatterternary": [
           {
            "marker": {
             "colorbar": {
              "outlinewidth": 0,
              "ticks": ""
             }
            },
            "type": "scatterternary"
           }
          ],
          "surface": [
           {
            "colorbar": {
             "outlinewidth": 0,
             "ticks": ""
            },
            "colorscale": [
             [
              0,
              "#0d0887"
             ],
             [
              0.1111111111111111,
              "#46039f"
             ],
             [
              0.2222222222222222,
              "#7201a8"
             ],
             [
              0.3333333333333333,
              "#9c179e"
             ],
             [
              0.4444444444444444,
              "#bd3786"
             ],
             [
              0.5555555555555556,
              "#d8576b"
             ],
             [
              0.6666666666666666,
              "#ed7953"
             ],
             [
              0.7777777777777778,
              "#fb9f3a"
             ],
             [
              0.8888888888888888,
              "#fdca26"
             ],
             [
              1,
              "#f0f921"
             ]
            ],
            "type": "surface"
           }
          ],
          "table": [
           {
            "cells": {
             "fill": {
              "color": "#EBF0F8"
             },
             "line": {
              "color": "white"
             }
            },
            "header": {
             "fill": {
              "color": "#C8D4E3"
             },
             "line": {
              "color": "white"
             }
            },
            "type": "table"
           }
          ]
         },
         "layout": {
          "annotationdefaults": {
           "arrowcolor": "#2a3f5f",
           "arrowhead": 0,
           "arrowwidth": 1
          },
          "coloraxis": {
           "colorbar": {
            "outlinewidth": 0,
            "ticks": ""
           }
          },
          "colorscale": {
           "diverging": [
            [
             0,
             "#8e0152"
            ],
            [
             0.1,
             "#c51b7d"
            ],
            [
             0.2,
             "#de77ae"
            ],
            [
             0.3,
             "#f1b6da"
            ],
            [
             0.4,
             "#fde0ef"
            ],
            [
             0.5,
             "#f7f7f7"
            ],
            [
             0.6,
             "#e6f5d0"
            ],
            [
             0.7,
             "#b8e186"
            ],
            [
             0.8,
             "#7fbc41"
            ],
            [
             0.9,
             "#4d9221"
            ],
            [
             1,
             "#276419"
            ]
           ],
           "sequential": [
            [
             0,
             "#0d0887"
            ],
            [
             0.1111111111111111,
             "#46039f"
            ],
            [
             0.2222222222222222,
             "#7201a8"
            ],
            [
             0.3333333333333333,
             "#9c179e"
            ],
            [
             0.4444444444444444,
             "#bd3786"
            ],
            [
             0.5555555555555556,
             "#d8576b"
            ],
            [
             0.6666666666666666,
             "#ed7953"
            ],
            [
             0.7777777777777778,
             "#fb9f3a"
            ],
            [
             0.8888888888888888,
             "#fdca26"
            ],
            [
             1,
             "#f0f921"
            ]
           ],
           "sequentialminus": [
            [
             0,
             "#0d0887"
            ],
            [
             0.1111111111111111,
             "#46039f"
            ],
            [
             0.2222222222222222,
             "#7201a8"
            ],
            [
             0.3333333333333333,
             "#9c179e"
            ],
            [
             0.4444444444444444,
             "#bd3786"
            ],
            [
             0.5555555555555556,
             "#d8576b"
            ],
            [
             0.6666666666666666,
             "#ed7953"
            ],
            [
             0.7777777777777778,
             "#fb9f3a"
            ],
            [
             0.8888888888888888,
             "#fdca26"
            ],
            [
             1,
             "#f0f921"
            ]
           ]
          },
          "colorway": [
           "#636efa",
           "#EF553B",
           "#00cc96",
           "#ab63fa",
           "#FFA15A",
           "#19d3f3",
           "#FF6692",
           "#B6E880",
           "#FF97FF",
           "#FECB52"
          ],
          "font": {
           "color": "#2a3f5f"
          },
          "geo": {
           "bgcolor": "white",
           "lakecolor": "white",
           "landcolor": "#E5ECF6",
           "showlakes": true,
           "showland": true,
           "subunitcolor": "white"
          },
          "hoverlabel": {
           "align": "left"
          },
          "hovermode": "closest",
          "mapbox": {
           "style": "light"
          },
          "paper_bgcolor": "white",
          "plot_bgcolor": "#E5ECF6",
          "polar": {
           "angularaxis": {
            "gridcolor": "white",
            "linecolor": "white",
            "ticks": ""
           },
           "bgcolor": "#E5ECF6",
           "radialaxis": {
            "gridcolor": "white",
            "linecolor": "white",
            "ticks": ""
           }
          },
          "scene": {
           "xaxis": {
            "backgroundcolor": "#E5ECF6",
            "gridcolor": "white",
            "gridwidth": 2,
            "linecolor": "white",
            "showbackground": true,
            "ticks": "",
            "zerolinecolor": "white"
           },
           "yaxis": {
            "backgroundcolor": "#E5ECF6",
            "gridcolor": "white",
            "gridwidth": 2,
            "linecolor": "white",
            "showbackground": true,
            "ticks": "",
            "zerolinecolor": "white"
           },
           "zaxis": {
            "backgroundcolor": "#E5ECF6",
            "gridcolor": "white",
            "gridwidth": 2,
            "linecolor": "white",
            "showbackground": true,
            "ticks": "",
            "zerolinecolor": "white"
           }
          },
          "shapedefaults": {
           "line": {
            "color": "#2a3f5f"
           }
          },
          "ternary": {
           "aaxis": {
            "gridcolor": "white",
            "linecolor": "white",
            "ticks": ""
           },
           "baxis": {
            "gridcolor": "white",
            "linecolor": "white",
            "ticks": ""
           },
           "bgcolor": "#E5ECF6",
           "caxis": {
            "gridcolor": "white",
            "linecolor": "white",
            "ticks": ""
           }
          },
          "title": {
           "x": 0.05
          },
          "xaxis": {
           "automargin": true,
           "gridcolor": "white",
           "linecolor": "white",
           "ticks": "",
           "title": {
            "standoff": 15
           },
           "zerolinecolor": "white",
           "zerolinewidth": 2
          },
          "yaxis": {
           "automargin": true,
           "gridcolor": "white",
           "linecolor": "white",
           "ticks": "",
           "title": {
            "standoff": 15
           },
           "zerolinecolor": "white",
           "zerolinewidth": 2
          }
         }
        },
        "width": 550,
        "xaxis": {
         "nticks": 20,
         "showgrid": false,
         "ticks": "",
         "zeroline": false
        },
        "yaxis": {
         "nticks": 20,
         "showgrid": false,
         "ticks": "",
         "zeroline": false
        }
       }
      }
     },
     "metadata": {}
    }
   ],
   "source": [
    "fig = go.Figure()\n",
    "\n",
    "fig.add_trace(go.Scatter(\n",
    "    x = year_price_2007[\"Item\"],\n",
    "    y = year_price_2007[\"Value\"],\n",
    "    mode='markers',\n",
    "    showlegend=False,\n",
    "    marker=dict(\n",
    "        symbol='x',\n",
    "        opacity=0.7,\n",
    "        color='white',\n",
    "        size=8,\n",
    "        line=dict(width=1),\n",
    "    )\n",
    "))\n",
    "fig.add_trace(go.Scatter(\n",
    "    x = year_price_2008[\"Item\"],\n",
    "    y = year_price_2008[\"Value\"],\n",
    "    mode='markers',\n",
    "    showlegend=False,\n",
    "    marker=dict(\n",
    "        symbol='circle',\n",
    "        opacity=0.7,\n",
    "        color='white',\n",
    "        size=8,\n",
    "        line=dict(width=1),\n",
    "    )\n",
    "))\n",
    "fig.add_trace(go.Histogram2d(\n",
    "    x = year_price_2012[\"Item\"],\n",
    "    y = year_price_2012[\"Value\"],\n",
    "    colorscale='YlGnBu',\n",
    "    zmax=10,\n",
    "    nbinsx=14,\n",
    "    nbinsy=14,\n",
    "    zauto=False,\n",
    "))\n",
    "\n",
    "fig.update_layout(\n",
    "    xaxis=dict( ticks='', showgrid=False, zeroline=False, nticks=20 ),\n",
    "    yaxis=dict( ticks='', showgrid=False, zeroline=False, nticks=20 ),\n",
    "    autosize=False,\n",
    "    height=550,\n",
    "    width=550,\n",
    "    hovermode='closest',\n",
    "\n",
    ")\n",
    "\n",
    "fig.show()"
   ]
  },
  {
   "cell_type": "markdown",
   "metadata": {},
   "source": [
    "Otro tipo de gráficas:"
   ]
  },
  {
   "cell_type": "code",
   "execution_count": 79,
   "metadata": {},
   "outputs": [],
   "source": [
    "df.set_index(\"Item\", inplace=True)"
   ]
  },
  {
   "cell_type": "code",
   "execution_count": 81,
   "metadata": {},
   "outputs": [
    {
     "output_type": "display_data",
     "data": {
      "text/plain": "<Figure size 1440x720 with 1 Axes>",
      "image/svg+xml": "<?xml version=\"1.0\" encoding=\"utf-8\" standalone=\"no\"?>\n<!DOCTYPE svg PUBLIC \"-//W3C//DTD SVG 1.1//EN\"\n  \"http://www.w3.org/Graphics/SVG/1.1/DTD/svg11.dtd\">\n<!-- Created with matplotlib (https://matplotlib.org/) -->\n<svg height=\"885.91875pt\" version=\"1.1\" viewBox=\"0 0 1186.269223 885.91875\" width=\"1186.269223pt\" xmlns=\"http://www.w3.org/2000/svg\" xmlns:xlink=\"http://www.w3.org/1999/xlink\">\n <defs>\n  <style type=\"text/css\">\n*{stroke-linecap:butt;stroke-linejoin:round;}\n  </style>\n </defs>\n <g id=\"figure_1\">\n  <g id=\"patch_1\">\n   <path d=\"M 0 885.91875 \nL 1186.269223 885.91875 \nL 1186.269223 0 \nL 0 0 \nz\n\" style=\"fill:none;\"/>\n  </g>\n  <g id=\"axes_1\">\n   <g id=\"patch_2\">\n    <path d=\"M 62.289375 571.996875 \nL 1178.289375 571.996875 \nL 1178.289375 28.396875 \nL 62.289375 28.396875 \nz\n\" style=\"fill:#ffffff;\"/>\n   </g>\n   <g id=\"patch_3\">\n    <path clip-path=\"url(#p783d9581b4)\" d=\"M 64.802889 571.996875 \nL 69.829916 571.996875 \nL 69.829916 483.461357 \nL 64.802889 483.461357 \nz\n\" style=\"fill:#76d7c4;\"/>\n   </g>\n   <g id=\"patch_4\">\n    <path clip-path=\"url(#p783d9581b4)\" d=\"M 74.856943 571.996875 \nL 79.88397 571.996875 \nL 79.88397 529.844231 \nL 74.856943 529.844231 \nz\n\" style=\"fill:#76d7c4;\"/>\n   </g>\n   <g id=\"patch_5\">\n    <path clip-path=\"url(#p783d9581b4)\" d=\"M 84.910997 571.996875 \nL 89.938024 571.996875 \nL 89.938024 505.051492 \nL 84.910997 505.051492 \nz\n\" style=\"fill:#76d7c4;\"/>\n   </g>\n   <g id=\"patch_6\">\n    <path clip-path=\"url(#p783d9581b4)\" d=\"M 94.965051 571.996875 \nL 99.992078 571.996875 \nL 99.992078 513.132828 \nL 94.965051 513.132828 \nz\n\" style=\"fill:#76d7c4;\"/>\n   </g>\n   <g id=\"patch_7\">\n    <path clip-path=\"url(#p783d9581b4)\" d=\"M 105.019105 571.996875 \nL 110.046132 571.996875 \nL 110.046132 426.243507 \nL 105.019105 426.243507 \nz\n\" style=\"fill:#76d7c4;\"/>\n   </g>\n   <g id=\"patch_8\">\n    <path clip-path=\"url(#p783d9581b4)\" d=\"M 115.073159 571.996875 \nL 120.100186 571.996875 \nL 120.100186 458.429171 \nL 115.073159 458.429171 \nz\n\" style=\"fill:#76d7c4;\"/>\n   </g>\n   <g id=\"patch_9\">\n    <path clip-path=\"url(#p783d9581b4)\" d=\"M 125.127213 571.996875 \nL 130.15424 571.996875 \nL 130.15424 527.200337 \nL 125.127213 527.200337 \nz\n\" style=\"fill:#76d7c4;\"/>\n   </g>\n   <g id=\"patch_10\">\n    <path clip-path=\"url(#p783d9581b4)\" d=\"M 135.181267 571.996875 \nL 140.208294 571.996875 \nL 140.208294 553.679182 \nL 135.181267 553.679182 \nz\n\" style=\"fill:#76d7c4;\"/>\n   </g>\n   <g id=\"patch_11\">\n    <path clip-path=\"url(#p783d9581b4)\" d=\"M 145.235321 571.996875 \nL 150.262348 571.996875 \nL 150.262348 367.718676 \nL 145.235321 367.718676 \nz\n\" style=\"fill:#76d7c4;\"/>\n   </g>\n   <g id=\"patch_12\">\n    <path clip-path=\"url(#p783d9581b4)\" d=\"M 155.289375 571.996875 \nL 160.316402 571.996875 \nL 160.316402 399.575101 \nL 155.289375 399.575101 \nz\n\" style=\"fill:#76d7c4;\"/>\n   </g>\n   <g id=\"patch_13\">\n    <path clip-path=\"url(#p783d9581b4)\" d=\"M 165.343429 571.996875 \nL 170.370456 571.996875 \nL 170.370456 331.282829 \nL 165.343429 331.282829 \nz\n\" style=\"fill:#76d7c4;\"/>\n   </g>\n   <g id=\"patch_14\">\n    <path clip-path=\"url(#p783d9581b4)\" d=\"M 175.397483 571.996875 \nL 180.42451 571.996875 \nL 180.42451 547.144275 \nL 175.397483 547.144275 \nz\n\" style=\"fill:#76d7c4;\"/>\n   </g>\n   <g id=\"patch_15\">\n    <path clip-path=\"url(#p783d9581b4)\" d=\"M 185.451537 571.996875 \nL 190.478564 571.996875 \nL 190.478564 542.165773 \nL 185.451537 542.165773 \nz\n\" style=\"fill:#76d7c4;\"/>\n   </g>\n   <g id=\"patch_16\">\n    <path clip-path=\"url(#p783d9581b4)\" d=\"M 195.505591 571.996875 \nL 200.532618 571.996875 \nL 200.532618 522.880315 \nL 195.505591 522.880315 \nz\n\" style=\"fill:#76d7c4;\"/>\n   </g>\n   <g id=\"patch_17\">\n    <path clip-path=\"url(#p783d9581b4)\" d=\"M 205.559645 571.996875 \nL 210.586672 571.996875 \nL 210.586672 538.194944 \nL 205.559645 538.194944 \nz\n\" style=\"fill:#76d7c4;\"/>\n   </g>\n   <g id=\"patch_18\">\n    <path clip-path=\"url(#p783d9581b4)\" d=\"M 215.613699 571.996875 \nL 220.640726 571.996875 \nL 220.640726 545.248653 \nL 215.613699 545.248653 \nz\n\" style=\"fill:#76d7c4;\"/>\n   </g>\n   <g id=\"patch_19\">\n    <path clip-path=\"url(#p783d9581b4)\" d=\"M 225.667753 571.996875 \nL 230.69478 571.996875 \nL 230.69478 528.10824 \nL 225.667753 528.10824 \nz\n\" style=\"fill:#76d7c4;\"/>\n   </g>\n   <g id=\"patch_20\">\n    <path clip-path=\"url(#p783d9581b4)\" d=\"M 235.721807 571.996875 \nL 240.748834 571.996875 \nL 240.748834 376.378675 \nL 235.721807 376.378675 \nz\n\" style=\"fill:#76d7c4;\"/>\n   </g>\n   <g id=\"patch_21\">\n    <path clip-path=\"url(#p783d9581b4)\" d=\"M 245.775861 571.996875 \nL 250.802889 571.996875 \nL 250.802889 376.378675 \nL 245.775861 376.378675 \nz\n\" style=\"fill:#76d7c4;\"/>\n   </g>\n   <g id=\"patch_22\">\n    <path clip-path=\"url(#p783d9581b4)\" d=\"M 255.829916 571.996875 \nL 260.856943 571.996875 \nL 260.856943 426.882033 \nL 255.829916 426.882033 \nz\n\" style=\"fill:#76d7c4;\"/>\n   </g>\n   <g id=\"patch_23\">\n    <path clip-path=\"url(#p783d9581b4)\" d=\"M 265.88397 571.996875 \nL 270.910997 571.996875 \nL 270.910997 508.892621 \nL 265.88397 508.892621 \nz\n\" style=\"fill:#76d7c4;\"/>\n   </g>\n   <g id=\"patch_24\">\n    <path clip-path=\"url(#p783d9581b4)\" d=\"M 275.938024 571.996875 \nL 280.965051 571.996875 \nL 280.965051 284.201568 \nL 275.938024 284.201568 \nz\n\" style=\"fill:#76d7c4;\"/>\n   </g>\n   <g id=\"patch_25\">\n    <path clip-path=\"url(#p783d9581b4)\" d=\"M 285.992078 571.996875 \nL 291.019105 571.996875 \nL 291.019105 480.438339 \nL 285.992078 480.438339 \nz\n\" style=\"fill:#76d7c4;\"/>\n   </g>\n   <g id=\"patch_26\">\n    <path clip-path=\"url(#p783d9581b4)\" d=\"M 296.046132 571.996875 \nL 301.073159 571.996875 \nL 301.073159 563.835724 \nL 296.046132 563.835724 \nz\n\" style=\"fill:#76d7c4;\"/>\n   </g>\n   <g id=\"patch_27\">\n    <path clip-path=\"url(#p783d9581b4)\" d=\"M 306.100186 571.996875 \nL 311.127213 571.996875 \nL 311.127213 523.548771 \nL 306.100186 523.548771 \nz\n\" style=\"fill:#76d7c4;\"/>\n   </g>\n   <g id=\"patch_28\">\n    <path clip-path=\"url(#p783d9581b4)\" d=\"M 316.15424 571.996875 \nL 321.181267 571.996875 \nL 321.181267 325.595963 \nL 316.15424 325.595963 \nz\n\" style=\"fill:#76d7c4;\"/>\n   </g>\n   <g id=\"patch_29\">\n    <path clip-path=\"url(#p783d9581b4)\" d=\"M 326.208294 571.996875 \nL 331.235321 571.996875 \nL 331.235321 516.804348 \nL 326.208294 516.804348 \nz\n\" style=\"fill:#76d7c4;\"/>\n   </g>\n   <g id=\"patch_30\">\n    <path clip-path=\"url(#p783d9581b4)\" d=\"M 336.262348 571.996875 \nL 341.289375 571.996875 \nL 341.289375 436.639497 \nL 336.262348 436.639497 \nz\n\" style=\"fill:#76d7c4;\"/>\n   </g>\n   <g id=\"patch_31\">\n    <path clip-path=\"url(#p783d9581b4)\" d=\"M 346.316402 571.996875 \nL 351.343429 571.996875 \nL 351.343429 440.650234 \nL 346.316402 440.650234 \nz\n\" style=\"fill:#76d7c4;\"/>\n   </g>\n   <g id=\"patch_32\">\n    <path clip-path=\"url(#p783d9581b4)\" d=\"M 356.370456 571.996875 \nL 361.397483 571.996875 \nL 361.397483 440.380856 \nL 356.370456 440.380856 \nz\n\" style=\"fill:#76d7c4;\"/>\n   </g>\n   <g id=\"patch_33\">\n    <path clip-path=\"url(#p783d9581b4)\" d=\"M 366.42451 571.996875 \nL 371.451537 571.996875 \nL 371.451537 550.646187 \nL 366.42451 550.646187 \nz\n\" style=\"fill:#76d7c4;\"/>\n   </g>\n   <g id=\"patch_34\">\n    <path clip-path=\"url(#p783d9581b4)\" d=\"M 376.478564 571.996875 \nL 381.505591 571.996875 \nL 381.505591 517.283242 \nL 376.478564 517.283242 \nz\n\" style=\"fill:#76d7c4;\"/>\n   </g>\n   <g id=\"patch_35\">\n    <path clip-path=\"url(#p783d9581b4)\" d=\"M 386.532618 571.996875 \nL 391.559645 571.996875 \nL 391.559645 442.126823 \nL 386.532618 442.126823 \nz\n\" style=\"fill:#76d7c4;\"/>\n   </g>\n   <g id=\"patch_36\">\n    <path clip-path=\"url(#p783d9581b4)\" d=\"M 396.586672 571.996875 \nL 401.613699 571.996875 \nL 401.613699 415.169085 \nL 396.586672 415.169085 \nz\n\" style=\"fill:#76d7c4;\"/>\n   </g>\n   <g id=\"patch_37\">\n    <path clip-path=\"url(#p783d9581b4)\" d=\"M 406.640726 571.996875 \nL 411.667753 571.996875 \nL 411.667753 334.88451 \nL 406.640726 334.88451 \nz\n\" style=\"fill:#76d7c4;\"/>\n   </g>\n   <g id=\"patch_38\">\n    <path clip-path=\"url(#p783d9581b4)\" d=\"M 416.69478 571.996875 \nL 421.721807 571.996875 \nL 421.721807 236.771113 \nL 416.69478 236.771113 \nz\n\" style=\"fill:#76d7c4;\"/>\n   </g>\n   <g id=\"patch_39\">\n    <path clip-path=\"url(#p783d9581b4)\" d=\"M 426.748834 571.996875 \nL 431.775861 571.996875 \nL 431.775861 505.709971 \nL 426.748834 505.709971 \nz\n\" style=\"fill:#76d7c4;\"/>\n   </g>\n   <g id=\"patch_40\">\n    <path clip-path=\"url(#p783d9581b4)\" d=\"M 436.802889 571.996875 \nL 441.829916 571.996875 \nL 441.829916 517.512712 \nL 436.802889 517.512712 \nz\n\" style=\"fill:#76d7c4;\"/>\n   </g>\n   <g id=\"patch_41\">\n    <path clip-path=\"url(#p783d9581b4)\" d=\"M 446.856943 571.996875 \nL 451.88397 571.996875 \nL 451.88397 544.390634 \nL 446.856943 544.390634 \nz\n\" style=\"fill:#76d7c4;\"/>\n   </g>\n   <g id=\"patch_42\">\n    <path clip-path=\"url(#p783d9581b4)\" d=\"M 456.910997 571.996875 \nL 461.938024 571.996875 \nL 461.938024 511.28709 \nL 456.910997 511.28709 \nz\n\" style=\"fill:#76d7c4;\"/>\n   </g>\n   <g id=\"patch_43\">\n    <path clip-path=\"url(#p783d9581b4)\" d=\"M 466.965051 571.996875 \nL 471.992078 571.996875 \nL 471.992078 529.934023 \nL 466.965051 529.934023 \nz\n\" style=\"fill:#76d7c4;\"/>\n   </g>\n   <g id=\"patch_44\">\n    <path clip-path=\"url(#p783d9581b4)\" d=\"M 477.019105 571.996875 \nL 482.046132 571.996875 \nL 482.046132 547.822708 \nL 477.019105 547.822708 \nz\n\" style=\"fill:#76d7c4;\"/>\n   </g>\n   <g id=\"patch_45\">\n    <path clip-path=\"url(#p783d9581b4)\" d=\"M 487.073159 571.996875 \nL 492.100186 571.996875 \nL 492.100186 551.593998 \nL 487.073159 551.593998 \nz\n\" style=\"fill:#76d7c4;\"/>\n   </g>\n   <g id=\"patch_46\">\n    <path clip-path=\"url(#p783d9581b4)\" d=\"M 497.127213 571.996875 \nL 502.15424 571.996875 \nL 502.15424 424.826779 \nL 497.127213 424.826779 \nz\n\" style=\"fill:#76d7c4;\"/>\n   </g>\n   <g id=\"patch_47\">\n    <path clip-path=\"url(#p783d9581b4)\" d=\"M 507.181267 571.996875 \nL 512.208294 571.996875 \nL 512.208294 539.831165 \nL 507.181267 539.831165 \nz\n\" style=\"fill:#76d7c4;\"/>\n   </g>\n   <g id=\"patch_48\">\n    <path clip-path=\"url(#p783d9581b4)\" d=\"M 517.235321 571.996875 \nL 522.262348 571.996875 \nL 522.262348 463.457558 \nL 517.235321 463.457558 \nz\n\" style=\"fill:#76d7c4;\"/>\n   </g>\n   <g id=\"patch_49\">\n    <path clip-path=\"url(#p783d9581b4)\" d=\"M 527.289375 571.996875 \nL 532.316402 571.996875 \nL 532.316402 514.190385 \nL 527.289375 514.190385 \nz\n\" style=\"fill:#76d7c4;\"/>\n   </g>\n   <g id=\"patch_50\">\n    <path clip-path=\"url(#p783d9581b4)\" d=\"M 537.343429 571.996875 \nL 542.370456 571.996875 \nL 542.370456 479.001657 \nL 537.343429 479.001657 \nz\n\" style=\"fill:#76d7c4;\"/>\n   </g>\n   <g id=\"patch_51\">\n    <path clip-path=\"url(#p783d9581b4)\" d=\"M 547.397483 571.996875 \nL 552.42451 571.996875 \nL 552.42451 535.870313 \nL 547.397483 535.870313 \nz\n\" style=\"fill:#76d7c4;\"/>\n   </g>\n   <g id=\"patch_52\">\n    <path clip-path=\"url(#p783d9581b4)\" d=\"M 557.451537 571.996875 \nL 562.478564 571.996875 \nL 562.478564 488.72919 \nL 557.451537 488.72919 \nz\n\" style=\"fill:#76d7c4;\"/>\n   </g>\n   <g id=\"patch_53\">\n    <path clip-path=\"url(#p783d9581b4)\" d=\"M 567.505591 571.996875 \nL 572.532618 571.996875 \nL 572.532618 476.128293 \nL 567.505591 476.128293 \nz\n\" style=\"fill:#76d7c4;\"/>\n   </g>\n   <g id=\"patch_54\">\n    <path clip-path=\"url(#p783d9581b4)\" d=\"M 577.559645 571.996875 \nL 582.586672 571.996875 \nL 582.586672 544.420565 \nL 577.559645 544.420565 \nz\n\" style=\"fill:#76d7c4;\"/>\n   </g>\n   <g id=\"patch_55\">\n    <path clip-path=\"url(#p783d9581b4)\" d=\"M 587.613699 571.996875 \nL 592.640726 571.996875 \nL 592.640726 507.665455 \nL 587.613699 507.665455 \nz\n\" style=\"fill:#76d7c4;\"/>\n   </g>\n   <g id=\"patch_56\">\n    <path clip-path=\"url(#p783d9581b4)\" d=\"M 597.667753 571.996875 \nL 602.69478 571.996875 \nL 602.69478 427.281111 \nL 597.667753 427.281111 \nz\n\" style=\"fill:#76d7c4;\"/>\n   </g>\n   <g id=\"patch_57\">\n    <path clip-path=\"url(#p783d9581b4)\" d=\"M 607.721807 571.996875 \nL 612.748834 571.996875 \nL 612.748834 54.282589 \nL 607.721807 54.282589 \nz\n\" style=\"fill:#76d7c4;\"/>\n   </g>\n   <g id=\"patch_58\">\n    <path clip-path=\"url(#p783d9581b4)\" d=\"M 617.775861 571.996875 \nL 622.802889 571.996875 \nL 622.802889 386.006439 \nL 617.775861 386.006439 \nz\n\" style=\"fill:#76d7c4;\"/>\n   </g>\n   <g id=\"patch_59\">\n    <path clip-path=\"url(#p783d9581b4)\" d=\"M 627.829916 571.996875 \nL 632.856943 571.996875 \nL 632.856943 499.753728 \nL 627.829916 499.753728 \nz\n\" style=\"fill:#76d7c4;\"/>\n   </g>\n   <g id=\"patch_60\">\n    <path clip-path=\"url(#p783d9581b4)\" d=\"M 637.88397 571.996875 \nL 642.910997 571.996875 \nL 642.910997 466.590322 \nL 637.88397 466.590322 \nz\n\" style=\"fill:#76d7c4;\"/>\n   </g>\n   <g id=\"patch_61\">\n    <path clip-path=\"url(#p783d9581b4)\" d=\"M 647.938024 571.996875 \nL 652.965051 571.996875 \nL 652.965051 426.762309 \nL 647.938024 426.762309 \nz\n\" style=\"fill:#76d7c4;\"/>\n   </g>\n   <g id=\"patch_62\">\n    <path clip-path=\"url(#p783d9581b4)\" d=\"M 657.992078 571.996875 \nL 663.019105 571.996875 \nL 663.019105 334.65504 \nL 657.992078 334.65504 \nz\n\" style=\"fill:#76d7c4;\"/>\n   </g>\n   <g id=\"patch_63\">\n    <path clip-path=\"url(#p783d9581b4)\" d=\"M 668.046132 571.996875 \nL 673.073159 571.996875 \nL 673.073159 465.033917 \nL 668.046132 465.033917 \nz\n\" style=\"fill:#76d7c4;\"/>\n   </g>\n   <g id=\"patch_64\">\n    <path clip-path=\"url(#p783d9581b4)\" d=\"M 678.100186 571.996875 \nL 683.127213 571.996875 \nL 683.127213 537.436695 \nL 678.100186 537.436695 \nz\n\" style=\"fill:#76d7c4;\"/>\n   </g>\n   <g id=\"patch_65\">\n    <path clip-path=\"url(#p783d9581b4)\" d=\"M 688.15424 571.996875 \nL 693.181267 571.996875 \nL 693.181267 536.728331 \nL 688.15424 536.728331 \nz\n\" style=\"fill:#76d7c4;\"/>\n   </g>\n   <g id=\"patch_66\">\n    <path clip-path=\"url(#p783d9581b4)\" d=\"M 698.208294 571.996875 \nL 703.235321 571.996875 \nL 703.235321 516.515016 \nL 698.208294 516.515016 \nz\n\" style=\"fill:#76d7c4;\"/>\n   </g>\n   <g id=\"patch_67\">\n    <path clip-path=\"url(#p783d9581b4)\" d=\"M 708.262348 571.996875 \nL 713.289375 571.996875 \nL 713.289375 496.720733 \nL 708.262348 496.720733 \nz\n\" style=\"fill:#76d7c4;\"/>\n   </g>\n   <g id=\"patch_68\">\n    <path clip-path=\"url(#p783d9581b4)\" d=\"M 718.316402 571.996875 \nL 723.343429 571.996875 \nL 723.343429 537.137387 \nL 718.316402 537.137387 \nz\n\" style=\"fill:#76d7c4;\"/>\n   </g>\n   <g id=\"patch_69\">\n    <path clip-path=\"url(#p783d9581b4)\" d=\"M 728.370456 571.996875 \nL 733.397483 571.996875 \nL 733.397483 457.920346 \nL 728.370456 457.920346 \nz\n\" style=\"fill:#76d7c4;\"/>\n   </g>\n   <g id=\"patch_70\">\n    <path clip-path=\"url(#p783d9581b4)\" d=\"M 738.42451 571.996875 \nL 743.451537 571.996875 \nL 743.451537 556.213329 \nL 738.42451 556.213329 \nz\n\" style=\"fill:#76d7c4;\"/>\n   </g>\n   <g id=\"patch_71\">\n    <path clip-path=\"url(#p783d9581b4)\" d=\"M 748.478564 571.996875 \nL 753.505591 571.996875 \nL 753.505591 506.647805 \nL 748.478564 506.647805 \nz\n\" style=\"fill:#76d7c4;\"/>\n   </g>\n   <g id=\"patch_72\">\n    <path clip-path=\"url(#p783d9581b4)\" d=\"M 758.532618 571.996875 \nL 763.559645 571.996875 \nL 763.559645 547.55333 \nL 758.532618 547.55333 \nz\n\" style=\"fill:#76d7c4;\"/>\n   </g>\n   <g id=\"patch_73\">\n    <path clip-path=\"url(#p783d9581b4)\" d=\"M 768.586672 571.996875 \nL 773.613699 571.996875 \nL 773.613699 483.630965 \nL 768.586672 483.630965 \nz\n\" style=\"fill:#76d7c4;\"/>\n   </g>\n   <g id=\"patch_74\">\n    <path clip-path=\"url(#p783d9581b4)\" d=\"M 778.640726 571.996875 \nL 783.667753 571.996875 \nL 783.667753 554.527223 \nL 778.640726 554.527223 \nz\n\" style=\"fill:#76d7c4;\"/>\n   </g>\n   <g id=\"patch_75\">\n    <path clip-path=\"url(#p783d9581b4)\" d=\"M 788.69478 571.996875 \nL 793.721807 571.996875 \nL 793.721807 462.409977 \nL 788.69478 462.409977 \nz\n\" style=\"fill:#76d7c4;\"/>\n   </g>\n   <g id=\"patch_76\">\n    <path clip-path=\"url(#p783d9581b4)\" d=\"M 798.748834 571.996875 \nL 803.775861 571.996875 \nL 803.775861 516.046099 \nL 798.748834 516.046099 \nz\n\" style=\"fill:#76d7c4;\"/>\n   </g>\n   <g id=\"patch_77\">\n    <path clip-path=\"url(#p783d9581b4)\" d=\"M 808.802889 571.996875 \nL 813.829916 571.996875 \nL 813.829916 516.455154 \nL 808.802889 516.455154 \nz\n\" style=\"fill:#76d7c4;\"/>\n   </g>\n   <g id=\"patch_78\">\n    <path clip-path=\"url(#p783d9581b4)\" d=\"M 818.856943 571.996875 \nL 823.88397 571.996875 \nL 823.88397 550.017638 \nL 818.856943 550.017638 \nz\n\" style=\"fill:#76d7c4;\"/>\n   </g>\n   <g id=\"patch_79\">\n    <path clip-path=\"url(#p783d9581b4)\" d=\"M 828.910997 571.996875 \nL 833.938024 571.996875 \nL 833.938024 388.191393 \nL 828.910997 388.191393 \nz\n\" style=\"fill:#76d7c4;\"/>\n   </g>\n   <g id=\"patch_80\">\n    <path clip-path=\"url(#p783d9581b4)\" d=\"M 838.965051 571.996875 \nL 843.992078 571.996875 \nL 843.992078 507.426008 \nL 838.965051 507.426008 \nz\n\" style=\"fill:#76d7c4;\"/>\n   </g>\n   <g id=\"patch_81\">\n    <path clip-path=\"url(#p783d9581b4)\" d=\"M 849.019105 571.996875 \nL 854.046132 571.996875 \nL 854.046132 425.864383 \nL 849.019105 425.864383 \nz\n\" style=\"fill:#76d7c4;\"/>\n   </g>\n   <g id=\"patch_82\">\n    <path clip-path=\"url(#p783d9581b4)\" d=\"M 859.073159 571.996875 \nL 864.100186 571.996875 \nL 864.100186 520.316237 \nL 859.073159 520.316237 \nz\n\" style=\"fill:#76d7c4;\"/>\n   </g>\n   <g id=\"patch_83\">\n    <path clip-path=\"url(#p783d9581b4)\" d=\"M 869.127213 571.996875 \nL 874.15424 571.996875 \nL 874.15424 547.593238 \nL 869.127213 547.593238 \nz\n\" style=\"fill:#76d7c4;\"/>\n   </g>\n   <g id=\"patch_84\">\n    <path clip-path=\"url(#p783d9581b4)\" d=\"M 879.181267 571.996875 \nL 884.208294 571.996875 \nL 884.208294 534.244069 \nL 879.181267 534.244069 \nz\n\" style=\"fill:#76d7c4;\"/>\n   </g>\n   <g id=\"patch_85\">\n    <path clip-path=\"url(#p783d9581b4)\" d=\"M 889.235321 571.996875 \nL 894.262348 571.996875 \nL 894.262348 526.990821 \nL 889.235321 526.990821 \nz\n\" style=\"fill:#76d7c4;\"/>\n   </g>\n   <g id=\"patch_86\">\n    <path clip-path=\"url(#p783d9581b4)\" d=\"M 899.289375 571.996875 \nL 904.316402 571.996875 \nL 904.316402 547.862616 \nL 899.289375 547.862616 \nz\n\" style=\"fill:#76d7c4;\"/>\n   </g>\n   <g id=\"patch_87\">\n    <path clip-path=\"url(#p783d9581b4)\" d=\"M 909.343429 571.996875 \nL 914.370456 571.996875 \nL 914.370456 199.606948 \nL 909.343429 199.606948 \nz\n\" style=\"fill:#76d7c4;\"/>\n   </g>\n   <g id=\"patch_88\">\n    <path clip-path=\"url(#p783d9581b4)\" d=\"M 919.397483 571.996875 \nL 924.42451 571.996875 \nL 924.42451 544.919413 \nL 919.397483 544.919413 \nz\n\" style=\"fill:#76d7c4;\"/>\n   </g>\n   <g id=\"patch_89\">\n    <path clip-path=\"url(#p783d9581b4)\" d=\"M 929.451537 571.996875 \nL 934.478564 571.996875 \nL 934.478564 554.247868 \nL 929.451537 554.247868 \nz\n\" style=\"fill:#76d7c4;\"/>\n   </g>\n   <g id=\"patch_90\">\n    <path clip-path=\"url(#p783d9581b4)\" d=\"M 939.505591 571.996875 \nL 944.532618 571.996875 \nL 944.532618 551.045265 \nL 939.505591 551.045265 \nz\n\" style=\"fill:#76d7c4;\"/>\n   </g>\n   <g id=\"patch_91\">\n    <path clip-path=\"url(#p783d9581b4)\" d=\"M 949.559645 571.996875 \nL 954.586672 571.996875 \nL 954.586672 539.342294 \nL 949.559645 539.342294 \nz\n\" style=\"fill:#76d7c4;\"/>\n   </g>\n   <g id=\"patch_92\">\n    <path clip-path=\"url(#p783d9581b4)\" d=\"M 959.613699 571.996875 \nL 964.640726 571.996875 \nL 964.640726 552.232523 \nL 959.613699 552.232523 \nz\n\" style=\"fill:#76d7c4;\"/>\n   </g>\n   <g id=\"patch_93\">\n    <path clip-path=\"url(#p783d9581b4)\" d=\"M 969.667753 571.996875 \nL 974.69478 571.996875 \nL 974.69478 547.573284 \nL 969.667753 547.573284 \nz\n\" style=\"fill:#76d7c4;\"/>\n   </g>\n   <g id=\"patch_94\">\n    <path clip-path=\"url(#p783d9581b4)\" d=\"M 979.721807 571.996875 \nL 984.748834 571.996875 \nL 984.748834 504.692322 \nL 979.721807 504.692322 \nz\n\" style=\"fill:#76d7c4;\"/>\n   </g>\n   <g id=\"patch_95\">\n    <path clip-path=\"url(#p783d9581b4)\" d=\"M 989.775861 571.996875 \nL 994.802889 571.996875 \nL 994.802889 462.838986 \nL 989.775861 462.838986 \nz\n\" style=\"fill:#76d7c4;\"/>\n   </g>\n   <g id=\"patch_96\">\n    <path clip-path=\"url(#p783d9581b4)\" d=\"M 999.829916 571.996875 \nL 1004.856943 571.996875 \nL 1004.856943 568.494963 \nL 999.829916 568.494963 \nz\n\" style=\"fill:#76d7c4;\"/>\n   </g>\n   <g id=\"patch_97\">\n    <path clip-path=\"url(#p783d9581b4)\" d=\"M 1009.88397 571.996875 \nL 1014.910997 571.996875 \nL 1014.910997 568.37524 \nL 1009.88397 568.37524 \nz\n\" style=\"fill:#76d7c4;\"/>\n   </g>\n   <g id=\"patch_98\">\n    <path clip-path=\"url(#p783d9581b4)\" d=\"M 1019.938024 571.996875 \nL 1024.965051 571.996875 \nL 1024.965051 532.657733 \nL 1019.938024 532.657733 \nz\n\" style=\"fill:#76d7c4;\"/>\n   </g>\n   <g id=\"patch_99\">\n    <path clip-path=\"url(#p783d9581b4)\" d=\"M 1029.992078 571.996875 \nL 1035.019105 571.996875 \nL 1035.019105 533.835014 \nL 1029.992078 533.835014 \nz\n\" style=\"fill:#76d7c4;\"/>\n   </g>\n   <g id=\"patch_100\">\n    <path clip-path=\"url(#p783d9581b4)\" d=\"M 1040.046132 571.996875 \nL 1045.073159 571.996875 \nL 1045.073159 549.798145 \nL 1040.046132 549.798145 \nz\n\" style=\"fill:#76d7c4;\"/>\n   </g>\n   <g id=\"patch_101\">\n    <path clip-path=\"url(#p783d9581b4)\" d=\"M 1050.100186 571.996875 \nL 1055.127213 571.996875 \nL 1055.127213 516.784394 \nL 1050.100186 516.784394 \nz\n\" style=\"fill:#76d7c4;\"/>\n   </g>\n   <g id=\"patch_102\">\n    <path clip-path=\"url(#p783d9581b4)\" d=\"M 1060.15424 571.996875 \nL 1065.181267 571.996875 \nL 1065.181267 508.014649 \nL 1060.15424 508.014649 \nz\n\" style=\"fill:#76d7c4;\"/>\n   </g>\n   <g id=\"patch_103\">\n    <path clip-path=\"url(#p783d9581b4)\" d=\"M 1070.208294 571.996875 \nL 1075.235321 571.996875 \nL 1075.235321 553.659228 \nL 1070.208294 553.659228 \nz\n\" style=\"fill:#76d7c4;\"/>\n   </g>\n   <g id=\"patch_104\">\n    <path clip-path=\"url(#p783d9581b4)\" d=\"M 1080.262348 571.996875 \nL 1085.289375 571.996875 \nL 1085.289375 469.603363 \nL 1080.262348 469.603363 \nz\n\" style=\"fill:#76d7c4;\"/>\n   </g>\n   <g id=\"patch_105\">\n    <path clip-path=\"url(#p783d9581b4)\" d=\"M 1090.316402 571.996875 \nL 1095.343429 571.996875 \nL 1095.343429 547.832685 \nL 1090.316402 547.832685 \nz\n\" style=\"fill:#76d7c4;\"/>\n   </g>\n   <g id=\"patch_106\">\n    <path clip-path=\"url(#p783d9581b4)\" d=\"M 1100.370456 571.996875 \nL 1105.397483 571.996875 \nL 1105.397483 352.463909 \nL 1100.370456 352.463909 \nz\n\" style=\"fill:#76d7c4;\"/>\n   </g>\n   <g id=\"patch_107\">\n    <path clip-path=\"url(#p783d9581b4)\" d=\"M 1110.42451 571.996875 \nL 1115.451537 571.996875 \nL 1115.451537 547.932454 \nL 1110.42451 547.932454 \nz\n\" style=\"fill:#76d7c4;\"/>\n   </g>\n   <g id=\"patch_108\">\n    <path clip-path=\"url(#p783d9581b4)\" d=\"M 1120.478564 571.996875 \nL 1125.505591 571.996875 \nL 1125.505591 551.015334 \nL 1120.478564 551.015334 \nz\n\" style=\"fill:#76d7c4;\"/>\n   </g>\n   <g id=\"patch_109\">\n    <path clip-path=\"url(#p783d9581b4)\" d=\"M 1130.532618 571.996875 \nL 1135.559645 571.996875 \nL 1135.559645 536.029944 \nL 1130.532618 536.029944 \nz\n\" style=\"fill:#76d7c4;\"/>\n   </g>\n   <g id=\"patch_110\">\n    <path clip-path=\"url(#p783d9581b4)\" d=\"M 64.802889 571.996875 \nL 69.829916 571.996875 \nL 69.829916 485.576472 \nL 64.802889 485.576472 \nz\n\" style=\"fill:#f8c471;\"/>\n   </g>\n   <g id=\"patch_111\">\n    <path clip-path=\"url(#p783d9581b4)\" d=\"M 74.856943 571.996875 \nL 79.88397 571.996875 \nL 79.88397 532.89718 \nL 74.856943 532.89718 \nz\n\" style=\"fill:#f8c471;\"/>\n   </g>\n   <g id=\"patch_112\">\n    <path clip-path=\"url(#p783d9581b4)\" d=\"M 84.910997 571.996875 \nL 89.938024 571.996875 \nL 89.938024 503.375363 \nL 84.910997 503.375363 \nz\n\" style=\"fill:#f8c471;\"/>\n   </g>\n   <g id=\"patch_113\">\n    <path clip-path=\"url(#p783d9581b4)\" d=\"M 94.965051 571.996875 \nL 99.992078 571.996875 \nL 99.992078 524.975476 \nL 94.965051 524.975476 \nz\n\" style=\"fill:#f8c471;\"/>\n   </g>\n   <g id=\"patch_114\">\n    <path clip-path=\"url(#p783d9581b4)\" d=\"M 105.019105 571.996875 \nL 110.046132 571.996875 \nL 110.046132 419.050121 \nL 105.019105 419.050121 \nz\n\" style=\"fill:#f8c471;\"/>\n   </g>\n   <g id=\"patch_115\">\n    <path clip-path=\"url(#p783d9581b4)\" d=\"M 115.073159 571.996875 \nL 120.100186 571.996875 \nL 120.100186 450.796799 \nL 115.073159 450.796799 \nz\n\" style=\"fill:#f8c471;\"/>\n   </g>\n   <g id=\"patch_116\">\n    <path clip-path=\"url(#p783d9581b4)\" d=\"M 125.127213 571.996875 \nL 130.15424 571.996875 \nL 130.15424 525.264808 \nL 125.127213 525.264808 \nz\n\" style=\"fill:#f8c471;\"/>\n   </g>\n   <g id=\"patch_117\">\n    <path clip-path=\"url(#p783d9581b4)\" d=\"M 135.181267 571.996875 \nL 140.208294 571.996875 \nL 140.208294 555.065979 \nL 135.181267 555.065979 \nz\n\" style=\"fill:#f8c471;\"/>\n   </g>\n   <g id=\"patch_118\">\n    <path clip-path=\"url(#p783d9581b4)\" d=\"M 145.235321 571.996875 \nL 150.262348 571.996875 \nL 150.262348 374.113906 \nL 145.235321 374.113906 \nz\n\" style=\"fill:#f8c471;\"/>\n   </g>\n   <g id=\"patch_119\">\n    <path clip-path=\"url(#p783d9581b4)\" d=\"M 155.289375 571.996875 \nL 160.316402 571.996875 \nL 160.316402 393.050171 \nL 155.289375 393.050171 \nz\n\" style=\"fill:#f8c471;\"/>\n   </g>\n   <g id=\"patch_120\">\n    <path clip-path=\"url(#p783d9581b4)\" d=\"M 165.343429 571.996875 \nL 170.370456 571.996875 \nL 170.370456 269.305971 \nL 165.343429 269.305971 \nz\n\" style=\"fill:#f8c471;\"/>\n   </g>\n   <g id=\"patch_121\">\n    <path clip-path=\"url(#p783d9581b4)\" d=\"M 175.397483 571.996875 \nL 180.42451 571.996875 \nL 180.42451 541.377593 \nL 175.397483 541.377593 \nz\n\" style=\"fill:#f8c471;\"/>\n   </g>\n   <g id=\"patch_122\">\n    <path clip-path=\"url(#p783d9581b4)\" d=\"M 185.451537 571.996875 \nL 190.478564 571.996875 \nL 190.478564 542.095934 \nL 185.451537 542.095934 \nz\n\" style=\"fill:#f8c471;\"/>\n   </g>\n   <g id=\"patch_123\">\n    <path clip-path=\"url(#p783d9581b4)\" d=\"M 195.505591 571.996875 \nL 200.532618 571.996875 \nL 200.532618 529.066028 \nL 195.505591 529.066028 \nz\n\" style=\"fill:#f8c471;\"/>\n   </g>\n   <g id=\"patch_124\">\n    <path clip-path=\"url(#p783d9581b4)\" d=\"M 205.559645 571.996875 \nL 210.586672 571.996875 \nL 210.586672 542.325404 \nL 205.559645 542.325404 \nz\n\" style=\"fill:#f8c471;\"/>\n   </g>\n   <g id=\"patch_125\">\n    <path clip-path=\"url(#p783d9581b4)\" d=\"M 215.613699 571.996875 \nL 220.640726 571.996875 \nL 220.640726 542.884114 \nL 215.613699 542.884114 \nz\n\" style=\"fill:#f8c471;\"/>\n   </g>\n   <g id=\"patch_126\">\n    <path clip-path=\"url(#p783d9581b4)\" d=\"M 225.667753 571.996875 \nL 230.69478 571.996875 \nL 230.69478 534.583286 \nL 225.667753 534.583286 \nz\n\" style=\"fill:#f8c471;\"/>\n   </g>\n   <g id=\"patch_127\">\n    <path clip-path=\"url(#p783d9581b4)\" d=\"M 235.721807 571.996875 \nL 240.748834 571.996875 \nL 240.748834 382.853721 \nL 235.721807 382.853721 \nz\n\" style=\"fill:#f8c471;\"/>\n   </g>\n   <g id=\"patch_128\">\n    <path clip-path=\"url(#p783d9581b4)\" d=\"M 245.775861 571.996875 \nL 250.802889 571.996875 \nL 250.802889 382.853721 \nL 245.775861 382.853721 \nz\n\" style=\"fill:#f8c471;\"/>\n   </g>\n   <g id=\"patch_129\">\n    <path clip-path=\"url(#p783d9581b4)\" d=\"M 255.829916 571.996875 \nL 260.856943 571.996875 \nL 260.856943 422.252724 \nL 255.829916 422.252724 \nz\n\" style=\"fill:#f8c471;\"/>\n   </g>\n   <g id=\"patch_130\">\n    <path clip-path=\"url(#p783d9581b4)\" d=\"M 265.88397 571.996875 \nL 270.910997 571.996875 \nL 270.910997 506.418335 \nL 265.88397 506.418335 \nz\n\" style=\"fill:#f8c471;\"/>\n   </g>\n   <g id=\"patch_131\">\n    <path clip-path=\"url(#p783d9581b4)\" d=\"M 275.938024 571.996875 \nL 280.965051 571.996875 \nL 280.965051 534.832709 \nL 275.938024 534.832709 \nz\n\" style=\"fill:#f8c471;\"/>\n   </g>\n   <g id=\"patch_132\">\n    <path clip-path=\"url(#p783d9581b4)\" d=\"M 285.992078 571.996875 \nL 291.019105 571.996875 \nL 291.019105 225.467221 \nL 285.992078 225.467221 \nz\n\" style=\"fill:#f8c471;\"/>\n   </g>\n   <g id=\"patch_133\">\n    <path clip-path=\"url(#p783d9581b4)\" d=\"M 296.046132 571.996875 \nL 301.073159 571.996875 \nL 301.073159 481.51585 \nL 296.046132 481.51585 \nz\n\" style=\"fill:#f8c471;\"/>\n   </g>\n   <g id=\"patch_134\">\n    <path clip-path=\"url(#p783d9581b4)\" d=\"M 306.100186 571.996875 \nL 311.127213 571.996875 \nL 311.127213 488.659352 \nL 306.100186 488.659352 \nz\n\" style=\"fill:#f8c471;\"/>\n   </g>\n   <g id=\"patch_135\">\n    <path clip-path=\"url(#p783d9581b4)\" d=\"M 316.15424 571.996875 \nL 321.181267 571.996875 \nL 321.181267 565.332268 \nL 316.15424 565.332268 \nz\n\" style=\"fill:#f8c471;\"/>\n   </g>\n   <g id=\"patch_136\">\n    <path clip-path=\"url(#p783d9581b4)\" d=\"M 326.208294 571.996875 \nL 331.235321 571.996875 \nL 331.235321 527.689208 \nL 326.208294 527.689208 \nz\n\" style=\"fill:#f8c471;\"/>\n   </g>\n   <g id=\"patch_137\">\n    <path clip-path=\"url(#p783d9581b4)\" d=\"M 336.262348 571.996875 \nL 341.289375 571.996875 \nL 341.289375 325.595963 \nL 336.262348 325.595963 \nz\n\" style=\"fill:#f8c471;\"/>\n   </g>\n   <g id=\"patch_138\">\n    <path clip-path=\"url(#p783d9581b4)\" d=\"M 346.316402 571.996875 \nL 351.343429 571.996875 \nL 351.343429 507.326238 \nL 346.316402 507.326238 \nz\n\" style=\"fill:#f8c471;\"/>\n   </g>\n   <g id=\"patch_139\">\n    <path clip-path=\"url(#p783d9581b4)\" d=\"M 356.370456 571.996875 \nL 361.397483 571.996875 \nL 361.397483 437.627216 \nL 356.370456 437.627216 \nz\n\" style=\"fill:#f8c471;\"/>\n   </g>\n   <g id=\"patch_140\">\n    <path clip-path=\"url(#p783d9581b4)\" d=\"M 366.42451 571.996875 \nL 371.451537 571.996875 \nL 371.451537 461.342443 \nL 366.42451 461.342443 \nz\n\" style=\"fill:#f8c471;\"/>\n   </g>\n   <g id=\"patch_141\">\n    <path clip-path=\"url(#p783d9581b4)\" d=\"M 376.478564 571.996875 \nL 381.505591 571.996875 \nL 381.505591 446.257283 \nL 376.478564 446.257283 \nz\n\" style=\"fill:#f8c471;\"/>\n   </g>\n   <g id=\"patch_142\">\n    <path clip-path=\"url(#p783d9581b4)\" d=\"M 386.532618 571.996875 \nL 391.559645 571.996875 \nL 391.559645 556.14349 \nL 386.532618 556.14349 \nz\n\" style=\"fill:#f8c471;\"/>\n   </g>\n   <g id=\"patch_143\">\n    <path clip-path=\"url(#p783d9581b4)\" d=\"M 396.586672 571.996875 \nL 401.613699 571.996875 \nL 401.613699 518.640108 \nL 396.586672 518.640108 \nz\n\" style=\"fill:#f8c471;\"/>\n   </g>\n   <g id=\"patch_144\">\n    <path clip-path=\"url(#p783d9581b4)\" d=\"M 406.640726 571.996875 \nL 411.667753 571.996875 \nL 411.667753 443.413851 \nL 406.640726 443.413851 \nz\n\" style=\"fill:#f8c471;\"/>\n   </g>\n   <g id=\"patch_145\">\n    <path clip-path=\"url(#p783d9581b4)\" d=\"M 416.69478 571.996875 \nL 421.721807 571.996875 \nL 421.721807 434.733898 \nL 416.69478 434.733898 \nz\n\" style=\"fill:#f8c471;\"/>\n   </g>\n   <g id=\"patch_146\">\n    <path clip-path=\"url(#p783d9581b4)\" d=\"M 426.748834 571.996875 \nL 431.775861 571.996875 \nL 431.775861 307.767141 \nL 426.748834 307.767141 \nz\n\" style=\"fill:#f8c471;\"/>\n   </g>\n   <g id=\"patch_147\">\n    <path clip-path=\"url(#p783d9581b4)\" d=\"M 436.802889 571.996875 \nL 441.829916 571.996875 \nL 441.829916 79.13519 \nL 436.802889 79.13519 \nz\n\" style=\"fill:#f8c471;\"/>\n   </g>\n   <g id=\"patch_148\">\n    <path clip-path=\"url(#p783d9581b4)\" d=\"M 446.856943 571.996875 \nL 451.88397 571.996875 \nL 451.88397 499.095249 \nL 446.856943 499.095249 \nz\n\" style=\"fill:#f8c471;\"/>\n   </g>\n   <g id=\"patch_149\">\n    <path clip-path=\"url(#p783d9581b4)\" d=\"M 456.910997 571.996875 \nL 461.938024 571.996875 \nL 461.938024 516.784394 \nL 456.910997 516.784394 \nz\n\" style=\"fill:#f8c471;\"/>\n   </g>\n   <g id=\"patch_150\">\n    <path clip-path=\"url(#p783d9581b4)\" d=\"M 466.965051 571.996875 \nL 471.992078 571.996875 \nL 471.992078 524.017688 \nL 466.965051 524.017688 \nz\n\" style=\"fill:#f8c471;\"/>\n   </g>\n   <g id=\"patch_151\">\n    <path clip-path=\"url(#p783d9581b4)\" d=\"M 477.019105 571.996875 \nL 482.046132 571.996875 \nL 482.046132 514.230293 \nL 477.019105 514.230293 \nz\n\" style=\"fill:#f8c471;\"/>\n   </g>\n   <g id=\"patch_152\">\n    <path clip-path=\"url(#p783d9581b4)\" d=\"M 487.073159 571.996875 \nL 492.100186 571.996875 \nL 492.100186 523.109785 \nL 487.073159 523.109785 \nz\n\" style=\"fill:#f8c471;\"/>\n   </g>\n   <g id=\"patch_153\">\n    <path clip-path=\"url(#p783d9581b4)\" d=\"M 497.127213 571.996875 \nL 502.15424 571.996875 \nL 502.15424 545.667685 \nL 497.127213 545.667685 \nz\n\" style=\"fill:#f8c471;\"/>\n   </g>\n   <g id=\"patch_154\">\n    <path clip-path=\"url(#p783d9581b4)\" d=\"M 507.181267 571.996875 \nL 512.208294 571.996875 \nL 512.208294 553.838813 \nL 507.181267 553.838813 \nz\n\" style=\"fill:#f8c471;\"/>\n   </g>\n   <g id=\"patch_155\">\n    <path clip-path=\"url(#p783d9581b4)\" d=\"M 517.235321 571.996875 \nL 522.262348 571.996875 \nL 522.262348 416.505997 \nL 517.235321 416.505997 \nz\n\" style=\"fill:#f8c471;\"/>\n   </g>\n   <g id=\"patch_156\">\n    <path clip-path=\"url(#p783d9581b4)\" d=\"M 527.289375 571.996875 \nL 532.316402 571.996875 \nL 532.316402 543.22333 \nL 527.289375 543.22333 \nz\n\" style=\"fill:#f8c471;\"/>\n   </g>\n   <g id=\"patch_157\">\n    <path clip-path=\"url(#p783d9581b4)\" d=\"M 537.343429 571.996875 \nL 542.370456 571.996875 \nL 542.370456 469.862764 \nL 537.343429 469.862764 \nz\n\" style=\"fill:#f8c471;\"/>\n   </g>\n   <g id=\"patch_158\">\n    <path clip-path=\"url(#p783d9581b4)\" d=\"M 547.397483 571.996875 \nL 552.42451 571.996875 \nL 552.42451 349.480799 \nL 547.397483 349.480799 \nz\n\" style=\"fill:#f8c471;\"/>\n   </g>\n   <g id=\"patch_159\">\n    <path clip-path=\"url(#p783d9581b4)\" d=\"M 557.451537 571.996875 \nL 562.478564 571.996875 \nL 562.478564 516.056076 \nL 557.451537 516.056076 \nz\n\" style=\"fill:#f8c471;\"/>\n   </g>\n   <g id=\"patch_160\">\n    <path clip-path=\"url(#p783d9581b4)\" d=\"M 567.505591 571.996875 \nL 572.532618 571.996875 \nL 572.532618 489.05843 \nL 567.505591 489.05843 \nz\n\" style=\"fill:#f8c471;\"/>\n   </g>\n   <g id=\"patch_161\">\n    <path clip-path=\"url(#p783d9581b4)\" d=\"M 577.559645 571.996875 \nL 582.586672 571.996875 \nL 582.586672 534.473539 \nL 577.559645 534.473539 \nz\n\" style=\"fill:#f8c471;\"/>\n   </g>\n   <g id=\"patch_162\">\n    <path clip-path=\"url(#p783d9581b4)\" d=\"M 587.613699 571.996875 \nL 592.640726 571.996875 \nL 592.640726 480.807486 \nL 587.613699 480.807486 \nz\n\" style=\"fill:#f8c471;\"/>\n   </g>\n   <g id=\"patch_163\">\n    <path clip-path=\"url(#p783d9581b4)\" d=\"M 597.667753 571.996875 \nL 602.69478 571.996875 \nL 602.69478 455.266476 \nL 597.667753 455.266476 \nz\n\" style=\"fill:#f8c471;\"/>\n   </g>\n   <g id=\"patch_164\">\n    <path clip-path=\"url(#p783d9581b4)\" d=\"M 607.721807 571.996875 \nL 612.748834 571.996875 \nL 612.748834 546.376049 \nL 607.721807 546.376049 \nz\n\" style=\"fill:#f8c471;\"/>\n   </g>\n   <g id=\"patch_165\">\n    <path clip-path=\"url(#p783d9581b4)\" d=\"M 617.775861 571.996875 \nL 622.802889 571.996875 \nL 622.802889 463.886567 \nL 617.775861 463.886567 \nz\n\" style=\"fill:#f8c471;\"/>\n   </g>\n   <g id=\"patch_166\">\n    <path clip-path=\"url(#p783d9581b4)\" d=\"M 627.829916 571.996875 \nL 632.856943 571.996875 \nL 632.856943 514.449786 \nL 627.829916 514.449786 \nz\n\" style=\"fill:#f8c471;\"/>\n   </g>\n   <g id=\"patch_167\">\n    <path clip-path=\"url(#p783d9581b4)\" d=\"M 637.88397 571.996875 \nL 642.910997 571.996875 \nL 642.910997 435.821386 \nL 637.88397 435.821386 \nz\n\" style=\"fill:#f8c471;\"/>\n   </g>\n   <g id=\"patch_168\">\n    <path clip-path=\"url(#p783d9581b4)\" d=\"M 647.938024 571.996875 \nL 652.965051 571.996875 \nL 652.965051 275.312099 \nL 647.938024 275.312099 \nz\n\" style=\"fill:#f8c471;\"/>\n   </g>\n   <g id=\"patch_169\">\n    <path clip-path=\"url(#p783d9581b4)\" d=\"M 657.992078 571.996875 \nL 663.019105 571.996875 \nL 663.019105 80.941019 \nL 657.992078 80.941019 \nz\n\" style=\"fill:#f8c471;\"/>\n   </g>\n   <g id=\"patch_170\">\n    <path clip-path=\"url(#p783d9581b4)\" d=\"M 668.046132 571.996875 \nL 673.073159 571.996875 \nL 673.073159 406.129962 \nL 668.046132 406.129962 \nz\n\" style=\"fill:#f8c471;\"/>\n   </g>\n   <g id=\"patch_171\">\n    <path clip-path=\"url(#p783d9581b4)\" d=\"M 678.100186 571.996875 \nL 683.127213 571.996875 \nL 683.127213 496.96018 \nL 678.100186 496.96018 \nz\n\" style=\"fill:#f8c471;\"/>\n   </g>\n   <g id=\"patch_172\">\n    <path clip-path=\"url(#p783d9581b4)\" d=\"M 688.15424 571.996875 \nL 693.181267 571.996875 \nL 693.181267 456.56348 \nL 688.15424 456.56348 \nz\n\" style=\"fill:#f8c471;\"/>\n   </g>\n   <g id=\"patch_173\">\n    <path clip-path=\"url(#p783d9581b4)\" d=\"M 698.208294 571.996875 \nL 703.235321 571.996875 \nL 703.235321 395.145332 \nL 698.208294 395.145332 \nz\n\" style=\"fill:#f8c471;\"/>\n   </g>\n   <g id=\"patch_174\">\n    <path clip-path=\"url(#p783d9581b4)\" d=\"M 708.262348 571.996875 \nL 713.289375 571.996875 \nL 713.289375 326.703405 \nL 708.262348 326.703405 \nz\n\" style=\"fill:#f8c471;\"/>\n   </g>\n   <g id=\"patch_175\">\n    <path clip-path=\"url(#p783d9581b4)\" d=\"M 718.316402 571.996875 \nL 723.343429 571.996875 \nL 723.343429 441.747699 \nL 718.316402 441.747699 \nz\n\" style=\"fill:#f8c471;\"/>\n   </g>\n   <g id=\"patch_176\">\n    <path clip-path=\"url(#p783d9581b4)\" d=\"M 728.370456 571.996875 \nL 733.397483 571.996875 \nL 733.397483 530.033793 \nL 728.370456 530.033793 \nz\n\" style=\"fill:#f8c471;\"/>\n   </g>\n   <g id=\"patch_177\">\n    <path clip-path=\"url(#p783d9581b4)\" d=\"M 738.42451 571.996875 \nL 743.451537 571.996875 \nL 743.451537 534.144299 \nL 738.42451 534.144299 \nz\n\" style=\"fill:#f8c471;\"/>\n   </g>\n   <g id=\"patch_178\">\n    <path clip-path=\"url(#p783d9581b4)\" d=\"M 748.478564 571.996875 \nL 753.505591 571.996875 \nL 753.505591 512.963219 \nL 748.478564 512.963219 \nz\n\" style=\"fill:#f8c471;\"/>\n   </g>\n   <g id=\"patch_179\">\n    <path clip-path=\"url(#p783d9581b4)\" d=\"M 758.532618 571.996875 \nL 763.559645 571.996875 \nL 763.559645 490.704628 \nL 758.532618 490.704628 \nz\n\" style=\"fill:#f8c471;\"/>\n   </g>\n   <g id=\"patch_180\">\n    <path clip-path=\"url(#p783d9581b4)\" d=\"M 768.586672 571.996875 \nL 773.613699 571.996875 \nL 773.613699 533.12665 \nL 768.586672 533.12665 \nz\n\" style=\"fill:#f8c471;\"/>\n   </g>\n   <g id=\"patch_181\">\n    <path clip-path=\"url(#p783d9581b4)\" d=\"M 778.640726 571.996875 \nL 783.667753 571.996875 \nL 783.667753 456.194333 \nL 778.640726 456.194333 \nz\n\" style=\"fill:#f8c471;\"/>\n   </g>\n   <g id=\"patch_182\">\n    <path clip-path=\"url(#p783d9581b4)\" d=\"M 788.69478 571.996875 \nL 793.721807 571.996875 \nL 793.721807 554.926301 \nL 788.69478 554.926301 \nz\n\" style=\"fill:#f8c471;\"/>\n   </g>\n   <g id=\"patch_183\">\n    <path clip-path=\"url(#p783d9581b4)\" d=\"M 798.748834 571.996875 \nL 803.775861 571.996875 \nL 803.775861 519.897205 \nL 798.748834 519.897205 \nz\n\" style=\"fill:#f8c471;\"/>\n   </g>\n   <g id=\"patch_184\">\n    <path clip-path=\"url(#p783d9581b4)\" d=\"M 808.802889 571.996875 \nL 813.829916 571.996875 \nL 813.829916 555.674573 \nL 808.802889 555.674573 \nz\n\" style=\"fill:#f8c471;\"/>\n   </g>\n   <g id=\"patch_185\">\n    <path clip-path=\"url(#p783d9581b4)\" d=\"M 818.856943 571.996875 \nL 823.88397 571.996875 \nL 823.88397 492.061494 \nL 818.856943 492.061494 \nz\n\" style=\"fill:#f8c471;\"/>\n   </g>\n   <g id=\"patch_186\">\n    <path clip-path=\"url(#p783d9581b4)\" d=\"M 828.910997 571.996875 \nL 833.938024 571.996875 \nL 833.938024 548.900219 \nL 828.910997 548.900219 \nz\n\" style=\"fill:#f8c471;\"/>\n   </g>\n   <g id=\"patch_187\">\n    <path clip-path=\"url(#p783d9581b4)\" d=\"M 838.965051 571.996875 \nL 843.992078 571.996875 \nL 843.992078 493.867323 \nL 838.965051 493.867323 \nz\n\" style=\"fill:#f8c471;\"/>\n   </g>\n   <g id=\"patch_188\">\n    <path clip-path=\"url(#p783d9581b4)\" d=\"M 849.019105 571.996875 \nL 854.046132 571.996875 \nL 854.046132 511.436745 \nL 849.019105 511.436745 \nz\n\" style=\"fill:#f8c471;\"/>\n   </g>\n   <g id=\"patch_189\">\n    <path clip-path=\"url(#p783d9581b4)\" d=\"M 859.073159 571.996875 \nL 864.100186 571.996875 \nL 864.100186 514.399901 \nL 859.073159 514.399901 \nz\n\" style=\"fill:#f8c471;\"/>\n   </g>\n   <g id=\"patch_190\">\n    <path clip-path=\"url(#p783d9581b4)\" d=\"M 869.127213 571.996875 \nL 874.15424 571.996875 \nL 874.15424 550.287016 \nL 869.127213 550.287016 \nz\n\" style=\"fill:#f8c471;\"/>\n   </g>\n   <g id=\"patch_191\">\n    <path clip-path=\"url(#p783d9581b4)\" d=\"M 879.181267 571.996875 \nL 884.208294 571.996875 \nL 884.208294 388.959618 \nL 879.181267 388.959618 \nz\n\" style=\"fill:#f8c471;\"/>\n   </g>\n   <g id=\"patch_192\">\n    <path clip-path=\"url(#p783d9581b4)\" d=\"M 889.235321 571.996875 \nL 894.262348 571.996875 \nL 894.262348 419.848278 \nL 889.235321 419.848278 \nz\n\" style=\"fill:#f8c471;\"/>\n   </g>\n   <g id=\"patch_193\">\n    <path clip-path=\"url(#p783d9581b4)\" d=\"M 899.289375 571.996875 \nL 904.316402 571.996875 \nL 904.316402 493.807461 \nL 899.289375 493.807461 \nz\n\" style=\"fill:#f8c471;\"/>\n   </g>\n   <g id=\"patch_194\">\n    <path clip-path=\"url(#p783d9581b4)\" d=\"M 909.343429 571.996875 \nL 914.370456 571.996875 \nL 914.370456 437.926524 \nL 909.343429 437.926524 \nz\n\" style=\"fill:#f8c471;\"/>\n   </g>\n   <g id=\"patch_195\">\n    <path clip-path=\"url(#p783d9581b4)\" d=\"M 919.397483 571.996875 \nL 924.42451 571.996875 \nL 924.42451 520.106721 \nL 919.397483 520.106721 \nz\n\" style=\"fill:#f8c471;\"/>\n   </g>\n   <g id=\"patch_196\">\n    <path clip-path=\"url(#p783d9581b4)\" d=\"M 929.451537 571.996875 \nL 934.478564 571.996875 \nL 934.478564 549.458929 \nL 929.451537 549.458929 \nz\n\" style=\"fill:#f8c471;\"/>\n   </g>\n   <g id=\"patch_197\">\n    <path clip-path=\"url(#p783d9581b4)\" d=\"M 939.505591 571.996875 \nL 944.532618 571.996875 \nL 944.532618 526.801259 \nL 939.505591 526.801259 \nz\n\" style=\"fill:#f8c471;\"/>\n   </g>\n   <g id=\"patch_198\">\n    <path clip-path=\"url(#p783d9581b4)\" d=\"M 949.559645 571.996875 \nL 954.586672 571.996875 \nL 954.586672 531.350751 \nL 949.559645 531.350751 \nz\n\" style=\"fill:#f8c471;\"/>\n   </g>\n   <g id=\"patch_199\">\n    <path clip-path=\"url(#p783d9581b4)\" d=\"M 959.613699 571.996875 \nL 964.640726 571.996875 \nL 964.640726 545.168837 \nL 959.613699 545.168837 \nz\n\" style=\"fill:#f8c471;\"/>\n   </g>\n   <g id=\"patch_200\">\n    <path clip-path=\"url(#p783d9581b4)\" d=\"M 969.667753 571.996875 \nL 974.69478 571.996875 \nL 974.69478 99.567998 \nL 969.667753 99.567998 \nz\n\" style=\"fill:#f8c471;\"/>\n   </g>\n   <g id=\"patch_201\">\n    <path clip-path=\"url(#p783d9581b4)\" d=\"M 979.721807 571.996875 \nL 984.748834 571.996875 \nL 984.748834 535.062179 \nL 979.721807 535.062179 \nz\n\" style=\"fill:#f8c471;\"/>\n   </g>\n   <g id=\"patch_202\">\n    <path clip-path=\"url(#p783d9581b4)\" d=\"M 989.775861 571.996875 \nL 994.802889 571.996875 \nL 994.802889 556.003813 \nL 989.775861 556.003813 \nz\n\" style=\"fill:#f8c471;\"/>\n   </g>\n   <g id=\"patch_203\">\n    <path clip-path=\"url(#p783d9581b4)\" d=\"M 999.829916 571.996875 \nL 1004.856943 571.996875 \nL 1004.856943 550.047569 \nL 999.829916 550.047569 \nz\n\" style=\"fill:#f8c471;\"/>\n   </g>\n   <g id=\"patch_204\">\n    <path clip-path=\"url(#p783d9581b4)\" d=\"M 1009.88397 571.996875 \nL 1014.910997 571.996875 \nL 1014.910997 545.328468 \nL 1009.88397 545.328468 \nz\n\" style=\"fill:#f8c471;\"/>\n   </g>\n   <g id=\"patch_205\">\n    <path clip-path=\"url(#p783d9581b4)\" d=\"M 1019.938024 571.996875 \nL 1024.965051 571.996875 \nL 1024.965051 555.514942 \nL 1019.938024 555.514942 \nz\n\" style=\"fill:#f8c471;\"/>\n   </g>\n   <g id=\"patch_206\">\n    <path clip-path=\"url(#p783d9581b4)\" d=\"M 1029.992078 571.996875 \nL 1035.019105 571.996875 \nL 1035.019105 544.759782 \nL 1029.992078 544.759782 \nz\n\" style=\"fill:#f8c471;\"/>\n   </g>\n   <g id=\"patch_207\">\n    <path clip-path=\"url(#p783d9581b4)\" d=\"M 1040.046132 571.996875 \nL 1045.073159 571.996875 \nL 1045.073159 502.33776 \nL 1040.046132 502.33776 \nz\n\" style=\"fill:#f8c471;\"/>\n   </g>\n   <g id=\"patch_208\">\n    <path clip-path=\"url(#p783d9581b4)\" d=\"M 1050.100186 571.996875 \nL 1055.127213 571.996875 \nL 1055.127213 416.13685 \nL 1050.100186 416.13685 \nz\n\" style=\"fill:#f8c471;\"/>\n   </g>\n   <g id=\"patch_209\">\n    <path clip-path=\"url(#p783d9581b4)\" d=\"M 1060.15424 571.996875 \nL 1065.181267 571.996875 \nL 1065.181267 568.295424 \nL 1060.15424 568.295424 \nz\n\" style=\"fill:#f8c471;\"/>\n   </g>\n   <g id=\"patch_210\">\n    <path clip-path=\"url(#p783d9581b4)\" d=\"M 1070.208294 571.996875 \nL 1075.235321 571.996875 \nL 1075.235321 568.37524 \nL 1070.208294 568.37524 \nz\n\" style=\"fill:#f8c471;\"/>\n   </g>\n   <g id=\"patch_211\">\n    <path clip-path=\"url(#p783d9581b4)\" d=\"M 1080.262348 571.996875 \nL 1085.289375 571.996875 \nL 1085.289375 533.376074 \nL 1080.262348 533.376074 \nz\n\" style=\"fill:#f8c471;\"/>\n   </g>\n   <g id=\"patch_212\">\n    <path clip-path=\"url(#p783d9581b4)\" d=\"M 1090.316402 571.996875 \nL 1095.343429 571.996875 \nL 1095.343429 534.373769 \nL 1090.316402 534.373769 \nz\n\" style=\"fill:#f8c471;\"/>\n   </g>\n   <g id=\"patch_213\">\n    <path clip-path=\"url(#p783d9581b4)\" d=\"M 1100.370456 571.996875 \nL 1105.397483 571.996875 \nL 1105.397483 546.425934 \nL 1100.370456 546.425934 \nz\n\" style=\"fill:#f8c471;\"/>\n   </g>\n   <g id=\"patch_214\">\n    <path clip-path=\"url(#p783d9581b4)\" d=\"M 1110.42451 571.996875 \nL 1115.451537 571.996875 \nL 1115.451537 507.855017 \nL 1110.42451 507.855017 \nz\n\" style=\"fill:#f8c471;\"/>\n   </g>\n   <g id=\"patch_215\">\n    <path clip-path=\"url(#p783d9581b4)\" d=\"M 1120.478564 571.996875 \nL 1125.505591 571.996875 \nL 1125.505591 513.242574 \nL 1120.478564 513.242574 \nz\n\" style=\"fill:#f8c471;\"/>\n   </g>\n   <g id=\"patch_216\">\n    <path clip-path=\"url(#p783d9581b4)\" d=\"M 1130.532618 571.996875 \nL 1135.559645 571.996875 \nL 1135.559645 553.559458 \nL 1130.532618 553.559458 \nz\n\" style=\"fill:#f8c471;\"/>\n   </g>\n   <g id=\"patch_217\">\n    <path clip-path=\"url(#p783d9581b4)\" d=\"M 1140.586672 571.996875 \nL 1145.613699 571.996875 \nL 1145.613699 478.123685 \nL 1140.586672 478.123685 \nz\n\" style=\"fill:#f8c471;\"/>\n   </g>\n   <g id=\"patch_218\">\n    <path clip-path=\"url(#p783d9581b4)\" d=\"M 1150.640726 571.996875 \nL 1155.667753 571.996875 \nL 1155.667753 543.123561 \nL 1150.640726 543.123561 \nz\n\" style=\"fill:#f8c471;\"/>\n   </g>\n   <g id=\"patch_219\">\n    <path clip-path=\"url(#p783d9581b4)\" d=\"M 1160.69478 571.996875 \nL 1165.721807 571.996875 \nL 1165.721807 347.216029 \nL 1160.69478 347.216029 \nz\n\" style=\"fill:#f8c471;\"/>\n   </g>\n   <g id=\"patch_220\">\n    <path clip-path=\"url(#p783d9581b4)\" d=\"M 1170.748834 571.996875 \nL 1175.775861 571.996875 \nL 1175.775861 535.002318 \nL 1170.748834 535.002318 \nz\n\" style=\"fill:#f8c471;\"/>\n   </g>\n   <g id=\"patch_221\">\n    <path clip-path=\"url(#p783d9581b4)\" d=\"M 1180.802889 571.996875 \nL 1185.829916 571.996875 \nL 1185.829916 550.157316 \nL 1180.802889 550.157316 \nz\n\" style=\"fill:#f8c471;\"/>\n   </g>\n   <g id=\"patch_222\">\n    <path clip-path=\"url(#p783d9581b4)\" d=\"M 1190.856943 571.996875 \nL 1195.88397 571.996875 \nL 1195.88397 538.025336 \nL 1190.856943 538.025336 \nz\n\" style=\"fill:#f8c471;\"/>\n   </g>\n   <g id=\"patch_223\">\n    <path clip-path=\"url(#p783d9581b4)\" d=\"M 64.802889 571.996875 \nL 69.829916 571.996875 \nL 69.829916 482.463661 \nL 64.802889 482.463661 \nz\n\" style=\"fill:#e67c00;\"/>\n   </g>\n   <g id=\"patch_224\">\n    <path clip-path=\"url(#p783d9581b4)\" d=\"M 74.856943 571.996875 \nL 79.88397 571.996875 \nL 79.88397 528.656973 \nL 74.856943 528.656973 \nz\n\" style=\"fill:#e67c00;\"/>\n   </g>\n   <g id=\"patch_225\">\n    <path clip-path=\"url(#p783d9581b4)\" d=\"M 84.910997 571.996875 \nL 89.938024 571.996875 \nL 89.938024 500.392253 \nL 84.910997 500.392253 \nz\n\" style=\"fill:#e67c00;\"/>\n   </g>\n   <g id=\"patch_226\">\n    <path clip-path=\"url(#p783d9581b4)\" d=\"M 94.965051 571.996875 \nL 99.992078 571.996875 \nL 99.992078 512.165063 \nL 94.965051 512.165063 \nz\n\" style=\"fill:#e67c00;\"/>\n   </g>\n   <g id=\"patch_227\">\n    <path clip-path=\"url(#p783d9581b4)\" d=\"M 105.019105 571.996875 \nL 110.046132 571.996875 \nL 110.046132 427.281111 \nL 105.019105 427.281111 \nz\n\" style=\"fill:#e67c00;\"/>\n   </g>\n   <g id=\"patch_228\">\n    <path clip-path=\"url(#p783d9581b4)\" d=\"M 115.073159 571.996875 \nL 120.100186 571.996875 \nL 120.100186 446.526661 \nL 115.073159 446.526661 \nz\n\" style=\"fill:#e67c00;\"/>\n   </g>\n   <g id=\"patch_229\">\n    <path clip-path=\"url(#p783d9581b4)\" d=\"M 125.127213 571.996875 \nL 130.15424 571.996875 \nL 130.15424 551.075196 \nL 125.127213 551.075196 \nz\n\" style=\"fill:#e67c00;\"/>\n   </g>\n   <g id=\"patch_230\">\n    <path clip-path=\"url(#p783d9581b4)\" d=\"M 135.181267 571.996875 \nL 140.208294 571.996875 \nL 140.208294 549.71833 \nL 135.181267 549.71833 \nz\n\" style=\"fill:#e67c00;\"/>\n   </g>\n   <g id=\"patch_231\">\n    <path clip-path=\"url(#p783d9581b4)\" d=\"M 145.235321 571.996875 \nL 150.262348 571.996875 \nL 150.262348 383.432384 \nL 145.235321 383.432384 \nz\n\" style=\"fill:#e67c00;\"/>\n   </g>\n   <g id=\"patch_232\">\n    <path clip-path=\"url(#p783d9581b4)\" d=\"M 155.289375 571.996875 \nL 160.316402 571.996875 \nL 160.316402 398.048626 \nL 155.289375 398.048626 \nz\n\" style=\"fill:#e67c00;\"/>\n   </g>\n   <g id=\"patch_233\">\n    <path clip-path=\"url(#p783d9581b4)\" d=\"M 165.343429 571.996875 \nL 170.370456 571.996875 \nL 170.370456 211.399711 \nL 165.343429 211.399711 \nz\n\" style=\"fill:#e67c00;\"/>\n   </g>\n   <g id=\"patch_234\">\n    <path clip-path=\"url(#p783d9581b4)\" d=\"M 175.397483 571.996875 \nL 180.42451 571.996875 \nL 180.42451 541.088262 \nL 175.397483 541.088262 \nz\n\" style=\"fill:#e67c00;\"/>\n   </g>\n   <g id=\"patch_235\">\n    <path clip-path=\"url(#p783d9581b4)\" d=\"M 185.451537 571.996875 \nL 190.478564 571.996875 \nL 190.478564 541.786649 \nL 185.451537 541.786649 \nz\n\" style=\"fill:#e67c00;\"/>\n   </g>\n   <g id=\"patch_236\">\n    <path clip-path=\"url(#p783d9581b4)\" d=\"M 195.505591 571.996875 \nL 200.532618 571.996875 \nL 200.532618 512.274809 \nL 195.505591 512.274809 \nz\n\" style=\"fill:#e67c00;\"/>\n   </g>\n   <g id=\"patch_237\">\n    <path clip-path=\"url(#p783d9581b4)\" d=\"M 205.559645 571.996875 \nL 210.586672 571.996875 \nL 210.586672 543.382962 \nL 205.559645 543.382962 \nz\n\" style=\"fill:#e67c00;\"/>\n   </g>\n   <g id=\"patch_238\">\n    <path clip-path=\"url(#p783d9581b4)\" d=\"M 215.613699 571.996875 \nL 220.640726 571.996875 \nL 220.640726 544.540289 \nL 215.613699 544.540289 \nz\n\" style=\"fill:#e67c00;\"/>\n   </g>\n   <g id=\"patch_239\">\n    <path clip-path=\"url(#p783d9581b4)\" d=\"M 225.667753 571.996875 \nL 230.69478 571.996875 \nL 230.69478 530.722203 \nL 225.667753 530.722203 \nz\n\" style=\"fill:#e67c00;\"/>\n   </g>\n   <g id=\"patch_240\">\n    <path clip-path=\"url(#p783d9581b4)\" d=\"M 235.721807 571.996875 \nL 240.748834 571.996875 \nL 240.748834 432.030143 \nL 235.721807 432.030143 \nz\n\" style=\"fill:#e67c00;\"/>\n   </g>\n   <g id=\"patch_241\">\n    <path clip-path=\"url(#p783d9581b4)\" d=\"M 245.775861 571.996875 \nL 250.802889 571.996875 \nL 250.802889 432.030143 \nL 245.775861 432.030143 \nz\n\" style=\"fill:#e67c00;\"/>\n   </g>\n   <g id=\"patch_242\">\n    <path clip-path=\"url(#p783d9581b4)\" d=\"M 255.829916 571.996875 \nL 260.856943 571.996875 \nL 260.856943 385.727084 \nL 255.829916 385.727084 \nz\n\" style=\"fill:#e67c00;\"/>\n   </g>\n   <g id=\"patch_243\">\n    <path clip-path=\"url(#p783d9581b4)\" d=\"M 265.88397 571.996875 \nL 270.910997 571.996875 \nL 270.910997 506.727621 \nL 265.88397 506.727621 \nz\n\" style=\"fill:#e67c00;\"/>\n   </g>\n   <g id=\"patch_244\">\n    <path clip-path=\"url(#p783d9581b4)\" d=\"M 275.938024 571.996875 \nL 280.965051 571.996875 \nL 280.965051 521.782849 \nL 275.938024 521.782849 \nz\n\" style=\"fill:#e67c00;\"/>\n   </g>\n   <g id=\"patch_245\">\n    <path clip-path=\"url(#p783d9581b4)\" d=\"M 285.992078 571.996875 \nL 291.019105 571.996875 \nL 291.019105 246.728117 \nL 285.992078 246.728117 \nz\n\" style=\"fill:#e67c00;\"/>\n   </g>\n   <g id=\"patch_246\">\n    <path clip-path=\"url(#p783d9581b4)\" d=\"M 296.046132 571.996875 \nL 301.073159 571.996875 \nL 301.073159 505.520409 \nL 296.046132 505.520409 \nz\n\" style=\"fill:#e67c00;\"/>\n   </g>\n   <g id=\"patch_247\">\n    <path clip-path=\"url(#p783d9581b4)\" d=\"M 306.100186 571.996875 \nL 311.127213 571.996875 \nL 311.127213 562.149618 \nL 306.100186 562.149618 \nz\n\" style=\"fill:#e67c00;\"/>\n   </g>\n   <g id=\"patch_248\">\n    <path clip-path=\"url(#p783d9581b4)\" d=\"M 316.15424 571.996875 \nL 321.181267 571.996875 \nL 321.181267 532.148908 \nL 316.15424 532.148908 \nz\n\" style=\"fill:#e67c00;\"/>\n   </g>\n   <g id=\"patch_249\">\n    <path clip-path=\"url(#p783d9581b4)\" d=\"M 326.208294 571.996875 \nL 331.235321 571.996875 \nL 331.235321 437.307953 \nL 326.208294 437.307953 \nz\n\" style=\"fill:#e67c00;\"/>\n   </g>\n   <g id=\"patch_250\">\n    <path clip-path=\"url(#p783d9581b4)\" d=\"M 336.262348 571.996875 \nL 341.289375 571.996875 \nL 341.289375 527.300107 \nL 336.262348 527.300107 \nz\n\" style=\"fill:#e67c00;\"/>\n   </g>\n   <g id=\"patch_251\">\n    <path clip-path=\"url(#p783d9581b4)\" d=\"M 346.316402 571.996875 \nL 351.343429 571.996875 \nL 351.343429 382.843744 \nL 346.316402 382.843744 \nz\n\" style=\"fill:#e67c00;\"/>\n   </g>\n   <g id=\"patch_252\">\n    <path clip-path=\"url(#p783d9581b4)\" d=\"M 356.370456 571.996875 \nL 361.397483 571.996875 \nL 361.397483 437.118391 \nL 356.370456 437.118391 \nz\n\" style=\"fill:#e67c00;\"/>\n   </g>\n   <g id=\"patch_253\">\n    <path clip-path=\"url(#p783d9581b4)\" d=\"M 366.42451 571.996875 \nL 371.451537 571.996875 \nL 371.451537 438.146017 \nL 366.42451 438.146017 \nz\n\" style=\"fill:#e67c00;\"/>\n   </g>\n   <g id=\"patch_254\">\n    <path clip-path=\"url(#p783d9581b4)\" d=\"M 376.478564 571.996875 \nL 381.505591 571.996875 \nL 381.505591 556.762061 \nL 376.478564 556.762061 \nz\n\" style=\"fill:#e67c00;\"/>\n   </g>\n   <g id=\"patch_255\">\n    <path clip-path=\"url(#p783d9581b4)\" d=\"M 386.532618 571.996875 \nL 391.559645 571.996875 \nL 391.559645 511.267137 \nL 386.532618 511.267137 \nz\n\" style=\"fill:#e67c00;\"/>\n   </g>\n   <g id=\"patch_256\">\n    <path clip-path=\"url(#p783d9581b4)\" d=\"M 396.586672 571.996875 \nL 401.613699 571.996875 \nL 401.613699 502.158175 \nL 396.586672 502.158175 \nz\n\" style=\"fill:#e67c00;\"/>\n   </g>\n   <g id=\"patch_257\">\n    <path clip-path=\"url(#p783d9581b4)\" d=\"M 406.640726 571.996875 \nL 411.667753 571.996875 \nL 411.667753 407.855975 \nL 406.640726 407.855975 \nz\n\" style=\"fill:#e67c00;\"/>\n   </g>\n   <g id=\"patch_258\">\n    <path clip-path=\"url(#p783d9581b4)\" d=\"M 416.69478 571.996875 \nL 421.721807 571.996875 \nL 421.721807 248.424199 \nL 416.69478 248.424199 \nz\n\" style=\"fill:#e67c00;\"/>\n   </g>\n   <g id=\"patch_259\">\n    <path clip-path=\"url(#p783d9581b4)\" d=\"M 426.748834 571.996875 \nL 431.775861 571.996875 \nL 431.775861 222.803373 \nL 426.748834 222.803373 \nz\n\" style=\"fill:#e67c00;\"/>\n   </g>\n   <g id=\"patch_260\">\n    <path clip-path=\"url(#p783d9581b4)\" d=\"M 436.802889 571.996875 \nL 441.829916 571.996875 \nL 441.829916 501.330087 \nL 436.802889 501.330087 \nz\n\" style=\"fill:#e67c00;\"/>\n   </g>\n   <g id=\"patch_261\">\n    <path clip-path=\"url(#p783d9581b4)\" d=\"M 446.856943 571.996875 \nL 451.88397 571.996875 \nL 451.88397 522.740637 \nL 446.856943 522.740637 \nz\n\" style=\"fill:#e67c00;\"/>\n   </g>\n   <g id=\"patch_262\">\n    <path clip-path=\"url(#p783d9581b4)\" d=\"M 456.910997 571.996875 \nL 461.938024 571.996875 \nL 461.938024 548.690703 \nL 456.910997 548.690703 \nz\n\" style=\"fill:#e67c00;\"/>\n   </g>\n   <g id=\"patch_263\">\n    <path clip-path=\"url(#p783d9581b4)\" d=\"M 466.965051 571.996875 \nL 471.992078 571.996875 \nL 471.992078 492.690042 \nL 466.965051 492.690042 \nz\n\" style=\"fill:#e67c00;\"/>\n   </g>\n   <g id=\"patch_264\">\n    <path clip-path=\"url(#p783d9581b4)\" d=\"M 477.019105 571.996875 \nL 482.046132 571.996875 \nL 482.046132 528.198033 \nL 477.019105 528.198033 \nz\n\" style=\"fill:#e67c00;\"/>\n   </g>\n   <g id=\"patch_265\">\n    <path clip-path=\"url(#p783d9581b4)\" d=\"M 487.073159 571.996875 \nL 492.100186 571.996875 \nL 492.100186 545.248653 \nL 487.073159 545.248653 \nz\n\" style=\"fill:#e67c00;\"/>\n   </g>\n   <g id=\"patch_266\">\n    <path clip-path=\"url(#p783d9581b4)\" d=\"M 497.127213 571.996875 \nL 502.15424 571.996875 \nL 502.15424 548.750565 \nL 497.127213 548.750565 \nz\n\" style=\"fill:#e67c00;\"/>\n   </g>\n   <g id=\"patch_267\">\n    <path clip-path=\"url(#p783d9581b4)\" d=\"M 507.181267 571.996875 \nL 512.208294 571.996875 \nL 512.208294 452.20355 \nL 507.181267 452.20355 \nz\n\" style=\"fill:#e67c00;\"/>\n   </g>\n   <g id=\"patch_268\">\n    <path clip-path=\"url(#p783d9581b4)\" d=\"M 517.235321 571.996875 \nL 522.262348 571.996875 \nL 522.262348 537.516511 \nL 517.235321 537.516511 \nz\n\" style=\"fill:#e67c00;\"/>\n   </g>\n   <g id=\"patch_269\">\n    <path clip-path=\"url(#p783d9581b4)\" d=\"M 527.289375 571.996875 \nL 532.316402 571.996875 \nL 532.316402 447.344772 \nL 527.289375 447.344772 \nz\n\" style=\"fill:#e67c00;\"/>\n   </g>\n   <g id=\"patch_270\">\n    <path clip-path=\"url(#p783d9581b4)\" d=\"M 537.343429 571.996875 \nL 542.370456 571.996875 \nL 542.370456 287.653595 \nL 537.343429 287.653595 \nz\n\" style=\"fill:#e67c00;\"/>\n   </g>\n   <g id=\"patch_271\">\n    <path clip-path=\"url(#p783d9581b4)\" d=\"M 547.397483 571.996875 \nL 552.42451 571.996875 \nL 552.42451 490.175849 \nL 547.397483 490.175849 \nz\n\" style=\"fill:#e67c00;\"/>\n   </g>\n   <g id=\"patch_272\">\n    <path clip-path=\"url(#p783d9581b4)\" d=\"M 557.451537 571.996875 \nL 562.478564 571.996875 \nL 562.478564 504.452875 \nL 557.451537 504.452875 \nz\n\" style=\"fill:#e67c00;\"/>\n   </g>\n   <g id=\"patch_273\">\n    <path clip-path=\"url(#p783d9581b4)\" d=\"M 567.505591 571.996875 \nL 572.532618 571.996875 \nL 572.532618 529.754438 \nL 567.505591 529.754438 \nz\n\" style=\"fill:#e67c00;\"/>\n   </g>\n   <g id=\"patch_274\">\n    <path clip-path=\"url(#p783d9581b4)\" d=\"M 577.559645 571.996875 \nL 582.586672 571.996875 \nL 582.586672 465.682419 \nL 577.559645 465.682419 \nz\n\" style=\"fill:#e67c00;\"/>\n   </g>\n   <g id=\"patch_275\">\n    <path clip-path=\"url(#p783d9581b4)\" d=\"M 587.613699 571.996875 \nL 592.640726 571.996875 \nL 592.640726 450.447606 \nL 587.613699 450.447606 \nz\n\" style=\"fill:#e67c00;\"/>\n   </g>\n   <g id=\"patch_276\">\n    <path clip-path=\"url(#p783d9581b4)\" d=\"M 597.667753 571.996875 \nL 602.69478 571.996875 \nL 602.69478 526.362273 \nL 597.667753 526.362273 \nz\n\" style=\"fill:#e67c00;\"/>\n   </g>\n   <g id=\"patch_277\">\n    <path clip-path=\"url(#p783d9581b4)\" d=\"M 607.721807 571.996875 \nL 612.748834 571.996875 \nL 612.748834 427.829844 \nL 607.721807 427.829844 \nz\n\" style=\"fill:#e67c00;\"/>\n   </g>\n   <g id=\"patch_278\">\n    <path clip-path=\"url(#p783d9581b4)\" d=\"M 617.775861 571.996875 \nL 622.802889 571.996875 \nL 622.802889 503.036147 \nL 617.775861 503.036147 \nz\n\" style=\"fill:#e67c00;\"/>\n   </g>\n   <g id=\"patch_279\">\n    <path clip-path=\"url(#p783d9581b4)\" d=\"M 627.829916 571.996875 \nL 632.856943 571.996875 \nL 632.856943 405.790745 \nL 627.829916 405.790745 \nz\n\" style=\"fill:#e67c00;\"/>\n   </g>\n   <g id=\"patch_280\">\n    <path clip-path=\"url(#p783d9581b4)\" d=\"M 637.88397 571.996875 \nL 642.910997 571.996875 \nL 642.910997 192.872502 \nL 637.88397 192.872502 \nz\n\" style=\"fill:#e67c00;\"/>\n   </g>\n   <g id=\"patch_281\">\n    <path clip-path=\"url(#p783d9581b4)\" d=\"M 647.938024 571.996875 \nL 652.965051 571.996875 \nL 652.965051 83.554982 \nL 647.938024 83.554982 \nz\n\" style=\"fill:#e67c00;\"/>\n   </g>\n   <g id=\"patch_282\">\n    <path clip-path=\"url(#p783d9581b4)\" d=\"M 657.992078 571.996875 \nL 663.019105 571.996875 \nL 663.019105 436.918852 \nL 657.992078 436.918852 \nz\n\" style=\"fill:#e67c00;\"/>\n   </g>\n   <g id=\"patch_283\">\n    <path clip-path=\"url(#p783d9581b4)\" d=\"M 668.046132 571.996875 \nL 673.073159 571.996875 \nL 673.073159 487.521978 \nL 668.046132 487.521978 \nz\n\" style=\"fill:#e67c00;\"/>\n   </g>\n   <g id=\"patch_284\">\n    <path clip-path=\"url(#p783d9581b4)\" d=\"M 678.100186 571.996875 \nL 683.127213 571.996875 \nL 683.127213 437.417699 \nL 678.100186 437.417699 \nz\n\" style=\"fill:#e67c00;\"/>\n   </g>\n   <g id=\"patch_285\">\n    <path clip-path=\"url(#p783d9581b4)\" d=\"M 688.15424 571.996875 \nL 693.181267 571.996875 \nL 693.181267 387.852176 \nL 688.15424 387.852176 \nz\n\" style=\"fill:#e67c00;\"/>\n   </g>\n   <g id=\"patch_286\">\n    <path clip-path=\"url(#p783d9581b4)\" d=\"M 698.208294 571.996875 \nL 703.235321 571.996875 \nL 703.235321 279.981315 \nL 698.208294 279.981315 \nz\n\" style=\"fill:#e67c00;\"/>\n   </g>\n   <g id=\"patch_287\">\n    <path clip-path=\"url(#p783d9581b4)\" d=\"M 708.262348 571.996875 \nL 713.289375 571.996875 \nL 713.289375 398.29805 \nL 708.262348 398.29805 \nz\n\" style=\"fill:#e67c00;\"/>\n   </g>\n   <g id=\"patch_288\">\n    <path clip-path=\"url(#p783d9581b4)\" d=\"M 718.316402 571.996875 \nL 723.343429 571.996875 \nL 723.343429 544.709897 \nL 718.316402 544.709897 \nz\n\" style=\"fill:#e67c00;\"/>\n   </g>\n   <g id=\"patch_289\">\n    <path clip-path=\"url(#p783d9581b4)\" d=\"M 728.370456 571.996875 \nL 733.397483 571.996875 \nL 733.397483 541.666925 \nL 728.370456 541.666925 \nz\n\" style=\"fill:#e67c00;\"/>\n   </g>\n   <g id=\"patch_290\">\n    <path clip-path=\"url(#p783d9581b4)\" d=\"M 738.42451 571.996875 \nL 743.451537 571.996875 \nL 743.451537 516.355385 \nL 738.42451 516.355385 \nz\n\" style=\"fill:#e67c00;\"/>\n   </g>\n   <g id=\"patch_291\">\n    <path clip-path=\"url(#p783d9581b4)\" d=\"M 748.478564 571.996875 \nL 753.505591 571.996875 \nL 753.505591 491.532715 \nL 748.478564 491.532715 \nz\n\" style=\"fill:#e67c00;\"/>\n   </g>\n   <g id=\"patch_292\">\n    <path clip-path=\"url(#p783d9581b4)\" d=\"M 758.532618 571.996875 \nL 763.559645 571.996875 \nL 763.559645 458.738457 \nL 758.532618 458.738457 \nz\n\" style=\"fill:#e67c00;\"/>\n   </g>\n   <g id=\"patch_293\">\n    <path clip-path=\"url(#p783d9581b4)\" d=\"M 768.586672 571.996875 \nL 773.613699 571.996875 \nL 773.613699 550.336901 \nL 768.586672 550.336901 \nz\n\" style=\"fill:#e67c00;\"/>\n   </g>\n   <g id=\"patch_294\">\n    <path clip-path=\"url(#p783d9581b4)\" d=\"M 778.640726 571.996875 \nL 783.667753 571.996875 \nL 783.667753 526.930959 \nL 778.640726 526.930959 \nz\n\" style=\"fill:#e67c00;\"/>\n   </g>\n   <g id=\"patch_295\">\n    <path clip-path=\"url(#p783d9581b4)\" d=\"M 788.69478 571.996875 \nL 793.721807 571.996875 \nL 793.721807 551.91326 \nL 788.69478 551.91326 \nz\n\" style=\"fill:#e67c00;\"/>\n   </g>\n   <g id=\"patch_296\">\n    <path clip-path=\"url(#p783d9581b4)\" d=\"M 798.748834 571.996875 \nL 803.775861 571.996875 \nL 803.775861 508.204211 \nL 798.748834 508.204211 \nz\n\" style=\"fill:#e67c00;\"/>\n   </g>\n   <g id=\"patch_297\">\n    <path clip-path=\"url(#p783d9581b4)\" d=\"M 808.802889 571.996875 \nL 813.829916 571.996875 \nL 813.829916 554.876416 \nL 808.802889 554.876416 \nz\n\" style=\"fill:#e67c00;\"/>\n   </g>\n   <g id=\"patch_298\">\n    <path clip-path=\"url(#p783d9581b4)\" d=\"M 818.856943 571.996875 \nL 823.88397 571.996875 \nL 823.88397 516.505039 \nL 818.856943 516.505039 \nz\n\" style=\"fill:#e67c00;\"/>\n   </g>\n   <g id=\"patch_299\">\n    <path clip-path=\"url(#p783d9581b4)\" d=\"M 828.910997 571.996875 \nL 833.938024 571.996875 \nL 833.938024 510.089856 \nL 828.910997 510.089856 \nz\n\" style=\"fill:#e67c00;\"/>\n   </g>\n   <g id=\"patch_300\">\n    <path clip-path=\"url(#p783d9581b4)\" d=\"M 838.965051 571.996875 \nL 843.992078 571.996875 \nL 843.992078 519.887228 \nL 838.965051 519.887228 \nz\n\" style=\"fill:#e67c00;\"/>\n   </g>\n   <g id=\"patch_301\">\n    <path clip-path=\"url(#p783d9581b4)\" d=\"M 849.019105 571.996875 \nL 854.046132 571.996875 \nL 854.046132 545.408284 \nL 849.019105 545.408284 \nz\n\" style=\"fill:#e67c00;\"/>\n   </g>\n   <g id=\"patch_302\">\n    <path clip-path=\"url(#p783d9581b4)\" d=\"M 859.073159 571.996875 \nL 864.100186 571.996875 \nL 864.100186 394.905885 \nL 859.073159 394.905885 \nz\n\" style=\"fill:#e67c00;\"/>\n   </g>\n   <g id=\"patch_303\">\n    <path clip-path=\"url(#p783d9581b4)\" d=\"M 869.127213 571.996875 \nL 874.15424 571.996875 \nL 874.15424 392.411646 \nL 869.127213 392.411646 \nz\n\" style=\"fill:#e67c00;\"/>\n   </g>\n   <g id=\"patch_304\">\n    <path clip-path=\"url(#p783d9581b4)\" d=\"M 879.181267 571.996875 \nL 884.208294 571.996875 \nL 884.208294 531.051443 \nL 879.181267 531.051443 \nz\n\" style=\"fill:#e67c00;\"/>\n   </g>\n   <g id=\"patch_305\">\n    <path clip-path=\"url(#p783d9581b4)\" d=\"M 889.235321 571.996875 \nL 894.262348 571.996875 \nL 894.262348 422.691711 \nL 889.235321 422.691711 \nz\n\" style=\"fill:#e67c00;\"/>\n   </g>\n   <g id=\"patch_306\">\n    <path clip-path=\"url(#p783d9581b4)\" d=\"M 899.289375 571.996875 \nL 904.316402 571.996875 \nL 904.316402 522.620914 \nL 899.289375 522.620914 \nz\n\" style=\"fill:#e67c00;\"/>\n   </g>\n   <g id=\"patch_307\">\n    <path clip-path=\"url(#p783d9581b4)\" d=\"M 909.343429 571.996875 \nL 914.370456 571.996875 \nL 914.370456 487.192739 \nL 909.343429 487.192739 \nz\n\" style=\"fill:#e67c00;\"/>\n   </g>\n   <g id=\"patch_308\">\n    <path clip-path=\"url(#p783d9581b4)\" d=\"M 919.397483 571.996875 \nL 924.42451 571.996875 \nL 924.42451 547.403676 \nL 919.397483 547.403676 \nz\n\" style=\"fill:#e67c00;\"/>\n   </g>\n   <g id=\"patch_309\">\n    <path clip-path=\"url(#p783d9581b4)\" d=\"M 929.451537 571.996875 \nL 934.478564 571.996875 \nL 934.478564 537.436695 \nL 929.451537 537.436695 \nz\n\" style=\"fill:#e67c00;\"/>\n   </g>\n   <g id=\"patch_310\">\n    <path clip-path=\"url(#p783d9581b4)\" d=\"M 939.505591 571.996875 \nL 944.532618 571.996875 \nL 944.532618 539.531856 \nL 939.505591 539.531856 \nz\n\" style=\"fill:#e67c00;\"/>\n   </g>\n   <g id=\"patch_311\">\n    <path clip-path=\"url(#p783d9581b4)\" d=\"M 949.559645 571.996875 \nL 954.586672 571.996875 \nL 954.586672 537.117433 \nL 949.559645 537.117433 \nz\n\" style=\"fill:#e67c00;\"/>\n   </g>\n   <g id=\"patch_312\">\n    <path clip-path=\"url(#p783d9581b4)\" d=\"M 959.613699 571.996875 \nL 964.640726 571.996875 \nL 964.640726 146.928614 \nL 959.613699 146.928614 \nz\n\" style=\"fill:#e67c00;\"/>\n   </g>\n   <g id=\"patch_313\">\n    <path clip-path=\"url(#p783d9581b4)\" d=\"M 969.667753 571.996875 \nL 974.69478 571.996875 \nL 974.69478 544.400611 \nL 969.667753 544.400611 \nz\n\" style=\"fill:#e67c00;\"/>\n   </g>\n   <g id=\"patch_314\">\n    <path clip-path=\"url(#p783d9581b4)\" d=\"M 979.721807 571.996875 \nL 984.748834 571.996875 \nL 984.748834 550.127385 \nL 979.721807 550.127385 \nz\n\" style=\"fill:#e67c00;\"/>\n   </g>\n   <g id=\"patch_315\">\n    <path clip-path=\"url(#p783d9581b4)\" d=\"M 989.775861 571.996875 \nL 994.802889 571.996875 \nL 994.802889 540.878746 \nL 989.775861 540.878746 \nz\n\" style=\"fill:#e67c00;\"/>\n   </g>\n   <g id=\"patch_316\">\n    <path clip-path=\"url(#p783d9581b4)\" d=\"M 999.829916 571.996875 \nL 1004.856943 571.996875 \nL 1004.856943 532.607848 \nL 999.829916 532.607848 \nz\n\" style=\"fill:#e67c00;\"/>\n   </g>\n   <g id=\"patch_317\">\n    <path clip-path=\"url(#p783d9581b4)\" d=\"M 1009.88397 571.996875 \nL 1014.910997 571.996875 \nL 1014.910997 549.099758 \nL 1009.88397 549.099758 \nz\n\" style=\"fill:#e67c00;\"/>\n   </g>\n   <g id=\"patch_318\">\n    <path clip-path=\"url(#p783d9581b4)\" d=\"M 1019.938024 571.996875 \nL 1024.965051 571.996875 \nL 1024.965051 527.968563 \nL 1019.938024 527.968563 \nz\n\" style=\"fill:#e67c00;\"/>\n   </g>\n   <g id=\"patch_319\">\n    <path clip-path=\"url(#p783d9581b4)\" d=\"M 1029.992078 571.996875 \nL 1035.019105 571.996875 \nL 1035.019105 522.281697 \nL 1029.992078 522.281697 \nz\n\" style=\"fill:#e67c00;\"/>\n   </g>\n   <g id=\"patch_320\">\n    <path clip-path=\"url(#p783d9581b4)\" d=\"M 1040.046132 571.996875 \nL 1045.073159 571.996875 \nL 1045.073159 460.803687 \nL 1040.046132 460.803687 \nz\n\" style=\"fill:#e67c00;\"/>\n   </g>\n   <g id=\"patch_321\">\n    <path clip-path=\"url(#p783d9581b4)\" d=\"M 1050.100186 571.996875 \nL 1055.127213 571.996875 \nL 1055.127213 568.554825 \nL 1050.100186 568.554825 \nz\n\" style=\"fill:#e67c00;\"/>\n   </g>\n   <g id=\"patch_322\">\n    <path clip-path=\"url(#p783d9581b4)\" d=\"M 1060.15424 571.996875 \nL 1065.181267 571.996875 \nL 1065.181267 522.072181 \nL 1060.15424 522.072181 \nz\n\" style=\"fill:#e67c00;\"/>\n   </g>\n   <g id=\"patch_323\">\n    <path clip-path=\"url(#p783d9581b4)\" d=\"M 1070.208294 571.996875 \nL 1075.235321 571.996875 \nL 1075.235321 526.980844 \nL 1070.208294 526.980844 \nz\n\" style=\"fill:#e67c00;\"/>\n   </g>\n   <g id=\"patch_324\">\n    <path clip-path=\"url(#p783d9581b4)\" d=\"M 1080.262348 571.996875 \nL 1085.289375 571.996875 \nL 1085.289375 555.58478 \nL 1080.262348 555.58478 \nz\n\" style=\"fill:#e67c00;\"/>\n   </g>\n   <g id=\"patch_325\">\n    <path clip-path=\"url(#p783d9581b4)\" d=\"M 1090.316402 571.996875 \nL 1095.343429 571.996875 \nL 1095.343429 386.824549 \nL 1090.316402 386.824549 \nz\n\" style=\"fill:#e67c00;\"/>\n   </g>\n   <g id=\"patch_326\">\n    <path clip-path=\"url(#p783d9581b4)\" d=\"M 1100.370456 571.996875 \nL 1105.397483 571.996875 \nL 1105.397483 518.081398 \nL 1100.370456 518.081398 \nz\n\" style=\"fill:#e67c00;\"/>\n   </g>\n   <g id=\"patch_327\">\n    <path clip-path=\"url(#p783d9581b4)\" d=\"M 1110.42451 571.996875 \nL 1115.451537 571.996875 \nL 1115.451537 550.107431 \nL 1110.42451 550.107431 \nz\n\" style=\"fill:#e67c00;\"/>\n   </g>\n   <g id=\"patch_328\">\n    <path clip-path=\"url(#p783d9581b4)\" d=\"M 1120.478564 571.996875 \nL 1125.505591 571.996875 \nL 1125.505591 497.259489 \nL 1120.478564 497.259489 \nz\n\" style=\"fill:#e67c00;\"/>\n   </g>\n   <g id=\"patch_329\">\n    <path clip-path=\"url(#p783d9581b4)\" d=\"M 1130.532618 571.996875 \nL 1135.559645 571.996875 \nL 1135.559645 545.697616 \nL 1130.532618 545.697616 \nz\n\" style=\"fill:#e67c00;\"/>\n   </g>\n   <g id=\"patch_330\">\n    <path clip-path=\"url(#p783d9581b4)\" d=\"M 1140.586672 571.996875 \nL 1145.613699 571.996875 \nL 1145.613699 295.465552 \nL 1140.586672 295.465552 \nz\n\" style=\"fill:#e67c00;\"/>\n   </g>\n   <g id=\"patch_331\">\n    <path clip-path=\"url(#p783d9581b4)\" d=\"M 1150.640726 571.996875 \nL 1155.667753 571.996875 \nL 1155.667753 551.643882 \nL 1150.640726 551.643882 \nz\n\" style=\"fill:#e67c00;\"/>\n   </g>\n   <g id=\"patch_332\">\n    <path clip-path=\"url(#p783d9581b4)\" d=\"M 1160.69478 571.996875 \nL 1165.721807 571.996875 \nL 1165.721807 547.263998 \nL 1160.69478 547.263998 \nz\n\" style=\"fill:#e67c00;\"/>\n   </g>\n   <g id=\"patch_333\">\n    <path clip-path=\"url(#p783d9581b4)\" d=\"M 1170.748834 571.996875 \nL 1175.775861 571.996875 \nL 1175.775861 500.821262 \nL 1170.748834 500.821262 \nz\n\" style=\"fill:#e67c00;\"/>\n   </g>\n   <g id=\"matplotlib.axis_1\">\n    <g id=\"xtick_1\">\n     <g id=\"line2d_1\">\n      <defs>\n       <path d=\"M 0 0 \nL 0 3.5 \n\" id=\"m798dcede4b\" style=\"stroke:#000000;stroke-width:0.8;\"/>\n      </defs>\n      <g>\n       <use style=\"stroke:#000000;stroke-width:0.8;\" x=\"67.316402\" xlink:href=\"#m798dcede4b\" y=\"571.996875\"/>\n      </g>\n     </g>\n     <g id=\"text_1\">\n      <!-- Almonds, with shell -->\n      <defs>\n       <path d=\"M 34.1875 63.1875 \nL 20.796875 26.90625 \nL 47.609375 26.90625 \nz\nM 28.609375 72.90625 \nL 39.796875 72.90625 \nL 67.578125 0 \nL 57.328125 0 \nL 50.6875 18.703125 \nL 17.828125 18.703125 \nL 11.1875 0 \nL 0.78125 0 \nz\n\" id=\"DejaVuSans-65\"/>\n       <path d=\"M 9.421875 75.984375 \nL 18.40625 75.984375 \nL 18.40625 0 \nL 9.421875 0 \nz\n\" id=\"DejaVuSans-108\"/>\n       <path d=\"M 52 44.1875 \nQ 55.375 50.25 60.0625 53.125 \nQ 64.75 56 71.09375 56 \nQ 79.640625 56 84.28125 50.015625 \nQ 88.921875 44.046875 88.921875 33.015625 \nL 88.921875 0 \nL 79.890625 0 \nL 79.890625 32.71875 \nQ 79.890625 40.578125 77.09375 44.375 \nQ 74.3125 48.1875 68.609375 48.1875 \nQ 61.625 48.1875 57.5625 43.546875 \nQ 53.515625 38.921875 53.515625 30.90625 \nL 53.515625 0 \nL 44.484375 0 \nL 44.484375 32.71875 \nQ 44.484375 40.625 41.703125 44.40625 \nQ 38.921875 48.1875 33.109375 48.1875 \nQ 26.21875 48.1875 22.15625 43.53125 \nQ 18.109375 38.875 18.109375 30.90625 \nL 18.109375 0 \nL 9.078125 0 \nL 9.078125 54.6875 \nL 18.109375 54.6875 \nL 18.109375 46.1875 \nQ 21.1875 51.21875 25.484375 53.609375 \nQ 29.78125 56 35.6875 56 \nQ 41.65625 56 45.828125 52.96875 \nQ 50 49.953125 52 44.1875 \nz\n\" id=\"DejaVuSans-109\"/>\n       <path d=\"M 30.609375 48.390625 \nQ 23.390625 48.390625 19.1875 42.75 \nQ 14.984375 37.109375 14.984375 27.296875 \nQ 14.984375 17.484375 19.15625 11.84375 \nQ 23.34375 6.203125 30.609375 6.203125 \nQ 37.796875 6.203125 41.984375 11.859375 \nQ 46.1875 17.53125 46.1875 27.296875 \nQ 46.1875 37.015625 41.984375 42.703125 \nQ 37.796875 48.390625 30.609375 48.390625 \nz\nM 30.609375 56 \nQ 42.328125 56 49.015625 48.375 \nQ 55.71875 40.765625 55.71875 27.296875 \nQ 55.71875 13.875 49.015625 6.21875 \nQ 42.328125 -1.421875 30.609375 -1.421875 \nQ 18.84375 -1.421875 12.171875 6.21875 \nQ 5.515625 13.875 5.515625 27.296875 \nQ 5.515625 40.765625 12.171875 48.375 \nQ 18.84375 56 30.609375 56 \nz\n\" id=\"DejaVuSans-111\"/>\n       <path d=\"M 54.890625 33.015625 \nL 54.890625 0 \nL 45.90625 0 \nL 45.90625 32.71875 \nQ 45.90625 40.484375 42.875 44.328125 \nQ 39.84375 48.1875 33.796875 48.1875 \nQ 26.515625 48.1875 22.3125 43.546875 \nQ 18.109375 38.921875 18.109375 30.90625 \nL 18.109375 0 \nL 9.078125 0 \nL 9.078125 54.6875 \nL 18.109375 54.6875 \nL 18.109375 46.1875 \nQ 21.34375 51.125 25.703125 53.5625 \nQ 30.078125 56 35.796875 56 \nQ 45.21875 56 50.046875 50.171875 \nQ 54.890625 44.34375 54.890625 33.015625 \nz\n\" id=\"DejaVuSans-110\"/>\n       <path d=\"M 45.40625 46.390625 \nL 45.40625 75.984375 \nL 54.390625 75.984375 \nL 54.390625 0 \nL 45.40625 0 \nL 45.40625 8.203125 \nQ 42.578125 3.328125 38.25 0.953125 \nQ 33.9375 -1.421875 27.875 -1.421875 \nQ 17.96875 -1.421875 11.734375 6.484375 \nQ 5.515625 14.40625 5.515625 27.296875 \nQ 5.515625 40.1875 11.734375 48.09375 \nQ 17.96875 56 27.875 56 \nQ 33.9375 56 38.25 53.625 \nQ 42.578125 51.265625 45.40625 46.390625 \nz\nM 14.796875 27.296875 \nQ 14.796875 17.390625 18.875 11.75 \nQ 22.953125 6.109375 30.078125 6.109375 \nQ 37.203125 6.109375 41.296875 11.75 \nQ 45.40625 17.390625 45.40625 27.296875 \nQ 45.40625 37.203125 41.296875 42.84375 \nQ 37.203125 48.484375 30.078125 48.484375 \nQ 22.953125 48.484375 18.875 42.84375 \nQ 14.796875 37.203125 14.796875 27.296875 \nz\n\" id=\"DejaVuSans-100\"/>\n       <path d=\"M 44.28125 53.078125 \nL 44.28125 44.578125 \nQ 40.484375 46.53125 36.375 47.5 \nQ 32.28125 48.484375 27.875 48.484375 \nQ 21.1875 48.484375 17.84375 46.4375 \nQ 14.5 44.390625 14.5 40.28125 \nQ 14.5 37.15625 16.890625 35.375 \nQ 19.28125 33.59375 26.515625 31.984375 \nL 29.59375 31.296875 \nQ 39.15625 29.25 43.1875 25.515625 \nQ 47.21875 21.78125 47.21875 15.09375 \nQ 47.21875 7.46875 41.1875 3.015625 \nQ 35.15625 -1.421875 24.609375 -1.421875 \nQ 20.21875 -1.421875 15.453125 -0.5625 \nQ 10.6875 0.296875 5.421875 2 \nL 5.421875 11.28125 \nQ 10.40625 8.6875 15.234375 7.390625 \nQ 20.0625 6.109375 24.8125 6.109375 \nQ 31.15625 6.109375 34.5625 8.28125 \nQ 37.984375 10.453125 37.984375 14.40625 \nQ 37.984375 18.0625 35.515625 20.015625 \nQ 33.0625 21.96875 24.703125 23.78125 \nL 21.578125 24.515625 \nQ 13.234375 26.265625 9.515625 29.90625 \nQ 5.8125 33.546875 5.8125 39.890625 \nQ 5.8125 47.609375 11.28125 51.796875 \nQ 16.75 56 26.8125 56 \nQ 31.78125 56 36.171875 55.265625 \nQ 40.578125 54.546875 44.28125 53.078125 \nz\n\" id=\"DejaVuSans-115\"/>\n       <path d=\"M 11.71875 12.40625 \nL 22.015625 12.40625 \nL 22.015625 4 \nL 14.015625 -11.625 \nL 7.71875 -11.625 \nL 11.71875 4 \nz\n\" id=\"DejaVuSans-44\"/>\n       <path id=\"DejaVuSans-32\"/>\n       <path d=\"M 4.203125 54.6875 \nL 13.1875 54.6875 \nL 24.421875 12.015625 \nL 35.59375 54.6875 \nL 46.1875 54.6875 \nL 57.421875 12.015625 \nL 68.609375 54.6875 \nL 77.59375 54.6875 \nL 63.28125 0 \nL 52.6875 0 \nL 40.921875 44.828125 \nL 29.109375 0 \nL 18.5 0 \nz\n\" id=\"DejaVuSans-119\"/>\n       <path d=\"M 9.421875 54.6875 \nL 18.40625 54.6875 \nL 18.40625 0 \nL 9.421875 0 \nz\nM 9.421875 75.984375 \nL 18.40625 75.984375 \nL 18.40625 64.59375 \nL 9.421875 64.59375 \nz\n\" id=\"DejaVuSans-105\"/>\n       <path d=\"M 18.3125 70.21875 \nL 18.3125 54.6875 \nL 36.8125 54.6875 \nL 36.8125 47.703125 \nL 18.3125 47.703125 \nL 18.3125 18.015625 \nQ 18.3125 11.328125 20.140625 9.421875 \nQ 21.96875 7.515625 27.59375 7.515625 \nL 36.8125 7.515625 \nL 36.8125 0 \nL 27.59375 0 \nQ 17.1875 0 13.234375 3.875 \nQ 9.28125 7.765625 9.28125 18.015625 \nL 9.28125 47.703125 \nL 2.6875 47.703125 \nL 2.6875 54.6875 \nL 9.28125 54.6875 \nL 9.28125 70.21875 \nz\n\" id=\"DejaVuSans-116\"/>\n       <path d=\"M 54.890625 33.015625 \nL 54.890625 0 \nL 45.90625 0 \nL 45.90625 32.71875 \nQ 45.90625 40.484375 42.875 44.328125 \nQ 39.84375 48.1875 33.796875 48.1875 \nQ 26.515625 48.1875 22.3125 43.546875 \nQ 18.109375 38.921875 18.109375 30.90625 \nL 18.109375 0 \nL 9.078125 0 \nL 9.078125 75.984375 \nL 18.109375 75.984375 \nL 18.109375 46.1875 \nQ 21.34375 51.125 25.703125 53.5625 \nQ 30.078125 56 35.796875 56 \nQ 45.21875 56 50.046875 50.171875 \nQ 54.890625 44.34375 54.890625 33.015625 \nz\n\" id=\"DejaVuSans-104\"/>\n       <path d=\"M 56.203125 29.59375 \nL 56.203125 25.203125 \nL 14.890625 25.203125 \nQ 15.484375 15.921875 20.484375 11.0625 \nQ 25.484375 6.203125 34.421875 6.203125 \nQ 39.59375 6.203125 44.453125 7.46875 \nQ 49.3125 8.734375 54.109375 11.28125 \nL 54.109375 2.78125 \nQ 49.265625 0.734375 44.1875 -0.34375 \nQ 39.109375 -1.421875 33.890625 -1.421875 \nQ 20.796875 -1.421875 13.15625 6.1875 \nQ 5.515625 13.8125 5.515625 26.8125 \nQ 5.515625 40.234375 12.765625 48.109375 \nQ 20.015625 56 32.328125 56 \nQ 43.359375 56 49.78125 48.890625 \nQ 56.203125 41.796875 56.203125 29.59375 \nz\nM 47.21875 32.234375 \nQ 47.125 39.59375 43.09375 43.984375 \nQ 39.0625 48.390625 32.421875 48.390625 \nQ 24.90625 48.390625 20.390625 44.140625 \nQ 15.875 39.890625 15.1875 32.171875 \nz\n\" id=\"DejaVuSans-101\"/>\n      </defs>\n      <g style=\"fill:#5a5034;\" transform=\"translate(70.627652 695.850625)rotate(-90)scale(0.12 -0.12)\">\n       <use xlink:href=\"#DejaVuSans-65\"/>\n       <use x=\"68.408203\" xlink:href=\"#DejaVuSans-108\"/>\n       <use x=\"96.191406\" xlink:href=\"#DejaVuSans-109\"/>\n       <use x=\"193.603516\" xlink:href=\"#DejaVuSans-111\"/>\n       <use x=\"254.785156\" xlink:href=\"#DejaVuSans-110\"/>\n       <use x=\"318.164062\" xlink:href=\"#DejaVuSans-100\"/>\n       <use x=\"381.640625\" xlink:href=\"#DejaVuSans-115\"/>\n       <use x=\"433.740234\" xlink:href=\"#DejaVuSans-44\"/>\n       <use x=\"465.527344\" xlink:href=\"#DejaVuSans-32\"/>\n       <use x=\"497.314453\" xlink:href=\"#DejaVuSans-119\"/>\n       <use x=\"579.101562\" xlink:href=\"#DejaVuSans-105\"/>\n       <use x=\"606.884766\" xlink:href=\"#DejaVuSans-116\"/>\n       <use x=\"646.09375\" xlink:href=\"#DejaVuSans-104\"/>\n       <use x=\"709.472656\" xlink:href=\"#DejaVuSans-32\"/>\n       <use x=\"741.259766\" xlink:href=\"#DejaVuSans-115\"/>\n       <use x=\"793.359375\" xlink:href=\"#DejaVuSans-104\"/>\n       <use x=\"856.738281\" xlink:href=\"#DejaVuSans-101\"/>\n       <use x=\"918.261719\" xlink:href=\"#DejaVuSans-108\"/>\n       <use x=\"946.044922\" xlink:href=\"#DejaVuSans-108\"/>\n      </g>\n     </g>\n    </g>\n    <g id=\"xtick_2\">\n     <g id=\"line2d_2\">\n      <g>\n       <use style=\"stroke:#000000;stroke-width:0.8;\" x=\"77.370456\" xlink:href=\"#m798dcede4b\" y=\"571.996875\"/>\n      </g>\n     </g>\n     <g id=\"text_2\">\n      <!-- Apples -->\n      <defs>\n       <path d=\"M 18.109375 8.203125 \nL 18.109375 -20.796875 \nL 9.078125 -20.796875 \nL 9.078125 54.6875 \nL 18.109375 54.6875 \nL 18.109375 46.390625 \nQ 20.953125 51.265625 25.265625 53.625 \nQ 29.59375 56 35.59375 56 \nQ 45.5625 56 51.78125 48.09375 \nQ 58.015625 40.1875 58.015625 27.296875 \nQ 58.015625 14.40625 51.78125 6.484375 \nQ 45.5625 -1.421875 35.59375 -1.421875 \nQ 29.59375 -1.421875 25.265625 0.953125 \nQ 20.953125 3.328125 18.109375 8.203125 \nz\nM 48.6875 27.296875 \nQ 48.6875 37.203125 44.609375 42.84375 \nQ 40.53125 48.484375 33.40625 48.484375 \nQ 26.265625 48.484375 22.1875 42.84375 \nQ 18.109375 37.203125 18.109375 27.296875 \nQ 18.109375 17.390625 22.1875 11.75 \nQ 26.265625 6.109375 33.40625 6.109375 \nQ 40.53125 6.109375 44.609375 11.75 \nQ 48.6875 17.390625 48.6875 27.296875 \nz\n\" id=\"DejaVuSans-112\"/>\n      </defs>\n      <g style=\"fill:#5a5034;\" transform=\"translate(80.681706 619.410625)rotate(-90)scale(0.12 -0.12)\">\n       <use xlink:href=\"#DejaVuSans-65\"/>\n       <use x=\"68.408203\" xlink:href=\"#DejaVuSans-112\"/>\n       <use x=\"131.884766\" xlink:href=\"#DejaVuSans-112\"/>\n       <use x=\"195.361328\" xlink:href=\"#DejaVuSans-108\"/>\n       <use x=\"223.144531\" xlink:href=\"#DejaVuSans-101\"/>\n       <use x=\"284.667969\" xlink:href=\"#DejaVuSans-115\"/>\n      </g>\n     </g>\n    </g>\n    <g id=\"xtick_3\">\n     <g id=\"line2d_3\">\n      <g>\n       <use style=\"stroke:#000000;stroke-width:0.8;\" x=\"87.42451\" xlink:href=\"#m798dcede4b\" y=\"571.996875\"/>\n      </g>\n     </g>\n     <g id=\"text_3\">\n      <!-- Apricots -->\n      <defs>\n       <path d=\"M 41.109375 46.296875 \nQ 39.59375 47.171875 37.8125 47.578125 \nQ 36.03125 48 33.890625 48 \nQ 26.265625 48 22.1875 43.046875 \nQ 18.109375 38.09375 18.109375 28.8125 \nL 18.109375 0 \nL 9.078125 0 \nL 9.078125 54.6875 \nL 18.109375 54.6875 \nL 18.109375 46.1875 \nQ 20.953125 51.171875 25.484375 53.578125 \nQ 30.03125 56 36.53125 56 \nQ 37.453125 56 38.578125 55.875 \nQ 39.703125 55.765625 41.0625 55.515625 \nz\n\" id=\"DejaVuSans-114\"/>\n       <path d=\"M 48.78125 52.59375 \nL 48.78125 44.1875 \nQ 44.96875 46.296875 41.140625 47.34375 \nQ 37.3125 48.390625 33.40625 48.390625 \nQ 24.65625 48.390625 19.8125 42.84375 \nQ 14.984375 37.3125 14.984375 27.296875 \nQ 14.984375 17.28125 19.8125 11.734375 \nQ 24.65625 6.203125 33.40625 6.203125 \nQ 37.3125 6.203125 41.140625 7.25 \nQ 44.96875 8.296875 48.78125 10.40625 \nL 48.78125 2.09375 \nQ 45.015625 0.34375 40.984375 -0.53125 \nQ 36.96875 -1.421875 32.421875 -1.421875 \nQ 20.0625 -1.421875 12.78125 6.34375 \nQ 5.515625 14.109375 5.515625 27.296875 \nQ 5.515625 40.671875 12.859375 48.328125 \nQ 20.21875 56 33.015625 56 \nQ 37.15625 56 41.109375 55.140625 \nQ 45.0625 54.296875 48.78125 52.59375 \nz\n\" id=\"DejaVuSans-99\"/>\n      </defs>\n      <g style=\"fill:#5a5034;\" transform=\"translate(90.73576 627.986875)rotate(-90)scale(0.12 -0.12)\">\n       <use xlink:href=\"#DejaVuSans-65\"/>\n       <use x=\"68.408203\" xlink:href=\"#DejaVuSans-112\"/>\n       <use x=\"131.884766\" xlink:href=\"#DejaVuSans-114\"/>\n       <use x=\"172.998047\" xlink:href=\"#DejaVuSans-105\"/>\n       <use x=\"200.78125\" xlink:href=\"#DejaVuSans-99\"/>\n       <use x=\"255.761719\" xlink:href=\"#DejaVuSans-111\"/>\n       <use x=\"316.943359\" xlink:href=\"#DejaVuSans-116\"/>\n       <use x=\"356.152344\" xlink:href=\"#DejaVuSans-115\"/>\n      </g>\n     </g>\n    </g>\n    <g id=\"xtick_4\">\n     <g id=\"line2d_4\">\n      <g>\n       <use style=\"stroke:#000000;stroke-width:0.8;\" x=\"97.478564\" xlink:href=\"#m798dcede4b\" y=\"571.996875\"/>\n      </g>\n     </g>\n     <g id=\"text_4\">\n      <!-- Artichokes -->\n      <defs>\n       <path d=\"M 9.078125 75.984375 \nL 18.109375 75.984375 \nL 18.109375 31.109375 \nL 44.921875 54.6875 \nL 56.390625 54.6875 \nL 27.390625 29.109375 \nL 57.625 0 \nL 45.90625 0 \nL 18.109375 26.703125 \nL 18.109375 0 \nL 9.078125 0 \nz\n\" id=\"DejaVuSans-107\"/>\n      </defs>\n      <g style=\"fill:#5a5034;\" transform=\"translate(100.789814 641.87125)rotate(-90)scale(0.12 -0.12)\">\n       <use xlink:href=\"#DejaVuSans-65\"/>\n       <use x=\"68.408203\" xlink:href=\"#DejaVuSans-114\"/>\n       <use x=\"109.521484\" xlink:href=\"#DejaVuSans-116\"/>\n       <use x=\"148.730469\" xlink:href=\"#DejaVuSans-105\"/>\n       <use x=\"176.513672\" xlink:href=\"#DejaVuSans-99\"/>\n       <use x=\"231.494141\" xlink:href=\"#DejaVuSans-104\"/>\n       <use x=\"294.873047\" xlink:href=\"#DejaVuSans-111\"/>\n       <use x=\"356.054688\" xlink:href=\"#DejaVuSans-107\"/>\n       <use x=\"410.339844\" xlink:href=\"#DejaVuSans-101\"/>\n       <use x=\"471.863281\" xlink:href=\"#DejaVuSans-115\"/>\n      </g>\n     </g>\n    </g>\n    <g id=\"xtick_5\">\n     <g id=\"line2d_5\">\n      <g>\n       <use style=\"stroke:#000000;stroke-width:0.8;\" x=\"107.532618\" xlink:href=\"#m798dcede4b\" y=\"571.996875\"/>\n      </g>\n     </g>\n     <g id=\"text_5\">\n      <!-- Asparagus -->\n      <defs>\n       <path d=\"M 34.28125 27.484375 \nQ 23.390625 27.484375 19.1875 25 \nQ 14.984375 22.515625 14.984375 16.5 \nQ 14.984375 11.71875 18.140625 8.90625 \nQ 21.296875 6.109375 26.703125 6.109375 \nQ 34.1875 6.109375 38.703125 11.40625 \nQ 43.21875 16.703125 43.21875 25.484375 \nL 43.21875 27.484375 \nz\nM 52.203125 31.203125 \nL 52.203125 0 \nL 43.21875 0 \nL 43.21875 8.296875 \nQ 40.140625 3.328125 35.546875 0.953125 \nQ 30.953125 -1.421875 24.3125 -1.421875 \nQ 15.921875 -1.421875 10.953125 3.296875 \nQ 6 8.015625 6 15.921875 \nQ 6 25.140625 12.171875 29.828125 \nQ 18.359375 34.515625 30.609375 34.515625 \nL 43.21875 34.515625 \nL 43.21875 35.40625 \nQ 43.21875 41.609375 39.140625 45 \nQ 35.0625 48.390625 27.6875 48.390625 \nQ 23 48.390625 18.546875 47.265625 \nQ 14.109375 46.140625 10.015625 43.890625 \nL 10.015625 52.203125 \nQ 14.9375 54.109375 19.578125 55.046875 \nQ 24.21875 56 28.609375 56 \nQ 40.484375 56 46.34375 49.84375 \nQ 52.203125 43.703125 52.203125 31.203125 \nz\n\" id=\"DejaVuSans-97\"/>\n       <path d=\"M 45.40625 27.984375 \nQ 45.40625 37.75 41.375 43.109375 \nQ 37.359375 48.484375 30.078125 48.484375 \nQ 22.859375 48.484375 18.828125 43.109375 \nQ 14.796875 37.75 14.796875 27.984375 \nQ 14.796875 18.265625 18.828125 12.890625 \nQ 22.859375 7.515625 30.078125 7.515625 \nQ 37.359375 7.515625 41.375 12.890625 \nQ 45.40625 18.265625 45.40625 27.984375 \nz\nM 54.390625 6.78125 \nQ 54.390625 -7.171875 48.1875 -13.984375 \nQ 42 -20.796875 29.203125 -20.796875 \nQ 24.46875 -20.796875 20.265625 -20.09375 \nQ 16.0625 -19.390625 12.109375 -17.921875 \nL 12.109375 -9.1875 \nQ 16.0625 -11.328125 19.921875 -12.34375 \nQ 23.78125 -13.375 27.78125 -13.375 \nQ 36.625 -13.375 41.015625 -8.765625 \nQ 45.40625 -4.15625 45.40625 5.171875 \nL 45.40625 9.625 \nQ 42.625 4.78125 38.28125 2.390625 \nQ 33.9375 0 27.875 0 \nQ 17.828125 0 11.671875 7.65625 \nQ 5.515625 15.328125 5.515625 27.984375 \nQ 5.515625 40.671875 11.671875 48.328125 \nQ 17.828125 56 27.875 56 \nQ 33.9375 56 38.28125 53.609375 \nQ 42.625 51.21875 45.40625 46.390625 \nL 45.40625 54.6875 \nL 54.390625 54.6875 \nz\n\" id=\"DejaVuSans-103\"/>\n       <path d=\"M 8.5 21.578125 \nL 8.5 54.6875 \nL 17.484375 54.6875 \nL 17.484375 21.921875 \nQ 17.484375 14.15625 20.5 10.265625 \nQ 23.53125 6.390625 29.59375 6.390625 \nQ 36.859375 6.390625 41.078125 11.03125 \nQ 45.3125 15.671875 45.3125 23.6875 \nL 45.3125 54.6875 \nL 54.296875 54.6875 \nL 54.296875 0 \nL 45.3125 0 \nL 45.3125 8.40625 \nQ 42.046875 3.421875 37.71875 1 \nQ 33.40625 -1.421875 27.6875 -1.421875 \nQ 18.265625 -1.421875 13.375 4.4375 \nQ 8.5 10.296875 8.5 21.578125 \nz\nM 31.109375 56 \nz\n\" id=\"DejaVuSans-117\"/>\n      </defs>\n      <g style=\"fill:#5a5034;\" transform=\"translate(110.843868 642.19)rotate(-90)scale(0.12 -0.12)\">\n       <use xlink:href=\"#DejaVuSans-65\"/>\n       <use x=\"68.408203\" xlink:href=\"#DejaVuSans-115\"/>\n       <use x=\"120.507812\" xlink:href=\"#DejaVuSans-112\"/>\n       <use x=\"183.984375\" xlink:href=\"#DejaVuSans-97\"/>\n       <use x=\"245.263672\" xlink:href=\"#DejaVuSans-114\"/>\n       <use x=\"286.376953\" xlink:href=\"#DejaVuSans-97\"/>\n       <use x=\"347.65625\" xlink:href=\"#DejaVuSans-103\"/>\n       <use x=\"411.132812\" xlink:href=\"#DejaVuSans-117\"/>\n       <use x=\"474.511719\" xlink:href=\"#DejaVuSans-115\"/>\n      </g>\n     </g>\n    </g>\n    <g id=\"xtick_6\">\n     <g id=\"line2d_6\">\n      <g>\n       <use style=\"stroke:#000000;stroke-width:0.8;\" x=\"117.586672\" xlink:href=\"#m798dcede4b\" y=\"571.996875\"/>\n      </g>\n     </g>\n     <g id=\"text_6\">\n      <!-- Avocados -->\n      <defs>\n       <path d=\"M 2.984375 54.6875 \nL 12.5 54.6875 \nL 29.59375 8.796875 \nL 46.6875 54.6875 \nL 56.203125 54.6875 \nL 35.6875 0 \nL 23.484375 0 \nz\n\" id=\"DejaVuSans-118\"/>\n      </defs>\n      <g style=\"fill:#5a5034;\" transform=\"translate(120.897922 636.109375)rotate(-90)scale(0.12 -0.12)\">\n       <use xlink:href=\"#DejaVuSans-65\"/>\n       <use x=\"62.533203\" xlink:href=\"#DejaVuSans-118\"/>\n       <use x=\"121.712891\" xlink:href=\"#DejaVuSans-111\"/>\n       <use x=\"182.894531\" xlink:href=\"#DejaVuSans-99\"/>\n       <use x=\"237.875\" xlink:href=\"#DejaVuSans-97\"/>\n       <use x=\"299.154297\" xlink:href=\"#DejaVuSans-100\"/>\n       <use x=\"362.630859\" xlink:href=\"#DejaVuSans-111\"/>\n       <use x=\"423.8125\" xlink:href=\"#DejaVuSans-115\"/>\n      </g>\n     </g>\n    </g>\n    <g id=\"xtick_7\">\n     <g id=\"line2d_7\">\n      <g>\n       <use style=\"stroke:#000000;stroke-width:0.8;\" x=\"127.640726\" xlink:href=\"#m798dcede4b\" y=\"571.996875\"/>\n      </g>\n     </g>\n     <g id=\"text_7\">\n      <!-- Bananas -->\n      <defs>\n       <path d=\"M 19.671875 34.8125 \nL 19.671875 8.109375 \nL 35.5 8.109375 \nQ 43.453125 8.109375 47.28125 11.40625 \nQ 51.125 14.703125 51.125 21.484375 \nQ 51.125 28.328125 47.28125 31.5625 \nQ 43.453125 34.8125 35.5 34.8125 \nz\nM 19.671875 64.796875 \nL 19.671875 42.828125 \nL 34.28125 42.828125 \nQ 41.5 42.828125 45.03125 45.53125 \nQ 48.578125 48.25 48.578125 53.8125 \nQ 48.578125 59.328125 45.03125 62.0625 \nQ 41.5 64.796875 34.28125 64.796875 \nz\nM 9.8125 72.90625 \nL 35.015625 72.90625 \nQ 46.296875 72.90625 52.390625 68.21875 \nQ 58.5 63.53125 58.5 54.890625 \nQ 58.5 48.1875 55.375 44.234375 \nQ 52.25 40.28125 46.1875 39.3125 \nQ 53.46875 37.75 57.5 32.78125 \nQ 61.53125 27.828125 61.53125 20.40625 \nQ 61.53125 10.640625 54.890625 5.3125 \nQ 48.25 0 35.984375 0 \nL 9.8125 0 \nz\n\" id=\"DejaVuSans-66\"/>\n      </defs>\n      <g style=\"fill:#5a5034;\" transform=\"translate(130.951976 630.7525)rotate(-90)scale(0.12 -0.12)\">\n       <use xlink:href=\"#DejaVuSans-66\"/>\n       <use x=\"68.603516\" xlink:href=\"#DejaVuSans-97\"/>\n       <use x=\"129.882812\" xlink:href=\"#DejaVuSans-110\"/>\n       <use x=\"193.261719\" xlink:href=\"#DejaVuSans-97\"/>\n       <use x=\"254.541016\" xlink:href=\"#DejaVuSans-110\"/>\n       <use x=\"317.919922\" xlink:href=\"#DejaVuSans-97\"/>\n       <use x=\"379.199219\" xlink:href=\"#DejaVuSans-115\"/>\n      </g>\n     </g>\n    </g>\n    <g id=\"xtick_8\">\n     <g id=\"line2d_8\">\n      <g>\n       <use style=\"stroke:#000000;stroke-width:0.8;\" x=\"137.69478\" xlink:href=\"#m798dcede4b\" y=\"571.996875\"/>\n      </g>\n     </g>\n     <g id=\"text_8\">\n      <!-- Barley -->\n      <defs>\n       <path d=\"M 32.171875 -5.078125 \nQ 28.375 -14.84375 24.75 -17.8125 \nQ 21.140625 -20.796875 15.09375 -20.796875 \nL 7.90625 -20.796875 \nL 7.90625 -13.28125 \nL 13.1875 -13.28125 \nQ 16.890625 -13.28125 18.9375 -11.515625 \nQ 21 -9.765625 23.484375 -3.21875 \nL 25.09375 0.875 \nL 2.984375 54.6875 \nL 12.5 54.6875 \nL 29.59375 11.921875 \nL 46.6875 54.6875 \nL 56.203125 54.6875 \nz\n\" id=\"DejaVuSans-121\"/>\n      </defs>\n      <g style=\"fill:#5a5034;\" transform=\"translate(141.00603 617.336875)rotate(-90)scale(0.12 -0.12)\">\n       <use xlink:href=\"#DejaVuSans-66\"/>\n       <use x=\"68.603516\" xlink:href=\"#DejaVuSans-97\"/>\n       <use x=\"129.882812\" xlink:href=\"#DejaVuSans-114\"/>\n       <use x=\"170.996094\" xlink:href=\"#DejaVuSans-108\"/>\n       <use x=\"198.779297\" xlink:href=\"#DejaVuSans-101\"/>\n       <use x=\"260.302734\" xlink:href=\"#DejaVuSans-121\"/>\n      </g>\n     </g>\n    </g>\n    <g id=\"xtick_9\">\n     <g id=\"line2d_9\">\n      <g>\n       <use style=\"stroke:#000000;stroke-width:0.8;\" x=\"147.748834\" xlink:href=\"#m798dcede4b\" y=\"571.996875\"/>\n      </g>\n     </g>\n     <g id=\"text_9\">\n      <!-- Beans, dry -->\n      <g style=\"fill:#5a5034;\" transform=\"translate(151.060084 643.105)rotate(-90)scale(0.12 -0.12)\">\n       <use xlink:href=\"#DejaVuSans-66\"/>\n       <use x=\"68.603516\" xlink:href=\"#DejaVuSans-101\"/>\n       <use x=\"130.126953\" xlink:href=\"#DejaVuSans-97\"/>\n       <use x=\"191.40625\" xlink:href=\"#DejaVuSans-110\"/>\n       <use x=\"254.785156\" xlink:href=\"#DejaVuSans-115\"/>\n       <use x=\"306.884766\" xlink:href=\"#DejaVuSans-44\"/>\n       <use x=\"338.671875\" xlink:href=\"#DejaVuSans-32\"/>\n       <use x=\"370.458984\" xlink:href=\"#DejaVuSans-100\"/>\n       <use x=\"433.935547\" xlink:href=\"#DejaVuSans-114\"/>\n       <use x=\"475.048828\" xlink:href=\"#DejaVuSans-121\"/>\n      </g>\n     </g>\n    </g>\n    <g id=\"xtick_10\">\n     <g id=\"line2d_10\">\n      <g>\n       <use style=\"stroke:#000000;stroke-width:0.8;\" x=\"157.802889\" xlink:href=\"#m798dcede4b\" y=\"571.996875\"/>\n      </g>\n     </g>\n     <g id=\"text_10\">\n      <!-- Beans, green -->\n      <g style=\"fill:#5a5034;\" transform=\"translate(161.114139 658.105)rotate(-90)scale(0.12 -0.12)\">\n       <use xlink:href=\"#DejaVuSans-66\"/>\n       <use x=\"68.603516\" xlink:href=\"#DejaVuSans-101\"/>\n       <use x=\"130.126953\" xlink:href=\"#DejaVuSans-97\"/>\n       <use x=\"191.40625\" xlink:href=\"#DejaVuSans-110\"/>\n       <use x=\"254.785156\" xlink:href=\"#DejaVuSans-115\"/>\n       <use x=\"306.884766\" xlink:href=\"#DejaVuSans-44\"/>\n       <use x=\"338.671875\" xlink:href=\"#DejaVuSans-32\"/>\n       <use x=\"370.458984\" xlink:href=\"#DejaVuSans-103\"/>\n       <use x=\"433.935547\" xlink:href=\"#DejaVuSans-114\"/>\n       <use x=\"472.798828\" xlink:href=\"#DejaVuSans-101\"/>\n       <use x=\"534.322266\" xlink:href=\"#DejaVuSans-101\"/>\n       <use x=\"595.845703\" xlink:href=\"#DejaVuSans-110\"/>\n      </g>\n     </g>\n    </g>\n    <g id=\"xtick_11\">\n     <g id=\"line2d_11\">\n      <g>\n       <use style=\"stroke:#000000;stroke-width:0.8;\" x=\"167.856943\" xlink:href=\"#m798dcede4b\" y=\"571.996875\"/>\n      </g>\n     </g>\n     <g id=\"text_11\">\n      <!-- Beeswax -->\n      <defs>\n       <path d=\"M 54.890625 54.6875 \nL 35.109375 28.078125 \nL 55.90625 0 \nL 45.3125 0 \nL 29.390625 21.484375 \nL 13.484375 0 \nL 2.875 0 \nL 24.125 28.609375 \nL 4.6875 54.6875 \nL 15.28125 54.6875 \nL 29.78125 35.203125 \nL 44.28125 54.6875 \nz\n\" id=\"DejaVuSans-120\"/>\n      </defs>\n      <g style=\"fill:#5a5034;\" transform=\"translate(171.168193 632.51875)rotate(-90)scale(0.12 -0.12)\">\n       <use xlink:href=\"#DejaVuSans-66\"/>\n       <use x=\"68.603516\" xlink:href=\"#DejaVuSans-101\"/>\n       <use x=\"130.126953\" xlink:href=\"#DejaVuSans-101\"/>\n       <use x=\"191.650391\" xlink:href=\"#DejaVuSans-115\"/>\n       <use x=\"243.75\" xlink:href=\"#DejaVuSans-119\"/>\n       <use x=\"325.537109\" xlink:href=\"#DejaVuSans-97\"/>\n       <use x=\"386.816406\" xlink:href=\"#DejaVuSans-120\"/>\n      </g>\n     </g>\n    </g>\n    <g id=\"xtick_12\">\n     <g id=\"line2d_12\">\n      <g>\n       <use style=\"stroke:#000000;stroke-width:0.8;\" x=\"177.910997\" xlink:href=\"#m798dcede4b\" y=\"571.996875\"/>\n      </g>\n     </g>\n     <g id=\"text_12\">\n      <!-- Broad beans, horse beans, dry -->\n      <defs>\n       <path d=\"M 48.6875 27.296875 \nQ 48.6875 37.203125 44.609375 42.84375 \nQ 40.53125 48.484375 33.40625 48.484375 \nQ 26.265625 48.484375 22.1875 42.84375 \nQ 18.109375 37.203125 18.109375 27.296875 \nQ 18.109375 17.390625 22.1875 11.75 \nQ 26.265625 6.109375 33.40625 6.109375 \nQ 40.53125 6.109375 44.609375 11.75 \nQ 48.6875 17.390625 48.6875 27.296875 \nz\nM 18.109375 46.390625 \nQ 20.953125 51.265625 25.265625 53.625 \nQ 29.59375 56 35.59375 56 \nQ 45.5625 56 51.78125 48.09375 \nQ 58.015625 40.1875 58.015625 27.296875 \nQ 58.015625 14.40625 51.78125 6.484375 \nQ 45.5625 -1.421875 35.59375 -1.421875 \nQ 29.59375 -1.421875 25.265625 0.953125 \nQ 20.953125 3.328125 18.109375 8.203125 \nL 18.109375 0 \nL 9.078125 0 \nL 9.078125 75.984375 \nL 18.109375 75.984375 \nz\n\" id=\"DejaVuSans-98\"/>\n      </defs>\n      <g style=\"fill:#5a5034;\" transform=\"translate(181.222247 762.683125)rotate(-90)scale(0.12 -0.12)\">\n       <use xlink:href=\"#DejaVuSans-66\"/>\n       <use x=\"68.603516\" xlink:href=\"#DejaVuSans-114\"/>\n       <use x=\"107.466797\" xlink:href=\"#DejaVuSans-111\"/>\n       <use x=\"168.648438\" xlink:href=\"#DejaVuSans-97\"/>\n       <use x=\"229.927734\" xlink:href=\"#DejaVuSans-100\"/>\n       <use x=\"293.404297\" xlink:href=\"#DejaVuSans-32\"/>\n       <use x=\"325.191406\" xlink:href=\"#DejaVuSans-98\"/>\n       <use x=\"388.667969\" xlink:href=\"#DejaVuSans-101\"/>\n       <use x=\"450.191406\" xlink:href=\"#DejaVuSans-97\"/>\n       <use x=\"511.470703\" xlink:href=\"#DejaVuSans-110\"/>\n       <use x=\"574.849609\" xlink:href=\"#DejaVuSans-115\"/>\n       <use x=\"626.949219\" xlink:href=\"#DejaVuSans-44\"/>\n       <use x=\"658.736328\" xlink:href=\"#DejaVuSans-32\"/>\n       <use x=\"690.523438\" xlink:href=\"#DejaVuSans-104\"/>\n       <use x=\"753.902344\" xlink:href=\"#DejaVuSans-111\"/>\n       <use x=\"815.083984\" xlink:href=\"#DejaVuSans-114\"/>\n       <use x=\"856.197266\" xlink:href=\"#DejaVuSans-115\"/>\n       <use x=\"908.296875\" xlink:href=\"#DejaVuSans-101\"/>\n       <use x=\"969.820312\" xlink:href=\"#DejaVuSans-32\"/>\n       <use x=\"1001.607422\" xlink:href=\"#DejaVuSans-98\"/>\n       <use x=\"1065.083984\" xlink:href=\"#DejaVuSans-101\"/>\n       <use x=\"1126.607422\" xlink:href=\"#DejaVuSans-97\"/>\n       <use x=\"1187.886719\" xlink:href=\"#DejaVuSans-110\"/>\n       <use x=\"1251.265625\" xlink:href=\"#DejaVuSans-115\"/>\n       <use x=\"1303.365234\" xlink:href=\"#DejaVuSans-44\"/>\n       <use x=\"1335.152344\" xlink:href=\"#DejaVuSans-32\"/>\n       <use x=\"1366.939453\" xlink:href=\"#DejaVuSans-100\"/>\n       <use x=\"1430.416016\" xlink:href=\"#DejaVuSans-114\"/>\n       <use x=\"1471.529297\" xlink:href=\"#DejaVuSans-121\"/>\n      </g>\n     </g>\n    </g>\n    <g id=\"xtick_13\">\n     <g id=\"line2d_13\">\n      <g>\n       <use style=\"stroke:#000000;stroke-width:0.8;\" x=\"187.965051\" xlink:href=\"#m798dcede4b\" y=\"571.996875\"/>\n      </g>\n     </g>\n     <g id=\"text_13\">\n      <!-- Cabbages and other brassicas -->\n      <defs>\n       <path d=\"M 64.40625 67.28125 \nL 64.40625 56.890625 \nQ 59.421875 61.53125 53.78125 63.8125 \nQ 48.140625 66.109375 41.796875 66.109375 \nQ 29.296875 66.109375 22.65625 58.46875 \nQ 16.015625 50.828125 16.015625 36.375 \nQ 16.015625 21.96875 22.65625 14.328125 \nQ 29.296875 6.6875 41.796875 6.6875 \nQ 48.140625 6.6875 53.78125 8.984375 \nQ 59.421875 11.28125 64.40625 15.921875 \nL 64.40625 5.609375 \nQ 59.234375 2.09375 53.4375 0.328125 \nQ 47.65625 -1.421875 41.21875 -1.421875 \nQ 24.65625 -1.421875 15.125 8.703125 \nQ 5.609375 18.84375 5.609375 36.375 \nQ 5.609375 53.953125 15.125 64.078125 \nQ 24.65625 74.21875 41.21875 74.21875 \nQ 47.75 74.21875 53.53125 72.484375 \nQ 59.328125 70.75 64.40625 67.28125 \nz\n\" id=\"DejaVuSans-67\"/>\n      </defs>\n      <g style=\"fill:#5a5034;\" transform=\"translate(191.276301 760.504375)rotate(-90)scale(0.12 -0.12)\">\n       <use xlink:href=\"#DejaVuSans-67\"/>\n       <use x=\"69.824219\" xlink:href=\"#DejaVuSans-97\"/>\n       <use x=\"131.103516\" xlink:href=\"#DejaVuSans-98\"/>\n       <use x=\"194.580078\" xlink:href=\"#DejaVuSans-98\"/>\n       <use x=\"258.056641\" xlink:href=\"#DejaVuSans-97\"/>\n       <use x=\"319.335938\" xlink:href=\"#DejaVuSans-103\"/>\n       <use x=\"382.8125\" xlink:href=\"#DejaVuSans-101\"/>\n       <use x=\"444.335938\" xlink:href=\"#DejaVuSans-115\"/>\n       <use x=\"496.435547\" xlink:href=\"#DejaVuSans-32\"/>\n       <use x=\"528.222656\" xlink:href=\"#DejaVuSans-97\"/>\n       <use x=\"589.501953\" xlink:href=\"#DejaVuSans-110\"/>\n       <use x=\"652.880859\" xlink:href=\"#DejaVuSans-100\"/>\n       <use x=\"716.357422\" xlink:href=\"#DejaVuSans-32\"/>\n       <use x=\"748.144531\" xlink:href=\"#DejaVuSans-111\"/>\n       <use x=\"809.326172\" xlink:href=\"#DejaVuSans-116\"/>\n       <use x=\"848.535156\" xlink:href=\"#DejaVuSans-104\"/>\n       <use x=\"911.914062\" xlink:href=\"#DejaVuSans-101\"/>\n       <use x=\"973.4375\" xlink:href=\"#DejaVuSans-114\"/>\n       <use x=\"1014.550781\" xlink:href=\"#DejaVuSans-32\"/>\n       <use x=\"1046.337891\" xlink:href=\"#DejaVuSans-98\"/>\n       <use x=\"1109.814453\" xlink:href=\"#DejaVuSans-114\"/>\n       <use x=\"1150.927734\" xlink:href=\"#DejaVuSans-97\"/>\n       <use x=\"1212.207031\" xlink:href=\"#DejaVuSans-115\"/>\n       <use x=\"1264.306641\" xlink:href=\"#DejaVuSans-115\"/>\n       <use x=\"1316.40625\" xlink:href=\"#DejaVuSans-105\"/>\n       <use x=\"1344.189453\" xlink:href=\"#DejaVuSans-99\"/>\n       <use x=\"1399.169922\" xlink:href=\"#DejaVuSans-97\"/>\n       <use x=\"1460.449219\" xlink:href=\"#DejaVuSans-115\"/>\n      </g>\n     </g>\n    </g>\n    <g id=\"xtick_14\">\n     <g id=\"line2d_14\">\n      <g>\n       <use style=\"stroke:#000000;stroke-width:0.8;\" x=\"198.019105\" xlink:href=\"#m798dcede4b\" y=\"571.996875\"/>\n      </g>\n     </g>\n     <g id=\"text_14\">\n      <!-- Canary seed -->\n      <g style=\"fill:#5a5034;\" transform=\"translate(201.330355 654.175)rotate(-90)scale(0.12 -0.12)\">\n       <use xlink:href=\"#DejaVuSans-67\"/>\n       <use x=\"69.824219\" xlink:href=\"#DejaVuSans-97\"/>\n       <use x=\"131.103516\" xlink:href=\"#DejaVuSans-110\"/>\n       <use x=\"194.482422\" xlink:href=\"#DejaVuSans-97\"/>\n       <use x=\"255.761719\" xlink:href=\"#DejaVuSans-114\"/>\n       <use x=\"296.875\" xlink:href=\"#DejaVuSans-121\"/>\n       <use x=\"356.054688\" xlink:href=\"#DejaVuSans-32\"/>\n       <use x=\"387.841797\" xlink:href=\"#DejaVuSans-115\"/>\n       <use x=\"439.941406\" xlink:href=\"#DejaVuSans-101\"/>\n       <use x=\"501.464844\" xlink:href=\"#DejaVuSans-101\"/>\n       <use x=\"562.988281\" xlink:href=\"#DejaVuSans-100\"/>\n      </g>\n     </g>\n    </g>\n    <g id=\"xtick_15\">\n     <g id=\"line2d_15\">\n      <g>\n       <use style=\"stroke:#000000;stroke-width:0.8;\" x=\"208.073159\" xlink:href=\"#m798dcede4b\" y=\"571.996875\"/>\n      </g>\n     </g>\n     <g id=\"text_15\">\n      <!-- Carobs -->\n      <g style=\"fill:#5a5034;\" transform=\"translate(211.384409 620.605)rotate(-90)scale(0.12 -0.12)\">\n       <use xlink:href=\"#DejaVuSans-67\"/>\n       <use x=\"69.824219\" xlink:href=\"#DejaVuSans-97\"/>\n       <use x=\"131.103516\" xlink:href=\"#DejaVuSans-114\"/>\n       <use x=\"169.966797\" xlink:href=\"#DejaVuSans-111\"/>\n       <use x=\"231.148438\" xlink:href=\"#DejaVuSans-98\"/>\n       <use x=\"294.625\" xlink:href=\"#DejaVuSans-115\"/>\n      </g>\n     </g>\n    </g>\n    <g id=\"xtick_16\">\n     <g id=\"line2d_16\">\n      <g>\n       <use style=\"stroke:#000000;stroke-width:0.8;\" x=\"218.127213\" xlink:href=\"#m798dcede4b\" y=\"571.996875\"/>\n      </g>\n     </g>\n     <g id=\"text_16\">\n      <!-- Carrots and turnips -->\n      <g style=\"fill:#5a5034;\" transform=\"translate(221.438463 694.459375)rotate(-90)scale(0.12 -0.12)\">\n       <use xlink:href=\"#DejaVuSans-67\"/>\n       <use x=\"69.824219\" xlink:href=\"#DejaVuSans-97\"/>\n       <use x=\"131.103516\" xlink:href=\"#DejaVuSans-114\"/>\n       <use x=\"170.466797\" xlink:href=\"#DejaVuSans-114\"/>\n       <use x=\"209.330078\" xlink:href=\"#DejaVuSans-111\"/>\n       <use x=\"270.511719\" xlink:href=\"#DejaVuSans-116\"/>\n       <use x=\"309.720703\" xlink:href=\"#DejaVuSans-115\"/>\n       <use x=\"361.820312\" xlink:href=\"#DejaVuSans-32\"/>\n       <use x=\"393.607422\" xlink:href=\"#DejaVuSans-97\"/>\n       <use x=\"454.886719\" xlink:href=\"#DejaVuSans-110\"/>\n       <use x=\"518.265625\" xlink:href=\"#DejaVuSans-100\"/>\n       <use x=\"581.742188\" xlink:href=\"#DejaVuSans-32\"/>\n       <use x=\"613.529297\" xlink:href=\"#DejaVuSans-116\"/>\n       <use x=\"652.738281\" xlink:href=\"#DejaVuSans-117\"/>\n       <use x=\"716.117188\" xlink:href=\"#DejaVuSans-114\"/>\n       <use x=\"755.480469\" xlink:href=\"#DejaVuSans-110\"/>\n       <use x=\"818.859375\" xlink:href=\"#DejaVuSans-105\"/>\n       <use x=\"846.642578\" xlink:href=\"#DejaVuSans-112\"/>\n       <use x=\"910.119141\" xlink:href=\"#DejaVuSans-115\"/>\n      </g>\n     </g>\n    </g>\n    <g id=\"xtick_17\">\n     <g id=\"line2d_17\">\n      <g>\n       <use style=\"stroke:#000000;stroke-width:0.8;\" x=\"228.181267\" xlink:href=\"#m798dcede4b\" y=\"571.996875\"/>\n      </g>\n     </g>\n     <g id=\"text_17\">\n      <!-- Cauliflowers and broccoli -->\n      <defs>\n       <path d=\"M 37.109375 75.984375 \nL 37.109375 68.5 \nL 28.515625 68.5 \nQ 23.6875 68.5 21.796875 66.546875 \nQ 19.921875 64.59375 19.921875 59.515625 \nL 19.921875 54.6875 \nL 34.71875 54.6875 \nL 34.71875 47.703125 \nL 19.921875 47.703125 \nL 19.921875 0 \nL 10.890625 0 \nL 10.890625 47.703125 \nL 2.296875 47.703125 \nL 2.296875 54.6875 \nL 10.890625 54.6875 \nL 10.890625 58.5 \nQ 10.890625 67.625 15.140625 71.796875 \nQ 19.390625 75.984375 28.609375 75.984375 \nz\n\" id=\"DejaVuSans-102\"/>\n      </defs>\n      <g style=\"fill:#5a5034;\" transform=\"translate(231.492517 729.319375)rotate(-90)scale(0.12 -0.12)\">\n       <use xlink:href=\"#DejaVuSans-67\"/>\n       <use x=\"69.824219\" xlink:href=\"#DejaVuSans-97\"/>\n       <use x=\"131.103516\" xlink:href=\"#DejaVuSans-117\"/>\n       <use x=\"194.482422\" xlink:href=\"#DejaVuSans-108\"/>\n       <use x=\"222.265625\" xlink:href=\"#DejaVuSans-105\"/>\n       <use x=\"250.048828\" xlink:href=\"#DejaVuSans-102\"/>\n       <use x=\"285.253906\" xlink:href=\"#DejaVuSans-108\"/>\n       <use x=\"313.037109\" xlink:href=\"#DejaVuSans-111\"/>\n       <use x=\"374.21875\" xlink:href=\"#DejaVuSans-119\"/>\n       <use x=\"456.005859\" xlink:href=\"#DejaVuSans-101\"/>\n       <use x=\"517.529297\" xlink:href=\"#DejaVuSans-114\"/>\n       <use x=\"558.642578\" xlink:href=\"#DejaVuSans-115\"/>\n       <use x=\"610.742188\" xlink:href=\"#DejaVuSans-32\"/>\n       <use x=\"642.529297\" xlink:href=\"#DejaVuSans-97\"/>\n       <use x=\"703.808594\" xlink:href=\"#DejaVuSans-110\"/>\n       <use x=\"767.1875\" xlink:href=\"#DejaVuSans-100\"/>\n       <use x=\"830.664062\" xlink:href=\"#DejaVuSans-32\"/>\n       <use x=\"862.451172\" xlink:href=\"#DejaVuSans-98\"/>\n       <use x=\"925.927734\" xlink:href=\"#DejaVuSans-114\"/>\n       <use x=\"964.791016\" xlink:href=\"#DejaVuSans-111\"/>\n       <use x=\"1025.972656\" xlink:href=\"#DejaVuSans-99\"/>\n       <use x=\"1080.953125\" xlink:href=\"#DejaVuSans-99\"/>\n       <use x=\"1135.933594\" xlink:href=\"#DejaVuSans-111\"/>\n       <use x=\"1197.115234\" xlink:href=\"#DejaVuSans-108\"/>\n       <use x=\"1224.898438\" xlink:href=\"#DejaVuSans-105\"/>\n      </g>\n     </g>\n    </g>\n    <g id=\"xtick_18\">\n     <g id=\"line2d_18\">\n      <g>\n       <use style=\"stroke:#000000;stroke-width:0.8;\" x=\"238.235321\" xlink:href=\"#m798dcede4b\" y=\"571.996875\"/>\n      </g>\n     </g>\n     <g id=\"text_18\">\n      <!-- Cherries -->\n      <g style=\"fill:#5a5034;\" transform=\"translate(241.546571 628.99)rotate(-90)scale(0.12 -0.12)\">\n       <use xlink:href=\"#DejaVuSans-67\"/>\n       <use x=\"69.824219\" xlink:href=\"#DejaVuSans-104\"/>\n       <use x=\"133.203125\" xlink:href=\"#DejaVuSans-101\"/>\n       <use x=\"194.726562\" xlink:href=\"#DejaVuSans-114\"/>\n       <use x=\"234.089844\" xlink:href=\"#DejaVuSans-114\"/>\n       <use x=\"275.203125\" xlink:href=\"#DejaVuSans-105\"/>\n       <use x=\"302.986328\" xlink:href=\"#DejaVuSans-101\"/>\n       <use x=\"364.509766\" xlink:href=\"#DejaVuSans-115\"/>\n      </g>\n     </g>\n    </g>\n    <g id=\"xtick_19\">\n     <g id=\"line2d_19\">\n      <g>\n       <use style=\"stroke:#000000;stroke-width:0.8;\" x=\"248.289375\" xlink:href=\"#m798dcede4b\" y=\"571.996875\"/>\n      </g>\n     </g>\n     <g id=\"text_19\">\n      <!-- Cherries, sour -->\n      <g style=\"fill:#5a5034;\" transform=\"translate(251.600625 662.749375)rotate(-90)scale(0.12 -0.12)\">\n       <use xlink:href=\"#DejaVuSans-67\"/>\n       <use x=\"69.824219\" xlink:href=\"#DejaVuSans-104\"/>\n       <use x=\"133.203125\" xlink:href=\"#DejaVuSans-101\"/>\n       <use x=\"194.726562\" xlink:href=\"#DejaVuSans-114\"/>\n       <use x=\"234.089844\" xlink:href=\"#DejaVuSans-114\"/>\n       <use x=\"275.203125\" xlink:href=\"#DejaVuSans-105\"/>\n       <use x=\"302.986328\" xlink:href=\"#DejaVuSans-101\"/>\n       <use x=\"364.509766\" xlink:href=\"#DejaVuSans-115\"/>\n       <use x=\"416.609375\" xlink:href=\"#DejaVuSans-44\"/>\n       <use x=\"448.396484\" xlink:href=\"#DejaVuSans-32\"/>\n       <use x=\"480.183594\" xlink:href=\"#DejaVuSans-115\"/>\n       <use x=\"532.283203\" xlink:href=\"#DejaVuSans-111\"/>\n       <use x=\"593.464844\" xlink:href=\"#DejaVuSans-117\"/>\n       <use x=\"656.84375\" xlink:href=\"#DejaVuSans-114\"/>\n      </g>\n     </g>\n    </g>\n    <g id=\"xtick_20\">\n     <g id=\"line2d_20\">\n      <g>\n       <use style=\"stroke:#000000;stroke-width:0.8;\" x=\"258.343429\" xlink:href=\"#m798dcede4b\" y=\"571.996875\"/>\n      </g>\n     </g>\n     <g id=\"text_20\">\n      <!-- Chestnut -->\n      <g style=\"fill:#5a5034;\" transform=\"translate(261.654679 633.235)rotate(-90)scale(0.12 -0.12)\">\n       <use xlink:href=\"#DejaVuSans-67\"/>\n       <use x=\"69.824219\" xlink:href=\"#DejaVuSans-104\"/>\n       <use x=\"133.203125\" xlink:href=\"#DejaVuSans-101\"/>\n       <use x=\"194.726562\" xlink:href=\"#DejaVuSans-115\"/>\n       <use x=\"246.826172\" xlink:href=\"#DejaVuSans-116\"/>\n       <use x=\"286.035156\" xlink:href=\"#DejaVuSans-110\"/>\n       <use x=\"349.414062\" xlink:href=\"#DejaVuSans-117\"/>\n       <use x=\"412.792969\" xlink:href=\"#DejaVuSans-116\"/>\n      </g>\n     </g>\n    </g>\n    <g id=\"xtick_21\">\n     <g id=\"line2d_21\">\n      <g>\n       <use style=\"stroke:#000000;stroke-width:0.8;\" x=\"268.397483\" xlink:href=\"#m798dcede4b\" y=\"571.996875\"/>\n      </g>\n     </g>\n     <g id=\"text_21\">\n      <!-- Chick peas -->\n      <g style=\"fill:#5a5034;\" transform=\"translate(271.708733 644.2825)rotate(-90)scale(0.12 -0.12)\">\n       <use xlink:href=\"#DejaVuSans-67\"/>\n       <use x=\"69.824219\" xlink:href=\"#DejaVuSans-104\"/>\n       <use x=\"133.203125\" xlink:href=\"#DejaVuSans-105\"/>\n       <use x=\"160.986328\" xlink:href=\"#DejaVuSans-99\"/>\n       <use x=\"215.966797\" xlink:href=\"#DejaVuSans-107\"/>\n       <use x=\"273.876953\" xlink:href=\"#DejaVuSans-32\"/>\n       <use x=\"305.664062\" xlink:href=\"#DejaVuSans-112\"/>\n       <use x=\"369.140625\" xlink:href=\"#DejaVuSans-101\"/>\n       <use x=\"430.664062\" xlink:href=\"#DejaVuSans-97\"/>\n       <use x=\"491.943359\" xlink:href=\"#DejaVuSans-115\"/>\n      </g>\n     </g>\n    </g>\n    <g id=\"xtick_22\">\n     <g id=\"line2d_22\">\n      <g>\n       <use style=\"stroke:#000000;stroke-width:0.8;\" x=\"278.451537\" xlink:href=\"#m798dcede4b\" y=\"571.996875\"/>\n      </g>\n     </g>\n     <g id=\"text_22\">\n      <!-- Chicory roots -->\n      <g style=\"fill:#5a5034;\" transform=\"translate(281.762787 658.40875)rotate(-90)scale(0.12 -0.12)\">\n       <use xlink:href=\"#DejaVuSans-67\"/>\n       <use x=\"69.824219\" xlink:href=\"#DejaVuSans-104\"/>\n       <use x=\"133.203125\" xlink:href=\"#DejaVuSans-105\"/>\n       <use x=\"160.986328\" xlink:href=\"#DejaVuSans-99\"/>\n       <use x=\"215.966797\" xlink:href=\"#DejaVuSans-111\"/>\n       <use x=\"277.148438\" xlink:href=\"#DejaVuSans-114\"/>\n       <use x=\"318.261719\" xlink:href=\"#DejaVuSans-121\"/>\n       <use x=\"377.441406\" xlink:href=\"#DejaVuSans-32\"/>\n       <use x=\"409.228516\" xlink:href=\"#DejaVuSans-114\"/>\n       <use x=\"448.091797\" xlink:href=\"#DejaVuSans-111\"/>\n       <use x=\"509.273438\" xlink:href=\"#DejaVuSans-111\"/>\n       <use x=\"570.455078\" xlink:href=\"#DejaVuSans-116\"/>\n       <use x=\"609.664062\" xlink:href=\"#DejaVuSans-115\"/>\n      </g>\n     </g>\n    </g>\n    <g id=\"xtick_23\">\n     <g id=\"line2d_23\">\n      <g>\n       <use style=\"stroke:#000000;stroke-width:0.8;\" x=\"288.505591\" xlink:href=\"#m798dcede4b\" y=\"571.996875\"/>\n      </g>\n     </g>\n     <g id=\"text_23\">\n      <!-- Chillies and peppers, dry -->\n      <g style=\"fill:#5a5034;\" transform=\"translate(291.816841 728.243125)rotate(-90)scale(0.12 -0.12)\">\n       <use xlink:href=\"#DejaVuSans-67\"/>\n       <use x=\"69.824219\" xlink:href=\"#DejaVuSans-104\"/>\n       <use x=\"133.203125\" xlink:href=\"#DejaVuSans-105\"/>\n       <use x=\"160.986328\" xlink:href=\"#DejaVuSans-108\"/>\n       <use x=\"188.769531\" xlink:href=\"#DejaVuSans-108\"/>\n       <use x=\"216.552734\" xlink:href=\"#DejaVuSans-105\"/>\n       <use x=\"244.335938\" xlink:href=\"#DejaVuSans-101\"/>\n       <use x=\"305.859375\" xlink:href=\"#DejaVuSans-115\"/>\n       <use x=\"357.958984\" xlink:href=\"#DejaVuSans-32\"/>\n       <use x=\"389.746094\" xlink:href=\"#DejaVuSans-97\"/>\n       <use x=\"451.025391\" xlink:href=\"#DejaVuSans-110\"/>\n       <use x=\"514.404297\" xlink:href=\"#DejaVuSans-100\"/>\n       <use x=\"577.880859\" xlink:href=\"#DejaVuSans-32\"/>\n       <use x=\"609.667969\" xlink:href=\"#DejaVuSans-112\"/>\n       <use x=\"673.144531\" xlink:href=\"#DejaVuSans-101\"/>\n       <use x=\"734.667969\" xlink:href=\"#DejaVuSans-112\"/>\n       <use x=\"798.144531\" xlink:href=\"#DejaVuSans-112\"/>\n       <use x=\"861.621094\" xlink:href=\"#DejaVuSans-101\"/>\n       <use x=\"923.144531\" xlink:href=\"#DejaVuSans-114\"/>\n       <use x=\"964.257812\" xlink:href=\"#DejaVuSans-115\"/>\n       <use x=\"1016.357422\" xlink:href=\"#DejaVuSans-44\"/>\n       <use x=\"1048.144531\" xlink:href=\"#DejaVuSans-32\"/>\n       <use x=\"1079.931641\" xlink:href=\"#DejaVuSans-100\"/>\n       <use x=\"1143.408203\" xlink:href=\"#DejaVuSans-114\"/>\n       <use x=\"1184.521484\" xlink:href=\"#DejaVuSans-121\"/>\n      </g>\n     </g>\n    </g>\n    <g id=\"xtick_24\">\n     <g id=\"line2d_24\">\n      <g>\n       <use style=\"stroke:#000000;stroke-width:0.8;\" x=\"298.559645\" xlink:href=\"#m798dcede4b\" y=\"571.996875\"/>\n      </g>\n     </g>\n     <g id=\"text_24\">\n      <!-- Chillies and peppers, green -->\n      <g style=\"fill:#5a5034;\" transform=\"translate(301.870895 743.243125)rotate(-90)scale(0.12 -0.12)\">\n       <use xlink:href=\"#DejaVuSans-67\"/>\n       <use x=\"69.824219\" xlink:href=\"#DejaVuSans-104\"/>\n       <use x=\"133.203125\" xlink:href=\"#DejaVuSans-105\"/>\n       <use x=\"160.986328\" xlink:href=\"#DejaVuSans-108\"/>\n       <use x=\"188.769531\" xlink:href=\"#DejaVuSans-108\"/>\n       <use x=\"216.552734\" xlink:href=\"#DejaVuSans-105\"/>\n       <use x=\"244.335938\" xlink:href=\"#DejaVuSans-101\"/>\n       <use x=\"305.859375\" xlink:href=\"#DejaVuSans-115\"/>\n       <use x=\"357.958984\" xlink:href=\"#DejaVuSans-32\"/>\n       <use x=\"389.746094\" xlink:href=\"#DejaVuSans-97\"/>\n       <use x=\"451.025391\" xlink:href=\"#DejaVuSans-110\"/>\n       <use x=\"514.404297\" xlink:href=\"#DejaVuSans-100\"/>\n       <use x=\"577.880859\" xlink:href=\"#DejaVuSans-32\"/>\n       <use x=\"609.667969\" xlink:href=\"#DejaVuSans-112\"/>\n       <use x=\"673.144531\" xlink:href=\"#DejaVuSans-101\"/>\n       <use x=\"734.667969\" xlink:href=\"#DejaVuSans-112\"/>\n       <use x=\"798.144531\" xlink:href=\"#DejaVuSans-112\"/>\n       <use x=\"861.621094\" xlink:href=\"#DejaVuSans-101\"/>\n       <use x=\"923.144531\" xlink:href=\"#DejaVuSans-114\"/>\n       <use x=\"964.257812\" xlink:href=\"#DejaVuSans-115\"/>\n       <use x=\"1016.357422\" xlink:href=\"#DejaVuSans-44\"/>\n       <use x=\"1048.144531\" xlink:href=\"#DejaVuSans-32\"/>\n       <use x=\"1079.931641\" xlink:href=\"#DejaVuSans-103\"/>\n       <use x=\"1143.408203\" xlink:href=\"#DejaVuSans-114\"/>\n       <use x=\"1182.271484\" xlink:href=\"#DejaVuSans-101\"/>\n       <use x=\"1243.794922\" xlink:href=\"#DejaVuSans-101\"/>\n       <use x=\"1305.318359\" xlink:href=\"#DejaVuSans-110\"/>\n      </g>\n     </g>\n    </g>\n    <g id=\"xtick_25\">\n     <g id=\"line2d_25\">\n      <g>\n       <use style=\"stroke:#000000;stroke-width:0.8;\" x=\"308.613699\" xlink:href=\"#m798dcede4b\" y=\"571.996875\"/>\n      </g>\n     </g>\n     <g id=\"text_25\">\n      <!-- Cottonseed -->\n      <g style=\"fill:#5a5034;\" transform=\"translate(311.924949 647.711875)rotate(-90)scale(0.12 -0.12)\">\n       <use xlink:href=\"#DejaVuSans-67\"/>\n       <use x=\"69.824219\" xlink:href=\"#DejaVuSans-111\"/>\n       <use x=\"131.005859\" xlink:href=\"#DejaVuSans-116\"/>\n       <use x=\"170.214844\" xlink:href=\"#DejaVuSans-116\"/>\n       <use x=\"209.423828\" xlink:href=\"#DejaVuSans-111\"/>\n       <use x=\"270.605469\" xlink:href=\"#DejaVuSans-110\"/>\n       <use x=\"333.984375\" xlink:href=\"#DejaVuSans-115\"/>\n       <use x=\"386.083984\" xlink:href=\"#DejaVuSans-101\"/>\n       <use x=\"447.607422\" xlink:href=\"#DejaVuSans-101\"/>\n       <use x=\"509.130859\" xlink:href=\"#DejaVuSans-100\"/>\n      </g>\n     </g>\n    </g>\n    <g id=\"xtick_26\">\n     <g id=\"line2d_26\">\n      <g>\n       <use style=\"stroke:#000000;stroke-width:0.8;\" x=\"318.667753\" xlink:href=\"#m798dcede4b\" y=\"571.996875\"/>\n      </g>\n     </g>\n     <g id=\"text_26\">\n      <!-- Cucumbers and gherkins -->\n      <g style=\"fill:#5a5034;\" transform=\"translate(321.979003 728.9425)rotate(-90)scale(0.12 -0.12)\">\n       <use xlink:href=\"#DejaVuSans-67\"/>\n       <use x=\"69.824219\" xlink:href=\"#DejaVuSans-117\"/>\n       <use x=\"133.203125\" xlink:href=\"#DejaVuSans-99\"/>\n       <use x=\"188.183594\" xlink:href=\"#DejaVuSans-117\"/>\n       <use x=\"251.5625\" xlink:href=\"#DejaVuSans-109\"/>\n       <use x=\"348.974609\" xlink:href=\"#DejaVuSans-98\"/>\n       <use x=\"412.451172\" xlink:href=\"#DejaVuSans-101\"/>\n       <use x=\"473.974609\" xlink:href=\"#DejaVuSans-114\"/>\n       <use x=\"515.087891\" xlink:href=\"#DejaVuSans-115\"/>\n       <use x=\"567.1875\" xlink:href=\"#DejaVuSans-32\"/>\n       <use x=\"598.974609\" xlink:href=\"#DejaVuSans-97\"/>\n       <use x=\"660.253906\" xlink:href=\"#DejaVuSans-110\"/>\n       <use x=\"723.632812\" xlink:href=\"#DejaVuSans-100\"/>\n       <use x=\"787.109375\" xlink:href=\"#DejaVuSans-32\"/>\n       <use x=\"818.896484\" xlink:href=\"#DejaVuSans-103\"/>\n       <use x=\"882.373047\" xlink:href=\"#DejaVuSans-104\"/>\n       <use x=\"945.751953\" xlink:href=\"#DejaVuSans-101\"/>\n       <use x=\"1007.275391\" xlink:href=\"#DejaVuSans-114\"/>\n       <use x=\"1048.388672\" xlink:href=\"#DejaVuSans-107\"/>\n       <use x=\"1106.298828\" xlink:href=\"#DejaVuSans-105\"/>\n       <use x=\"1134.082031\" xlink:href=\"#DejaVuSans-110\"/>\n       <use x=\"1197.460938\" xlink:href=\"#DejaVuSans-115\"/>\n      </g>\n     </g>\n    </g>\n    <g id=\"xtick_27\">\n     <g id=\"line2d_27\">\n      <g>\n       <use style=\"stroke:#000000;stroke-width:0.8;\" x=\"328.721807\" xlink:href=\"#m798dcede4b\" y=\"571.996875\"/>\n      </g>\n     </g>\n     <g id=\"text_27\">\n      <!-- Dates -->\n      <defs>\n       <path d=\"M 19.671875 64.796875 \nL 19.671875 8.109375 \nL 31.59375 8.109375 \nQ 46.6875 8.109375 53.6875 14.9375 \nQ 60.6875 21.78125 60.6875 36.53125 \nQ 60.6875 51.171875 53.6875 57.984375 \nQ 46.6875 64.796875 31.59375 64.796875 \nz\nM 9.8125 72.90625 \nL 30.078125 72.90625 \nQ 51.265625 72.90625 61.171875 64.09375 \nQ 71.09375 55.28125 71.09375 36.53125 \nQ 71.09375 17.671875 61.125 8.828125 \nQ 51.171875 0 30.078125 0 \nL 9.8125 0 \nz\n\" id=\"DejaVuSans-68\"/>\n      </defs>\n      <g style=\"fill:#5a5034;\" transform=\"translate(332.033057 613.93)rotate(-90)scale(0.12 -0.12)\">\n       <use xlink:href=\"#DejaVuSans-68\"/>\n       <use x=\"77.001953\" xlink:href=\"#DejaVuSans-97\"/>\n       <use x=\"138.28125\" xlink:href=\"#DejaVuSans-116\"/>\n       <use x=\"177.490234\" xlink:href=\"#DejaVuSans-101\"/>\n       <use x=\"239.013672\" xlink:href=\"#DejaVuSans-115\"/>\n      </g>\n     </g>\n    </g>\n    <g id=\"xtick_28\">\n     <g id=\"line2d_28\">\n      <g>\n       <use style=\"stroke:#000000;stroke-width:0.8;\" x=\"338.775861\" xlink:href=\"#m798dcede4b\" y=\"571.996875\"/>\n      </g>\n     </g>\n     <g id=\"text_28\">\n      <!-- Eggplants (aubergines) -->\n      <defs>\n       <path d=\"M 9.8125 72.90625 \nL 55.90625 72.90625 \nL 55.90625 64.59375 \nL 19.671875 64.59375 \nL 19.671875 43.015625 \nL 54.390625 43.015625 \nL 54.390625 34.71875 \nL 19.671875 34.71875 \nL 19.671875 8.296875 \nL 56.78125 8.296875 \nL 56.78125 0 \nL 9.8125 0 \nz\n\" id=\"DejaVuSans-69\"/>\n       <path d=\"M 31 75.875 \nQ 24.46875 64.65625 21.28125 53.65625 \nQ 18.109375 42.671875 18.109375 31.390625 \nQ 18.109375 20.125 21.3125 9.0625 \nQ 24.515625 -2 31 -13.1875 \nL 23.1875 -13.1875 \nQ 15.875 -1.703125 12.234375 9.375 \nQ 8.59375 20.453125 8.59375 31.390625 \nQ 8.59375 42.28125 12.203125 53.3125 \nQ 15.828125 64.359375 23.1875 75.875 \nz\n\" id=\"DejaVuSans-40\"/>\n       <path d=\"M 8.015625 75.875 \nL 15.828125 75.875 \nQ 23.140625 64.359375 26.78125 53.3125 \nQ 30.421875 42.28125 30.421875 31.390625 \nQ 30.421875 20.453125 26.78125 9.375 \nQ 23.140625 -1.703125 15.828125 -13.1875 \nL 8.015625 -13.1875 \nQ 14.5 -2 17.703125 9.0625 \nQ 20.90625 20.125 20.90625 31.390625 \nQ 20.90625 42.671875 17.703125 53.65625 \nQ 14.5 64.65625 8.015625 75.875 \nz\n\" id=\"DejaVuSans-41\"/>\n      </defs>\n      <g style=\"fill:#5a5034;\" transform=\"translate(342.087111 718.735)rotate(-90)scale(0.12 -0.12)\">\n       <use xlink:href=\"#DejaVuSans-69\"/>\n       <use x=\"63.183594\" xlink:href=\"#DejaVuSans-103\"/>\n       <use x=\"126.660156\" xlink:href=\"#DejaVuSans-103\"/>\n       <use x=\"190.136719\" xlink:href=\"#DejaVuSans-112\"/>\n       <use x=\"253.613281\" xlink:href=\"#DejaVuSans-108\"/>\n       <use x=\"281.396484\" xlink:href=\"#DejaVuSans-97\"/>\n       <use x=\"342.675781\" xlink:href=\"#DejaVuSans-110\"/>\n       <use x=\"406.054688\" xlink:href=\"#DejaVuSans-116\"/>\n       <use x=\"445.263672\" xlink:href=\"#DejaVuSans-115\"/>\n       <use x=\"497.363281\" xlink:href=\"#DejaVuSans-32\"/>\n       <use x=\"529.150391\" xlink:href=\"#DejaVuSans-40\"/>\n       <use x=\"568.164062\" xlink:href=\"#DejaVuSans-97\"/>\n       <use x=\"629.443359\" xlink:href=\"#DejaVuSans-117\"/>\n       <use x=\"692.822266\" xlink:href=\"#DejaVuSans-98\"/>\n       <use x=\"756.298828\" xlink:href=\"#DejaVuSans-101\"/>\n       <use x=\"817.822266\" xlink:href=\"#DejaVuSans-114\"/>\n       <use x=\"857.185547\" xlink:href=\"#DejaVuSans-103\"/>\n       <use x=\"920.662109\" xlink:href=\"#DejaVuSans-105\"/>\n       <use x=\"948.445312\" xlink:href=\"#DejaVuSans-110\"/>\n       <use x=\"1011.824219\" xlink:href=\"#DejaVuSans-101\"/>\n       <use x=\"1073.347656\" xlink:href=\"#DejaVuSans-115\"/>\n       <use x=\"1125.447266\" xlink:href=\"#DejaVuSans-41\"/>\n      </g>\n     </g>\n    </g>\n    <g id=\"xtick_29\">\n     <g id=\"line2d_29\">\n      <g>\n       <use style=\"stroke:#000000;stroke-width:0.8;\" x=\"348.829916\" xlink:href=\"#m798dcede4b\" y=\"571.996875\"/>\n      </g>\n     </g>\n     <g id=\"text_29\">\n      <!-- Eggs, hen, in shell -->\n      <g style=\"fill:#5a5034;\" transform=\"translate(352.141166 688.575625)rotate(-90)scale(0.12 -0.12)\">\n       <use xlink:href=\"#DejaVuSans-69\"/>\n       <use x=\"63.183594\" xlink:href=\"#DejaVuSans-103\"/>\n       <use x=\"126.660156\" xlink:href=\"#DejaVuSans-103\"/>\n       <use x=\"190.136719\" xlink:href=\"#DejaVuSans-115\"/>\n       <use x=\"242.236328\" xlink:href=\"#DejaVuSans-44\"/>\n       <use x=\"274.023438\" xlink:href=\"#DejaVuSans-32\"/>\n       <use x=\"305.810547\" xlink:href=\"#DejaVuSans-104\"/>\n       <use x=\"369.189453\" xlink:href=\"#DejaVuSans-101\"/>\n       <use x=\"430.712891\" xlink:href=\"#DejaVuSans-110\"/>\n       <use x=\"494.091797\" xlink:href=\"#DejaVuSans-44\"/>\n       <use x=\"525.878906\" xlink:href=\"#DejaVuSans-32\"/>\n       <use x=\"557.666016\" xlink:href=\"#DejaVuSans-105\"/>\n       <use x=\"585.449219\" xlink:href=\"#DejaVuSans-110\"/>\n       <use x=\"648.828125\" xlink:href=\"#DejaVuSans-32\"/>\n       <use x=\"680.615234\" xlink:href=\"#DejaVuSans-115\"/>\n       <use x=\"732.714844\" xlink:href=\"#DejaVuSans-104\"/>\n       <use x=\"796.09375\" xlink:href=\"#DejaVuSans-101\"/>\n       <use x=\"857.617188\" xlink:href=\"#DejaVuSans-108\"/>\n       <use x=\"885.400391\" xlink:href=\"#DejaVuSans-108\"/>\n      </g>\n     </g>\n    </g>\n    <g id=\"xtick_30\">\n     <g id=\"line2d_30\">\n      <g>\n       <use style=\"stroke:#000000;stroke-width:0.8;\" x=\"358.88397\" xlink:href=\"#m798dcede4b\" y=\"571.996875\"/>\n      </g>\n     </g>\n     <g id=\"text_30\">\n      <!-- Figs -->\n      <defs>\n       <path d=\"M 9.8125 72.90625 \nL 51.703125 72.90625 \nL 51.703125 64.59375 \nL 19.671875 64.59375 \nL 19.671875 43.109375 \nL 48.578125 43.109375 \nL 48.578125 34.8125 \nL 19.671875 34.8125 \nL 19.671875 0 \nL 9.8125 0 \nz\n\" id=\"DejaVuSans-70\"/>\n      </defs>\n      <g style=\"fill:#5a5034;\" transform=\"translate(362.19522 602.231875)rotate(-90)scale(0.12 -0.12)\">\n       <use xlink:href=\"#DejaVuSans-70\"/>\n       <use x=\"50.269531\" xlink:href=\"#DejaVuSans-105\"/>\n       <use x=\"78.052734\" xlink:href=\"#DejaVuSans-103\"/>\n       <use x=\"141.529297\" xlink:href=\"#DejaVuSans-115\"/>\n      </g>\n     </g>\n    </g>\n    <g id=\"xtick_31\">\n     <g id=\"line2d_31\">\n      <g>\n       <use style=\"stroke:#000000;stroke-width:0.8;\" x=\"368.938024\" xlink:href=\"#m798dcede4b\" y=\"571.996875\"/>\n      </g>\n     </g>\n     <g id=\"text_31\">\n      <!-- Garlic -->\n      <defs>\n       <path d=\"M 59.515625 10.40625 \nL 59.515625 29.984375 \nL 43.40625 29.984375 \nL 43.40625 38.09375 \nL 69.28125 38.09375 \nL 69.28125 6.78125 \nQ 63.578125 2.734375 56.6875 0.65625 \nQ 49.8125 -1.421875 42 -1.421875 \nQ 24.90625 -1.421875 15.25 8.5625 \nQ 5.609375 18.5625 5.609375 36.375 \nQ 5.609375 54.25 15.25 64.234375 \nQ 24.90625 74.21875 42 74.21875 \nQ 49.125 74.21875 55.546875 72.453125 \nQ 61.96875 70.703125 67.390625 67.28125 \nL 67.390625 56.78125 \nQ 61.921875 61.421875 55.765625 63.765625 \nQ 49.609375 66.109375 42.828125 66.109375 \nQ 29.4375 66.109375 22.71875 58.640625 \nQ 16.015625 51.171875 16.015625 36.375 \nQ 16.015625 21.625 22.71875 14.15625 \nQ 29.4375 6.6875 42.828125 6.6875 \nQ 48.046875 6.6875 52.140625 7.59375 \nQ 56.25 8.5 59.515625 10.40625 \nz\n\" id=\"DejaVuSans-71\"/>\n      </defs>\n      <g style=\"fill:#5a5034;\" transform=\"translate(372.249274 613.8475)rotate(-90)scale(0.12 -0.12)\">\n       <use xlink:href=\"#DejaVuSans-71\"/>\n       <use x=\"77.490234\" xlink:href=\"#DejaVuSans-97\"/>\n       <use x=\"138.769531\" xlink:href=\"#DejaVuSans-114\"/>\n       <use x=\"179.882812\" xlink:href=\"#DejaVuSans-108\"/>\n       <use x=\"207.666016\" xlink:href=\"#DejaVuSans-105\"/>\n       <use x=\"235.449219\" xlink:href=\"#DejaVuSans-99\"/>\n      </g>\n     </g>\n    </g>\n    <g id=\"xtick_32\">\n     <g id=\"line2d_32\">\n      <g>\n       <use style=\"stroke:#000000;stroke-width:0.8;\" x=\"378.992078\" xlink:href=\"#m798dcede4b\" y=\"571.996875\"/>\n      </g>\n     </g>\n     <g id=\"text_32\">\n      <!-- Grapefruit (inc. pomelos) -->\n      <defs>\n       <path d=\"M 10.6875 12.40625 \nL 21 12.40625 \nL 21 0 \nL 10.6875 0 \nz\n\" id=\"DejaVuSans-46\"/>\n      </defs>\n      <g style=\"fill:#5a5034;\" transform=\"translate(382.303328 729.686875)rotate(-90)scale(0.12 -0.12)\">\n       <use xlink:href=\"#DejaVuSans-71\"/>\n       <use x=\"77.490234\" xlink:href=\"#DejaVuSans-114\"/>\n       <use x=\"118.603516\" xlink:href=\"#DejaVuSans-97\"/>\n       <use x=\"179.882812\" xlink:href=\"#DejaVuSans-112\"/>\n       <use x=\"243.359375\" xlink:href=\"#DejaVuSans-101\"/>\n       <use x=\"304.882812\" xlink:href=\"#DejaVuSans-102\"/>\n       <use x=\"340.087891\" xlink:href=\"#DejaVuSans-114\"/>\n       <use x=\"381.201172\" xlink:href=\"#DejaVuSans-117\"/>\n       <use x=\"444.580078\" xlink:href=\"#DejaVuSans-105\"/>\n       <use x=\"472.363281\" xlink:href=\"#DejaVuSans-116\"/>\n       <use x=\"511.572266\" xlink:href=\"#DejaVuSans-32\"/>\n       <use x=\"543.359375\" xlink:href=\"#DejaVuSans-40\"/>\n       <use x=\"582.373047\" xlink:href=\"#DejaVuSans-105\"/>\n       <use x=\"610.15625\" xlink:href=\"#DejaVuSans-110\"/>\n       <use x=\"673.535156\" xlink:href=\"#DejaVuSans-99\"/>\n       <use x=\"728.515625\" xlink:href=\"#DejaVuSans-46\"/>\n       <use x=\"760.302734\" xlink:href=\"#DejaVuSans-32\"/>\n       <use x=\"792.089844\" xlink:href=\"#DejaVuSans-112\"/>\n       <use x=\"855.566406\" xlink:href=\"#DejaVuSans-111\"/>\n       <use x=\"916.748047\" xlink:href=\"#DejaVuSans-109\"/>\n       <use x=\"1014.160156\" xlink:href=\"#DejaVuSans-101\"/>\n       <use x=\"1075.683594\" xlink:href=\"#DejaVuSans-108\"/>\n       <use x=\"1103.466797\" xlink:href=\"#DejaVuSans-111\"/>\n       <use x=\"1164.648438\" xlink:href=\"#DejaVuSans-115\"/>\n       <use x=\"1216.748047\" xlink:href=\"#DejaVuSans-41\"/>\n      </g>\n     </g>\n    </g>\n    <g id=\"xtick_33\">\n     <g id=\"line2d_33\">\n      <g>\n       <use style=\"stroke:#000000;stroke-width:0.8;\" x=\"389.046132\" xlink:href=\"#m798dcede4b\" y=\"571.996875\"/>\n      </g>\n     </g>\n     <g id=\"text_33\">\n      <!-- Grapes -->\n      <g style=\"fill:#5a5034;\" transform=\"translate(392.357382 621.835)rotate(-90)scale(0.12 -0.12)\">\n       <use xlink:href=\"#DejaVuSans-71\"/>\n       <use x=\"77.490234\" xlink:href=\"#DejaVuSans-114\"/>\n       <use x=\"118.603516\" xlink:href=\"#DejaVuSans-97\"/>\n       <use x=\"179.882812\" xlink:href=\"#DejaVuSans-112\"/>\n       <use x=\"243.359375\" xlink:href=\"#DejaVuSans-101\"/>\n       <use x=\"304.882812\" xlink:href=\"#DejaVuSans-115\"/>\n      </g>\n     </g>\n    </g>\n    <g id=\"xtick_34\">\n     <g id=\"line2d_34\">\n      <g>\n       <use style=\"stroke:#000000;stroke-width:0.8;\" x=\"399.100186\" xlink:href=\"#m798dcede4b\" y=\"571.996875\"/>\n      </g>\n     </g>\n     <g id=\"text_34\">\n      <!-- Groundnuts, with shell -->\n      <g style=\"fill:#5a5034;\" transform=\"translate(402.411436 714.1)rotate(-90)scale(0.12 -0.12)\">\n       <use xlink:href=\"#DejaVuSans-71\"/>\n       <use x=\"77.490234\" xlink:href=\"#DejaVuSans-114\"/>\n       <use x=\"116.353516\" xlink:href=\"#DejaVuSans-111\"/>\n       <use x=\"177.535156\" xlink:href=\"#DejaVuSans-117\"/>\n       <use x=\"240.914062\" xlink:href=\"#DejaVuSans-110\"/>\n       <use x=\"304.292969\" xlink:href=\"#DejaVuSans-100\"/>\n       <use x=\"367.769531\" xlink:href=\"#DejaVuSans-110\"/>\n       <use x=\"431.148438\" xlink:href=\"#DejaVuSans-117\"/>\n       <use x=\"494.527344\" xlink:href=\"#DejaVuSans-116\"/>\n       <use x=\"533.736328\" xlink:href=\"#DejaVuSans-115\"/>\n       <use x=\"585.835938\" xlink:href=\"#DejaVuSans-44\"/>\n       <use x=\"617.623047\" xlink:href=\"#DejaVuSans-32\"/>\n       <use x=\"649.410156\" xlink:href=\"#DejaVuSans-119\"/>\n       <use x=\"731.197266\" xlink:href=\"#DejaVuSans-105\"/>\n       <use x=\"758.980469\" xlink:href=\"#DejaVuSans-116\"/>\n       <use x=\"798.189453\" xlink:href=\"#DejaVuSans-104\"/>\n       <use x=\"861.568359\" xlink:href=\"#DejaVuSans-32\"/>\n       <use x=\"893.355469\" xlink:href=\"#DejaVuSans-115\"/>\n       <use x=\"945.455078\" xlink:href=\"#DejaVuSans-104\"/>\n       <use x=\"1008.833984\" xlink:href=\"#DejaVuSans-101\"/>\n       <use x=\"1070.357422\" xlink:href=\"#DejaVuSans-108\"/>\n       <use x=\"1098.140625\" xlink:href=\"#DejaVuSans-108\"/>\n      </g>\n     </g>\n    </g>\n    <g id=\"xtick_35\">\n     <g id=\"line2d_35\">\n      <g>\n       <use style=\"stroke:#000000;stroke-width:0.8;\" x=\"409.15424\" xlink:href=\"#m798dcede4b\" y=\"571.996875\"/>\n      </g>\n     </g>\n     <g id=\"text_35\">\n      <!-- Hazelnuts, with shell -->\n      <defs>\n       <path d=\"M 9.8125 72.90625 \nL 19.671875 72.90625 \nL 19.671875 43.015625 \nL 55.515625 43.015625 \nL 55.515625 72.90625 \nL 65.375 72.90625 \nL 65.375 0 \nL 55.515625 0 \nL 55.515625 34.71875 \nL 19.671875 34.71875 \nL 19.671875 0 \nL 9.8125 0 \nz\n\" id=\"DejaVuSans-72\"/>\n       <path d=\"M 5.515625 54.6875 \nL 48.1875 54.6875 \nL 48.1875 46.484375 \nL 14.40625 7.171875 \nL 48.1875 7.171875 \nL 48.1875 0 \nL 4.296875 0 \nL 4.296875 8.203125 \nL 38.09375 47.515625 \nL 5.515625 47.515625 \nz\n\" id=\"DejaVuSans-122\"/>\n      </defs>\n      <g style=\"fill:#5a5034;\" transform=\"translate(412.46549 703.361875)rotate(-90)scale(0.12 -0.12)\">\n       <use xlink:href=\"#DejaVuSans-72\"/>\n       <use x=\"75.195312\" xlink:href=\"#DejaVuSans-97\"/>\n       <use x=\"136.474609\" xlink:href=\"#DejaVuSans-122\"/>\n       <use x=\"188.964844\" xlink:href=\"#DejaVuSans-101\"/>\n       <use x=\"250.488281\" xlink:href=\"#DejaVuSans-108\"/>\n       <use x=\"278.271484\" xlink:href=\"#DejaVuSans-110\"/>\n       <use x=\"341.650391\" xlink:href=\"#DejaVuSans-117\"/>\n       <use x=\"405.029297\" xlink:href=\"#DejaVuSans-116\"/>\n       <use x=\"444.238281\" xlink:href=\"#DejaVuSans-115\"/>\n       <use x=\"496.337891\" xlink:href=\"#DejaVuSans-44\"/>\n       <use x=\"528.125\" xlink:href=\"#DejaVuSans-32\"/>\n       <use x=\"559.912109\" xlink:href=\"#DejaVuSans-119\"/>\n       <use x=\"641.699219\" xlink:href=\"#DejaVuSans-105\"/>\n       <use x=\"669.482422\" xlink:href=\"#DejaVuSans-116\"/>\n       <use x=\"708.691406\" xlink:href=\"#DejaVuSans-104\"/>\n       <use x=\"772.070312\" xlink:href=\"#DejaVuSans-32\"/>\n       <use x=\"803.857422\" xlink:href=\"#DejaVuSans-115\"/>\n       <use x=\"855.957031\" xlink:href=\"#DejaVuSans-104\"/>\n       <use x=\"919.335938\" xlink:href=\"#DejaVuSans-101\"/>\n       <use x=\"980.859375\" xlink:href=\"#DejaVuSans-108\"/>\n       <use x=\"1008.642578\" xlink:href=\"#DejaVuSans-108\"/>\n      </g>\n     </g>\n    </g>\n    <g id=\"xtick_36\">\n     <g id=\"line2d_36\">\n      <g>\n       <use style=\"stroke:#000000;stroke-width:0.8;\" x=\"419.208294\" xlink:href=\"#m798dcede4b\" y=\"571.996875\"/>\n      </g>\n     </g>\n     <g id=\"text_36\">\n      <!-- Honey, natural -->\n      <g style=\"fill:#5a5034;\" transform=\"translate(422.519544 667.97125)rotate(-90)scale(0.12 -0.12)\">\n       <use xlink:href=\"#DejaVuSans-72\"/>\n       <use x=\"75.195312\" xlink:href=\"#DejaVuSans-111\"/>\n       <use x=\"136.376953\" xlink:href=\"#DejaVuSans-110\"/>\n       <use x=\"199.755859\" xlink:href=\"#DejaVuSans-101\"/>\n       <use x=\"261.279297\" xlink:href=\"#DejaVuSans-121\"/>\n       <use x=\"320.458984\" xlink:href=\"#DejaVuSans-44\"/>\n       <use x=\"352.246094\" xlink:href=\"#DejaVuSans-32\"/>\n       <use x=\"384.033203\" xlink:href=\"#DejaVuSans-110\"/>\n       <use x=\"447.412109\" xlink:href=\"#DejaVuSans-97\"/>\n       <use x=\"508.691406\" xlink:href=\"#DejaVuSans-116\"/>\n       <use x=\"547.900391\" xlink:href=\"#DejaVuSans-117\"/>\n       <use x=\"611.279297\" xlink:href=\"#DejaVuSans-114\"/>\n       <use x=\"652.392578\" xlink:href=\"#DejaVuSans-97\"/>\n       <use x=\"713.671875\" xlink:href=\"#DejaVuSans-108\"/>\n      </g>\n     </g>\n    </g>\n    <g id=\"xtick_37\">\n     <g id=\"line2d_37\">\n      <g>\n       <use style=\"stroke:#000000;stroke-width:0.8;\" x=\"429.262348\" xlink:href=\"#m798dcede4b\" y=\"571.996875\"/>\n      </g>\n     </g>\n     <g id=\"text_37\">\n      <!-- Hops -->\n      <g style=\"fill:#5a5034;\" transform=\"translate(432.573598 609.233125)rotate(-90)scale(0.12 -0.12)\">\n       <use xlink:href=\"#DejaVuSans-72\"/>\n       <use x=\"75.195312\" xlink:href=\"#DejaVuSans-111\"/>\n       <use x=\"136.376953\" xlink:href=\"#DejaVuSans-112\"/>\n       <use x=\"199.853516\" xlink:href=\"#DejaVuSans-115\"/>\n      </g>\n     </g>\n    </g>\n    <g id=\"xtick_38\">\n     <g id=\"line2d_38\">\n      <g>\n       <use style=\"stroke:#000000;stroke-width:0.8;\" x=\"439.316402\" xlink:href=\"#m798dcede4b\" y=\"571.996875\"/>\n      </g>\n     </g>\n     <g id=\"text_38\">\n      <!-- Kiwi fruit -->\n      <defs>\n       <path d=\"M 9.8125 72.90625 \nL 19.671875 72.90625 \nL 19.671875 42.09375 \nL 52.390625 72.90625 \nL 65.09375 72.90625 \nL 28.90625 38.921875 \nL 67.671875 0 \nL 54.6875 0 \nL 19.671875 35.109375 \nL 19.671875 0 \nL 9.8125 0 \nz\n\" id=\"DejaVuSans-75\"/>\n      </defs>\n      <g style=\"fill:#5a5034;\" transform=\"translate(442.627652 631.961875)rotate(-90)scale(0.12 -0.12)\">\n       <use xlink:href=\"#DejaVuSans-75\"/>\n       <use x=\"65.576172\" xlink:href=\"#DejaVuSans-105\"/>\n       <use x=\"93.359375\" xlink:href=\"#DejaVuSans-119\"/>\n       <use x=\"175.146484\" xlink:href=\"#DejaVuSans-105\"/>\n       <use x=\"202.929688\" xlink:href=\"#DejaVuSans-32\"/>\n       <use x=\"234.716797\" xlink:href=\"#DejaVuSans-102\"/>\n       <use x=\"269.921875\" xlink:href=\"#DejaVuSans-114\"/>\n       <use x=\"311.035156\" xlink:href=\"#DejaVuSans-117\"/>\n       <use x=\"374.414062\" xlink:href=\"#DejaVuSans-105\"/>\n       <use x=\"402.197266\" xlink:href=\"#DejaVuSans-116\"/>\n      </g>\n     </g>\n    </g>\n    <g id=\"xtick_39\">\n     <g id=\"line2d_39\">\n      <g>\n       <use style=\"stroke:#000000;stroke-width:0.8;\" x=\"449.370456\" xlink:href=\"#m798dcede4b\" y=\"571.996875\"/>\n      </g>\n     </g>\n     <g id=\"text_39\">\n      <!-- Leeks, other alliaceous vegetables -->\n      <defs>\n       <path d=\"M 9.8125 72.90625 \nL 19.671875 72.90625 \nL 19.671875 8.296875 \nL 55.171875 8.296875 \nL 55.171875 0 \nL 9.8125 0 \nz\n\" id=\"DejaVuSans-76\"/>\n      </defs>\n      <g style=\"fill:#5a5034;\" transform=\"translate(452.681706 786.686875)rotate(-90)scale(0.12 -0.12)\">\n       <use xlink:href=\"#DejaVuSans-76\"/>\n       <use x=\"53.962891\" xlink:href=\"#DejaVuSans-101\"/>\n       <use x=\"115.486328\" xlink:href=\"#DejaVuSans-101\"/>\n       <use x=\"177.009766\" xlink:href=\"#DejaVuSans-107\"/>\n       <use x=\"234.919922\" xlink:href=\"#DejaVuSans-115\"/>\n       <use x=\"287.019531\" xlink:href=\"#DejaVuSans-44\"/>\n       <use x=\"318.806641\" xlink:href=\"#DejaVuSans-32\"/>\n       <use x=\"350.59375\" xlink:href=\"#DejaVuSans-111\"/>\n       <use x=\"411.775391\" xlink:href=\"#DejaVuSans-116\"/>\n       <use x=\"450.984375\" xlink:href=\"#DejaVuSans-104\"/>\n       <use x=\"514.363281\" xlink:href=\"#DejaVuSans-101\"/>\n       <use x=\"575.886719\" xlink:href=\"#DejaVuSans-114\"/>\n       <use x=\"617\" xlink:href=\"#DejaVuSans-32\"/>\n       <use x=\"648.787109\" xlink:href=\"#DejaVuSans-97\"/>\n       <use x=\"710.066406\" xlink:href=\"#DejaVuSans-108\"/>\n       <use x=\"737.849609\" xlink:href=\"#DejaVuSans-108\"/>\n       <use x=\"765.632812\" xlink:href=\"#DejaVuSans-105\"/>\n       <use x=\"793.416016\" xlink:href=\"#DejaVuSans-97\"/>\n       <use x=\"854.695312\" xlink:href=\"#DejaVuSans-99\"/>\n       <use x=\"909.675781\" xlink:href=\"#DejaVuSans-101\"/>\n       <use x=\"971.199219\" xlink:href=\"#DejaVuSans-111\"/>\n       <use x=\"1032.380859\" xlink:href=\"#DejaVuSans-117\"/>\n       <use x=\"1095.759766\" xlink:href=\"#DejaVuSans-115\"/>\n       <use x=\"1147.859375\" xlink:href=\"#DejaVuSans-32\"/>\n       <use x=\"1179.646484\" xlink:href=\"#DejaVuSans-118\"/>\n       <use x=\"1238.826172\" xlink:href=\"#DejaVuSans-101\"/>\n       <use x=\"1300.349609\" xlink:href=\"#DejaVuSans-103\"/>\n       <use x=\"1363.826172\" xlink:href=\"#DejaVuSans-101\"/>\n       <use x=\"1425.349609\" xlink:href=\"#DejaVuSans-116\"/>\n       <use x=\"1464.558594\" xlink:href=\"#DejaVuSans-97\"/>\n       <use x=\"1525.837891\" xlink:href=\"#DejaVuSans-98\"/>\n       <use x=\"1589.314453\" xlink:href=\"#DejaVuSans-108\"/>\n       <use x=\"1617.097656\" xlink:href=\"#DejaVuSans-101\"/>\n       <use x=\"1678.621094\" xlink:href=\"#DejaVuSans-115\"/>\n      </g>\n     </g>\n    </g>\n    <g id=\"xtick_40\">\n     <g id=\"line2d_40\">\n      <g>\n       <use style=\"stroke:#000000;stroke-width:0.8;\" x=\"459.42451\" xlink:href=\"#m798dcede4b\" y=\"571.996875\"/>\n      </g>\n     </g>\n     <g id=\"text_40\">\n      <!-- Lemons and limes -->\n      <g style=\"fill:#5a5034;\" transform=\"translate(462.73576 687.94)rotate(-90)scale(0.12 -0.12)\">\n       <use xlink:href=\"#DejaVuSans-76\"/>\n       <use x=\"53.962891\" xlink:href=\"#DejaVuSans-101\"/>\n       <use x=\"115.486328\" xlink:href=\"#DejaVuSans-109\"/>\n       <use x=\"212.898438\" xlink:href=\"#DejaVuSans-111\"/>\n       <use x=\"274.080078\" xlink:href=\"#DejaVuSans-110\"/>\n       <use x=\"337.458984\" xlink:href=\"#DejaVuSans-115\"/>\n       <use x=\"389.558594\" xlink:href=\"#DejaVuSans-32\"/>\n       <use x=\"421.345703\" xlink:href=\"#DejaVuSans-97\"/>\n       <use x=\"482.625\" xlink:href=\"#DejaVuSans-110\"/>\n       <use x=\"546.003906\" xlink:href=\"#DejaVuSans-100\"/>\n       <use x=\"609.480469\" xlink:href=\"#DejaVuSans-32\"/>\n       <use x=\"641.267578\" xlink:href=\"#DejaVuSans-108\"/>\n       <use x=\"669.050781\" xlink:href=\"#DejaVuSans-105\"/>\n       <use x=\"696.833984\" xlink:href=\"#DejaVuSans-109\"/>\n       <use x=\"794.246094\" xlink:href=\"#DejaVuSans-101\"/>\n       <use x=\"855.769531\" xlink:href=\"#DejaVuSans-115\"/>\n      </g>\n     </g>\n    </g>\n    <g id=\"xtick_41\">\n     <g id=\"line2d_41\">\n      <g>\n       <use style=\"stroke:#000000;stroke-width:0.8;\" x=\"469.478564\" xlink:href=\"#m798dcede4b\" y=\"571.996875\"/>\n      </g>\n     </g>\n     <g id=\"text_41\">\n      <!-- Lentils -->\n      <g style=\"fill:#5a5034;\" transform=\"translate(472.789814 618.085)rotate(-90)scale(0.12 -0.12)\">\n       <use xlink:href=\"#DejaVuSans-76\"/>\n       <use x=\"53.962891\" xlink:href=\"#DejaVuSans-101\"/>\n       <use x=\"115.486328\" xlink:href=\"#DejaVuSans-110\"/>\n       <use x=\"178.865234\" xlink:href=\"#DejaVuSans-116\"/>\n       <use x=\"218.074219\" xlink:href=\"#DejaVuSans-105\"/>\n       <use x=\"245.857422\" xlink:href=\"#DejaVuSans-108\"/>\n       <use x=\"273.640625\" xlink:href=\"#DejaVuSans-115\"/>\n      </g>\n     </g>\n    </g>\n    <g id=\"xtick_42\">\n     <g id=\"line2d_42\">\n      <g>\n       <use style=\"stroke:#000000;stroke-width:0.8;\" x=\"479.532618\" xlink:href=\"#m798dcede4b\" y=\"571.996875\"/>\n      </g>\n     </g>\n     <g id=\"text_42\">\n      <!-- Lettuce and chicory -->\n      <g style=\"fill:#5a5034;\" transform=\"translate(482.843868 697.57)rotate(-90)scale(0.12 -0.12)\">\n       <use xlink:href=\"#DejaVuSans-76\"/>\n       <use x=\"53.962891\" xlink:href=\"#DejaVuSans-101\"/>\n       <use x=\"115.486328\" xlink:href=\"#DejaVuSans-116\"/>\n       <use x=\"154.695312\" xlink:href=\"#DejaVuSans-116\"/>\n       <use x=\"193.904297\" xlink:href=\"#DejaVuSans-117\"/>\n       <use x=\"257.283203\" xlink:href=\"#DejaVuSans-99\"/>\n       <use x=\"312.263672\" xlink:href=\"#DejaVuSans-101\"/>\n       <use x=\"373.787109\" xlink:href=\"#DejaVuSans-32\"/>\n       <use x=\"405.574219\" xlink:href=\"#DejaVuSans-97\"/>\n       <use x=\"466.853516\" xlink:href=\"#DejaVuSans-110\"/>\n       <use x=\"530.232422\" xlink:href=\"#DejaVuSans-100\"/>\n       <use x=\"593.708984\" xlink:href=\"#DejaVuSans-32\"/>\n       <use x=\"625.496094\" xlink:href=\"#DejaVuSans-99\"/>\n       <use x=\"680.476562\" xlink:href=\"#DejaVuSans-104\"/>\n       <use x=\"743.855469\" xlink:href=\"#DejaVuSans-105\"/>\n       <use x=\"771.638672\" xlink:href=\"#DejaVuSans-99\"/>\n       <use x=\"826.619141\" xlink:href=\"#DejaVuSans-111\"/>\n       <use x=\"887.800781\" xlink:href=\"#DejaVuSans-114\"/>\n       <use x=\"928.914062\" xlink:href=\"#DejaVuSans-121\"/>\n      </g>\n     </g>\n    </g>\n    <g id=\"xtick_43\">\n     <g id=\"line2d_43\">\n      <g>\n       <use style=\"stroke:#000000;stroke-width:0.8;\" x=\"489.586672\" xlink:href=\"#m798dcede4b\" y=\"571.996875\"/>\n      </g>\n     </g>\n     <g id=\"text_43\">\n      <!-- Lupins -->\n      <g style=\"fill:#5a5034;\" transform=\"translate(492.897922 617.88625)rotate(-90)scale(0.12 -0.12)\">\n       <use xlink:href=\"#DejaVuSans-76\"/>\n       <use x=\"53.962891\" xlink:href=\"#DejaVuSans-117\"/>\n       <use x=\"117.341797\" xlink:href=\"#DejaVuSans-112\"/>\n       <use x=\"180.818359\" xlink:href=\"#DejaVuSans-105\"/>\n       <use x=\"208.601562\" xlink:href=\"#DejaVuSans-110\"/>\n       <use x=\"271.980469\" xlink:href=\"#DejaVuSans-115\"/>\n      </g>\n     </g>\n    </g>\n    <g id=\"xtick_44\">\n     <g id=\"line2d_44\">\n      <g>\n       <use style=\"stroke:#000000;stroke-width:0.8;\" x=\"499.640726\" xlink:href=\"#m798dcede4b\" y=\"571.996875\"/>\n      </g>\n     </g>\n     <g id=\"text_44\">\n      <!-- Maize -->\n      <defs>\n       <path d=\"M 9.8125 72.90625 \nL 24.515625 72.90625 \nL 43.109375 23.296875 \nL 61.8125 72.90625 \nL 76.515625 72.90625 \nL 76.515625 0 \nL 66.890625 0 \nL 66.890625 64.015625 \nL 48.09375 14.015625 \nL 38.1875 14.015625 \nL 19.390625 64.015625 \nL 19.390625 0 \nL 9.8125 0 \nz\n\" id=\"DejaVuSans-77\"/>\n      </defs>\n      <g style=\"fill:#5a5034;\" transform=\"translate(502.951976 613.72)rotate(-90)scale(0.12 -0.12)\">\n       <use xlink:href=\"#DejaVuSans-77\"/>\n       <use x=\"86.279297\" xlink:href=\"#DejaVuSans-97\"/>\n       <use x=\"147.558594\" xlink:href=\"#DejaVuSans-105\"/>\n       <use x=\"175.341797\" xlink:href=\"#DejaVuSans-122\"/>\n       <use x=\"227.832031\" xlink:href=\"#DejaVuSans-101\"/>\n      </g>\n     </g>\n    </g>\n    <g id=\"xtick_45\">\n     <g id=\"line2d_45\">\n      <g>\n       <use style=\"stroke:#000000;stroke-width:0.8;\" x=\"509.69478\" xlink:href=\"#m798dcede4b\" y=\"571.996875\"/>\n      </g>\n     </g>\n     <g id=\"text_45\">\n      <!-- Mangoes, mangosteens, guavas -->\n      <g style=\"fill:#5a5034;\" transform=\"translate(513.00603 772.631875)rotate(-90)scale(0.12 -0.12)\">\n       <use xlink:href=\"#DejaVuSans-77\"/>\n       <use x=\"86.279297\" xlink:href=\"#DejaVuSans-97\"/>\n       <use x=\"147.558594\" xlink:href=\"#DejaVuSans-110\"/>\n       <use x=\"210.9375\" xlink:href=\"#DejaVuSans-103\"/>\n       <use x=\"274.414062\" xlink:href=\"#DejaVuSans-111\"/>\n       <use x=\"335.595703\" xlink:href=\"#DejaVuSans-101\"/>\n       <use x=\"397.119141\" xlink:href=\"#DejaVuSans-115\"/>\n       <use x=\"449.21875\" xlink:href=\"#DejaVuSans-44\"/>\n       <use x=\"481.005859\" xlink:href=\"#DejaVuSans-32\"/>\n       <use x=\"512.792969\" xlink:href=\"#DejaVuSans-109\"/>\n       <use x=\"610.205078\" xlink:href=\"#DejaVuSans-97\"/>\n       <use x=\"671.484375\" xlink:href=\"#DejaVuSans-110\"/>\n       <use x=\"734.863281\" xlink:href=\"#DejaVuSans-103\"/>\n       <use x=\"798.339844\" xlink:href=\"#DejaVuSans-111\"/>\n       <use x=\"859.521484\" xlink:href=\"#DejaVuSans-115\"/>\n       <use x=\"911.621094\" xlink:href=\"#DejaVuSans-116\"/>\n       <use x=\"950.830078\" xlink:href=\"#DejaVuSans-101\"/>\n       <use x=\"1012.353516\" xlink:href=\"#DejaVuSans-101\"/>\n       <use x=\"1073.876953\" xlink:href=\"#DejaVuSans-110\"/>\n       <use x=\"1137.255859\" xlink:href=\"#DejaVuSans-115\"/>\n       <use x=\"1189.355469\" xlink:href=\"#DejaVuSans-44\"/>\n       <use x=\"1221.142578\" xlink:href=\"#DejaVuSans-32\"/>\n       <use x=\"1252.929688\" xlink:href=\"#DejaVuSans-103\"/>\n       <use x=\"1316.40625\" xlink:href=\"#DejaVuSans-117\"/>\n       <use x=\"1379.785156\" xlink:href=\"#DejaVuSans-97\"/>\n       <use x=\"1441.064453\" xlink:href=\"#DejaVuSans-118\"/>\n       <use x=\"1500.244141\" xlink:href=\"#DejaVuSans-97\"/>\n       <use x=\"1561.523438\" xlink:href=\"#DejaVuSans-115\"/>\n      </g>\n     </g>\n    </g>\n    <g id=\"xtick_46\">\n     <g id=\"line2d_46\">\n      <g>\n       <use style=\"stroke:#000000;stroke-width:0.8;\" x=\"519.748834\" xlink:href=\"#m798dcede4b\" y=\"571.996875\"/>\n      </g>\n     </g>\n     <g id=\"text_46\">\n      <!-- Meat live weight, ass -->\n      <g style=\"fill:#5a5034;\" transform=\"translate(523.060084 705.51625)rotate(-90)scale(0.12 -0.12)\">\n       <use xlink:href=\"#DejaVuSans-77\"/>\n       <use x=\"86.279297\" xlink:href=\"#DejaVuSans-101\"/>\n       <use x=\"147.802734\" xlink:href=\"#DejaVuSans-97\"/>\n       <use x=\"209.082031\" xlink:href=\"#DejaVuSans-116\"/>\n       <use x=\"248.291016\" xlink:href=\"#DejaVuSans-32\"/>\n       <use x=\"280.078125\" xlink:href=\"#DejaVuSans-108\"/>\n       <use x=\"307.861328\" xlink:href=\"#DejaVuSans-105\"/>\n       <use x=\"335.644531\" xlink:href=\"#DejaVuSans-118\"/>\n       <use x=\"394.824219\" xlink:href=\"#DejaVuSans-101\"/>\n       <use x=\"456.347656\" xlink:href=\"#DejaVuSans-32\"/>\n       <use x=\"488.134766\" xlink:href=\"#DejaVuSans-119\"/>\n       <use x=\"569.921875\" xlink:href=\"#DejaVuSans-101\"/>\n       <use x=\"631.445312\" xlink:href=\"#DejaVuSans-105\"/>\n       <use x=\"659.228516\" xlink:href=\"#DejaVuSans-103\"/>\n       <use x=\"722.705078\" xlink:href=\"#DejaVuSans-104\"/>\n       <use x=\"786.083984\" xlink:href=\"#DejaVuSans-116\"/>\n       <use x=\"825.292969\" xlink:href=\"#DejaVuSans-44\"/>\n       <use x=\"857.080078\" xlink:href=\"#DejaVuSans-32\"/>\n       <use x=\"888.867188\" xlink:href=\"#DejaVuSans-97\"/>\n       <use x=\"950.146484\" xlink:href=\"#DejaVuSans-115\"/>\n       <use x=\"1002.246094\" xlink:href=\"#DejaVuSans-115\"/>\n      </g>\n     </g>\n    </g>\n    <g id=\"xtick_47\">\n     <g id=\"line2d_47\">\n      <g>\n       <use style=\"stroke:#000000;stroke-width:0.8;\" x=\"529.802889\" xlink:href=\"#m798dcede4b\" y=\"571.996875\"/>\n      </g>\n     </g>\n     <g id=\"text_47\">\n      <!-- Meat live weight, chicken -->\n      <g style=\"fill:#5a5034;\" transform=\"translate(533.114139 731.2975)rotate(-90)scale(0.12 -0.12)\">\n       <use xlink:href=\"#DejaVuSans-77\"/>\n       <use x=\"86.279297\" xlink:href=\"#DejaVuSans-101\"/>\n       <use x=\"147.802734\" xlink:href=\"#DejaVuSans-97\"/>\n       <use x=\"209.082031\" xlink:href=\"#DejaVuSans-116\"/>\n       <use x=\"248.291016\" xlink:href=\"#DejaVuSans-32\"/>\n       <use x=\"280.078125\" xlink:href=\"#DejaVuSans-108\"/>\n       <use x=\"307.861328\" xlink:href=\"#DejaVuSans-105\"/>\n       <use x=\"335.644531\" xlink:href=\"#DejaVuSans-118\"/>\n       <use x=\"394.824219\" xlink:href=\"#DejaVuSans-101\"/>\n       <use x=\"456.347656\" xlink:href=\"#DejaVuSans-32\"/>\n       <use x=\"488.134766\" xlink:href=\"#DejaVuSans-119\"/>\n       <use x=\"569.921875\" xlink:href=\"#DejaVuSans-101\"/>\n       <use x=\"631.445312\" xlink:href=\"#DejaVuSans-105\"/>\n       <use x=\"659.228516\" xlink:href=\"#DejaVuSans-103\"/>\n       <use x=\"722.705078\" xlink:href=\"#DejaVuSans-104\"/>\n       <use x=\"786.083984\" xlink:href=\"#DejaVuSans-116\"/>\n       <use x=\"825.292969\" xlink:href=\"#DejaVuSans-44\"/>\n       <use x=\"857.080078\" xlink:href=\"#DejaVuSans-32\"/>\n       <use x=\"888.867188\" xlink:href=\"#DejaVuSans-99\"/>\n       <use x=\"943.847656\" xlink:href=\"#DejaVuSans-104\"/>\n       <use x=\"1007.226562\" xlink:href=\"#DejaVuSans-105\"/>\n       <use x=\"1035.009766\" xlink:href=\"#DejaVuSans-99\"/>\n       <use x=\"1089.990234\" xlink:href=\"#DejaVuSans-107\"/>\n       <use x=\"1144.275391\" xlink:href=\"#DejaVuSans-101\"/>\n       <use x=\"1205.798828\" xlink:href=\"#DejaVuSans-110\"/>\n      </g>\n     </g>\n    </g>\n    <g id=\"xtick_48\">\n     <g id=\"line2d_48\">\n      <g>\n       <use style=\"stroke:#000000;stroke-width:0.8;\" x=\"539.856943\" xlink:href=\"#m798dcede4b\" y=\"571.996875\"/>\n      </g>\n     </g>\n     <g id=\"text_48\">\n      <!-- Meat live weight, duck -->\n      <g style=\"fill:#5a5034;\" transform=\"translate(543.168193 714.43)rotate(-90)scale(0.12 -0.12)\">\n       <use xlink:href=\"#DejaVuSans-77\"/>\n       <use x=\"86.279297\" xlink:href=\"#DejaVuSans-101\"/>\n       <use x=\"147.802734\" xlink:href=\"#DejaVuSans-97\"/>\n       <use x=\"209.082031\" xlink:href=\"#DejaVuSans-116\"/>\n       <use x=\"248.291016\" xlink:href=\"#DejaVuSans-32\"/>\n       <use x=\"280.078125\" xlink:href=\"#DejaVuSans-108\"/>\n       <use x=\"307.861328\" xlink:href=\"#DejaVuSans-105\"/>\n       <use x=\"335.644531\" xlink:href=\"#DejaVuSans-118\"/>\n       <use x=\"394.824219\" xlink:href=\"#DejaVuSans-101\"/>\n       <use x=\"456.347656\" xlink:href=\"#DejaVuSans-32\"/>\n       <use x=\"488.134766\" xlink:href=\"#DejaVuSans-119\"/>\n       <use x=\"569.921875\" xlink:href=\"#DejaVuSans-101\"/>\n       <use x=\"631.445312\" xlink:href=\"#DejaVuSans-105\"/>\n       <use x=\"659.228516\" xlink:href=\"#DejaVuSans-103\"/>\n       <use x=\"722.705078\" xlink:href=\"#DejaVuSans-104\"/>\n       <use x=\"786.083984\" xlink:href=\"#DejaVuSans-116\"/>\n       <use x=\"825.292969\" xlink:href=\"#DejaVuSans-44\"/>\n       <use x=\"857.080078\" xlink:href=\"#DejaVuSans-32\"/>\n       <use x=\"888.867188\" xlink:href=\"#DejaVuSans-100\"/>\n       <use x=\"952.34375\" xlink:href=\"#DejaVuSans-117\"/>\n       <use x=\"1015.722656\" xlink:href=\"#DejaVuSans-99\"/>\n       <use x=\"1070.703125\" xlink:href=\"#DejaVuSans-107\"/>\n      </g>\n     </g>\n    </g>\n    <g id=\"xtick_49\">\n     <g id=\"line2d_49\">\n      <g>\n       <use style=\"stroke:#000000;stroke-width:0.8;\" x=\"549.910997\" xlink:href=\"#m798dcede4b\" y=\"571.996875\"/>\n      </g>\n     </g>\n     <g id=\"text_49\">\n      <!-- Meat live weight, goat -->\n      <g style=\"fill:#5a5034;\" transform=\"translate(553.222247 712.67875)rotate(-90)scale(0.12 -0.12)\">\n       <use xlink:href=\"#DejaVuSans-77\"/>\n       <use x=\"86.279297\" xlink:href=\"#DejaVuSans-101\"/>\n       <use x=\"147.802734\" xlink:href=\"#DejaVuSans-97\"/>\n       <use x=\"209.082031\" xlink:href=\"#DejaVuSans-116\"/>\n       <use x=\"248.291016\" xlink:href=\"#DejaVuSans-32\"/>\n       <use x=\"280.078125\" xlink:href=\"#DejaVuSans-108\"/>\n       <use x=\"307.861328\" xlink:href=\"#DejaVuSans-105\"/>\n       <use x=\"335.644531\" xlink:href=\"#DejaVuSans-118\"/>\n       <use x=\"394.824219\" xlink:href=\"#DejaVuSans-101\"/>\n       <use x=\"456.347656\" xlink:href=\"#DejaVuSans-32\"/>\n       <use x=\"488.134766\" xlink:href=\"#DejaVuSans-119\"/>\n       <use x=\"569.921875\" xlink:href=\"#DejaVuSans-101\"/>\n       <use x=\"631.445312\" xlink:href=\"#DejaVuSans-105\"/>\n       <use x=\"659.228516\" xlink:href=\"#DejaVuSans-103\"/>\n       <use x=\"722.705078\" xlink:href=\"#DejaVuSans-104\"/>\n       <use x=\"786.083984\" xlink:href=\"#DejaVuSans-116\"/>\n       <use x=\"825.292969\" xlink:href=\"#DejaVuSans-44\"/>\n       <use x=\"857.080078\" xlink:href=\"#DejaVuSans-32\"/>\n       <use x=\"888.867188\" xlink:href=\"#DejaVuSans-103\"/>\n       <use x=\"952.34375\" xlink:href=\"#DejaVuSans-111\"/>\n       <use x=\"1013.525391\" xlink:href=\"#DejaVuSans-97\"/>\n       <use x=\"1074.804688\" xlink:href=\"#DejaVuSans-116\"/>\n      </g>\n     </g>\n    </g>\n    <g id=\"xtick_50\">\n     <g id=\"line2d_50\">\n      <g>\n       <use style=\"stroke:#000000;stroke-width:0.8;\" x=\"559.965051\" xlink:href=\"#m798dcede4b\" y=\"571.996875\"/>\n      </g>\n     </g>\n     <g id=\"text_50\">\n      <!-- Meat live weight, horse -->\n      <g style=\"fill:#5a5034;\" transform=\"translate(563.276301 719.175625)rotate(-90)scale(0.12 -0.12)\">\n       <use xlink:href=\"#DejaVuSans-77\"/>\n       <use x=\"86.279297\" xlink:href=\"#DejaVuSans-101\"/>\n       <use x=\"147.802734\" xlink:href=\"#DejaVuSans-97\"/>\n       <use x=\"209.082031\" xlink:href=\"#DejaVuSans-116\"/>\n       <use x=\"248.291016\" xlink:href=\"#DejaVuSans-32\"/>\n       <use x=\"280.078125\" xlink:href=\"#DejaVuSans-108\"/>\n       <use x=\"307.861328\" xlink:href=\"#DejaVuSans-105\"/>\n       <use x=\"335.644531\" xlink:href=\"#DejaVuSans-118\"/>\n       <use x=\"394.824219\" xlink:href=\"#DejaVuSans-101\"/>\n       <use x=\"456.347656\" xlink:href=\"#DejaVuSans-32\"/>\n       <use x=\"488.134766\" xlink:href=\"#DejaVuSans-119\"/>\n       <use x=\"569.921875\" xlink:href=\"#DejaVuSans-101\"/>\n       <use x=\"631.445312\" xlink:href=\"#DejaVuSans-105\"/>\n       <use x=\"659.228516\" xlink:href=\"#DejaVuSans-103\"/>\n       <use x=\"722.705078\" xlink:href=\"#DejaVuSans-104\"/>\n       <use x=\"786.083984\" xlink:href=\"#DejaVuSans-116\"/>\n       <use x=\"825.292969\" xlink:href=\"#DejaVuSans-44\"/>\n       <use x=\"857.080078\" xlink:href=\"#DejaVuSans-32\"/>\n       <use x=\"888.867188\" xlink:href=\"#DejaVuSans-104\"/>\n       <use x=\"952.246094\" xlink:href=\"#DejaVuSans-111\"/>\n       <use x=\"1013.427734\" xlink:href=\"#DejaVuSans-114\"/>\n       <use x=\"1054.541016\" xlink:href=\"#DejaVuSans-115\"/>\n       <use x=\"1106.640625\" xlink:href=\"#DejaVuSans-101\"/>\n      </g>\n     </g>\n    </g>\n    <g id=\"xtick_51\">\n     <g id=\"line2d_51\">\n      <g>\n       <use style=\"stroke:#000000;stroke-width:0.8;\" x=\"570.019105\" xlink:href=\"#m798dcede4b\" y=\"571.996875\"/>\n      </g>\n     </g>\n     <g id=\"text_51\">\n      <!-- Meat live weight, mule -->\n      <g style=\"fill:#5a5034;\" transform=\"translate(573.330355 715.67125)rotate(-90)scale(0.12 -0.12)\">\n       <use xlink:href=\"#DejaVuSans-77\"/>\n       <use x=\"86.279297\" xlink:href=\"#DejaVuSans-101\"/>\n       <use x=\"147.802734\" xlink:href=\"#DejaVuSans-97\"/>\n       <use x=\"209.082031\" xlink:href=\"#DejaVuSans-116\"/>\n       <use x=\"248.291016\" xlink:href=\"#DejaVuSans-32\"/>\n       <use x=\"280.078125\" xlink:href=\"#DejaVuSans-108\"/>\n       <use x=\"307.861328\" xlink:href=\"#DejaVuSans-105\"/>\n       <use x=\"335.644531\" xlink:href=\"#DejaVuSans-118\"/>\n       <use x=\"394.824219\" xlink:href=\"#DejaVuSans-101\"/>\n       <use x=\"456.347656\" xlink:href=\"#DejaVuSans-32\"/>\n       <use x=\"488.134766\" xlink:href=\"#DejaVuSans-119\"/>\n       <use x=\"569.921875\" xlink:href=\"#DejaVuSans-101\"/>\n       <use x=\"631.445312\" xlink:href=\"#DejaVuSans-105\"/>\n       <use x=\"659.228516\" xlink:href=\"#DejaVuSans-103\"/>\n       <use x=\"722.705078\" xlink:href=\"#DejaVuSans-104\"/>\n       <use x=\"786.083984\" xlink:href=\"#DejaVuSans-116\"/>\n       <use x=\"825.292969\" xlink:href=\"#DejaVuSans-44\"/>\n       <use x=\"857.080078\" xlink:href=\"#DejaVuSans-32\"/>\n       <use x=\"888.867188\" xlink:href=\"#DejaVuSans-109\"/>\n       <use x=\"986.279297\" xlink:href=\"#DejaVuSans-117\"/>\n       <use x=\"1049.658203\" xlink:href=\"#DejaVuSans-108\"/>\n       <use x=\"1077.441406\" xlink:href=\"#DejaVuSans-101\"/>\n      </g>\n     </g>\n    </g>\n    <g id=\"xtick_52\">\n     <g id=\"line2d_52\">\n      <g>\n       <use style=\"stroke:#000000;stroke-width:0.8;\" x=\"580.073159\" xlink:href=\"#m798dcede4b\" y=\"571.996875\"/>\n      </g>\n     </g>\n     <g id=\"text_52\">\n      <!-- Meat live weight, pig -->\n      <g style=\"fill:#5a5034;\" transform=\"translate(583.384409 704.23)rotate(-90)scale(0.12 -0.12)\">\n       <use xlink:href=\"#DejaVuSans-77\"/>\n       <use x=\"86.279297\" xlink:href=\"#DejaVuSans-101\"/>\n       <use x=\"147.802734\" xlink:href=\"#DejaVuSans-97\"/>\n       <use x=\"209.082031\" xlink:href=\"#DejaVuSans-116\"/>\n       <use x=\"248.291016\" xlink:href=\"#DejaVuSans-32\"/>\n       <use x=\"280.078125\" xlink:href=\"#DejaVuSans-108\"/>\n       <use x=\"307.861328\" xlink:href=\"#DejaVuSans-105\"/>\n       <use x=\"335.644531\" xlink:href=\"#DejaVuSans-118\"/>\n       <use x=\"394.824219\" xlink:href=\"#DejaVuSans-101\"/>\n       <use x=\"456.347656\" xlink:href=\"#DejaVuSans-32\"/>\n       <use x=\"488.134766\" xlink:href=\"#DejaVuSans-119\"/>\n       <use x=\"569.921875\" xlink:href=\"#DejaVuSans-101\"/>\n       <use x=\"631.445312\" xlink:href=\"#DejaVuSans-105\"/>\n       <use x=\"659.228516\" xlink:href=\"#DejaVuSans-103\"/>\n       <use x=\"722.705078\" xlink:href=\"#DejaVuSans-104\"/>\n       <use x=\"786.083984\" xlink:href=\"#DejaVuSans-116\"/>\n       <use x=\"825.292969\" xlink:href=\"#DejaVuSans-44\"/>\n       <use x=\"857.080078\" xlink:href=\"#DejaVuSans-32\"/>\n       <use x=\"888.867188\" xlink:href=\"#DejaVuSans-112\"/>\n       <use x=\"952.34375\" xlink:href=\"#DejaVuSans-105\"/>\n       <use x=\"980.126953\" xlink:href=\"#DejaVuSans-103\"/>\n      </g>\n     </g>\n    </g>\n    <g id=\"xtick_53\">\n     <g id=\"line2d_53\">\n      <g>\n       <use style=\"stroke:#000000;stroke-width:0.8;\" x=\"590.127213\" xlink:href=\"#m798dcede4b\" y=\"571.996875\"/>\n      </g>\n     </g>\n     <g id=\"text_53\">\n      <!-- Meat live weight, rabbit -->\n      <g style=\"fill:#5a5034;\" transform=\"translate(593.438463 721.22125)rotate(-90)scale(0.12 -0.12)\">\n       <use xlink:href=\"#DejaVuSans-77\"/>\n       <use x=\"86.279297\" xlink:href=\"#DejaVuSans-101\"/>\n       <use x=\"147.802734\" xlink:href=\"#DejaVuSans-97\"/>\n       <use x=\"209.082031\" xlink:href=\"#DejaVuSans-116\"/>\n       <use x=\"248.291016\" xlink:href=\"#DejaVuSans-32\"/>\n       <use x=\"280.078125\" xlink:href=\"#DejaVuSans-108\"/>\n       <use x=\"307.861328\" xlink:href=\"#DejaVuSans-105\"/>\n       <use x=\"335.644531\" xlink:href=\"#DejaVuSans-118\"/>\n       <use x=\"394.824219\" xlink:href=\"#DejaVuSans-101\"/>\n       <use x=\"456.347656\" xlink:href=\"#DejaVuSans-32\"/>\n       <use x=\"488.134766\" xlink:href=\"#DejaVuSans-119\"/>\n       <use x=\"569.921875\" xlink:href=\"#DejaVuSans-101\"/>\n       <use x=\"631.445312\" xlink:href=\"#DejaVuSans-105\"/>\n       <use x=\"659.228516\" xlink:href=\"#DejaVuSans-103\"/>\n       <use x=\"722.705078\" xlink:href=\"#DejaVuSans-104\"/>\n       <use x=\"786.083984\" xlink:href=\"#DejaVuSans-116\"/>\n       <use x=\"825.292969\" xlink:href=\"#DejaVuSans-44\"/>\n       <use x=\"857.080078\" xlink:href=\"#DejaVuSans-32\"/>\n       <use x=\"888.867188\" xlink:href=\"#DejaVuSans-114\"/>\n       <use x=\"929.980469\" xlink:href=\"#DejaVuSans-97\"/>\n       <use x=\"991.259766\" xlink:href=\"#DejaVuSans-98\"/>\n       <use x=\"1054.736328\" xlink:href=\"#DejaVuSans-98\"/>\n       <use x=\"1118.212891\" xlink:href=\"#DejaVuSans-105\"/>\n       <use x=\"1145.996094\" xlink:href=\"#DejaVuSans-116\"/>\n      </g>\n     </g>\n    </g>\n    <g id=\"xtick_54\">\n     <g id=\"line2d_54\">\n      <g>\n       <use style=\"stroke:#000000;stroke-width:0.8;\" x=\"600.181267\" xlink:href=\"#m798dcede4b\" y=\"571.996875\"/>\n      </g>\n     </g>\n     <g id=\"text_54\">\n      <!-- Meat live weight, sheep -->\n      <g style=\"fill:#5a5034;\" transform=\"translate(603.492517 721.901875)rotate(-90)scale(0.12 -0.12)\">\n       <use xlink:href=\"#DejaVuSans-77\"/>\n       <use x=\"86.279297\" xlink:href=\"#DejaVuSans-101\"/>\n       <use x=\"147.802734\" xlink:href=\"#DejaVuSans-97\"/>\n       <use x=\"209.082031\" xlink:href=\"#DejaVuSans-116\"/>\n       <use x=\"248.291016\" xlink:href=\"#DejaVuSans-32\"/>\n       <use x=\"280.078125\" xlink:href=\"#DejaVuSans-108\"/>\n       <use x=\"307.861328\" xlink:href=\"#DejaVuSans-105\"/>\n       <use x=\"335.644531\" xlink:href=\"#DejaVuSans-118\"/>\n       <use x=\"394.824219\" xlink:href=\"#DejaVuSans-101\"/>\n       <use x=\"456.347656\" xlink:href=\"#DejaVuSans-32\"/>\n       <use x=\"488.134766\" xlink:href=\"#DejaVuSans-119\"/>\n       <use x=\"569.921875\" xlink:href=\"#DejaVuSans-101\"/>\n       <use x=\"631.445312\" xlink:href=\"#DejaVuSans-105\"/>\n       <use x=\"659.228516\" xlink:href=\"#DejaVuSans-103\"/>\n       <use x=\"722.705078\" xlink:href=\"#DejaVuSans-104\"/>\n       <use x=\"786.083984\" xlink:href=\"#DejaVuSans-116\"/>\n       <use x=\"825.292969\" xlink:href=\"#DejaVuSans-44\"/>\n       <use x=\"857.080078\" xlink:href=\"#DejaVuSans-32\"/>\n       <use x=\"888.867188\" xlink:href=\"#DejaVuSans-115\"/>\n       <use x=\"940.966797\" xlink:href=\"#DejaVuSans-104\"/>\n       <use x=\"1004.345703\" xlink:href=\"#DejaVuSans-101\"/>\n       <use x=\"1065.869141\" xlink:href=\"#DejaVuSans-101\"/>\n       <use x=\"1127.392578\" xlink:href=\"#DejaVuSans-112\"/>\n      </g>\n     </g>\n    </g>\n    <g id=\"xtick_55\">\n     <g id=\"line2d_55\">\n      <g>\n       <use style=\"stroke:#000000;stroke-width:0.8;\" x=\"610.235321\" xlink:href=\"#m798dcede4b\" y=\"571.996875\"/>\n      </g>\n     </g>\n     <g id=\"text_55\">\n      <!-- Meat live weight, turkey -->\n      <g style=\"fill:#5a5034;\" transform=\"translate(613.546571 723.9025)rotate(-90)scale(0.12 -0.12)\">\n       <use xlink:href=\"#DejaVuSans-77\"/>\n       <use x=\"86.279297\" xlink:href=\"#DejaVuSans-101\"/>\n       <use x=\"147.802734\" xlink:href=\"#DejaVuSans-97\"/>\n       <use x=\"209.082031\" xlink:href=\"#DejaVuSans-116\"/>\n       <use x=\"248.291016\" xlink:href=\"#DejaVuSans-32\"/>\n       <use x=\"280.078125\" xlink:href=\"#DejaVuSans-108\"/>\n       <use x=\"307.861328\" xlink:href=\"#DejaVuSans-105\"/>\n       <use x=\"335.644531\" xlink:href=\"#DejaVuSans-118\"/>\n       <use x=\"394.824219\" xlink:href=\"#DejaVuSans-101\"/>\n       <use x=\"456.347656\" xlink:href=\"#DejaVuSans-32\"/>\n       <use x=\"488.134766\" xlink:href=\"#DejaVuSans-119\"/>\n       <use x=\"569.921875\" xlink:href=\"#DejaVuSans-101\"/>\n       <use x=\"631.445312\" xlink:href=\"#DejaVuSans-105\"/>\n       <use x=\"659.228516\" xlink:href=\"#DejaVuSans-103\"/>\n       <use x=\"722.705078\" xlink:href=\"#DejaVuSans-104\"/>\n       <use x=\"786.083984\" xlink:href=\"#DejaVuSans-116\"/>\n       <use x=\"825.292969\" xlink:href=\"#DejaVuSans-44\"/>\n       <use x=\"857.080078\" xlink:href=\"#DejaVuSans-32\"/>\n       <use x=\"888.867188\" xlink:href=\"#DejaVuSans-116\"/>\n       <use x=\"928.076172\" xlink:href=\"#DejaVuSans-117\"/>\n       <use x=\"991.455078\" xlink:href=\"#DejaVuSans-114\"/>\n       <use x=\"1032.568359\" xlink:href=\"#DejaVuSans-107\"/>\n       <use x=\"1086.853516\" xlink:href=\"#DejaVuSans-101\"/>\n       <use x=\"1148.376953\" xlink:href=\"#DejaVuSans-121\"/>\n      </g>\n     </g>\n    </g>\n    <g id=\"xtick_56\">\n     <g id=\"line2d_56\">\n      <g>\n       <use style=\"stroke:#000000;stroke-width:0.8;\" x=\"620.289375\" xlink:href=\"#m798dcede4b\" y=\"571.996875\"/>\n      </g>\n     </g>\n     <g id=\"text_56\">\n      <!-- Meat, ass -->\n      <g style=\"fill:#5a5034;\" transform=\"translate(623.600625 636.27625)rotate(-90)scale(0.12 -0.12)\">\n       <use xlink:href=\"#DejaVuSans-77\"/>\n       <use x=\"86.279297\" xlink:href=\"#DejaVuSans-101\"/>\n       <use x=\"147.802734\" xlink:href=\"#DejaVuSans-97\"/>\n       <use x=\"209.082031\" xlink:href=\"#DejaVuSans-116\"/>\n       <use x=\"248.291016\" xlink:href=\"#DejaVuSans-44\"/>\n       <use x=\"280.078125\" xlink:href=\"#DejaVuSans-32\"/>\n       <use x=\"311.865234\" xlink:href=\"#DejaVuSans-97\"/>\n       <use x=\"373.144531\" xlink:href=\"#DejaVuSans-115\"/>\n       <use x=\"425.244141\" xlink:href=\"#DejaVuSans-115\"/>\n      </g>\n     </g>\n    </g>\n    <g id=\"xtick_57\">\n     <g id=\"line2d_57\">\n      <g>\n       <use style=\"stroke:#000000;stroke-width:0.8;\" x=\"630.343429\" xlink:href=\"#m798dcede4b\" y=\"571.996875\"/>\n      </g>\n     </g>\n     <g id=\"text_57\">\n      <!-- Meat, chicken -->\n      <g style=\"fill:#5a5034;\" transform=\"translate(633.654679 662.0575)rotate(-90)scale(0.12 -0.12)\">\n       <use xlink:href=\"#DejaVuSans-77\"/>\n       <use x=\"86.279297\" xlink:href=\"#DejaVuSans-101\"/>\n       <use x=\"147.802734\" xlink:href=\"#DejaVuSans-97\"/>\n       <use x=\"209.082031\" xlink:href=\"#DejaVuSans-116\"/>\n       <use x=\"248.291016\" xlink:href=\"#DejaVuSans-44\"/>\n       <use x=\"280.078125\" xlink:href=\"#DejaVuSans-32\"/>\n       <use x=\"311.865234\" xlink:href=\"#DejaVuSans-99\"/>\n       <use x=\"366.845703\" xlink:href=\"#DejaVuSans-104\"/>\n       <use x=\"430.224609\" xlink:href=\"#DejaVuSans-105\"/>\n       <use x=\"458.007812\" xlink:href=\"#DejaVuSans-99\"/>\n       <use x=\"512.988281\" xlink:href=\"#DejaVuSans-107\"/>\n       <use x=\"567.273438\" xlink:href=\"#DejaVuSans-101\"/>\n       <use x=\"628.796875\" xlink:href=\"#DejaVuSans-110\"/>\n      </g>\n     </g>\n    </g>\n    <g id=\"xtick_58\">\n     <g id=\"line2d_58\">\n      <g>\n       <use style=\"stroke:#000000;stroke-width:0.8;\" x=\"640.397483\" xlink:href=\"#m798dcede4b\" y=\"571.996875\"/>\n      </g>\n     </g>\n     <g id=\"text_58\">\n      <!-- Meat, duck -->\n      <g style=\"fill:#5a5034;\" transform=\"translate(643.708733 645.19)rotate(-90)scale(0.12 -0.12)\">\n       <use xlink:href=\"#DejaVuSans-77\"/>\n       <use x=\"86.279297\" xlink:href=\"#DejaVuSans-101\"/>\n       <use x=\"147.802734\" xlink:href=\"#DejaVuSans-97\"/>\n       <use x=\"209.082031\" xlink:href=\"#DejaVuSans-116\"/>\n       <use x=\"248.291016\" xlink:href=\"#DejaVuSans-44\"/>\n       <use x=\"280.078125\" xlink:href=\"#DejaVuSans-32\"/>\n       <use x=\"311.865234\" xlink:href=\"#DejaVuSans-100\"/>\n       <use x=\"375.341797\" xlink:href=\"#DejaVuSans-117\"/>\n       <use x=\"438.720703\" xlink:href=\"#DejaVuSans-99\"/>\n       <use x=\"493.701172\" xlink:href=\"#DejaVuSans-107\"/>\n      </g>\n     </g>\n    </g>\n    <g id=\"xtick_59\">\n     <g id=\"line2d_59\">\n      <g>\n       <use style=\"stroke:#000000;stroke-width:0.8;\" x=\"650.451537\" xlink:href=\"#m798dcede4b\" y=\"571.996875\"/>\n      </g>\n     </g>\n     <g id=\"text_59\">\n      <!-- Meat, goat -->\n      <g style=\"fill:#5a5034;\" transform=\"translate(653.762787 643.43875)rotate(-90)scale(0.12 -0.12)\">\n       <use xlink:href=\"#DejaVuSans-77\"/>\n       <use x=\"86.279297\" xlink:href=\"#DejaVuSans-101\"/>\n       <use x=\"147.802734\" xlink:href=\"#DejaVuSans-97\"/>\n       <use x=\"209.082031\" xlink:href=\"#DejaVuSans-116\"/>\n       <use x=\"248.291016\" xlink:href=\"#DejaVuSans-44\"/>\n       <use x=\"280.078125\" xlink:href=\"#DejaVuSans-32\"/>\n       <use x=\"311.865234\" xlink:href=\"#DejaVuSans-103\"/>\n       <use x=\"375.341797\" xlink:href=\"#DejaVuSans-111\"/>\n       <use x=\"436.523438\" xlink:href=\"#DejaVuSans-97\"/>\n       <use x=\"497.802734\" xlink:href=\"#DejaVuSans-116\"/>\n      </g>\n     </g>\n    </g>\n    <g id=\"xtick_60\">\n     <g id=\"line2d_60\">\n      <g>\n       <use style=\"stroke:#000000;stroke-width:0.8;\" x=\"660.505591\" xlink:href=\"#m798dcede4b\" y=\"571.996875\"/>\n      </g>\n     </g>\n     <g id=\"text_60\">\n      <!-- Meat, horse -->\n      <g style=\"fill:#5a5034;\" transform=\"translate(663.816841 649.935625)rotate(-90)scale(0.12 -0.12)\">\n       <use xlink:href=\"#DejaVuSans-77\"/>\n       <use x=\"86.279297\" xlink:href=\"#DejaVuSans-101\"/>\n       <use x=\"147.802734\" xlink:href=\"#DejaVuSans-97\"/>\n       <use x=\"209.082031\" xlink:href=\"#DejaVuSans-116\"/>\n       <use x=\"248.291016\" xlink:href=\"#DejaVuSans-44\"/>\n       <use x=\"280.078125\" xlink:href=\"#DejaVuSans-32\"/>\n       <use x=\"311.865234\" xlink:href=\"#DejaVuSans-104\"/>\n       <use x=\"375.244141\" xlink:href=\"#DejaVuSans-111\"/>\n       <use x=\"436.425781\" xlink:href=\"#DejaVuSans-114\"/>\n       <use x=\"477.539062\" xlink:href=\"#DejaVuSans-115\"/>\n       <use x=\"529.638672\" xlink:href=\"#DejaVuSans-101\"/>\n      </g>\n     </g>\n    </g>\n    <g id=\"xtick_61\">\n     <g id=\"line2d_61\">\n      <g>\n       <use style=\"stroke:#000000;stroke-width:0.8;\" x=\"670.559645\" xlink:href=\"#m798dcede4b\" y=\"571.996875\"/>\n      </g>\n     </g>\n     <g id=\"text_61\">\n      <!-- Meat, mule -->\n      <g style=\"fill:#5a5034;\" transform=\"translate(673.870895 646.43125)rotate(-90)scale(0.12 -0.12)\">\n       <use xlink:href=\"#DejaVuSans-77\"/>\n       <use x=\"86.279297\" xlink:href=\"#DejaVuSans-101\"/>\n       <use x=\"147.802734\" xlink:href=\"#DejaVuSans-97\"/>\n       <use x=\"209.082031\" xlink:href=\"#DejaVuSans-116\"/>\n       <use x=\"248.291016\" xlink:href=\"#DejaVuSans-44\"/>\n       <use x=\"280.078125\" xlink:href=\"#DejaVuSans-32\"/>\n       <use x=\"311.865234\" xlink:href=\"#DejaVuSans-109\"/>\n       <use x=\"409.277344\" xlink:href=\"#DejaVuSans-117\"/>\n       <use x=\"472.65625\" xlink:href=\"#DejaVuSans-108\"/>\n       <use x=\"500.439453\" xlink:href=\"#DejaVuSans-101\"/>\n      </g>\n     </g>\n    </g>\n    <g id=\"xtick_62\">\n     <g id=\"line2d_62\">\n      <g>\n       <use style=\"stroke:#000000;stroke-width:0.8;\" x=\"680.613699\" xlink:href=\"#m798dcede4b\" y=\"571.996875\"/>\n      </g>\n     </g>\n     <g id=\"text_62\">\n      <!-- Meat, pig -->\n      <g style=\"fill:#5a5034;\" transform=\"translate(683.924949 634.99)rotate(-90)scale(0.12 -0.12)\">\n       <use xlink:href=\"#DejaVuSans-77\"/>\n       <use x=\"86.279297\" xlink:href=\"#DejaVuSans-101\"/>\n       <use x=\"147.802734\" xlink:href=\"#DejaVuSans-97\"/>\n       <use x=\"209.082031\" xlink:href=\"#DejaVuSans-116\"/>\n       <use x=\"248.291016\" xlink:href=\"#DejaVuSans-44\"/>\n       <use x=\"280.078125\" xlink:href=\"#DejaVuSans-32\"/>\n       <use x=\"311.865234\" xlink:href=\"#DejaVuSans-112\"/>\n       <use x=\"375.341797\" xlink:href=\"#DejaVuSans-105\"/>\n       <use x=\"403.125\" xlink:href=\"#DejaVuSans-103\"/>\n      </g>\n     </g>\n    </g>\n    <g id=\"xtick_63\">\n     <g id=\"line2d_63\">\n      <g>\n       <use style=\"stroke:#000000;stroke-width:0.8;\" x=\"690.667753\" xlink:href=\"#m798dcede4b\" y=\"571.996875\"/>\n      </g>\n     </g>\n     <g id=\"text_63\">\n      <!-- Meat, rabbit -->\n      <g style=\"fill:#5a5034;\" transform=\"translate(693.979003 651.98125)rotate(-90)scale(0.12 -0.12)\">\n       <use xlink:href=\"#DejaVuSans-77\"/>\n       <use x=\"86.279297\" xlink:href=\"#DejaVuSans-101\"/>\n       <use x=\"147.802734\" xlink:href=\"#DejaVuSans-97\"/>\n       <use x=\"209.082031\" xlink:href=\"#DejaVuSans-116\"/>\n       <use x=\"248.291016\" xlink:href=\"#DejaVuSans-44\"/>\n       <use x=\"280.078125\" xlink:href=\"#DejaVuSans-32\"/>\n       <use x=\"311.865234\" xlink:href=\"#DejaVuSans-114\"/>\n       <use x=\"352.978516\" xlink:href=\"#DejaVuSans-97\"/>\n       <use x=\"414.257812\" xlink:href=\"#DejaVuSans-98\"/>\n       <use x=\"477.734375\" xlink:href=\"#DejaVuSans-98\"/>\n       <use x=\"541.210938\" xlink:href=\"#DejaVuSans-105\"/>\n       <use x=\"568.994141\" xlink:href=\"#DejaVuSans-116\"/>\n      </g>\n     </g>\n    </g>\n    <g id=\"xtick_64\">\n     <g id=\"line2d_64\">\n      <g>\n       <use style=\"stroke:#000000;stroke-width:0.8;\" x=\"700.721807\" xlink:href=\"#m798dcede4b\" y=\"571.996875\"/>\n      </g>\n     </g>\n     <g id=\"text_64\">\n      <!-- Meat, sheep -->\n      <g style=\"fill:#5a5034;\" transform=\"translate(704.033057 652.661875)rotate(-90)scale(0.12 -0.12)\">\n       <use xlink:href=\"#DejaVuSans-77\"/>\n       <use x=\"86.279297\" xlink:href=\"#DejaVuSans-101\"/>\n       <use x=\"147.802734\" xlink:href=\"#DejaVuSans-97\"/>\n       <use x=\"209.082031\" xlink:href=\"#DejaVuSans-116\"/>\n       <use x=\"248.291016\" xlink:href=\"#DejaVuSans-44\"/>\n       <use x=\"280.078125\" xlink:href=\"#DejaVuSans-32\"/>\n       <use x=\"311.865234\" xlink:href=\"#DejaVuSans-115\"/>\n       <use x=\"363.964844\" xlink:href=\"#DejaVuSans-104\"/>\n       <use x=\"427.34375\" xlink:href=\"#DejaVuSans-101\"/>\n       <use x=\"488.867188\" xlink:href=\"#DejaVuSans-101\"/>\n       <use x=\"550.390625\" xlink:href=\"#DejaVuSans-112\"/>\n      </g>\n     </g>\n    </g>\n    <g id=\"xtick_65\">\n     <g id=\"line2d_65\">\n      <g>\n       <use style=\"stroke:#000000;stroke-width:0.8;\" x=\"710.775861\" xlink:href=\"#m798dcede4b\" y=\"571.996875\"/>\n      </g>\n     </g>\n     <g id=\"text_65\">\n      <!-- Meat, turkey -->\n      <g style=\"fill:#5a5034;\" transform=\"translate(714.087111 654.6625)rotate(-90)scale(0.12 -0.12)\">\n       <use xlink:href=\"#DejaVuSans-77\"/>\n       <use x=\"86.279297\" xlink:href=\"#DejaVuSans-101\"/>\n       <use x=\"147.802734\" xlink:href=\"#DejaVuSans-97\"/>\n       <use x=\"209.082031\" xlink:href=\"#DejaVuSans-116\"/>\n       <use x=\"248.291016\" xlink:href=\"#DejaVuSans-44\"/>\n       <use x=\"280.078125\" xlink:href=\"#DejaVuSans-32\"/>\n       <use x=\"311.865234\" xlink:href=\"#DejaVuSans-116\"/>\n       <use x=\"351.074219\" xlink:href=\"#DejaVuSans-117\"/>\n       <use x=\"414.453125\" xlink:href=\"#DejaVuSans-114\"/>\n       <use x=\"455.566406\" xlink:href=\"#DejaVuSans-107\"/>\n       <use x=\"509.851562\" xlink:href=\"#DejaVuSans-101\"/>\n       <use x=\"571.375\" xlink:href=\"#DejaVuSans-121\"/>\n      </g>\n     </g>\n    </g>\n    <g id=\"xtick_66\">\n     <g id=\"line2d_66\">\n      <g>\n       <use style=\"stroke:#000000;stroke-width:0.8;\" x=\"720.829916\" xlink:href=\"#m798dcede4b\" y=\"571.996875\"/>\n      </g>\n     </g>\n     <g id=\"text_66\">\n      <!-- Melons, other (inc.cantaloupes) -->\n      <g style=\"fill:#5a5034;\" transform=\"translate(724.141166 768.540625)rotate(-90)scale(0.12 -0.12)\">\n       <use xlink:href=\"#DejaVuSans-77\"/>\n       <use x=\"86.279297\" xlink:href=\"#DejaVuSans-101\"/>\n       <use x=\"147.802734\" xlink:href=\"#DejaVuSans-108\"/>\n       <use x=\"175.585938\" xlink:href=\"#DejaVuSans-111\"/>\n       <use x=\"236.767578\" xlink:href=\"#DejaVuSans-110\"/>\n       <use x=\"300.146484\" xlink:href=\"#DejaVuSans-115\"/>\n       <use x=\"352.246094\" xlink:href=\"#DejaVuSans-44\"/>\n       <use x=\"384.033203\" xlink:href=\"#DejaVuSans-32\"/>\n       <use x=\"415.820312\" xlink:href=\"#DejaVuSans-111\"/>\n       <use x=\"477.001953\" xlink:href=\"#DejaVuSans-116\"/>\n       <use x=\"516.210938\" xlink:href=\"#DejaVuSans-104\"/>\n       <use x=\"579.589844\" xlink:href=\"#DejaVuSans-101\"/>\n       <use x=\"641.113281\" xlink:href=\"#DejaVuSans-114\"/>\n       <use x=\"682.226562\" xlink:href=\"#DejaVuSans-32\"/>\n       <use x=\"714.013672\" xlink:href=\"#DejaVuSans-40\"/>\n       <use x=\"753.027344\" xlink:href=\"#DejaVuSans-105\"/>\n       <use x=\"780.810547\" xlink:href=\"#DejaVuSans-110\"/>\n       <use x=\"844.189453\" xlink:href=\"#DejaVuSans-99\"/>\n       <use x=\"899.169922\" xlink:href=\"#DejaVuSans-46\"/>\n       <use x=\"930.957031\" xlink:href=\"#DejaVuSans-99\"/>\n       <use x=\"985.9375\" xlink:href=\"#DejaVuSans-97\"/>\n       <use x=\"1047.216797\" xlink:href=\"#DejaVuSans-110\"/>\n       <use x=\"1110.595703\" xlink:href=\"#DejaVuSans-116\"/>\n       <use x=\"1149.804688\" xlink:href=\"#DejaVuSans-97\"/>\n       <use x=\"1211.083984\" xlink:href=\"#DejaVuSans-108\"/>\n       <use x=\"1238.867188\" xlink:href=\"#DejaVuSans-111\"/>\n       <use x=\"1300.048828\" xlink:href=\"#DejaVuSans-117\"/>\n       <use x=\"1363.427734\" xlink:href=\"#DejaVuSans-112\"/>\n       <use x=\"1426.904297\" xlink:href=\"#DejaVuSans-101\"/>\n       <use x=\"1488.427734\" xlink:href=\"#DejaVuSans-115\"/>\n       <use x=\"1540.527344\" xlink:href=\"#DejaVuSans-41\"/>\n      </g>\n     </g>\n    </g>\n    <g id=\"xtick_67\">\n     <g id=\"line2d_67\">\n      <g>\n       <use style=\"stroke:#000000;stroke-width:0.8;\" x=\"730.88397\" xlink:href=\"#m798dcede4b\" y=\"571.996875\"/>\n      </g>\n     </g>\n     <g id=\"text_67\">\n      <!-- Milk, whole fresh cow -->\n      <g style=\"fill:#5a5034;\" transform=\"translate(734.19522 707.5825)rotate(-90)scale(0.12 -0.12)\">\n       <use xlink:href=\"#DejaVuSans-77\"/>\n       <use x=\"86.279297\" xlink:href=\"#DejaVuSans-105\"/>\n       <use x=\"114.0625\" xlink:href=\"#DejaVuSans-108\"/>\n       <use x=\"141.845703\" xlink:href=\"#DejaVuSans-107\"/>\n       <use x=\"199.755859\" xlink:href=\"#DejaVuSans-44\"/>\n       <use x=\"231.542969\" xlink:href=\"#DejaVuSans-32\"/>\n       <use x=\"263.330078\" xlink:href=\"#DejaVuSans-119\"/>\n       <use x=\"345.117188\" xlink:href=\"#DejaVuSans-104\"/>\n       <use x=\"408.496094\" xlink:href=\"#DejaVuSans-111\"/>\n       <use x=\"469.677734\" xlink:href=\"#DejaVuSans-108\"/>\n       <use x=\"497.460938\" xlink:href=\"#DejaVuSans-101\"/>\n       <use x=\"558.984375\" xlink:href=\"#DejaVuSans-32\"/>\n       <use x=\"590.771484\" xlink:href=\"#DejaVuSans-102\"/>\n       <use x=\"625.976562\" xlink:href=\"#DejaVuSans-114\"/>\n       <use x=\"664.839844\" xlink:href=\"#DejaVuSans-101\"/>\n       <use x=\"726.363281\" xlink:href=\"#DejaVuSans-115\"/>\n       <use x=\"778.462891\" xlink:href=\"#DejaVuSans-104\"/>\n       <use x=\"841.841797\" xlink:href=\"#DejaVuSans-32\"/>\n       <use x=\"873.628906\" xlink:href=\"#DejaVuSans-99\"/>\n       <use x=\"928.609375\" xlink:href=\"#DejaVuSans-111\"/>\n       <use x=\"989.791016\" xlink:href=\"#DejaVuSans-119\"/>\n      </g>\n     </g>\n    </g>\n    <g id=\"xtick_68\">\n     <g id=\"line2d_68\">\n      <g>\n       <use style=\"stroke:#000000;stroke-width:0.8;\" x=\"740.938024\" xlink:href=\"#m798dcede4b\" y=\"571.996875\"/>\n      </g>\n     </g>\n     <g id=\"text_68\">\n      <!-- Milk, whole fresh goat -->\n      <g style=\"fill:#5a5034;\" transform=\"translate(744.249274 710.846875)rotate(-90)scale(0.12 -0.12)\">\n       <use xlink:href=\"#DejaVuSans-77\"/>\n       <use x=\"86.279297\" xlink:href=\"#DejaVuSans-105\"/>\n       <use x=\"114.0625\" xlink:href=\"#DejaVuSans-108\"/>\n       <use x=\"141.845703\" xlink:href=\"#DejaVuSans-107\"/>\n       <use x=\"199.755859\" xlink:href=\"#DejaVuSans-44\"/>\n       <use x=\"231.542969\" xlink:href=\"#DejaVuSans-32\"/>\n       <use x=\"263.330078\" xlink:href=\"#DejaVuSans-119\"/>\n       <use x=\"345.117188\" xlink:href=\"#DejaVuSans-104\"/>\n       <use x=\"408.496094\" xlink:href=\"#DejaVuSans-111\"/>\n       <use x=\"469.677734\" xlink:href=\"#DejaVuSans-108\"/>\n       <use x=\"497.460938\" xlink:href=\"#DejaVuSans-101\"/>\n       <use x=\"558.984375\" xlink:href=\"#DejaVuSans-32\"/>\n       <use x=\"590.771484\" xlink:href=\"#DejaVuSans-102\"/>\n       <use x=\"625.976562\" xlink:href=\"#DejaVuSans-114\"/>\n       <use x=\"664.839844\" xlink:href=\"#DejaVuSans-101\"/>\n       <use x=\"726.363281\" xlink:href=\"#DejaVuSans-115\"/>\n       <use x=\"778.462891\" xlink:href=\"#DejaVuSans-104\"/>\n       <use x=\"841.841797\" xlink:href=\"#DejaVuSans-32\"/>\n       <use x=\"873.628906\" xlink:href=\"#DejaVuSans-103\"/>\n       <use x=\"937.105469\" xlink:href=\"#DejaVuSans-111\"/>\n       <use x=\"998.287109\" xlink:href=\"#DejaVuSans-97\"/>\n       <use x=\"1059.566406\" xlink:href=\"#DejaVuSans-116\"/>\n      </g>\n     </g>\n    </g>\n    <g id=\"xtick_69\">\n     <g id=\"line2d_69\">\n      <g>\n       <use style=\"stroke:#000000;stroke-width:0.8;\" x=\"750.992078\" xlink:href=\"#m798dcede4b\" y=\"571.996875\"/>\n      </g>\n     </g>\n     <g id=\"text_69\">\n      <!-- Milk, whole fresh sheep -->\n      <g style=\"fill:#5a5034;\" transform=\"translate(754.303328 720.07)rotate(-90)scale(0.12 -0.12)\">\n       <use xlink:href=\"#DejaVuSans-77\"/>\n       <use x=\"86.279297\" xlink:href=\"#DejaVuSans-105\"/>\n       <use x=\"114.0625\" xlink:href=\"#DejaVuSans-108\"/>\n       <use x=\"141.845703\" xlink:href=\"#DejaVuSans-107\"/>\n       <use x=\"199.755859\" xlink:href=\"#DejaVuSans-44\"/>\n       <use x=\"231.542969\" xlink:href=\"#DejaVuSans-32\"/>\n       <use x=\"263.330078\" xlink:href=\"#DejaVuSans-119\"/>\n       <use x=\"345.117188\" xlink:href=\"#DejaVuSans-104\"/>\n       <use x=\"408.496094\" xlink:href=\"#DejaVuSans-111\"/>\n       <use x=\"469.677734\" xlink:href=\"#DejaVuSans-108\"/>\n       <use x=\"497.460938\" xlink:href=\"#DejaVuSans-101\"/>\n       <use x=\"558.984375\" xlink:href=\"#DejaVuSans-32\"/>\n       <use x=\"590.771484\" xlink:href=\"#DejaVuSans-102\"/>\n       <use x=\"625.976562\" xlink:href=\"#DejaVuSans-114\"/>\n       <use x=\"664.839844\" xlink:href=\"#DejaVuSans-101\"/>\n       <use x=\"726.363281\" xlink:href=\"#DejaVuSans-115\"/>\n       <use x=\"778.462891\" xlink:href=\"#DejaVuSans-104\"/>\n       <use x=\"841.841797\" xlink:href=\"#DejaVuSans-32\"/>\n       <use x=\"873.628906\" xlink:href=\"#DejaVuSans-115\"/>\n       <use x=\"925.728516\" xlink:href=\"#DejaVuSans-104\"/>\n       <use x=\"989.107422\" xlink:href=\"#DejaVuSans-101\"/>\n       <use x=\"1050.630859\" xlink:href=\"#DejaVuSans-101\"/>\n       <use x=\"1112.154297\" xlink:href=\"#DejaVuSans-112\"/>\n      </g>\n     </g>\n    </g>\n    <g id=\"xtick_70\">\n     <g id=\"line2d_70\">\n      <g>\n       <use style=\"stroke:#000000;stroke-width:0.8;\" x=\"761.046132\" xlink:href=\"#m798dcede4b\" y=\"571.996875\"/>\n      </g>\n     </g>\n     <g id=\"text_70\">\n      <!-- Mushrooms and truffles -->\n      <g style=\"fill:#5a5034;\" transform=\"translate(764.357382 720.964375)rotate(-90)scale(0.12 -0.12)\">\n       <use xlink:href=\"#DejaVuSans-77\"/>\n       <use x=\"86.279297\" xlink:href=\"#DejaVuSans-117\"/>\n       <use x=\"149.658203\" xlink:href=\"#DejaVuSans-115\"/>\n       <use x=\"201.757812\" xlink:href=\"#DejaVuSans-104\"/>\n       <use x=\"265.136719\" xlink:href=\"#DejaVuSans-114\"/>\n       <use x=\"304\" xlink:href=\"#DejaVuSans-111\"/>\n       <use x=\"365.181641\" xlink:href=\"#DejaVuSans-111\"/>\n       <use x=\"426.363281\" xlink:href=\"#DejaVuSans-109\"/>\n       <use x=\"523.775391\" xlink:href=\"#DejaVuSans-115\"/>\n       <use x=\"575.875\" xlink:href=\"#DejaVuSans-32\"/>\n       <use x=\"607.662109\" xlink:href=\"#DejaVuSans-97\"/>\n       <use x=\"668.941406\" xlink:href=\"#DejaVuSans-110\"/>\n       <use x=\"732.320312\" xlink:href=\"#DejaVuSans-100\"/>\n       <use x=\"795.796875\" xlink:href=\"#DejaVuSans-32\"/>\n       <use x=\"827.583984\" xlink:href=\"#DejaVuSans-116\"/>\n       <use x=\"866.792969\" xlink:href=\"#DejaVuSans-114\"/>\n       <use x=\"907.90625\" xlink:href=\"#DejaVuSans-117\"/>\n       <use x=\"971.285156\" xlink:href=\"#DejaVuSans-102\"/>\n       <use x=\"1006.490234\" xlink:href=\"#DejaVuSans-102\"/>\n       <use x=\"1041.695312\" xlink:href=\"#DejaVuSans-108\"/>\n       <use x=\"1069.478516\" xlink:href=\"#DejaVuSans-101\"/>\n       <use x=\"1131.001953\" xlink:href=\"#DejaVuSans-115\"/>\n      </g>\n     </g>\n    </g>\n    <g id=\"xtick_71\">\n     <g id=\"line2d_71\">\n      <g>\n       <use style=\"stroke:#000000;stroke-width:0.8;\" x=\"771.100186\" xlink:href=\"#m798dcede4b\" y=\"571.996875\"/>\n      </g>\n     </g>\n     <g id=\"text_71\">\n      <!-- Oats -->\n      <defs>\n       <path d=\"M 39.40625 66.21875 \nQ 28.65625 66.21875 22.328125 58.203125 \nQ 16.015625 50.203125 16.015625 36.375 \nQ 16.015625 22.609375 22.328125 14.59375 \nQ 28.65625 6.59375 39.40625 6.59375 \nQ 50.140625 6.59375 56.421875 14.59375 \nQ 62.703125 22.609375 62.703125 36.375 \nQ 62.703125 50.203125 56.421875 58.203125 \nQ 50.140625 66.21875 39.40625 66.21875 \nz\nM 39.40625 74.21875 \nQ 54.734375 74.21875 63.90625 63.9375 \nQ 73.09375 53.65625 73.09375 36.375 \nQ 73.09375 19.140625 63.90625 8.859375 \nQ 54.734375 -1.421875 39.40625 -1.421875 \nQ 24.03125 -1.421875 14.8125 8.828125 \nQ 5.609375 19.09375 5.609375 36.375 \nQ 5.609375 53.65625 14.8125 63.9375 \nQ 24.03125 74.21875 39.40625 74.21875 \nz\n\" id=\"DejaVuSans-79\"/>\n      </defs>\n      <g style=\"fill:#5a5034;\" transform=\"translate(774.411436 606.7525)rotate(-90)scale(0.12 -0.12)\">\n       <use xlink:href=\"#DejaVuSans-79\"/>\n       <use x=\"78.710938\" xlink:href=\"#DejaVuSans-97\"/>\n       <use x=\"139.990234\" xlink:href=\"#DejaVuSans-116\"/>\n       <use x=\"179.199219\" xlink:href=\"#DejaVuSans-115\"/>\n      </g>\n     </g>\n    </g>\n    <g id=\"xtick_72\">\n     <g id=\"line2d_72\">\n      <g>\n       <use style=\"stroke:#000000;stroke-width:0.8;\" x=\"781.15424\" xlink:href=\"#m798dcede4b\" y=\"571.996875\"/>\n      </g>\n     </g>\n     <g id=\"text_72\">\n      <!-- Olives -->\n      <g style=\"fill:#5a5034;\" transform=\"translate(784.46549 615.848125)rotate(-90)scale(0.12 -0.12)\">\n       <use xlink:href=\"#DejaVuSans-79\"/>\n       <use x=\"78.710938\" xlink:href=\"#DejaVuSans-108\"/>\n       <use x=\"106.494141\" xlink:href=\"#DejaVuSans-105\"/>\n       <use x=\"134.277344\" xlink:href=\"#DejaVuSans-118\"/>\n       <use x=\"193.457031\" xlink:href=\"#DejaVuSans-101\"/>\n       <use x=\"254.980469\" xlink:href=\"#DejaVuSans-115\"/>\n      </g>\n     </g>\n    </g>\n    <g id=\"xtick_73\">\n     <g id=\"line2d_73\">\n      <g>\n       <use style=\"stroke:#000000;stroke-width:0.8;\" x=\"791.208294\" xlink:href=\"#m798dcede4b\" y=\"571.996875\"/>\n      </g>\n     </g>\n     <g id=\"text_73\">\n      <!-- Onions, dry -->\n      <g style=\"fill:#5a5034;\" transform=\"translate(794.519544 647.861875)rotate(-90)scale(0.12 -0.12)\">\n       <use xlink:href=\"#DejaVuSans-79\"/>\n       <use x=\"78.710938\" xlink:href=\"#DejaVuSans-110\"/>\n       <use x=\"142.089844\" xlink:href=\"#DejaVuSans-105\"/>\n       <use x=\"169.873047\" xlink:href=\"#DejaVuSans-111\"/>\n       <use x=\"231.054688\" xlink:href=\"#DejaVuSans-110\"/>\n       <use x=\"294.433594\" xlink:href=\"#DejaVuSans-115\"/>\n       <use x=\"346.533203\" xlink:href=\"#DejaVuSans-44\"/>\n       <use x=\"378.320312\" xlink:href=\"#DejaVuSans-32\"/>\n       <use x=\"410.107422\" xlink:href=\"#DejaVuSans-100\"/>\n       <use x=\"473.583984\" xlink:href=\"#DejaVuSans-114\"/>\n       <use x=\"514.697266\" xlink:href=\"#DejaVuSans-121\"/>\n      </g>\n     </g>\n    </g>\n    <g id=\"xtick_74\">\n     <g id=\"line2d_74\">\n      <g>\n       <use style=\"stroke:#000000;stroke-width:0.8;\" x=\"801.262348\" xlink:href=\"#m798dcede4b\" y=\"571.996875\"/>\n      </g>\n     </g>\n     <g id=\"text_74\">\n      <!-- Onions, shallots, green -->\n      <g style=\"fill:#5a5034;\" transform=\"translate(804.573598 716.665)rotate(-90)scale(0.12 -0.12)\">\n       <use xlink:href=\"#DejaVuSans-79\"/>\n       <use x=\"78.710938\" xlink:href=\"#DejaVuSans-110\"/>\n       <use x=\"142.089844\" xlink:href=\"#DejaVuSans-105\"/>\n       <use x=\"169.873047\" xlink:href=\"#DejaVuSans-111\"/>\n       <use x=\"231.054688\" xlink:href=\"#DejaVuSans-110\"/>\n       <use x=\"294.433594\" xlink:href=\"#DejaVuSans-115\"/>\n       <use x=\"346.533203\" xlink:href=\"#DejaVuSans-44\"/>\n       <use x=\"378.320312\" xlink:href=\"#DejaVuSans-32\"/>\n       <use x=\"410.107422\" xlink:href=\"#DejaVuSans-115\"/>\n       <use x=\"462.207031\" xlink:href=\"#DejaVuSans-104\"/>\n       <use x=\"525.585938\" xlink:href=\"#DejaVuSans-97\"/>\n       <use x=\"586.865234\" xlink:href=\"#DejaVuSans-108\"/>\n       <use x=\"614.648438\" xlink:href=\"#DejaVuSans-108\"/>\n       <use x=\"642.431641\" xlink:href=\"#DejaVuSans-111\"/>\n       <use x=\"703.613281\" xlink:href=\"#DejaVuSans-116\"/>\n       <use x=\"742.822266\" xlink:href=\"#DejaVuSans-115\"/>\n       <use x=\"794.921875\" xlink:href=\"#DejaVuSans-44\"/>\n       <use x=\"826.708984\" xlink:href=\"#DejaVuSans-32\"/>\n       <use x=\"858.496094\" xlink:href=\"#DejaVuSans-103\"/>\n       <use x=\"921.972656\" xlink:href=\"#DejaVuSans-114\"/>\n       <use x=\"960.835938\" xlink:href=\"#DejaVuSans-101\"/>\n       <use x=\"1022.359375\" xlink:href=\"#DejaVuSans-101\"/>\n       <use x=\"1083.882812\" xlink:href=\"#DejaVuSans-110\"/>\n      </g>\n     </g>\n    </g>\n    <g id=\"xtick_75\">\n     <g id=\"line2d_75\">\n      <g>\n       <use style=\"stroke:#000000;stroke-width:0.8;\" x=\"811.316402\" xlink:href=\"#m798dcede4b\" y=\"571.996875\"/>\n      </g>\n     </g>\n     <g id=\"text_75\">\n      <!-- Oranges -->\n      <g style=\"fill:#5a5034;\" transform=\"translate(814.627652 629.588125)rotate(-90)scale(0.12 -0.12)\">\n       <use xlink:href=\"#DejaVuSans-79\"/>\n       <use x=\"78.710938\" xlink:href=\"#DejaVuSans-114\"/>\n       <use x=\"119.824219\" xlink:href=\"#DejaVuSans-97\"/>\n       <use x=\"181.103516\" xlink:href=\"#DejaVuSans-110\"/>\n       <use x=\"244.482422\" xlink:href=\"#DejaVuSans-103\"/>\n       <use x=\"307.958984\" xlink:href=\"#DejaVuSans-101\"/>\n       <use x=\"369.482422\" xlink:href=\"#DejaVuSans-115\"/>\n      </g>\n     </g>\n    </g>\n    <g id=\"xtick_76\">\n     <g id=\"line2d_76\">\n      <g>\n       <use style=\"stroke:#000000;stroke-width:0.8;\" x=\"821.370456\" xlink:href=\"#m798dcede4b\" y=\"571.996875\"/>\n      </g>\n     </g>\n     <g id=\"text_76\">\n      <!-- Papayas -->\n      <defs>\n       <path d=\"M 19.671875 64.796875 \nL 19.671875 37.40625 \nL 32.078125 37.40625 \nQ 38.96875 37.40625 42.71875 40.96875 \nQ 46.484375 44.53125 46.484375 51.125 \nQ 46.484375 57.671875 42.71875 61.234375 \nQ 38.96875 64.796875 32.078125 64.796875 \nz\nM 9.8125 72.90625 \nL 32.078125 72.90625 \nQ 44.34375 72.90625 50.609375 67.359375 \nQ 56.890625 61.8125 56.890625 51.125 \nQ 56.890625 40.328125 50.609375 34.8125 \nQ 44.34375 29.296875 32.078125 29.296875 \nL 19.671875 29.296875 \nL 19.671875 0 \nL 9.8125 0 \nz\n\" id=\"DejaVuSans-80\"/>\n      </defs>\n      <g style=\"fill:#5a5034;\" transform=\"translate(824.681706 628.725625)rotate(-90)scale(0.12 -0.12)\">\n       <use xlink:href=\"#DejaVuSans-80\"/>\n       <use x=\"55.802734\" xlink:href=\"#DejaVuSans-97\"/>\n       <use x=\"117.082031\" xlink:href=\"#DejaVuSans-112\"/>\n       <use x=\"180.558594\" xlink:href=\"#DejaVuSans-97\"/>\n       <use x=\"241.837891\" xlink:href=\"#DejaVuSans-121\"/>\n       <use x=\"301.017578\" xlink:href=\"#DejaVuSans-97\"/>\n       <use x=\"362.296875\" xlink:href=\"#DejaVuSans-115\"/>\n      </g>\n     </g>\n    </g>\n    <g id=\"xtick_77\">\n     <g id=\"line2d_77\">\n      <g>\n       <use style=\"stroke:#000000;stroke-width:0.8;\" x=\"831.42451\" xlink:href=\"#m798dcede4b\" y=\"571.996875\"/>\n      </g>\n     </g>\n     <g id=\"text_77\">\n      <!-- Peaches and nectarines -->\n      <g style=\"fill:#5a5034;\" transform=\"translate(834.73576 721.729375)rotate(-90)scale(0.12 -0.12)\">\n       <use xlink:href=\"#DejaVuSans-80\"/>\n       <use x=\"56.677734\" xlink:href=\"#DejaVuSans-101\"/>\n       <use x=\"118.201172\" xlink:href=\"#DejaVuSans-97\"/>\n       <use x=\"179.480469\" xlink:href=\"#DejaVuSans-99\"/>\n       <use x=\"234.460938\" xlink:href=\"#DejaVuSans-104\"/>\n       <use x=\"297.839844\" xlink:href=\"#DejaVuSans-101\"/>\n       <use x=\"359.363281\" xlink:href=\"#DejaVuSans-115\"/>\n       <use x=\"411.462891\" xlink:href=\"#DejaVuSans-32\"/>\n       <use x=\"443.25\" xlink:href=\"#DejaVuSans-97\"/>\n       <use x=\"504.529297\" xlink:href=\"#DejaVuSans-110\"/>\n       <use x=\"567.908203\" xlink:href=\"#DejaVuSans-100\"/>\n       <use x=\"631.384766\" xlink:href=\"#DejaVuSans-32\"/>\n       <use x=\"663.171875\" xlink:href=\"#DejaVuSans-110\"/>\n       <use x=\"726.550781\" xlink:href=\"#DejaVuSans-101\"/>\n       <use x=\"788.074219\" xlink:href=\"#DejaVuSans-99\"/>\n       <use x=\"843.054688\" xlink:href=\"#DejaVuSans-116\"/>\n       <use x=\"882.263672\" xlink:href=\"#DejaVuSans-97\"/>\n       <use x=\"943.542969\" xlink:href=\"#DejaVuSans-114\"/>\n       <use x=\"984.65625\" xlink:href=\"#DejaVuSans-105\"/>\n       <use x=\"1012.439453\" xlink:href=\"#DejaVuSans-110\"/>\n       <use x=\"1075.818359\" xlink:href=\"#DejaVuSans-101\"/>\n       <use x=\"1137.341797\" xlink:href=\"#DejaVuSans-115\"/>\n      </g>\n     </g>\n    </g>\n    <g id=\"xtick_78\">\n     <g id=\"line2d_78\">\n      <g>\n       <use style=\"stroke:#000000;stroke-width:0.8;\" x=\"841.478564\" xlink:href=\"#m798dcede4b\" y=\"571.996875\"/>\n      </g>\n     </g>\n     <g id=\"text_78\">\n      <!-- Pears -->\n      <g style=\"fill:#5a5034;\" transform=\"translate(844.789814 611.719375)rotate(-90)scale(0.12 -0.12)\">\n       <use xlink:href=\"#DejaVuSans-80\"/>\n       <use x=\"56.677734\" xlink:href=\"#DejaVuSans-101\"/>\n       <use x=\"118.201172\" xlink:href=\"#DejaVuSans-97\"/>\n       <use x=\"179.480469\" xlink:href=\"#DejaVuSans-114\"/>\n       <use x=\"220.59375\" xlink:href=\"#DejaVuSans-115\"/>\n      </g>\n     </g>\n    </g>\n    <g id=\"xtick_79\">\n     <g id=\"line2d_79\">\n      <g>\n       <use style=\"stroke:#000000;stroke-width:0.8;\" x=\"851.532618\" xlink:href=\"#m798dcede4b\" y=\"571.996875\"/>\n      </g>\n     </g>\n     <g id=\"text_79\">\n      <!-- Peas, dry -->\n      <g style=\"fill:#5a5034;\" transform=\"translate(854.843868 634.0675)rotate(-90)scale(0.12 -0.12)\">\n       <use xlink:href=\"#DejaVuSans-80\"/>\n       <use x=\"56.677734\" xlink:href=\"#DejaVuSans-101\"/>\n       <use x=\"118.201172\" xlink:href=\"#DejaVuSans-97\"/>\n       <use x=\"179.480469\" xlink:href=\"#DejaVuSans-115\"/>\n       <use x=\"231.580078\" xlink:href=\"#DejaVuSans-44\"/>\n       <use x=\"263.367188\" xlink:href=\"#DejaVuSans-32\"/>\n       <use x=\"295.154297\" xlink:href=\"#DejaVuSans-100\"/>\n       <use x=\"358.630859\" xlink:href=\"#DejaVuSans-114\"/>\n       <use x=\"399.744141\" xlink:href=\"#DejaVuSans-121\"/>\n      </g>\n     </g>\n    </g>\n    <g id=\"xtick_80\">\n     <g id=\"line2d_80\">\n      <g>\n       <use style=\"stroke:#000000;stroke-width:0.8;\" x=\"861.586672\" xlink:href=\"#m798dcede4b\" y=\"571.996875\"/>\n      </g>\n     </g>\n     <g id=\"text_80\">\n      <!-- Peas, green -->\n      <g style=\"fill:#5a5034;\" transform=\"translate(864.897922 649.0675)rotate(-90)scale(0.12 -0.12)\">\n       <use xlink:href=\"#DejaVuSans-80\"/>\n       <use x=\"56.677734\" xlink:href=\"#DejaVuSans-101\"/>\n       <use x=\"118.201172\" xlink:href=\"#DejaVuSans-97\"/>\n       <use x=\"179.480469\" xlink:href=\"#DejaVuSans-115\"/>\n       <use x=\"231.580078\" xlink:href=\"#DejaVuSans-44\"/>\n       <use x=\"263.367188\" xlink:href=\"#DejaVuSans-32\"/>\n       <use x=\"295.154297\" xlink:href=\"#DejaVuSans-103\"/>\n       <use x=\"358.630859\" xlink:href=\"#DejaVuSans-114\"/>\n       <use x=\"397.494141\" xlink:href=\"#DejaVuSans-101\"/>\n       <use x=\"459.017578\" xlink:href=\"#DejaVuSans-101\"/>\n       <use x=\"520.541016\" xlink:href=\"#DejaVuSans-110\"/>\n      </g>\n     </g>\n    </g>\n    <g id=\"xtick_81\">\n     <g id=\"line2d_81\">\n      <g>\n       <use style=\"stroke:#000000;stroke-width:0.8;\" x=\"871.640726\" xlink:href=\"#m798dcede4b\" y=\"571.996875\"/>\n      </g>\n     </g>\n     <g id=\"text_81\">\n      <!-- Peppermint -->\n      <g style=\"fill:#5a5034;\" transform=\"translate(874.951976 647.85625)rotate(-90)scale(0.12 -0.12)\">\n       <use xlink:href=\"#DejaVuSans-80\"/>\n       <use x=\"56.677734\" xlink:href=\"#DejaVuSans-101\"/>\n       <use x=\"118.201172\" xlink:href=\"#DejaVuSans-112\"/>\n       <use x=\"181.677734\" xlink:href=\"#DejaVuSans-112\"/>\n       <use x=\"245.154297\" xlink:href=\"#DejaVuSans-101\"/>\n       <use x=\"306.677734\" xlink:href=\"#DejaVuSans-114\"/>\n       <use x=\"346.041016\" xlink:href=\"#DejaVuSans-109\"/>\n       <use x=\"443.453125\" xlink:href=\"#DejaVuSans-105\"/>\n       <use x=\"471.236328\" xlink:href=\"#DejaVuSans-110\"/>\n       <use x=\"534.615234\" xlink:href=\"#DejaVuSans-116\"/>\n      </g>\n     </g>\n    </g>\n    <g id=\"xtick_82\">\n     <g id=\"line2d_82\">\n      <g>\n       <use style=\"stroke:#000000;stroke-width:0.8;\" x=\"881.69478\" xlink:href=\"#m798dcede4b\" y=\"571.996875\"/>\n      </g>\n     </g>\n     <g id=\"text_82\">\n      <!-- Persimmons -->\n      <g style=\"fill:#5a5034;\" transform=\"translate(885.00603 652.275625)rotate(-90)scale(0.12 -0.12)\">\n       <use xlink:href=\"#DejaVuSans-80\"/>\n       <use x=\"56.677734\" xlink:href=\"#DejaVuSans-101\"/>\n       <use x=\"118.201172\" xlink:href=\"#DejaVuSans-114\"/>\n       <use x=\"159.314453\" xlink:href=\"#DejaVuSans-115\"/>\n       <use x=\"211.414062\" xlink:href=\"#DejaVuSans-105\"/>\n       <use x=\"239.197266\" xlink:href=\"#DejaVuSans-109\"/>\n       <use x=\"336.609375\" xlink:href=\"#DejaVuSans-109\"/>\n       <use x=\"434.021484\" xlink:href=\"#DejaVuSans-111\"/>\n       <use x=\"495.203125\" xlink:href=\"#DejaVuSans-110\"/>\n       <use x=\"558.582031\" xlink:href=\"#DejaVuSans-115\"/>\n      </g>\n     </g>\n    </g>\n    <g id=\"xtick_83\">\n     <g id=\"line2d_83\">\n      <g>\n       <use style=\"stroke:#000000;stroke-width:0.8;\" x=\"891.748834\" xlink:href=\"#m798dcede4b\" y=\"571.996875\"/>\n      </g>\n     </g>\n     <g id=\"text_83\">\n      <!-- Pineapples -->\n      <g style=\"fill:#5a5034;\" transform=\"translate(895.060084 643.84375)rotate(-90)scale(0.12 -0.12)\">\n       <use xlink:href=\"#DejaVuSans-80\"/>\n       <use x=\"58.052734\" xlink:href=\"#DejaVuSans-105\"/>\n       <use x=\"85.835938\" xlink:href=\"#DejaVuSans-110\"/>\n       <use x=\"149.214844\" xlink:href=\"#DejaVuSans-101\"/>\n       <use x=\"210.738281\" xlink:href=\"#DejaVuSans-97\"/>\n       <use x=\"272.017578\" xlink:href=\"#DejaVuSans-112\"/>\n       <use x=\"335.494141\" xlink:href=\"#DejaVuSans-112\"/>\n       <use x=\"398.970703\" xlink:href=\"#DejaVuSans-108\"/>\n       <use x=\"426.753906\" xlink:href=\"#DejaVuSans-101\"/>\n       <use x=\"488.277344\" xlink:href=\"#DejaVuSans-115\"/>\n      </g>\n     </g>\n    </g>\n    <g id=\"xtick_84\">\n     <g id=\"line2d_84\">\n      <g>\n       <use style=\"stroke:#000000;stroke-width:0.8;\" x=\"901.802889\" xlink:href=\"#m798dcede4b\" y=\"571.996875\"/>\n      </g>\n     </g>\n     <g id=\"text_84\">\n      <!-- Plums and sloes -->\n      <g style=\"fill:#5a5034;\" transform=\"translate(905.114139 675.878125)rotate(-90)scale(0.12 -0.12)\">\n       <use xlink:href=\"#DejaVuSans-80\"/>\n       <use x=\"60.302734\" xlink:href=\"#DejaVuSans-108\"/>\n       <use x=\"88.085938\" xlink:href=\"#DejaVuSans-117\"/>\n       <use x=\"151.464844\" xlink:href=\"#DejaVuSans-109\"/>\n       <use x=\"248.876953\" xlink:href=\"#DejaVuSans-115\"/>\n       <use x=\"300.976562\" xlink:href=\"#DejaVuSans-32\"/>\n       <use x=\"332.763672\" xlink:href=\"#DejaVuSans-97\"/>\n       <use x=\"394.042969\" xlink:href=\"#DejaVuSans-110\"/>\n       <use x=\"457.421875\" xlink:href=\"#DejaVuSans-100\"/>\n       <use x=\"520.898438\" xlink:href=\"#DejaVuSans-32\"/>\n       <use x=\"552.685547\" xlink:href=\"#DejaVuSans-115\"/>\n       <use x=\"604.785156\" xlink:href=\"#DejaVuSans-108\"/>\n       <use x=\"632.568359\" xlink:href=\"#DejaVuSans-111\"/>\n       <use x=\"693.75\" xlink:href=\"#DejaVuSans-101\"/>\n       <use x=\"755.273438\" xlink:href=\"#DejaVuSans-115\"/>\n      </g>\n     </g>\n    </g>\n    <g id=\"xtick_85\">\n     <g id=\"line2d_85\">\n      <g>\n       <use style=\"stroke:#000000;stroke-width:0.8;\" x=\"911.856943\" xlink:href=\"#m798dcede4b\" y=\"571.996875\"/>\n      </g>\n     </g>\n     <g id=\"text_85\">\n      <!-- Poppy seed -->\n      <g style=\"fill:#5a5034;\" transform=\"translate(915.168193 647.929375)rotate(-90)scale(0.12 -0.12)\">\n       <use xlink:href=\"#DejaVuSans-80\"/>\n       <use x=\"56.677734\" xlink:href=\"#DejaVuSans-111\"/>\n       <use x=\"117.859375\" xlink:href=\"#DejaVuSans-112\"/>\n       <use x=\"181.335938\" xlink:href=\"#DejaVuSans-112\"/>\n       <use x=\"244.8125\" xlink:href=\"#DejaVuSans-121\"/>\n       <use x=\"303.992188\" xlink:href=\"#DejaVuSans-32\"/>\n       <use x=\"335.779297\" xlink:href=\"#DejaVuSans-115\"/>\n       <use x=\"387.878906\" xlink:href=\"#DejaVuSans-101\"/>\n       <use x=\"449.402344\" xlink:href=\"#DejaVuSans-101\"/>\n       <use x=\"510.925781\" xlink:href=\"#DejaVuSans-100\"/>\n      </g>\n     </g>\n    </g>\n    <g id=\"xtick_86\">\n     <g id=\"line2d_86\">\n      <g>\n       <use style=\"stroke:#000000;stroke-width:0.8;\" x=\"921.910997\" xlink:href=\"#m798dcede4b\" y=\"571.996875\"/>\n      </g>\n     </g>\n     <g id=\"text_86\">\n      <!-- Potatoes -->\n      <g style=\"fill:#5a5034;\" transform=\"translate(925.222247 630.88)rotate(-90)scale(0.12 -0.12)\">\n       <use xlink:href=\"#DejaVuSans-80\"/>\n       <use x=\"56.677734\" xlink:href=\"#DejaVuSans-111\"/>\n       <use x=\"117.859375\" xlink:href=\"#DejaVuSans-116\"/>\n       <use x=\"157.068359\" xlink:href=\"#DejaVuSans-97\"/>\n       <use x=\"218.347656\" xlink:href=\"#DejaVuSans-116\"/>\n       <use x=\"257.556641\" xlink:href=\"#DejaVuSans-111\"/>\n       <use x=\"318.738281\" xlink:href=\"#DejaVuSans-101\"/>\n       <use x=\"380.261719\" xlink:href=\"#DejaVuSans-115\"/>\n      </g>\n     </g>\n    </g>\n    <g id=\"xtick_87\">\n     <g id=\"line2d_87\">\n      <g>\n       <use style=\"stroke:#000000;stroke-width:0.8;\" x=\"931.965051\" xlink:href=\"#m798dcede4b\" y=\"571.996875\"/>\n      </g>\n     </g>\n     <g id=\"text_87\">\n      <!-- Pumpkins, squash and gourds -->\n      <defs>\n       <path d=\"M 14.796875 27.296875 \nQ 14.796875 17.390625 18.875 11.75 \nQ 22.953125 6.109375 30.078125 6.109375 \nQ 37.203125 6.109375 41.296875 11.75 \nQ 45.40625 17.390625 45.40625 27.296875 \nQ 45.40625 37.203125 41.296875 42.84375 \nQ 37.203125 48.484375 30.078125 48.484375 \nQ 22.953125 48.484375 18.875 42.84375 \nQ 14.796875 37.203125 14.796875 27.296875 \nz\nM 45.40625 8.203125 \nQ 42.578125 3.328125 38.25 0.953125 \nQ 33.9375 -1.421875 27.875 -1.421875 \nQ 17.96875 -1.421875 11.734375 6.484375 \nQ 5.515625 14.40625 5.515625 27.296875 \nQ 5.515625 40.1875 11.734375 48.09375 \nQ 17.96875 56 27.875 56 \nQ 33.9375 56 38.25 53.625 \nQ 42.578125 51.265625 45.40625 46.390625 \nL 45.40625 54.6875 \nL 54.390625 54.6875 \nL 54.390625 -20.796875 \nL 45.40625 -20.796875 \nz\n\" id=\"DejaVuSans-113\"/>\n      </defs>\n      <g style=\"fill:#5a5034;\" transform=\"translate(935.276301 758.7475)rotate(-90)scale(0.12 -0.12)\">\n       <use xlink:href=\"#DejaVuSans-80\"/>\n       <use x=\"58.552734\" xlink:href=\"#DejaVuSans-117\"/>\n       <use x=\"121.931641\" xlink:href=\"#DejaVuSans-109\"/>\n       <use x=\"219.34375\" xlink:href=\"#DejaVuSans-112\"/>\n       <use x=\"282.820312\" xlink:href=\"#DejaVuSans-107\"/>\n       <use x=\"340.730469\" xlink:href=\"#DejaVuSans-105\"/>\n       <use x=\"368.513672\" xlink:href=\"#DejaVuSans-110\"/>\n       <use x=\"431.892578\" xlink:href=\"#DejaVuSans-115\"/>\n       <use x=\"483.992188\" xlink:href=\"#DejaVuSans-44\"/>\n       <use x=\"515.779297\" xlink:href=\"#DejaVuSans-32\"/>\n       <use x=\"547.566406\" xlink:href=\"#DejaVuSans-115\"/>\n       <use x=\"599.666016\" xlink:href=\"#DejaVuSans-113\"/>\n       <use x=\"663.142578\" xlink:href=\"#DejaVuSans-117\"/>\n       <use x=\"726.521484\" xlink:href=\"#DejaVuSans-97\"/>\n       <use x=\"787.800781\" xlink:href=\"#DejaVuSans-115\"/>\n       <use x=\"839.900391\" xlink:href=\"#DejaVuSans-104\"/>\n       <use x=\"903.279297\" xlink:href=\"#DejaVuSans-32\"/>\n       <use x=\"935.066406\" xlink:href=\"#DejaVuSans-97\"/>\n       <use x=\"996.345703\" xlink:href=\"#DejaVuSans-110\"/>\n       <use x=\"1059.724609\" xlink:href=\"#DejaVuSans-100\"/>\n       <use x=\"1123.201172\" xlink:href=\"#DejaVuSans-32\"/>\n       <use x=\"1154.988281\" xlink:href=\"#DejaVuSans-103\"/>\n       <use x=\"1218.464844\" xlink:href=\"#DejaVuSans-111\"/>\n       <use x=\"1279.646484\" xlink:href=\"#DejaVuSans-117\"/>\n       <use x=\"1343.025391\" xlink:href=\"#DejaVuSans-114\"/>\n       <use x=\"1382.388672\" xlink:href=\"#DejaVuSans-100\"/>\n       <use x=\"1445.865234\" xlink:href=\"#DejaVuSans-115\"/>\n      </g>\n     </g>\n    </g>\n    <g id=\"xtick_88\">\n     <g id=\"line2d_88\">\n      <g>\n       <use style=\"stroke:#000000;stroke-width:0.8;\" x=\"942.019105\" xlink:href=\"#m798dcede4b\" y=\"571.996875\"/>\n      </g>\n     </g>\n     <g id=\"text_88\">\n      <!-- Quinces -->\n      <defs>\n       <path d=\"M 39.40625 66.21875 \nQ 28.65625 66.21875 22.328125 58.203125 \nQ 16.015625 50.203125 16.015625 36.375 \nQ 16.015625 22.609375 22.328125 14.59375 \nQ 28.65625 6.59375 39.40625 6.59375 \nQ 50.140625 6.59375 56.421875 14.59375 \nQ 62.703125 22.609375 62.703125 36.375 \nQ 62.703125 50.203125 56.421875 58.203125 \nQ 50.140625 66.21875 39.40625 66.21875 \nz\nM 53.21875 1.3125 \nL 66.21875 -12.890625 \nL 54.296875 -12.890625 \nL 43.5 -1.21875 \nQ 41.890625 -1.3125 41.03125 -1.359375 \nQ 40.1875 -1.421875 39.40625 -1.421875 \nQ 24.03125 -1.421875 14.8125 8.859375 \nQ 5.609375 19.140625 5.609375 36.375 \nQ 5.609375 53.65625 14.8125 63.9375 \nQ 24.03125 74.21875 39.40625 74.21875 \nQ 54.734375 74.21875 63.90625 63.9375 \nQ 73.09375 53.65625 73.09375 36.375 \nQ 73.09375 23.6875 67.984375 14.640625 \nQ 62.890625 5.609375 53.21875 1.3125 \nz\n\" id=\"DejaVuSans-81\"/>\n      </defs>\n      <g style=\"fill:#5a5034;\" transform=\"translate(945.330355 627.22)rotate(-90)scale(0.12 -0.12)\">\n       <use xlink:href=\"#DejaVuSans-81\"/>\n       <use x=\"78.710938\" xlink:href=\"#DejaVuSans-117\"/>\n       <use x=\"142.089844\" xlink:href=\"#DejaVuSans-105\"/>\n       <use x=\"169.873047\" xlink:href=\"#DejaVuSans-110\"/>\n       <use x=\"233.251953\" xlink:href=\"#DejaVuSans-99\"/>\n       <use x=\"288.232422\" xlink:href=\"#DejaVuSans-101\"/>\n       <use x=\"349.755859\" xlink:href=\"#DejaVuSans-115\"/>\n      </g>\n     </g>\n    </g>\n    <g id=\"xtick_89\">\n     <g id=\"line2d_89\">\n      <g>\n       <use style=\"stroke:#000000;stroke-width:0.8;\" x=\"952.073159\" xlink:href=\"#m798dcede4b\" y=\"571.996875\"/>\n      </g>\n     </g>\n     <g id=\"text_89\">\n      <!-- Rapeseed -->\n      <defs>\n       <path d=\"M 44.390625 34.1875 \nQ 47.5625 33.109375 50.5625 29.59375 \nQ 53.5625 26.078125 56.59375 19.921875 \nL 66.609375 0 \nL 56 0 \nL 46.6875 18.703125 \nQ 43.0625 26.03125 39.671875 28.421875 \nQ 36.28125 30.8125 30.421875 30.8125 \nL 19.671875 30.8125 \nL 19.671875 0 \nL 9.8125 0 \nL 9.8125 72.90625 \nL 32.078125 72.90625 \nQ 44.578125 72.90625 50.734375 67.671875 \nQ 56.890625 62.453125 56.890625 51.90625 \nQ 56.890625 45.015625 53.6875 40.46875 \nQ 50.484375 35.9375 44.390625 34.1875 \nz\nM 19.671875 64.796875 \nL 19.671875 38.921875 \nL 32.078125 38.921875 \nQ 39.203125 38.921875 42.84375 42.21875 \nQ 46.484375 45.515625 46.484375 51.90625 \nQ 46.484375 58.296875 42.84375 61.546875 \nQ 39.203125 64.796875 32.078125 64.796875 \nz\n\" id=\"DejaVuSans-82\"/>\n      </defs>\n      <g style=\"fill:#5a5034;\" transform=\"translate(955.384409 638.0575)rotate(-90)scale(0.12 -0.12)\">\n       <use xlink:href=\"#DejaVuSans-82\"/>\n       <use x=\"67.232422\" xlink:href=\"#DejaVuSans-97\"/>\n       <use x=\"128.511719\" xlink:href=\"#DejaVuSans-112\"/>\n       <use x=\"191.988281\" xlink:href=\"#DejaVuSans-101\"/>\n       <use x=\"253.511719\" xlink:href=\"#DejaVuSans-115\"/>\n       <use x=\"305.611328\" xlink:href=\"#DejaVuSans-101\"/>\n       <use x=\"367.134766\" xlink:href=\"#DejaVuSans-101\"/>\n       <use x=\"428.658203\" xlink:href=\"#DejaVuSans-100\"/>\n      </g>\n     </g>\n    </g>\n    <g id=\"xtick_90\">\n     <g id=\"line2d_90\">\n      <g>\n       <use style=\"stroke:#000000;stroke-width:0.8;\" x=\"962.127213\" xlink:href=\"#m798dcede4b\" y=\"571.996875\"/>\n      </g>\n     </g>\n     <g id=\"text_90\">\n      <!-- Raspberries -->\n      <g style=\"fill:#5a5034;\" transform=\"translate(965.438463 649.915)rotate(-90)scale(0.12 -0.12)\">\n       <use xlink:href=\"#DejaVuSans-82\"/>\n       <use x=\"67.232422\" xlink:href=\"#DejaVuSans-97\"/>\n       <use x=\"128.511719\" xlink:href=\"#DejaVuSans-115\"/>\n       <use x=\"180.611328\" xlink:href=\"#DejaVuSans-112\"/>\n       <use x=\"244.087891\" xlink:href=\"#DejaVuSans-98\"/>\n       <use x=\"307.564453\" xlink:href=\"#DejaVuSans-101\"/>\n       <use x=\"369.087891\" xlink:href=\"#DejaVuSans-114\"/>\n       <use x=\"408.451172\" xlink:href=\"#DejaVuSans-114\"/>\n       <use x=\"449.564453\" xlink:href=\"#DejaVuSans-105\"/>\n       <use x=\"477.347656\" xlink:href=\"#DejaVuSans-101\"/>\n       <use x=\"538.871094\" xlink:href=\"#DejaVuSans-115\"/>\n      </g>\n     </g>\n    </g>\n    <g id=\"xtick_91\">\n     <g id=\"line2d_91\">\n      <g>\n       <use style=\"stroke:#000000;stroke-width:0.8;\" x=\"972.181267\" xlink:href=\"#m798dcede4b\" y=\"571.996875\"/>\n      </g>\n     </g>\n     <g id=\"text_91\">\n      <!-- Rice, paddy -->\n      <g style=\"fill:#5a5034;\" transform=\"translate(975.492517 649.58875)rotate(-90)scale(0.12 -0.12)\">\n       <use xlink:href=\"#DejaVuSans-82\"/>\n       <use x=\"69.482422\" xlink:href=\"#DejaVuSans-105\"/>\n       <use x=\"97.265625\" xlink:href=\"#DejaVuSans-99\"/>\n       <use x=\"152.246094\" xlink:href=\"#DejaVuSans-101\"/>\n       <use x=\"213.769531\" xlink:href=\"#DejaVuSans-44\"/>\n       <use x=\"245.556641\" xlink:href=\"#DejaVuSans-32\"/>\n       <use x=\"277.34375\" xlink:href=\"#DejaVuSans-112\"/>\n       <use x=\"340.820312\" xlink:href=\"#DejaVuSans-97\"/>\n       <use x=\"402.099609\" xlink:href=\"#DejaVuSans-100\"/>\n       <use x=\"465.576172\" xlink:href=\"#DejaVuSans-100\"/>\n       <use x=\"529.052734\" xlink:href=\"#DejaVuSans-121\"/>\n      </g>\n     </g>\n    </g>\n    <g id=\"xtick_92\">\n     <g id=\"line2d_92\">\n      <g>\n       <use style=\"stroke:#000000;stroke-width:0.8;\" x=\"982.235321\" xlink:href=\"#m798dcede4b\" y=\"571.996875\"/>\n      </g>\n     </g>\n     <g id=\"text_92\">\n      <!-- Rye -->\n      <g style=\"fill:#5a5034;\" transform=\"translate(985.546571 601.16125)rotate(-90)scale(0.12 -0.12)\">\n       <use xlink:href=\"#DejaVuSans-82\"/>\n       <use x=\"63.982422\" xlink:href=\"#DejaVuSans-121\"/>\n       <use x=\"123.162109\" xlink:href=\"#DejaVuSans-101\"/>\n      </g>\n     </g>\n    </g>\n    <g id=\"xtick_93\">\n     <g id=\"line2d_93\">\n      <g>\n       <use style=\"stroke:#000000;stroke-width:0.8;\" x=\"992.289375\" xlink:href=\"#m798dcede4b\" y=\"571.996875\"/>\n      </g>\n     </g>\n     <g id=\"text_93\">\n      <!-- Safflower seed -->\n      <defs>\n       <path d=\"M 53.515625 70.515625 \nL 53.515625 60.890625 \nQ 47.90625 63.578125 42.921875 64.890625 \nQ 37.9375 66.21875 33.296875 66.21875 \nQ 25.25 66.21875 20.875 63.09375 \nQ 16.5 59.96875 16.5 54.203125 \nQ 16.5 49.359375 19.40625 46.890625 \nQ 22.3125 44.4375 30.421875 42.921875 \nL 36.375 41.703125 \nQ 47.40625 39.59375 52.65625 34.296875 \nQ 57.90625 29 57.90625 20.125 \nQ 57.90625 9.515625 50.796875 4.046875 \nQ 43.703125 -1.421875 29.984375 -1.421875 \nQ 24.8125 -1.421875 18.96875 -0.25 \nQ 13.140625 0.921875 6.890625 3.21875 \nL 6.890625 13.375 \nQ 12.890625 10.015625 18.65625 8.296875 \nQ 24.421875 6.59375 29.984375 6.59375 \nQ 38.421875 6.59375 43.015625 9.90625 \nQ 47.609375 13.234375 47.609375 19.390625 \nQ 47.609375 24.75 44.3125 27.78125 \nQ 41.015625 30.8125 33.5 32.328125 \nL 27.484375 33.5 \nQ 16.453125 35.6875 11.515625 40.375 \nQ 6.59375 45.0625 6.59375 53.421875 \nQ 6.59375 63.09375 13.40625 68.65625 \nQ 20.21875 74.21875 32.171875 74.21875 \nQ 37.3125 74.21875 42.625 73.28125 \nQ 47.953125 72.359375 53.515625 70.515625 \nz\n\" id=\"DejaVuSans-83\"/>\n      </defs>\n      <g style=\"fill:#5a5034;\" transform=\"translate(995.600625 667.675)rotate(-90)scale(0.12 -0.12)\">\n       <use xlink:href=\"#DejaVuSans-83\"/>\n       <use x=\"63.476562\" xlink:href=\"#DejaVuSans-97\"/>\n       <use x=\"124.755859\" xlink:href=\"#DejaVuSans-102\"/>\n       <use x=\"159.960938\" xlink:href=\"#DejaVuSans-102\"/>\n       <use x=\"195.166016\" xlink:href=\"#DejaVuSans-108\"/>\n       <use x=\"222.949219\" xlink:href=\"#DejaVuSans-111\"/>\n       <use x=\"284.130859\" xlink:href=\"#DejaVuSans-119\"/>\n       <use x=\"365.917969\" xlink:href=\"#DejaVuSans-101\"/>\n       <use x=\"427.441406\" xlink:href=\"#DejaVuSans-114\"/>\n       <use x=\"468.554688\" xlink:href=\"#DejaVuSans-32\"/>\n       <use x=\"500.341797\" xlink:href=\"#DejaVuSans-115\"/>\n       <use x=\"552.441406\" xlink:href=\"#DejaVuSans-101\"/>\n       <use x=\"613.964844\" xlink:href=\"#DejaVuSans-101\"/>\n       <use x=\"675.488281\" xlink:href=\"#DejaVuSans-100\"/>\n      </g>\n     </g>\n    </g>\n    <g id=\"xtick_94\">\n     <g id=\"line2d_94\">\n      <g>\n       <use style=\"stroke:#000000;stroke-width:0.8;\" x=\"1002.343429\" xlink:href=\"#m798dcede4b\" y=\"571.996875\"/>\n      </g>\n     </g>\n     <g id=\"text_94\">\n      <!-- Seed cotton -->\n      <g style=\"fill:#5a5034;\" transform=\"translate(1005.654679 651.11125)rotate(-90)scale(0.12 -0.12)\">\n       <use xlink:href=\"#DejaVuSans-83\"/>\n       <use x=\"63.476562\" xlink:href=\"#DejaVuSans-101\"/>\n       <use x=\"125\" xlink:href=\"#DejaVuSans-101\"/>\n       <use x=\"186.523438\" xlink:href=\"#DejaVuSans-100\"/>\n       <use x=\"250\" xlink:href=\"#DejaVuSans-32\"/>\n       <use x=\"281.787109\" xlink:href=\"#DejaVuSans-99\"/>\n       <use x=\"336.767578\" xlink:href=\"#DejaVuSans-111\"/>\n       <use x=\"397.949219\" xlink:href=\"#DejaVuSans-116\"/>\n       <use x=\"437.158203\" xlink:href=\"#DejaVuSans-116\"/>\n       <use x=\"476.367188\" xlink:href=\"#DejaVuSans-111\"/>\n       <use x=\"537.548828\" xlink:href=\"#DejaVuSans-110\"/>\n      </g>\n     </g>\n    </g>\n    <g id=\"xtick_95\">\n     <g id=\"line2d_95\">\n      <g>\n       <use style=\"stroke:#000000;stroke-width:0.8;\" x=\"1012.397483\" xlink:href=\"#m798dcede4b\" y=\"571.996875\"/>\n      </g>\n     </g>\n     <g id=\"text_95\">\n      <!-- Sorghum -->\n      <g style=\"fill:#5a5034;\" transform=\"translate(1015.708733 633.1975)rotate(-90)scale(0.12 -0.12)\">\n       <use xlink:href=\"#DejaVuSans-83\"/>\n       <use x=\"63.476562\" xlink:href=\"#DejaVuSans-111\"/>\n       <use x=\"124.658203\" xlink:href=\"#DejaVuSans-114\"/>\n       <use x=\"164.021484\" xlink:href=\"#DejaVuSans-103\"/>\n       <use x=\"227.498047\" xlink:href=\"#DejaVuSans-104\"/>\n       <use x=\"290.876953\" xlink:href=\"#DejaVuSans-117\"/>\n       <use x=\"354.255859\" xlink:href=\"#DejaVuSans-109\"/>\n      </g>\n     </g>\n    </g>\n    <g id=\"xtick_96\">\n     <g id=\"line2d_96\">\n      <g>\n       <use style=\"stroke:#000000;stroke-width:0.8;\" x=\"1022.451537\" xlink:href=\"#m798dcede4b\" y=\"571.996875\"/>\n      </g>\n     </g>\n     <g id=\"text_96\">\n      <!-- Soybeans -->\n      <g style=\"fill:#5a5034;\" transform=\"translate(1025.762787 637.271875)rotate(-90)scale(0.12 -0.12)\">\n       <use xlink:href=\"#DejaVuSans-83\"/>\n       <use x=\"63.476562\" xlink:href=\"#DejaVuSans-111\"/>\n       <use x=\"124.658203\" xlink:href=\"#DejaVuSans-121\"/>\n       <use x=\"183.837891\" xlink:href=\"#DejaVuSans-98\"/>\n       <use x=\"247.314453\" xlink:href=\"#DejaVuSans-101\"/>\n       <use x=\"308.837891\" xlink:href=\"#DejaVuSans-97\"/>\n       <use x=\"370.117188\" xlink:href=\"#DejaVuSans-110\"/>\n       <use x=\"433.496094\" xlink:href=\"#DejaVuSans-115\"/>\n      </g>\n     </g>\n    </g>\n    <g id=\"xtick_97\">\n     <g id=\"line2d_97\">\n      <g>\n       <use style=\"stroke:#000000;stroke-width:0.8;\" x=\"1032.505591\" xlink:href=\"#m798dcede4b\" y=\"571.996875\"/>\n      </g>\n     </g>\n     <g id=\"text_97\">\n      <!-- Spinach -->\n      <g style=\"fill:#5a5034;\" transform=\"translate(1035.816841 626.72875)rotate(-90)scale(0.12 -0.12)\">\n       <use xlink:href=\"#DejaVuSans-83\"/>\n       <use x=\"63.476562\" xlink:href=\"#DejaVuSans-112\"/>\n       <use x=\"126.953125\" xlink:href=\"#DejaVuSans-105\"/>\n       <use x=\"154.736328\" xlink:href=\"#DejaVuSans-110\"/>\n       <use x=\"218.115234\" xlink:href=\"#DejaVuSans-97\"/>\n       <use x=\"279.394531\" xlink:href=\"#DejaVuSans-99\"/>\n       <use x=\"334.375\" xlink:href=\"#DejaVuSans-104\"/>\n      </g>\n     </g>\n    </g>\n    <g id=\"xtick_98\">\n     <g id=\"line2d_98\">\n      <g>\n       <use style=\"stroke:#000000;stroke-width:0.8;\" x=\"1042.559645\" xlink:href=\"#m798dcede4b\" y=\"571.996875\"/>\n      </g>\n     </g>\n     <g id=\"text_98\">\n      <!-- Strawberries -->\n      <g style=\"fill:#5a5034;\" transform=\"translate(1045.870895 655.046875)rotate(-90)scale(0.12 -0.12)\">\n       <use xlink:href=\"#DejaVuSans-83\"/>\n       <use x=\"63.476562\" xlink:href=\"#DejaVuSans-116\"/>\n       <use x=\"102.685547\" xlink:href=\"#DejaVuSans-114\"/>\n       <use x=\"143.798828\" xlink:href=\"#DejaVuSans-97\"/>\n       <use x=\"205.078125\" xlink:href=\"#DejaVuSans-119\"/>\n       <use x=\"286.865234\" xlink:href=\"#DejaVuSans-98\"/>\n       <use x=\"350.341797\" xlink:href=\"#DejaVuSans-101\"/>\n       <use x=\"411.865234\" xlink:href=\"#DejaVuSans-114\"/>\n       <use x=\"451.228516\" xlink:href=\"#DejaVuSans-114\"/>\n       <use x=\"492.341797\" xlink:href=\"#DejaVuSans-105\"/>\n       <use x=\"520.125\" xlink:href=\"#DejaVuSans-101\"/>\n       <use x=\"581.648438\" xlink:href=\"#DejaVuSans-115\"/>\n      </g>\n     </g>\n    </g>\n    <g id=\"xtick_99\">\n     <g id=\"line2d_99\">\n      <g>\n       <use style=\"stroke:#000000;stroke-width:0.8;\" x=\"1052.613699\" xlink:href=\"#m798dcede4b\" y=\"571.996875\"/>\n      </g>\n     </g>\n     <g id=\"text_99\">\n      <!-- Sugar beet -->\n      <g style=\"fill:#5a5034;\" transform=\"translate(1055.924949 645.02875)rotate(-90)scale(0.12 -0.12)\">\n       <use xlink:href=\"#DejaVuSans-83\"/>\n       <use x=\"63.476562\" xlink:href=\"#DejaVuSans-117\"/>\n       <use x=\"126.855469\" xlink:href=\"#DejaVuSans-103\"/>\n       <use x=\"190.332031\" xlink:href=\"#DejaVuSans-97\"/>\n       <use x=\"251.611328\" xlink:href=\"#DejaVuSans-114\"/>\n       <use x=\"292.724609\" xlink:href=\"#DejaVuSans-32\"/>\n       <use x=\"324.511719\" xlink:href=\"#DejaVuSans-98\"/>\n       <use x=\"387.988281\" xlink:href=\"#DejaVuSans-101\"/>\n       <use x=\"449.511719\" xlink:href=\"#DejaVuSans-101\"/>\n       <use x=\"511.035156\" xlink:href=\"#DejaVuSans-116\"/>\n      </g>\n     </g>\n    </g>\n    <g id=\"xtick_100\">\n     <g id=\"line2d_100\">\n      <g>\n       <use style=\"stroke:#000000;stroke-width:0.8;\" x=\"1062.667753\" xlink:href=\"#m798dcede4b\" y=\"571.996875\"/>\n      </g>\n     </g>\n     <g id=\"text_100\">\n      <!-- Sunflower seed -->\n      <g style=\"fill:#5a5034;\" transform=\"translate(1065.979003 671.306875)rotate(-90)scale(0.12 -0.12)\">\n       <use xlink:href=\"#DejaVuSans-83\"/>\n       <use x=\"63.476562\" xlink:href=\"#DejaVuSans-117\"/>\n       <use x=\"126.855469\" xlink:href=\"#DejaVuSans-110\"/>\n       <use x=\"190.234375\" xlink:href=\"#DejaVuSans-102\"/>\n       <use x=\"225.439453\" xlink:href=\"#DejaVuSans-108\"/>\n       <use x=\"253.222656\" xlink:href=\"#DejaVuSans-111\"/>\n       <use x=\"314.404297\" xlink:href=\"#DejaVuSans-119\"/>\n       <use x=\"396.191406\" xlink:href=\"#DejaVuSans-101\"/>\n       <use x=\"457.714844\" xlink:href=\"#DejaVuSans-114\"/>\n       <use x=\"498.828125\" xlink:href=\"#DejaVuSans-32\"/>\n       <use x=\"530.615234\" xlink:href=\"#DejaVuSans-115\"/>\n       <use x=\"582.714844\" xlink:href=\"#DejaVuSans-101\"/>\n       <use x=\"644.238281\" xlink:href=\"#DejaVuSans-101\"/>\n       <use x=\"705.761719\" xlink:href=\"#DejaVuSans-100\"/>\n      </g>\n     </g>\n    </g>\n    <g id=\"xtick_101\">\n     <g id=\"line2d_101\">\n      <g>\n       <use style=\"stroke:#000000;stroke-width:0.8;\" x=\"1072.721807\" xlink:href=\"#m798dcede4b\" y=\"571.996875\"/>\n      </g>\n     </g>\n     <g id=\"text_101\">\n      <!-- Sweet potatoes -->\n      <g style=\"fill:#5a5034;\" transform=\"translate(1076.033057 672.415)rotate(-90)scale(0.12 -0.12)\">\n       <use xlink:href=\"#DejaVuSans-83\"/>\n       <use x=\"63.476562\" xlink:href=\"#DejaVuSans-119\"/>\n       <use x=\"145.263672\" xlink:href=\"#DejaVuSans-101\"/>\n       <use x=\"206.787109\" xlink:href=\"#DejaVuSans-101\"/>\n       <use x=\"268.310547\" xlink:href=\"#DejaVuSans-116\"/>\n       <use x=\"307.519531\" xlink:href=\"#DejaVuSans-32\"/>\n       <use x=\"339.306641\" xlink:href=\"#DejaVuSans-112\"/>\n       <use x=\"402.783203\" xlink:href=\"#DejaVuSans-111\"/>\n       <use x=\"463.964844\" xlink:href=\"#DejaVuSans-116\"/>\n       <use x=\"503.173828\" xlink:href=\"#DejaVuSans-97\"/>\n       <use x=\"564.453125\" xlink:href=\"#DejaVuSans-116\"/>\n       <use x=\"603.662109\" xlink:href=\"#DejaVuSans-111\"/>\n       <use x=\"664.84375\" xlink:href=\"#DejaVuSans-101\"/>\n       <use x=\"726.367188\" xlink:href=\"#DejaVuSans-115\"/>\n      </g>\n     </g>\n    </g>\n    <g id=\"xtick_102\">\n     <g id=\"line2d_102\">\n      <g>\n       <use style=\"stroke:#000000;stroke-width:0.8;\" x=\"1082.775861\" xlink:href=\"#m798dcede4b\" y=\"571.996875\"/>\n      </g>\n     </g>\n     <g id=\"text_102\">\n      <!-- Tangerines, mandarins, clementines, satsumas -->\n      <defs>\n       <path d=\"M -0.296875 72.90625 \nL 61.375 72.90625 \nL 61.375 64.59375 \nL 35.5 64.59375 \nL 35.5 0 \nL 25.59375 0 \nL 25.59375 64.59375 \nL -0.296875 64.59375 \nz\n\" id=\"DejaVuSans-84\"/>\n      </defs>\n      <g style=\"fill:#5a5034;\" transform=\"translate(1086.087111 861.169375)rotate(-90)scale(0.12 -0.12)\">\n       <use xlink:href=\"#DejaVuSans-84\"/>\n       <use x=\"44.583984\" xlink:href=\"#DejaVuSans-97\"/>\n       <use x=\"105.863281\" xlink:href=\"#DejaVuSans-110\"/>\n       <use x=\"169.242188\" xlink:href=\"#DejaVuSans-103\"/>\n       <use x=\"232.71875\" xlink:href=\"#DejaVuSans-101\"/>\n       <use x=\"294.242188\" xlink:href=\"#DejaVuSans-114\"/>\n       <use x=\"335.355469\" xlink:href=\"#DejaVuSans-105\"/>\n       <use x=\"363.138672\" xlink:href=\"#DejaVuSans-110\"/>\n       <use x=\"426.517578\" xlink:href=\"#DejaVuSans-101\"/>\n       <use x=\"488.041016\" xlink:href=\"#DejaVuSans-115\"/>\n       <use x=\"540.140625\" xlink:href=\"#DejaVuSans-44\"/>\n       <use x=\"571.927734\" xlink:href=\"#DejaVuSans-32\"/>\n       <use x=\"603.714844\" xlink:href=\"#DejaVuSans-109\"/>\n       <use x=\"701.126953\" xlink:href=\"#DejaVuSans-97\"/>\n       <use x=\"762.40625\" xlink:href=\"#DejaVuSans-110\"/>\n       <use x=\"825.785156\" xlink:href=\"#DejaVuSans-100\"/>\n       <use x=\"889.261719\" xlink:href=\"#DejaVuSans-97\"/>\n       <use x=\"950.541016\" xlink:href=\"#DejaVuSans-114\"/>\n       <use x=\"991.654297\" xlink:href=\"#DejaVuSans-105\"/>\n       <use x=\"1019.4375\" xlink:href=\"#DejaVuSans-110\"/>\n       <use x=\"1082.816406\" xlink:href=\"#DejaVuSans-115\"/>\n       <use x=\"1134.916016\" xlink:href=\"#DejaVuSans-44\"/>\n       <use x=\"1166.703125\" xlink:href=\"#DejaVuSans-32\"/>\n       <use x=\"1198.490234\" xlink:href=\"#DejaVuSans-99\"/>\n       <use x=\"1253.470703\" xlink:href=\"#DejaVuSans-108\"/>\n       <use x=\"1281.253906\" xlink:href=\"#DejaVuSans-101\"/>\n       <use x=\"1342.777344\" xlink:href=\"#DejaVuSans-109\"/>\n       <use x=\"1440.189453\" xlink:href=\"#DejaVuSans-101\"/>\n       <use x=\"1501.712891\" xlink:href=\"#DejaVuSans-110\"/>\n       <use x=\"1565.091797\" xlink:href=\"#DejaVuSans-116\"/>\n       <use x=\"1604.300781\" xlink:href=\"#DejaVuSans-105\"/>\n       <use x=\"1632.083984\" xlink:href=\"#DejaVuSans-110\"/>\n       <use x=\"1695.462891\" xlink:href=\"#DejaVuSans-101\"/>\n       <use x=\"1756.986328\" xlink:href=\"#DejaVuSans-115\"/>\n       <use x=\"1809.085938\" xlink:href=\"#DejaVuSans-44\"/>\n       <use x=\"1840.873047\" xlink:href=\"#DejaVuSans-32\"/>\n       <use x=\"1872.660156\" xlink:href=\"#DejaVuSans-115\"/>\n       <use x=\"1924.759766\" xlink:href=\"#DejaVuSans-97\"/>\n       <use x=\"1986.039062\" xlink:href=\"#DejaVuSans-116\"/>\n       <use x=\"2025.248047\" xlink:href=\"#DejaVuSans-115\"/>\n       <use x=\"2077.347656\" xlink:href=\"#DejaVuSans-117\"/>\n       <use x=\"2140.726562\" xlink:href=\"#DejaVuSans-109\"/>\n       <use x=\"2238.138672\" xlink:href=\"#DejaVuSans-97\"/>\n       <use x=\"2299.417969\" xlink:href=\"#DejaVuSans-115\"/>\n      </g>\n     </g>\n    </g>\n    <g id=\"xtick_103\">\n     <g id=\"line2d_103\">\n      <g>\n       <use style=\"stroke:#000000;stroke-width:0.8;\" x=\"1092.829916\" xlink:href=\"#m798dcede4b\" y=\"571.996875\"/>\n      </g>\n     </g>\n     <g id=\"text_103\">\n      <!-- Tobacco, unmanufactured -->\n      <g style=\"fill:#5a5034;\" transform=\"translate(1096.141166 734.38)rotate(-90)scale(0.12 -0.12)\">\n       <use xlink:href=\"#DejaVuSans-84\"/>\n       <use x=\"44.083984\" xlink:href=\"#DejaVuSans-111\"/>\n       <use x=\"105.265625\" xlink:href=\"#DejaVuSans-98\"/>\n       <use x=\"168.742188\" xlink:href=\"#DejaVuSans-97\"/>\n       <use x=\"230.021484\" xlink:href=\"#DejaVuSans-99\"/>\n       <use x=\"285.001953\" xlink:href=\"#DejaVuSans-99\"/>\n       <use x=\"339.982422\" xlink:href=\"#DejaVuSans-111\"/>\n       <use x=\"401.164062\" xlink:href=\"#DejaVuSans-44\"/>\n       <use x=\"432.951172\" xlink:href=\"#DejaVuSans-32\"/>\n       <use x=\"464.738281\" xlink:href=\"#DejaVuSans-117\"/>\n       <use x=\"528.117188\" xlink:href=\"#DejaVuSans-110\"/>\n       <use x=\"591.496094\" xlink:href=\"#DejaVuSans-109\"/>\n       <use x=\"688.908203\" xlink:href=\"#DejaVuSans-97\"/>\n       <use x=\"750.1875\" xlink:href=\"#DejaVuSans-110\"/>\n       <use x=\"813.566406\" xlink:href=\"#DejaVuSans-117\"/>\n       <use x=\"876.945312\" xlink:href=\"#DejaVuSans-102\"/>\n       <use x=\"912.150391\" xlink:href=\"#DejaVuSans-97\"/>\n       <use x=\"973.429688\" xlink:href=\"#DejaVuSans-99\"/>\n       <use x=\"1028.410156\" xlink:href=\"#DejaVuSans-116\"/>\n       <use x=\"1067.619141\" xlink:href=\"#DejaVuSans-117\"/>\n       <use x=\"1130.998047\" xlink:href=\"#DejaVuSans-114\"/>\n       <use x=\"1169.861328\" xlink:href=\"#DejaVuSans-101\"/>\n       <use x=\"1231.384766\" xlink:href=\"#DejaVuSans-100\"/>\n      </g>\n     </g>\n    </g>\n    <g id=\"xtick_104\">\n     <g id=\"line2d_104\">\n      <g>\n       <use style=\"stroke:#000000;stroke-width:0.8;\" x=\"1102.88397\" xlink:href=\"#m798dcede4b\" y=\"571.996875\"/>\n      </g>\n     </g>\n     <g id=\"text_104\">\n      <!-- Tomatoes -->\n      <g style=\"fill:#5a5034;\" transform=\"translate(1106.19522 636.353125)rotate(-90)scale(0.12 -0.12)\">\n       <use xlink:href=\"#DejaVuSans-84\"/>\n       <use x=\"44.083984\" xlink:href=\"#DejaVuSans-111\"/>\n       <use x=\"105.265625\" xlink:href=\"#DejaVuSans-109\"/>\n       <use x=\"202.677734\" xlink:href=\"#DejaVuSans-97\"/>\n       <use x=\"263.957031\" xlink:href=\"#DejaVuSans-116\"/>\n       <use x=\"303.166016\" xlink:href=\"#DejaVuSans-111\"/>\n       <use x=\"364.347656\" xlink:href=\"#DejaVuSans-101\"/>\n       <use x=\"425.871094\" xlink:href=\"#DejaVuSans-115\"/>\n      </g>\n     </g>\n    </g>\n    <g id=\"xtick_105\">\n     <g id=\"line2d_105\">\n      <g>\n       <use style=\"stroke:#000000;stroke-width:0.8;\" x=\"1112.938024\" xlink:href=\"#m798dcede4b\" y=\"571.996875\"/>\n      </g>\n     </g>\n     <g id=\"text_105\">\n      <!-- Triticale -->\n      <g style=\"fill:#5a5034;\" transform=\"translate(1116.249274 625.530625)rotate(-90)scale(0.12 -0.12)\">\n       <use xlink:href=\"#DejaVuSans-84\"/>\n       <use x=\"46.333984\" xlink:href=\"#DejaVuSans-114\"/>\n       <use x=\"87.447266\" xlink:href=\"#DejaVuSans-105\"/>\n       <use x=\"115.230469\" xlink:href=\"#DejaVuSans-116\"/>\n       <use x=\"154.439453\" xlink:href=\"#DejaVuSans-105\"/>\n       <use x=\"182.222656\" xlink:href=\"#DejaVuSans-99\"/>\n       <use x=\"237.203125\" xlink:href=\"#DejaVuSans-97\"/>\n       <use x=\"298.482422\" xlink:href=\"#DejaVuSans-108\"/>\n       <use x=\"326.265625\" xlink:href=\"#DejaVuSans-101\"/>\n      </g>\n     </g>\n    </g>\n    <g id=\"xtick_106\">\n     <g id=\"line2d_106\">\n      <g>\n       <use style=\"stroke:#000000;stroke-width:0.8;\" x=\"1122.992078\" xlink:href=\"#m798dcede4b\" y=\"571.996875\"/>\n      </g>\n     </g>\n     <g id=\"text_106\">\n      <!-- Vegetables, leguminous nes -->\n      <defs>\n       <path d=\"M 28.609375 0 \nL 0.78125 72.90625 \nL 11.078125 72.90625 \nL 34.1875 11.53125 \nL 57.328125 72.90625 \nL 67.578125 72.90625 \nL 39.796875 0 \nz\n\" id=\"DejaVuSans-86\"/>\n      </defs>\n      <g style=\"fill:#5a5034;\" transform=\"translate(1126.303328 747.754375)rotate(-90)scale(0.12 -0.12)\">\n       <use xlink:href=\"#DejaVuSans-86\"/>\n       <use x=\"60.658203\" xlink:href=\"#DejaVuSans-101\"/>\n       <use x=\"122.181641\" xlink:href=\"#DejaVuSans-103\"/>\n       <use x=\"185.658203\" xlink:href=\"#DejaVuSans-101\"/>\n       <use x=\"247.181641\" xlink:href=\"#DejaVuSans-116\"/>\n       <use x=\"286.390625\" xlink:href=\"#DejaVuSans-97\"/>\n       <use x=\"347.669922\" xlink:href=\"#DejaVuSans-98\"/>\n       <use x=\"411.146484\" xlink:href=\"#DejaVuSans-108\"/>\n       <use x=\"438.929688\" xlink:href=\"#DejaVuSans-101\"/>\n       <use x=\"500.453125\" xlink:href=\"#DejaVuSans-115\"/>\n       <use x=\"552.552734\" xlink:href=\"#DejaVuSans-44\"/>\n       <use x=\"584.339844\" xlink:href=\"#DejaVuSans-32\"/>\n       <use x=\"616.126953\" xlink:href=\"#DejaVuSans-108\"/>\n       <use x=\"643.910156\" xlink:href=\"#DejaVuSans-101\"/>\n       <use x=\"705.433594\" xlink:href=\"#DejaVuSans-103\"/>\n       <use x=\"768.910156\" xlink:href=\"#DejaVuSans-117\"/>\n       <use x=\"832.289062\" xlink:href=\"#DejaVuSans-109\"/>\n       <use x=\"929.701172\" xlink:href=\"#DejaVuSans-105\"/>\n       <use x=\"957.484375\" xlink:href=\"#DejaVuSans-110\"/>\n       <use x=\"1020.863281\" xlink:href=\"#DejaVuSans-111\"/>\n       <use x=\"1082.044922\" xlink:href=\"#DejaVuSans-117\"/>\n       <use x=\"1145.423828\" xlink:href=\"#DejaVuSans-115\"/>\n       <use x=\"1197.523438\" xlink:href=\"#DejaVuSans-32\"/>\n       <use x=\"1229.310547\" xlink:href=\"#DejaVuSans-110\"/>\n       <use x=\"1292.689453\" xlink:href=\"#DejaVuSans-101\"/>\n       <use x=\"1354.212891\" xlink:href=\"#DejaVuSans-115\"/>\n      </g>\n     </g>\n    </g>\n    <g id=\"xtick_107\">\n     <g id=\"line2d_107\">\n      <g>\n       <use style=\"stroke:#000000;stroke-width:0.8;\" x=\"1133.046132\" xlink:href=\"#m798dcede4b\" y=\"571.996875\"/>\n      </g>\n     </g>\n     <g id=\"text_107\">\n      <!-- Vetches -->\n      <g style=\"fill:#5a5034;\" transform=\"translate(1136.357382 626.201875)rotate(-90)scale(0.12 -0.12)\">\n       <use xlink:href=\"#DejaVuSans-86\"/>\n       <use x=\"60.658203\" xlink:href=\"#DejaVuSans-101\"/>\n       <use x=\"122.181641\" xlink:href=\"#DejaVuSans-116\"/>\n       <use x=\"161.390625\" xlink:href=\"#DejaVuSans-99\"/>\n       <use x=\"216.371094\" xlink:href=\"#DejaVuSans-104\"/>\n       <use x=\"279.75\" xlink:href=\"#DejaVuSans-101\"/>\n       <use x=\"341.273438\" xlink:href=\"#DejaVuSans-115\"/>\n      </g>\n     </g>\n    </g>\n    <g id=\"xtick_108\">\n     <g id=\"line2d_108\">\n      <g>\n       <use style=\"stroke:#000000;stroke-width:0.8;\" x=\"1143.100186\" xlink:href=\"#m798dcede4b\" y=\"571.996875\"/>\n      </g>\n     </g>\n     <g id=\"text_108\">\n      <!-- Walnuts, with shell -->\n      <defs>\n       <path d=\"M 3.328125 72.90625 \nL 13.28125 72.90625 \nL 28.609375 11.28125 \nL 43.890625 72.90625 \nL 54.984375 72.90625 \nL 70.3125 11.28125 \nL 85.59375 72.90625 \nL 95.609375 72.90625 \nL 77.296875 0 \nL 64.890625 0 \nL 49.515625 63.28125 \nL 33.984375 0 \nL 21.578125 0 \nz\n\" id=\"DejaVuSans-87\"/>\n      </defs>\n      <g style=\"fill:#5a5034;\" transform=\"translate(1146.411436 691.755625)rotate(-90)scale(0.12 -0.12)\">\n       <use xlink:href=\"#DejaVuSans-87\"/>\n       <use x=\"92.501953\" xlink:href=\"#DejaVuSans-97\"/>\n       <use x=\"153.78125\" xlink:href=\"#DejaVuSans-108\"/>\n       <use x=\"181.564453\" xlink:href=\"#DejaVuSans-110\"/>\n       <use x=\"244.943359\" xlink:href=\"#DejaVuSans-117\"/>\n       <use x=\"308.322266\" xlink:href=\"#DejaVuSans-116\"/>\n       <use x=\"347.53125\" xlink:href=\"#DejaVuSans-115\"/>\n       <use x=\"399.630859\" xlink:href=\"#DejaVuSans-44\"/>\n       <use x=\"431.417969\" xlink:href=\"#DejaVuSans-32\"/>\n       <use x=\"463.205078\" xlink:href=\"#DejaVuSans-119\"/>\n       <use x=\"544.992188\" xlink:href=\"#DejaVuSans-105\"/>\n       <use x=\"572.775391\" xlink:href=\"#DejaVuSans-116\"/>\n       <use x=\"611.984375\" xlink:href=\"#DejaVuSans-104\"/>\n       <use x=\"675.363281\" xlink:href=\"#DejaVuSans-32\"/>\n       <use x=\"707.150391\" xlink:href=\"#DejaVuSans-115\"/>\n       <use x=\"759.25\" xlink:href=\"#DejaVuSans-104\"/>\n       <use x=\"822.628906\" xlink:href=\"#DejaVuSans-101\"/>\n       <use x=\"884.152344\" xlink:href=\"#DejaVuSans-108\"/>\n       <use x=\"911.935547\" xlink:href=\"#DejaVuSans-108\"/>\n      </g>\n     </g>\n    </g>\n    <g id=\"xtick_109\">\n     <g id=\"line2d_109\">\n      <g>\n       <use style=\"stroke:#000000;stroke-width:0.8;\" x=\"1153.15424\" xlink:href=\"#m798dcede4b\" y=\"571.996875\"/>\n      </g>\n     </g>\n     <g id=\"text_109\">\n      <!-- Watermelons -->\n      <g style=\"fill:#5a5034;\" transform=\"translate(1156.46549 657.866875)rotate(-90)scale(0.12 -0.12)\">\n       <use xlink:href=\"#DejaVuSans-87\"/>\n       <use x=\"92.501953\" xlink:href=\"#DejaVuSans-97\"/>\n       <use x=\"153.78125\" xlink:href=\"#DejaVuSans-116\"/>\n       <use x=\"192.990234\" xlink:href=\"#DejaVuSans-101\"/>\n       <use x=\"254.513672\" xlink:href=\"#DejaVuSans-114\"/>\n       <use x=\"293.876953\" xlink:href=\"#DejaVuSans-109\"/>\n       <use x=\"391.289062\" xlink:href=\"#DejaVuSans-101\"/>\n       <use x=\"452.8125\" xlink:href=\"#DejaVuSans-108\"/>\n       <use x=\"480.595703\" xlink:href=\"#DejaVuSans-111\"/>\n       <use x=\"541.777344\" xlink:href=\"#DejaVuSans-110\"/>\n       <use x=\"605.15625\" xlink:href=\"#DejaVuSans-115\"/>\n      </g>\n     </g>\n    </g>\n    <g id=\"xtick_110\">\n     <g id=\"line2d_110\">\n      <g>\n       <use style=\"stroke:#000000;stroke-width:0.8;\" x=\"1163.208294\" xlink:href=\"#m798dcede4b\" y=\"571.996875\"/>\n      </g>\n     </g>\n     <g id=\"text_110\">\n      <!-- Wheat -->\n      <g style=\"fill:#5a5034;\" transform=\"translate(1166.519544 617.90875)rotate(-90)scale(0.12 -0.12)\">\n       <use xlink:href=\"#DejaVuSans-87\"/>\n       <use x=\"98.876953\" xlink:href=\"#DejaVuSans-104\"/>\n       <use x=\"162.255859\" xlink:href=\"#DejaVuSans-101\"/>\n       <use x=\"223.779297\" xlink:href=\"#DejaVuSans-97\"/>\n       <use x=\"285.058594\" xlink:href=\"#DejaVuSans-116\"/>\n      </g>\n     </g>\n    </g>\n    <g id=\"xtick_111\">\n     <g id=\"line2d_111\">\n      <g>\n       <use style=\"stroke:#000000;stroke-width:0.8;\" x=\"1173.262348\" xlink:href=\"#m798dcede4b\" y=\"571.996875\"/>\n      </g>\n     </g>\n     <g id=\"text_111\">\n      <!-- Wool, greasy -->\n      <g style=\"fill:#5a5034;\" transform=\"translate(1176.573598 656.175625)rotate(-90)scale(0.12 -0.12)\">\n       <use xlink:href=\"#DejaVuSans-87\"/>\n       <use x=\"93.001953\" xlink:href=\"#DejaVuSans-111\"/>\n       <use x=\"154.183594\" xlink:href=\"#DejaVuSans-111\"/>\n       <use x=\"215.365234\" xlink:href=\"#DejaVuSans-108\"/>\n       <use x=\"243.148438\" xlink:href=\"#DejaVuSans-44\"/>\n       <use x=\"274.935547\" xlink:href=\"#DejaVuSans-32\"/>\n       <use x=\"306.722656\" xlink:href=\"#DejaVuSans-103\"/>\n       <use x=\"370.199219\" xlink:href=\"#DejaVuSans-114\"/>\n       <use x=\"409.0625\" xlink:href=\"#DejaVuSans-101\"/>\n       <use x=\"470.585938\" xlink:href=\"#DejaVuSans-97\"/>\n       <use x=\"531.865234\" xlink:href=\"#DejaVuSans-115\"/>\n       <use x=\"583.964844\" xlink:href=\"#DejaVuSans-121\"/>\n      </g>\n     </g>\n    </g>\n    <g id=\"text_112\">\n     <!-- Materia prima producida -->\n     <g style=\"fill:#138d75;\" transform=\"translate(534.118281 875.807188)scale(0.14 -0.14)\">\n      <use xlink:href=\"#DejaVuSans-77\"/>\n      <use x=\"86.279297\" xlink:href=\"#DejaVuSans-97\"/>\n      <use x=\"147.558594\" xlink:href=\"#DejaVuSans-116\"/>\n      <use x=\"186.767578\" xlink:href=\"#DejaVuSans-101\"/>\n      <use x=\"248.291016\" xlink:href=\"#DejaVuSans-114\"/>\n      <use x=\"289.404297\" xlink:href=\"#DejaVuSans-105\"/>\n      <use x=\"317.1875\" xlink:href=\"#DejaVuSans-97\"/>\n      <use x=\"378.466797\" xlink:href=\"#DejaVuSans-32\"/>\n      <use x=\"410.253906\" xlink:href=\"#DejaVuSans-112\"/>\n      <use x=\"473.730469\" xlink:href=\"#DejaVuSans-114\"/>\n      <use x=\"514.84375\" xlink:href=\"#DejaVuSans-105\"/>\n      <use x=\"542.626953\" xlink:href=\"#DejaVuSans-109\"/>\n      <use x=\"640.039062\" xlink:href=\"#DejaVuSans-97\"/>\n      <use x=\"701.318359\" xlink:href=\"#DejaVuSans-32\"/>\n      <use x=\"733.105469\" xlink:href=\"#DejaVuSans-112\"/>\n      <use x=\"796.582031\" xlink:href=\"#DejaVuSans-114\"/>\n      <use x=\"835.445312\" xlink:href=\"#DejaVuSans-111\"/>\n      <use x=\"896.626953\" xlink:href=\"#DejaVuSans-100\"/>\n      <use x=\"960.103516\" xlink:href=\"#DejaVuSans-117\"/>\n      <use x=\"1023.482422\" xlink:href=\"#DejaVuSans-99\"/>\n      <use x=\"1078.462891\" xlink:href=\"#DejaVuSans-105\"/>\n      <use x=\"1106.246094\" xlink:href=\"#DejaVuSans-100\"/>\n      <use x=\"1169.722656\" xlink:href=\"#DejaVuSans-97\"/>\n     </g>\n    </g>\n   </g>\n   <g id=\"matplotlib.axis_2\">\n    <g id=\"ytick_1\">\n     <g id=\"line2d_112\">\n      <defs>\n       <path d=\"M 0 0 \nL -3.5 0 \n\" id=\"maa2c86b5bf\" style=\"stroke:#000000;stroke-width:0.8;\"/>\n      </defs>\n      <g>\n       <use style=\"stroke:#000000;stroke-width:0.8;\" x=\"62.289375\" xlink:href=\"#maa2c86b5bf\" y=\"571.996875\"/>\n      </g>\n     </g>\n     <g id=\"text_113\">\n      <!-- 0 -->\n      <defs>\n       <path d=\"M 31.78125 66.40625 \nQ 24.171875 66.40625 20.328125 58.90625 \nQ 16.5 51.421875 16.5 36.375 \nQ 16.5 21.390625 20.328125 13.890625 \nQ 24.171875 6.390625 31.78125 6.390625 \nQ 39.453125 6.390625 43.28125 13.890625 \nQ 47.125 21.390625 47.125 36.375 \nQ 47.125 51.421875 43.28125 58.90625 \nQ 39.453125 66.40625 31.78125 66.40625 \nz\nM 31.78125 74.21875 \nQ 44.046875 74.21875 50.515625 64.515625 \nQ 56.984375 54.828125 56.984375 36.375 \nQ 56.984375 17.96875 50.515625 8.265625 \nQ 44.046875 -1.421875 31.78125 -1.421875 \nQ 19.53125 -1.421875 13.0625 8.265625 \nQ 6.59375 17.96875 6.59375 36.375 \nQ 6.59375 54.828125 13.0625 64.515625 \nQ 19.53125 74.21875 31.78125 74.21875 \nz\n\" id=\"DejaVuSans-48\"/>\n      </defs>\n      <g style=\"fill:#5a5034;\" transform=\"translate(47.654375 576.555938)scale(0.12 -0.12)\">\n       <use xlink:href=\"#DejaVuSans-48\"/>\n      </g>\n     </g>\n    </g>\n    <g id=\"ytick_2\">\n     <g id=\"line2d_113\">\n      <g>\n       <use style=\"stroke:#000000;stroke-width:0.8;\" x=\"62.289375\" xlink:href=\"#maa2c86b5bf\" y=\"472.227303\"/>\n      </g>\n     </g>\n     <g id=\"text_114\">\n      <!-- 1000 -->\n      <defs>\n       <path d=\"M 12.40625 8.296875 \nL 28.515625 8.296875 \nL 28.515625 63.921875 \nL 10.984375 60.40625 \nL 10.984375 69.390625 \nL 28.421875 72.90625 \nL 38.28125 72.90625 \nL 38.28125 8.296875 \nL 54.390625 8.296875 \nL 54.390625 0 \nL 12.40625 0 \nz\n\" id=\"DejaVuSans-49\"/>\n      </defs>\n      <g style=\"fill:#5a5034;\" transform=\"translate(24.749375 476.786366)scale(0.12 -0.12)\">\n       <use xlink:href=\"#DejaVuSans-49\"/>\n       <use x=\"63.623047\" xlink:href=\"#DejaVuSans-48\"/>\n       <use x=\"127.246094\" xlink:href=\"#DejaVuSans-48\"/>\n       <use x=\"190.869141\" xlink:href=\"#DejaVuSans-48\"/>\n      </g>\n     </g>\n    </g>\n    <g id=\"ytick_3\">\n     <g id=\"line2d_114\">\n      <g>\n       <use style=\"stroke:#000000;stroke-width:0.8;\" x=\"62.289375\" xlink:href=\"#maa2c86b5bf\" y=\"372.457731\"/>\n      </g>\n     </g>\n     <g id=\"text_115\">\n      <!-- 2000 -->\n      <defs>\n       <path d=\"M 19.1875 8.296875 \nL 53.609375 8.296875 \nL 53.609375 0 \nL 7.328125 0 \nL 7.328125 8.296875 \nQ 12.9375 14.109375 22.625 23.890625 \nQ 32.328125 33.6875 34.8125 36.53125 \nQ 39.546875 41.84375 41.421875 45.53125 \nQ 43.3125 49.21875 43.3125 52.78125 \nQ 43.3125 58.59375 39.234375 62.25 \nQ 35.15625 65.921875 28.609375 65.921875 \nQ 23.96875 65.921875 18.8125 64.3125 \nQ 13.671875 62.703125 7.8125 59.421875 \nL 7.8125 69.390625 \nQ 13.765625 71.78125 18.9375 73 \nQ 24.125 74.21875 28.421875 74.21875 \nQ 39.75 74.21875 46.484375 68.546875 \nQ 53.21875 62.890625 53.21875 53.421875 \nQ 53.21875 48.921875 51.53125 44.890625 \nQ 49.859375 40.875 45.40625 35.40625 \nQ 44.1875 33.984375 37.640625 27.21875 \nQ 31.109375 20.453125 19.1875 8.296875 \nz\n\" id=\"DejaVuSans-50\"/>\n      </defs>\n      <g style=\"fill:#5a5034;\" transform=\"translate(24.749375 377.016794)scale(0.12 -0.12)\">\n       <use xlink:href=\"#DejaVuSans-50\"/>\n       <use x=\"63.623047\" xlink:href=\"#DejaVuSans-48\"/>\n       <use x=\"127.246094\" xlink:href=\"#DejaVuSans-48\"/>\n       <use x=\"190.869141\" xlink:href=\"#DejaVuSans-48\"/>\n      </g>\n     </g>\n    </g>\n    <g id=\"ytick_4\">\n     <g id=\"line2d_115\">\n      <g>\n       <use style=\"stroke:#000000;stroke-width:0.8;\" x=\"62.289375\" xlink:href=\"#maa2c86b5bf\" y=\"272.688159\"/>\n      </g>\n     </g>\n     <g id=\"text_116\">\n      <!-- 3000 -->\n      <defs>\n       <path d=\"M 40.578125 39.3125 \nQ 47.65625 37.796875 51.625 33 \nQ 55.609375 28.21875 55.609375 21.1875 \nQ 55.609375 10.40625 48.1875 4.484375 \nQ 40.765625 -1.421875 27.09375 -1.421875 \nQ 22.515625 -1.421875 17.65625 -0.515625 \nQ 12.796875 0.390625 7.625 2.203125 \nL 7.625 11.71875 \nQ 11.71875 9.328125 16.59375 8.109375 \nQ 21.484375 6.890625 26.8125 6.890625 \nQ 36.078125 6.890625 40.9375 10.546875 \nQ 45.796875 14.203125 45.796875 21.1875 \nQ 45.796875 27.640625 41.28125 31.265625 \nQ 36.765625 34.90625 28.71875 34.90625 \nL 20.21875 34.90625 \nL 20.21875 43.015625 \nL 29.109375 43.015625 \nQ 36.375 43.015625 40.234375 45.921875 \nQ 44.09375 48.828125 44.09375 54.296875 \nQ 44.09375 59.90625 40.109375 62.90625 \nQ 36.140625 65.921875 28.71875 65.921875 \nQ 24.65625 65.921875 20.015625 65.03125 \nQ 15.375 64.15625 9.8125 62.3125 \nL 9.8125 71.09375 \nQ 15.4375 72.65625 20.34375 73.4375 \nQ 25.25 74.21875 29.59375 74.21875 \nQ 40.828125 74.21875 47.359375 69.109375 \nQ 53.90625 64.015625 53.90625 55.328125 \nQ 53.90625 49.265625 50.4375 45.09375 \nQ 46.96875 40.921875 40.578125 39.3125 \nz\n\" id=\"DejaVuSans-51\"/>\n      </defs>\n      <g style=\"fill:#5a5034;\" transform=\"translate(24.749375 277.247222)scale(0.12 -0.12)\">\n       <use xlink:href=\"#DejaVuSans-51\"/>\n       <use x=\"63.623047\" xlink:href=\"#DejaVuSans-48\"/>\n       <use x=\"127.246094\" xlink:href=\"#DejaVuSans-48\"/>\n       <use x=\"190.869141\" xlink:href=\"#DejaVuSans-48\"/>\n      </g>\n     </g>\n    </g>\n    <g id=\"ytick_5\">\n     <g id=\"line2d_116\">\n      <g>\n       <use style=\"stroke:#000000;stroke-width:0.8;\" x=\"62.289375\" xlink:href=\"#maa2c86b5bf\" y=\"172.918587\"/>\n      </g>\n     </g>\n     <g id=\"text_117\">\n      <!-- 4000 -->\n      <defs>\n       <path d=\"M 37.796875 64.3125 \nL 12.890625 25.390625 \nL 37.796875 25.390625 \nz\nM 35.203125 72.90625 \nL 47.609375 72.90625 \nL 47.609375 25.390625 \nL 58.015625 25.390625 \nL 58.015625 17.1875 \nL 47.609375 17.1875 \nL 47.609375 0 \nL 37.796875 0 \nL 37.796875 17.1875 \nL 4.890625 17.1875 \nL 4.890625 26.703125 \nz\n\" id=\"DejaVuSans-52\"/>\n      </defs>\n      <g style=\"fill:#5a5034;\" transform=\"translate(24.749375 177.47765)scale(0.12 -0.12)\">\n       <use xlink:href=\"#DejaVuSans-52\"/>\n       <use x=\"63.623047\" xlink:href=\"#DejaVuSans-48\"/>\n       <use x=\"127.246094\" xlink:href=\"#DejaVuSans-48\"/>\n       <use x=\"190.869141\" xlink:href=\"#DejaVuSans-48\"/>\n      </g>\n     </g>\n    </g>\n    <g id=\"ytick_6\">\n     <g id=\"line2d_117\">\n      <g>\n       <use style=\"stroke:#000000;stroke-width:0.8;\" x=\"62.289375\" xlink:href=\"#maa2c86b5bf\" y=\"73.149015\"/>\n      </g>\n     </g>\n     <g id=\"text_118\">\n      <!-- 5000 -->\n      <defs>\n       <path d=\"M 10.796875 72.90625 \nL 49.515625 72.90625 \nL 49.515625 64.59375 \nL 19.828125 64.59375 \nL 19.828125 46.734375 \nQ 21.96875 47.46875 24.109375 47.828125 \nQ 26.265625 48.1875 28.421875 48.1875 \nQ 40.625 48.1875 47.75 41.5 \nQ 54.890625 34.8125 54.890625 23.390625 \nQ 54.890625 11.625 47.5625 5.09375 \nQ 40.234375 -1.421875 26.90625 -1.421875 \nQ 22.3125 -1.421875 17.546875 -0.640625 \nQ 12.796875 0.140625 7.71875 1.703125 \nL 7.71875 11.625 \nQ 12.109375 9.234375 16.796875 8.0625 \nQ 21.484375 6.890625 26.703125 6.890625 \nQ 35.15625 6.890625 40.078125 11.328125 \nQ 45.015625 15.765625 45.015625 23.390625 \nQ 45.015625 31 40.078125 35.4375 \nQ 35.15625 39.890625 26.703125 39.890625 \nQ 22.75 39.890625 18.8125 39.015625 \nQ 14.890625 38.140625 10.796875 36.28125 \nz\n\" id=\"DejaVuSans-53\"/>\n      </defs>\n      <g style=\"fill:#5a5034;\" transform=\"translate(24.749375 77.708078)scale(0.12 -0.12)\">\n       <use xlink:href=\"#DejaVuSans-53\"/>\n       <use x=\"63.623047\" xlink:href=\"#DejaVuSans-48\"/>\n       <use x=\"127.246094\" xlink:href=\"#DejaVuSans-48\"/>\n       <use x=\"190.869141\" xlink:href=\"#DejaVuSans-48\"/>\n      </g>\n     </g>\n    </g>\n    <g id=\"text_119\">\n     <!-- Producción en toneladas -->\n     <defs>\n      <path d=\"M 30.609375 48.390625 \nQ 23.390625 48.390625 19.1875 42.75 \nQ 14.984375 37.109375 14.984375 27.296875 \nQ 14.984375 17.484375 19.15625 11.84375 \nQ 23.34375 6.203125 30.609375 6.203125 \nQ 37.796875 6.203125 41.984375 11.859375 \nQ 46.1875 17.53125 46.1875 27.296875 \nQ 46.1875 37.015625 41.984375 42.703125 \nQ 37.796875 48.390625 30.609375 48.390625 \nz\nM 30.609375 56 \nQ 42.328125 56 49.015625 48.375 \nQ 55.71875 40.765625 55.71875 27.296875 \nQ 55.71875 13.875 49.015625 6.21875 \nQ 42.328125 -1.421875 30.609375 -1.421875 \nQ 18.84375 -1.421875 12.171875 6.21875 \nQ 5.515625 13.875 5.515625 27.296875 \nQ 5.515625 40.765625 12.171875 48.375 \nQ 18.84375 56 30.609375 56 \nz\nM 37.40625 79.984375 \nL 47.125 79.984375 \nL 31.21875 61.625 \nL 23.734375 61.625 \nz\n\" id=\"DejaVuSans-243\"/>\n     </defs>\n     <g style=\"fill:#138d75;\" transform=\"translate(17.837813 386.118594)rotate(-90)scale(0.14 -0.14)\">\n      <use xlink:href=\"#DejaVuSans-80\"/>\n      <use x=\"58.552734\" xlink:href=\"#DejaVuSans-114\"/>\n      <use x=\"97.416016\" xlink:href=\"#DejaVuSans-111\"/>\n      <use x=\"158.597656\" xlink:href=\"#DejaVuSans-100\"/>\n      <use x=\"222.074219\" xlink:href=\"#DejaVuSans-117\"/>\n      <use x=\"285.453125\" xlink:href=\"#DejaVuSans-99\"/>\n      <use x=\"340.433594\" xlink:href=\"#DejaVuSans-99\"/>\n      <use x=\"395.414062\" xlink:href=\"#DejaVuSans-105\"/>\n      <use x=\"423.197266\" xlink:href=\"#DejaVuSans-243\"/>\n      <use x=\"484.378906\" xlink:href=\"#DejaVuSans-110\"/>\n      <use x=\"547.757812\" xlink:href=\"#DejaVuSans-32\"/>\n      <use x=\"579.544922\" xlink:href=\"#DejaVuSans-101\"/>\n      <use x=\"641.068359\" xlink:href=\"#DejaVuSans-110\"/>\n      <use x=\"704.447266\" xlink:href=\"#DejaVuSans-32\"/>\n      <use x=\"736.234375\" xlink:href=\"#DejaVuSans-116\"/>\n      <use x=\"775.443359\" xlink:href=\"#DejaVuSans-111\"/>\n      <use x=\"836.625\" xlink:href=\"#DejaVuSans-110\"/>\n      <use x=\"900.003906\" xlink:href=\"#DejaVuSans-101\"/>\n      <use x=\"961.527344\" xlink:href=\"#DejaVuSans-108\"/>\n      <use x=\"989.310547\" xlink:href=\"#DejaVuSans-97\"/>\n      <use x=\"1050.589844\" xlink:href=\"#DejaVuSans-100\"/>\n      <use x=\"1114.066406\" xlink:href=\"#DejaVuSans-97\"/>\n      <use x=\"1175.345703\" xlink:href=\"#DejaVuSans-115\"/>\n     </g>\n    </g>\n   </g>\n   <g id=\"patch_334\">\n    <path d=\"M 62.289375 571.996875 \nL 62.289375 28.396875 \n\" style=\"fill:none;stroke:#000000;stroke-linecap:square;stroke-linejoin:miter;stroke-width:0.8;\"/>\n   </g>\n   <g id=\"patch_335\">\n    <path d=\"M 1178.289375 571.996875 \nL 1178.289375 28.396875 \n\" style=\"fill:none;stroke:#000000;stroke-linecap:square;stroke-linejoin:miter;stroke-width:0.8;\"/>\n   </g>\n   <g id=\"patch_336\">\n    <path d=\"M 62.289375 571.996875 \nL 1178.289375 571.996875 \n\" style=\"fill:none;stroke:#000000;stroke-linecap:square;stroke-linejoin:miter;stroke-width:0.8;\"/>\n   </g>\n   <g id=\"patch_337\">\n    <path d=\"M 62.289375 28.396875 \nL 1178.289375 28.396875 \n\" style=\"fill:none;stroke:#000000;stroke-linecap:square;stroke-linejoin:miter;stroke-width:0.8;\"/>\n   </g>\n   <g id=\"text_120\">\n    <!-- PRODUCCIÓN EN ESPAÑA  -->\n    <defs>\n     <path d=\"M 8.6875 72.90625 \nL 18.609375 72.90625 \nL 18.609375 28.609375 \nQ 18.609375 16.890625 22.84375 11.734375 \nQ 27.09375 6.59375 36.625 6.59375 \nQ 46.09375 6.59375 50.34375 11.734375 \nQ 54.59375 16.890625 54.59375 28.609375 \nL 54.59375 72.90625 \nL 64.5 72.90625 \nL 64.5 27.390625 \nQ 64.5 13.140625 57.4375 5.859375 \nQ 50.390625 -1.421875 36.625 -1.421875 \nQ 22.796875 -1.421875 15.734375 5.859375 \nQ 8.6875 13.140625 8.6875 27.390625 \nz\n\" id=\"DejaVuSans-85\"/>\n     <path d=\"M 9.8125 72.90625 \nL 19.671875 72.90625 \nL 19.671875 0 \nL 9.8125 0 \nz\n\" id=\"DejaVuSans-73\"/>\n     <path d=\"M 39.40625 66.21875 \nQ 28.65625 66.21875 22.328125 58.203125 \nQ 16.015625 50.203125 16.015625 36.375 \nQ 16.015625 22.609375 22.328125 14.59375 \nQ 28.65625 6.59375 39.40625 6.59375 \nQ 50.140625 6.59375 56.421875 14.59375 \nQ 62.703125 22.609375 62.703125 36.375 \nQ 62.703125 50.203125 56.421875 58.203125 \nQ 50.140625 66.21875 39.40625 66.21875 \nz\nM 39.40625 74.21875 \nQ 54.734375 74.21875 63.90625 63.9375 \nQ 73.09375 53.65625 73.09375 36.375 \nQ 73.09375 19.140625 63.90625 8.859375 \nQ 54.734375 -1.421875 39.40625 -1.421875 \nQ 24.03125 -1.421875 14.8125 8.828125 \nQ 5.609375 19.09375 5.609375 36.375 \nQ 5.609375 53.65625 14.8125 63.9375 \nQ 24.03125 74.21875 39.40625 74.21875 \nz\nM 42.0625 92.515625 \nL 51.09375 92.515625 \nL 39.96875 79.625 \nL 32.484375 79.625 \nz\n\" id=\"DejaVuSans-211\"/>\n     <path d=\"M 9.8125 72.90625 \nL 23.09375 72.90625 \nL 55.421875 11.921875 \nL 55.421875 72.90625 \nL 64.984375 72.90625 \nL 64.984375 0 \nL 51.703125 0 \nL 19.390625 60.984375 \nL 19.390625 0 \nL 9.8125 0 \nz\n\" id=\"DejaVuSans-78\"/>\n     <path d=\"M 9.8125 72.90625 \nL 23.09375 72.90625 \nL 55.421875 11.921875 \nL 55.421875 72.90625 \nL 64.984375 72.90625 \nL 64.984375 0 \nL 51.703125 0 \nL 19.390625 60.984375 \nL 19.390625 0 \nL 9.8125 0 \nz\nM 37.1875 83.28125 \nL 34.390625 84.890625 \nQ 33.171875 85.578125 32.40625 85.84375 \nQ 31.65625 86.109375 31.078125 86.109375 \nQ 29.3125 86.109375 28.328125 84.890625 \nQ 27.359375 83.671875 27.359375 81.484375 \nL 27.359375 81.1875 \nL 21.265625 81.1875 \nQ 21.265625 86.109375 23.78125 88.984375 \nQ 26.296875 91.875 30.484375 91.875 \nQ 32.25 91.875 33.734375 91.484375 \nQ 35.234375 91.09375 37.578125 89.78125 \nL 40.359375 88.3125 \nQ 41.484375 87.671875 42.3125 87.375 \nQ 43.140625 87.09375 43.875 87.09375 \nQ 45.4375 87.09375 46.40625 88.328125 \nQ 47.390625 89.578125 47.390625 91.578125 \nL 47.390625 91.875 \nL 53.484375 91.875 \nQ 53.390625 87 50.875 84.09375 \nQ 48.359375 81.1875 44.265625 81.1875 \nQ 42.59375 81.1875 41.15625 81.578125 \nQ 39.71875 81.96875 37.1875 83.28125 \nz\n\" id=\"DejaVuSans-209\"/>\n    </defs>\n    <g style=\"fill:#138d75;\" transform=\"translate(489.595625 22.396875)scale(0.2 -0.2)\">\n     <use xlink:href=\"#DejaVuSans-80\"/>\n     <use x=\"60.302734\" xlink:href=\"#DejaVuSans-82\"/>\n     <use x=\"129.785156\" xlink:href=\"#DejaVuSans-79\"/>\n     <use x=\"208.496094\" xlink:href=\"#DejaVuSans-68\"/>\n     <use x=\"285.498047\" xlink:href=\"#DejaVuSans-85\"/>\n     <use x=\"358.691406\" xlink:href=\"#DejaVuSans-67\"/>\n     <use x=\"428.515625\" xlink:href=\"#DejaVuSans-67\"/>\n     <use x=\"498.339844\" xlink:href=\"#DejaVuSans-73\"/>\n     <use x=\"527.832031\" xlink:href=\"#DejaVuSans-211\"/>\n     <use x=\"606.542969\" xlink:href=\"#DejaVuSans-78\"/>\n     <use x=\"681.347656\" xlink:href=\"#DejaVuSans-32\"/>\n     <use x=\"713.134766\" xlink:href=\"#DejaVuSans-69\"/>\n     <use x=\"776.318359\" xlink:href=\"#DejaVuSans-78\"/>\n     <use x=\"851.123047\" xlink:href=\"#DejaVuSans-32\"/>\n     <use x=\"882.910156\" xlink:href=\"#DejaVuSans-69\"/>\n     <use x=\"946.09375\" xlink:href=\"#DejaVuSans-83\"/>\n     <use x=\"1009.570312\" xlink:href=\"#DejaVuSans-80\"/>\n     <use x=\"1063.498047\" xlink:href=\"#DejaVuSans-65\"/>\n     <use x=\"1131.90625\" xlink:href=\"#DejaVuSans-209\"/>\n     <use x=\"1206.710938\" xlink:href=\"#DejaVuSans-65\"/>\n     <use x=\"1275.119141\" xlink:href=\"#DejaVuSans-32\"/>\n    </g>\n   </g>\n   <g id=\"legend_1\">\n    <g id=\"patch_338\">\n     <path d=\"M 1080.372188 80.43125 \nL 1171.289375 80.43125 \nQ 1173.289375 80.43125 1173.289375 78.43125 \nL 1173.289375 35.396875 \nQ 1173.289375 33.396875 1171.289375 33.396875 \nL 1080.372188 33.396875 \nQ 1078.372188 33.396875 1078.372188 35.396875 \nL 1078.372188 78.43125 \nQ 1078.372188 80.43125 1080.372188 80.43125 \nz\n\" style=\"fill:#ffffff;opacity:0.8;stroke:#cccccc;stroke-linejoin:miter;\"/>\n    </g>\n    <g id=\"patch_339\">\n     <path d=\"M 1082.372188 44.995313 \nL 1102.372188 44.995313 \nL 1102.372188 37.995313 \nL 1082.372188 37.995313 \nz\n\" style=\"fill:#76d7c4;\"/>\n    </g>\n    <g id=\"text_121\">\n     <!-- Precio 2007 -->\n     <defs>\n      <path d=\"M 8.203125 72.90625 \nL 55.078125 72.90625 \nL 55.078125 68.703125 \nL 28.609375 0 \nL 18.3125 0 \nL 43.21875 64.59375 \nL 8.203125 64.59375 \nz\n\" id=\"DejaVuSans-55\"/>\n     </defs>\n     <g transform=\"translate(1110.372188 44.995313)scale(0.1 -0.1)\">\n      <use xlink:href=\"#DejaVuSans-80\"/>\n      <use x=\"58.552734\" xlink:href=\"#DejaVuSans-114\"/>\n      <use x=\"97.416016\" xlink:href=\"#DejaVuSans-101\"/>\n      <use x=\"158.939453\" xlink:href=\"#DejaVuSans-99\"/>\n      <use x=\"213.919922\" xlink:href=\"#DejaVuSans-105\"/>\n      <use x=\"241.703125\" xlink:href=\"#DejaVuSans-111\"/>\n      <use x=\"302.884766\" xlink:href=\"#DejaVuSans-32\"/>\n      <use x=\"334.671875\" xlink:href=\"#DejaVuSans-50\"/>\n      <use x=\"398.294922\" xlink:href=\"#DejaVuSans-48\"/>\n      <use x=\"461.917969\" xlink:href=\"#DejaVuSans-48\"/>\n      <use x=\"525.541016\" xlink:href=\"#DejaVuSans-55\"/>\n     </g>\n    </g>\n    <g id=\"patch_340\">\n     <path d=\"M 1082.372188 59.673438 \nL 1102.372188 59.673438 \nL 1102.372188 52.673438 \nL 1082.372188 52.673438 \nz\n\" style=\"fill:#f8c471;\"/>\n    </g>\n    <g id=\"text_122\">\n     <!-- Precio 2008 -->\n     <defs>\n      <path d=\"M 31.78125 34.625 \nQ 24.75 34.625 20.71875 30.859375 \nQ 16.703125 27.09375 16.703125 20.515625 \nQ 16.703125 13.921875 20.71875 10.15625 \nQ 24.75 6.390625 31.78125 6.390625 \nQ 38.8125 6.390625 42.859375 10.171875 \nQ 46.921875 13.96875 46.921875 20.515625 \nQ 46.921875 27.09375 42.890625 30.859375 \nQ 38.875 34.625 31.78125 34.625 \nz\nM 21.921875 38.8125 \nQ 15.578125 40.375 12.03125 44.71875 \nQ 8.5 49.078125 8.5 55.328125 \nQ 8.5 64.0625 14.71875 69.140625 \nQ 20.953125 74.21875 31.78125 74.21875 \nQ 42.671875 74.21875 48.875 69.140625 \nQ 55.078125 64.0625 55.078125 55.328125 \nQ 55.078125 49.078125 51.53125 44.71875 \nQ 48 40.375 41.703125 38.8125 \nQ 48.828125 37.15625 52.796875 32.3125 \nQ 56.78125 27.484375 56.78125 20.515625 \nQ 56.78125 9.90625 50.3125 4.234375 \nQ 43.84375 -1.421875 31.78125 -1.421875 \nQ 19.734375 -1.421875 13.25 4.234375 \nQ 6.78125 9.90625 6.78125 20.515625 \nQ 6.78125 27.484375 10.78125 32.3125 \nQ 14.796875 37.15625 21.921875 38.8125 \nz\nM 18.3125 54.390625 \nQ 18.3125 48.734375 21.84375 45.5625 \nQ 25.390625 42.390625 31.78125 42.390625 \nQ 38.140625 42.390625 41.71875 45.5625 \nQ 45.3125 48.734375 45.3125 54.390625 \nQ 45.3125 60.0625 41.71875 63.234375 \nQ 38.140625 66.40625 31.78125 66.40625 \nQ 25.390625 66.40625 21.84375 63.234375 \nQ 18.3125 60.0625 18.3125 54.390625 \nz\n\" id=\"DejaVuSans-56\"/>\n     </defs>\n     <g transform=\"translate(1110.372188 59.673438)scale(0.1 -0.1)\">\n      <use xlink:href=\"#DejaVuSans-80\"/>\n      <use x=\"58.552734\" xlink:href=\"#DejaVuSans-114\"/>\n      <use x=\"97.416016\" xlink:href=\"#DejaVuSans-101\"/>\n      <use x=\"158.939453\" xlink:href=\"#DejaVuSans-99\"/>\n      <use x=\"213.919922\" xlink:href=\"#DejaVuSans-105\"/>\n      <use x=\"241.703125\" xlink:href=\"#DejaVuSans-111\"/>\n      <use x=\"302.884766\" xlink:href=\"#DejaVuSans-32\"/>\n      <use x=\"334.671875\" xlink:href=\"#DejaVuSans-50\"/>\n      <use x=\"398.294922\" xlink:href=\"#DejaVuSans-48\"/>\n      <use x=\"461.917969\" xlink:href=\"#DejaVuSans-48\"/>\n      <use x=\"525.541016\" xlink:href=\"#DejaVuSans-56\"/>\n     </g>\n    </g>\n    <g id=\"patch_341\">\n     <path d=\"M 1082.372188 74.351563 \nL 1102.372188 74.351563 \nL 1102.372188 67.351563 \nL 1082.372188 67.351563 \nz\n\" style=\"fill:#e67c00;\"/>\n    </g>\n    <g id=\"text_123\">\n     <!-- Precio 2012 -->\n     <g transform=\"translate(1110.372188 74.351563)scale(0.1 -0.1)\">\n      <use xlink:href=\"#DejaVuSans-80\"/>\n      <use x=\"58.552734\" xlink:href=\"#DejaVuSans-114\"/>\n      <use x=\"97.416016\" xlink:href=\"#DejaVuSans-101\"/>\n      <use x=\"158.939453\" xlink:href=\"#DejaVuSans-99\"/>\n      <use x=\"213.919922\" xlink:href=\"#DejaVuSans-105\"/>\n      <use x=\"241.703125\" xlink:href=\"#DejaVuSans-111\"/>\n      <use x=\"302.884766\" xlink:href=\"#DejaVuSans-32\"/>\n      <use x=\"334.671875\" xlink:href=\"#DejaVuSans-50\"/>\n      <use x=\"398.294922\" xlink:href=\"#DejaVuSans-48\"/>\n      <use x=\"461.917969\" xlink:href=\"#DejaVuSans-49\"/>\n      <use x=\"525.541016\" xlink:href=\"#DejaVuSans-50\"/>\n     </g>\n    </g>\n   </g>\n  </g>\n </g>\n <defs>\n  <clipPath id=\"p783d9581b4\">\n   <rect height=\"543.6\" width=\"1116\" x=\"62.289375\" y=\"28.396875\"/>\n  </clipPath>\n </defs>\n</svg>\n",
      "image/png": "[encoded data removed]"
     },
     "metadata": {
      "needs_background": "light"
     }
    }
   ],
   "source": [
    "plt.figure(figsize=(20, 10))\n",
    "df[df.Year == 2007].Value.plot(kind=\"bar\",label='Precio 2007',color=\"#76D7C4\")\n",
    "df[df.Year == 2008].Value.plot(kind=\"bar\",label='Precio 2008',color=\"#F8C471\")\n",
    "df[df.Year == 2012].Value.plot(kind=\"bar\",label='Precio 2012',color=\"#E67C00\")\n",
    "plt.legend(loc='top_right')\n",
    "plt.title('PRODUCCIÓN EN ESPAÑA ', size=20, color=\"#138D75\")\n",
    "plt.xlabel(\"Materia prima producida\", size=14, color=\"#138D75\")\n",
    "plt.ylabel(\"Producción en toneladas\",size=14, color=\"#138D75\")\n",
    "plt.xticks(rotation=90,FontSize=12,color=\"#5A5034\")\n",
    "plt.yticks(rotation=0,FontSize=12,color=\"#5A5034\")\n",
    "#plt.savefig('Producción_España_anual.png')\n",
    "plt.show()"
   ]
  },
  {
   "cell_type": "code",
   "execution_count": 82,
   "metadata": {},
   "outputs": [
    {
     "output_type": "execute_result",
     "data": {
      "text/plain": "   Domain Code              Domain  Area Code   Area  Element Code  \\\n0           QI  Production Indices        203  Spain           436   \n1           QI  Production Indices        203  Spain           436   \n2           QI  Production Indices        203  Spain           436   \n3           QI  Production Indices        203  Spain           436   \n4           QI  Production Indices        203  Spain           436   \n5           QI  Production Indices        203  Spain           436   \n6           QI  Production Indices        203  Spain           436   \n7           QI  Production Indices        203  Spain           436   \n8           QI  Production Indices        203  Spain           436   \n9           QI  Production Indices        203  Spain           436   \n10          QI  Production Indices        203  Spain           436   \n11          QI  Production Indices        203  Spain           436   \n\n                                          Element  Item Code  \\\n0   Net Production Index Number (2004-2006 = 100)       2051   \n1   Net Production Index Number (2004-2006 = 100)       2051   \n2   Net Production Index Number (2004-2006 = 100)       2051   \n3   Net Production Index Number (2004-2006 = 100)       1717   \n4   Net Production Index Number (2004-2006 = 100)       1717   \n5   Net Production Index Number (2004-2006 = 100)       1717   \n6   Net Production Index Number (2004-2006 = 100)       2041   \n7   Net Production Index Number (2004-2006 = 100)       2041   \n8   Net Production Index Number (2004-2006 = 100)       2041   \n9   Net Production Index Number (2004-2006 = 100)       2054   \n10  Net Production Index Number (2004-2006 = 100)       2054   \n11  Net Production Index Number (2004-2006 = 100)       2054   \n\n                 Item  Year Code  Year    Unit   Value Flag Flag Description  \n0   Agriculture (PIN)       2007  2007  Int. $  100.22   Fc  Calculated data  \n1   Agriculture (PIN)       2008  2008  Int. $  100.11   Fc  Calculated data  \n2   Agriculture (PIN)       2012  2012  Int. $   92.79   Fc  Calculated data  \n3       Cereals,Total       2007  2007  Int. $  125.24   Fc  Calculated data  \n4       Cereals,Total       2008  2008  Int. $  122.55   Fc  Calculated data  \n5       Cereals,Total       2012  2012  Int. $   92.51   Fc  Calculated data  \n6         Crops (PIN)       2007  2007  Int. $  102.27   Fc  Calculated data  \n7         Crops (PIN)       2008  2008  Int. $   99.89   Fc  Calculated data  \n8         Crops (PIN)       2012  2012  Int. $   87.56   Fc  Calculated data  \n9          Food (PIN)       2007  2007  Int. $  100.54   Fc  Calculated data  \n10         Food (PIN)       2008  2008  Int. $  100.53   Fc  Calculated data  \n11         Food (PIN)       2012  2012  Int. $   93.01   Fc  Calculated data  ",
      "text/html": "<div>\n<style scoped>\n    .dataframe tbody tr th:only-of-type {\n        vertical-align: middle;\n    }\n\n    .dataframe tbody tr th {\n        vertical-align: top;\n    }\n\n    .dataframe thead th {\n        text-align: right;\n    }\n</style>\n<table border=\"1\" class=\"dataframe\">\n  <thead>\n    <tr style=\"text-align: right;\">\n      <th></th>\n      <th>Domain Code</th>\n      <th>Domain</th>\n      <th>Area Code</th>\n      <th>Area</th>\n      <th>Element Code</th>\n      <th>Element</th>\n      <th>Item Code</th>\n      <th>Item</th>\n      <th>Year Code</th>\n      <th>Year</th>\n      <th>Unit</th>\n      <th>Value</th>\n      <th>Flag</th>\n      <th>Flag Description</th>\n    </tr>\n  </thead>\n  <tbody>\n    <tr>\n      <th>0</th>\n      <td>QI</td>\n      <td>Production Indices</td>\n      <td>203</td>\n      <td>Spain</td>\n      <td>436</td>\n      <td>Net Production Index Number (2004-2006 = 100)</td>\n      <td>2051</td>\n      <td>Agriculture (PIN)</td>\n      <td>2007</td>\n      <td>2007</td>\n      <td>Int. $</td>\n      <td>100.22</td>\n      <td>Fc</td>\n      <td>Calculated data</td>\n    </tr>\n    <tr>\n      <th>1</th>\n      <td>QI</td>\n      <td>Production Indices</td>\n      <td>203</td>\n      <td>Spain</td>\n      <td>436</td>\n      <td>Net Production Index Number (2004-2006 = 100)</td>\n      <td>2051</td>\n      <td>Agriculture (PIN)</td>\n      <td>2008</td>\n      <td>2008</td>\n      <td>Int. $</td>\n      <td>100.11</td>\n      <td>Fc</td>\n      <td>Calculated data</td>\n    </tr>\n    <tr>\n      <th>2</th>\n      <td>QI</td>\n      <td>Production Indices</td>\n      <td>203</td>\n      <td>Spain</td>\n      <td>436</td>\n      <td>Net Production Index Number (2004-2006 = 100)</td>\n      <td>2051</td>\n      <td>Agriculture (PIN)</td>\n      <td>2012</td>\n      <td>2012</td>\n      <td>Int. $</td>\n      <td>92.79</td>\n      <td>Fc</td>\n      <td>Calculated data</td>\n    </tr>\n    <tr>\n      <th>3</th>\n      <td>QI</td>\n      <td>Production Indices</td>\n      <td>203</td>\n      <td>Spain</td>\n      <td>436</td>\n      <td>Net Production Index Number (2004-2006 = 100)</td>\n      <td>1717</td>\n      <td>Cereals,Total</td>\n      <td>2007</td>\n      <td>2007</td>\n      <td>Int. $</td>\n      <td>125.24</td>\n      <td>Fc</td>\n      <td>Calculated data</td>\n    </tr>\n    <tr>\n      <th>4</th>\n      <td>QI</td>\n      <td>Production Indices</td>\n      <td>203</td>\n      <td>Spain</td>\n      <td>436</td>\n      <td>Net Production Index Number (2004-2006 = 100)</td>\n      <td>1717</td>\n      <td>Cereals,Total</td>\n      <td>2008</td>\n      <td>2008</td>\n      <td>Int. $</td>\n      <td>122.55</td>\n      <td>Fc</td>\n      <td>Calculated data</td>\n    </tr>\n    <tr>\n      <th>5</th>\n      <td>QI</td>\n      <td>Production Indices</td>\n      <td>203</td>\n      <td>Spain</td>\n      <td>436</td>\n      <td>Net Production Index Number (2004-2006 = 100)</td>\n      <td>1717</td>\n      <td>Cereals,Total</td>\n      <td>2012</td>\n      <td>2012</td>\n      <td>Int. $</td>\n      <td>92.51</td>\n      <td>Fc</td>\n      <td>Calculated data</td>\n    </tr>\n    <tr>\n      <th>6</th>\n      <td>QI</td>\n      <td>Production Indices</td>\n      <td>203</td>\n      <td>Spain</td>\n      <td>436</td>\n      <td>Net Production Index Number (2004-2006 = 100)</td>\n      <td>2041</td>\n      <td>Crops (PIN)</td>\n      <td>2007</td>\n      <td>2007</td>\n      <td>Int. $</td>\n      <td>102.27</td>\n      <td>Fc</td>\n      <td>Calculated data</td>\n    </tr>\n    <tr>\n      <th>7</th>\n      <td>QI</td>\n      <td>Production Indices</td>\n      <td>203</td>\n      <td>Spain</td>\n      <td>436</td>\n      <td>Net Production Index Number (2004-2006 = 100)</td>\n      <td>2041</td>\n      <td>Crops (PIN)</td>\n      <td>2008</td>\n      <td>2008</td>\n      <td>Int. $</td>\n      <td>99.89</td>\n      <td>Fc</td>\n      <td>Calculated data</td>\n    </tr>\n    <tr>\n      <th>8</th>\n      <td>QI</td>\n      <td>Production Indices</td>\n      <td>203</td>\n      <td>Spain</td>\n      <td>436</td>\n      <td>Net Production Index Number (2004-2006 = 100)</td>\n      <td>2041</td>\n      <td>Crops (PIN)</td>\n      <td>2012</td>\n      <td>2012</td>\n      <td>Int. $</td>\n      <td>87.56</td>\n      <td>Fc</td>\n      <td>Calculated data</td>\n    </tr>\n    <tr>\n      <th>9</th>\n      <td>QI</td>\n      <td>Production Indices</td>\n      <td>203</td>\n      <td>Spain</td>\n      <td>436</td>\n      <td>Net Production Index Number (2004-2006 = 100)</td>\n      <td>2054</td>\n      <td>Food (PIN)</td>\n      <td>2007</td>\n      <td>2007</td>\n      <td>Int. $</td>\n      <td>100.54</td>\n      <td>Fc</td>\n      <td>Calculated data</td>\n    </tr>\n    <tr>\n      <th>10</th>\n      <td>QI</td>\n      <td>Production Indices</td>\n      <td>203</td>\n      <td>Spain</td>\n      <td>436</td>\n      <td>Net Production Index Number (2004-2006 = 100)</td>\n      <td>2054</td>\n      <td>Food (PIN)</td>\n      <td>2008</td>\n      <td>2008</td>\n      <td>Int. $</td>\n      <td>100.53</td>\n      <td>Fc</td>\n      <td>Calculated data</td>\n    </tr>\n    <tr>\n      <th>11</th>\n      <td>QI</td>\n      <td>Production Indices</td>\n      <td>203</td>\n      <td>Spain</td>\n      <td>436</td>\n      <td>Net Production Index Number (2004-2006 = 100)</td>\n      <td>2054</td>\n      <td>Food (PIN)</td>\n      <td>2012</td>\n      <td>2012</td>\n      <td>Int. $</td>\n      <td>93.01</td>\n      <td>Fc</td>\n      <td>Calculated data</td>\n    </tr>\n  </tbody>\n</table>\n</div>"
     },
     "metadata": {},
     "execution_count": 82
    }
   ],
   "source": [
    "df2 = pd.read_csv(\"FAOSTAT_Production_Indices_8-10-2020.csv\",encoding=\"ISO-8859-1\",date_parser=\"Year\")  \n",
    "df2"
   ]
  },
  {
   "cell_type": "code",
   "execution_count": 27,
   "metadata": {},
   "outputs": [
    {
     "output_type": "execute_result",
     "data": {
      "text/plain": "     Area               Item  Year   Value\n0   Spain  Agriculture (PIN)  2007  100.22\n1   Spain  Agriculture (PIN)  2008  100.11\n2   Spain  Agriculture (PIN)  2012   92.79\n3   Spain      Cereals,Total  2007  125.24\n4   Spain      Cereals,Total  2008  122.55\n5   Spain      Cereals,Total  2012   92.51\n6   Spain        Crops (PIN)  2007  102.27\n7   Spain        Crops (PIN)  2008   99.89\n8   Spain        Crops (PIN)  2012   87.56\n9   Spain         Food (PIN)  2007  100.54\n10  Spain         Food (PIN)  2008  100.53\n11  Spain         Food (PIN)  2012   93.01",
      "text/html": "<div>\n<style scoped>\n    .dataframe tbody tr th:only-of-type {\n        vertical-align: middle;\n    }\n\n    .dataframe tbody tr th {\n        vertical-align: top;\n    }\n\n    .dataframe thead th {\n        text-align: right;\n    }\n</style>\n<table border=\"1\" class=\"dataframe\">\n  <thead>\n    <tr style=\"text-align: right;\">\n      <th></th>\n      <th>Area</th>\n      <th>Item</th>\n      <th>Year</th>\n      <th>Value</th>\n    </tr>\n  </thead>\n  <tbody>\n    <tr>\n      <th>0</th>\n      <td>Spain</td>\n      <td>Agriculture (PIN)</td>\n      <td>2007</td>\n      <td>100.22</td>\n    </tr>\n    <tr>\n      <th>1</th>\n      <td>Spain</td>\n      <td>Agriculture (PIN)</td>\n      <td>2008</td>\n      <td>100.11</td>\n    </tr>\n    <tr>\n      <th>2</th>\n      <td>Spain</td>\n      <td>Agriculture (PIN)</td>\n      <td>2012</td>\n      <td>92.79</td>\n    </tr>\n    <tr>\n      <th>3</th>\n      <td>Spain</td>\n      <td>Cereals,Total</td>\n      <td>2007</td>\n      <td>125.24</td>\n    </tr>\n    <tr>\n      <th>4</th>\n      <td>Spain</td>\n      <td>Cereals,Total</td>\n      <td>2008</td>\n      <td>122.55</td>\n    </tr>\n    <tr>\n      <th>5</th>\n      <td>Spain</td>\n      <td>Cereals,Total</td>\n      <td>2012</td>\n      <td>92.51</td>\n    </tr>\n    <tr>\n      <th>6</th>\n      <td>Spain</td>\n      <td>Crops (PIN)</td>\n      <td>2007</td>\n      <td>102.27</td>\n    </tr>\n    <tr>\n      <th>7</th>\n      <td>Spain</td>\n      <td>Crops (PIN)</td>\n      <td>2008</td>\n      <td>99.89</td>\n    </tr>\n    <tr>\n      <th>8</th>\n      <td>Spain</td>\n      <td>Crops (PIN)</td>\n      <td>2012</td>\n      <td>87.56</td>\n    </tr>\n    <tr>\n      <th>9</th>\n      <td>Spain</td>\n      <td>Food (PIN)</td>\n      <td>2007</td>\n      <td>100.54</td>\n    </tr>\n    <tr>\n      <th>10</th>\n      <td>Spain</td>\n      <td>Food (PIN)</td>\n      <td>2008</td>\n      <td>100.53</td>\n    </tr>\n    <tr>\n      <th>11</th>\n      <td>Spain</td>\n      <td>Food (PIN)</td>\n      <td>2012</td>\n      <td>93.01</td>\n    </tr>\n  </tbody>\n</table>\n</div>"
     },
     "metadata": {},
     "execution_count": 27
    }
   ],
   "source": [
    "df2 = df2.loc[:,[\"Area\", \"Item\", \"Year\", \"Value\"]]\n",
    "df2"
   ]
  },
  {
   "cell_type": "code",
   "execution_count": 83,
   "metadata": {},
   "outputs": [
    {
     "output_type": "display_data",
     "data": {
      "text/plain": "<Figure size 1440x720 with 1 Axes>",
      "image/svg+xml": "<?xml version=\"1.0\" encoding=\"utf-8\" standalone=\"no\"?>\n<!DOCTYPE svg PUBLIC \"-//W3C//DTD SVG 1.1//EN\"\n  \"http://www.w3.org/Graphics/SVG/1.1/DTD/svg11.dtd\">\n<!-- Created with matplotlib (https://matplotlib.org/) -->\n<svg height=\"622.755932pt\" version=\"1.1\" viewBox=\"0 0 1177.854375 622.755932\" width=\"1177.854375pt\" xmlns=\"http://www.w3.org/2000/svg\" xmlns:xlink=\"http://www.w3.org/1999/xlink\">\n <defs>\n  <style type=\"text/css\">\n*{stroke-linecap:butt;stroke-linejoin:round;}\n  </style>\n </defs>\n <g id=\"figure_1\">\n  <g id=\"patch_1\">\n   <path d=\"M 0 622.755932 \nL 1177.854375 622.755932 \nL 1177.854375 0 \nL 0 0 \nz\n\" style=\"fill:none;\"/>\n  </g>\n  <g id=\"axes_1\">\n   <g id=\"patch_2\">\n    <path d=\"M 54.654375 571.996875 \nL 1170.654375 571.996875 \nL 1170.654375 28.396875 \nL 54.654375 28.396875 \nz\n\" style=\"fill:#ffffff;\"/>\n   </g>\n   <g id=\"patch_3\">\n    <path clip-path=\"url(#pa7def6b197)\" d=\"M 124.404375 571.996875 \nL 263.904375 571.996875 \nL 263.904375 157.709701 \nL 124.404375 157.709701 \nz\n\" style=\"fill:#fcb900;\"/>\n   </g>\n   <g id=\"patch_4\">\n    <path clip-path=\"url(#pa7def6b197)\" d=\"M 403.404375 571.996875 \nL 542.904375 571.996875 \nL 542.904375 54.282589 \nL 403.404375 54.282589 \nz\n\" style=\"fill:#fcb900;\"/>\n   </g>\n   <g id=\"patch_5\">\n    <path clip-path=\"url(#pa7def6b197)\" d=\"M 682.404375 571.996875 \nL 821.904375 571.996875 \nL 821.904375 149.235457 \nL 682.404375 149.235457 \nz\n\" style=\"fill:#fcb900;\"/>\n   </g>\n   <g id=\"patch_6\">\n    <path clip-path=\"url(#pa7def6b197)\" d=\"M 961.404375 571.996875 \nL 1100.904375 571.996875 \nL 1100.904375 156.386892 \nL 961.404375 156.386892 \nz\n\" style=\"fill:#fcb900;\"/>\n   </g>\n   <g id=\"patch_7\">\n    <path clip-path=\"url(#pa7def6b197)\" d=\"M 124.404375 571.996875 \nL 263.904375 571.996875 \nL 263.904375 158.164416 \nL 124.404375 158.164416 \nz\n\" style=\"fill:#c23100;\"/>\n   </g>\n   <g id=\"patch_8\">\n    <path clip-path=\"url(#pa7def6b197)\" d=\"M 403.404375 571.996875 \nL 542.904375 571.996875 \nL 542.904375 65.402451 \nL 403.404375 65.402451 \nz\n\" style=\"fill:#c23100;\"/>\n   </g>\n   <g id=\"patch_9\">\n    <path clip-path=\"url(#pa7def6b197)\" d=\"M 682.404375 571.996875 \nL 821.904375 571.996875 \nL 821.904375 159.073847 \nL 682.404375 159.073847 \nz\n\" style=\"fill:#c23100;\"/>\n   </g>\n   <g id=\"patch_10\">\n    <path clip-path=\"url(#pa7def6b197)\" d=\"M 961.404375 571.996875 \nL 1100.904375 571.996875 \nL 1100.904375 156.42823 \nL 961.404375 156.42823 \nz\n\" style=\"fill:#c23100;\"/>\n   </g>\n   <g id=\"patch_11\">\n    <path clip-path=\"url(#pa7def6b197)\" d=\"M 124.404375 571.996875 \nL 263.904375 571.996875 \nL 263.904375 188.423667 \nL 124.404375 188.423667 \nz\n\" style=\"fill:#e67c00;\"/>\n   </g>\n   <g id=\"patch_12\">\n    <path clip-path=\"url(#pa7def6b197)\" d=\"M 403.404375 571.996875 \nL 542.904375 571.996875 \nL 542.904375 189.581125 \nL 403.404375 189.581125 \nz\n\" style=\"fill:#e67c00;\"/>\n   </g>\n   <g id=\"patch_13\">\n    <path clip-path=\"url(#pa7def6b197)\" d=\"M 682.404375 571.996875 \nL 821.904375 571.996875 \nL 821.904375 210.043323 \nL 682.404375 210.043323 \nz\n\" style=\"fill:#e67c00;\"/>\n   </g>\n   <g id=\"patch_14\">\n    <path clip-path=\"url(#pa7def6b197)\" d=\"M 961.404375 571.996875 \nL 1100.904375 571.996875 \nL 1100.904375 187.514236 \nL 961.404375 187.514236 \nz\n\" style=\"fill:#e67c00;\"/>\n   </g>\n   <g id=\"matplotlib.axis_1\">\n    <g id=\"xtick_1\">\n     <g id=\"line2d_1\">\n      <defs>\n       <path d=\"M 0 0 \nL 0 3.5 \n\" id=\"me09ffddb6d\" style=\"stroke:#000000;stroke-width:0.8;\"/>\n      </defs>\n      <g>\n       <use style=\"stroke:#000000;stroke-width:0.8;\" x=\"194.154375\" xlink:href=\"#me09ffddb6d\" y=\"571.996875\"/>\n      </g>\n     </g>\n     <g id=\"text_1\">\n      <!-- 2 -->\n      <defs>\n       <path d=\"M 19.1875 8.296875 \nL 53.609375 8.296875 \nL 53.609375 0 \nL 7.328125 0 \nL 7.328125 8.296875 \nQ 12.9375 14.109375 22.625 23.890625 \nQ 32.328125 33.6875 34.8125 36.53125 \nQ 39.546875 41.84375 41.421875 45.53125 \nQ 43.3125 49.21875 43.3125 52.78125 \nQ 43.3125 58.59375 39.234375 62.25 \nQ 35.15625 65.921875 28.609375 65.921875 \nQ 23.96875 65.921875 18.8125 64.3125 \nQ 13.671875 62.703125 7.8125 59.421875 \nL 7.8125 69.390625 \nQ 13.765625 71.78125 18.9375 73 \nQ 24.125 74.21875 28.421875 74.21875 \nQ 39.75 74.21875 46.484375 68.546875 \nQ 53.21875 62.890625 53.21875 53.421875 \nQ 53.21875 48.921875 51.53125 44.890625 \nQ 49.859375 40.875 45.40625 35.40625 \nQ 44.1875 33.984375 37.640625 27.21875 \nQ 31.109375 20.453125 19.1875 8.296875 \nz\n\" id=\"DejaVuSans-50\"/>\n      </defs>\n      <g style=\"fill:#5a5034;\" transform=\"translate(193.796402 590.843123)rotate(-45)scale(0.12 -0.12)\">\n       <use xlink:href=\"#DejaVuSans-50\"/>\n      </g>\n     </g>\n    </g>\n    <g id=\"xtick_2\">\n     <g id=\"line2d_2\">\n      <g>\n       <use style=\"stroke:#000000;stroke-width:0.8;\" x=\"473.154375\" xlink:href=\"#me09ffddb6d\" y=\"571.996875\"/>\n      </g>\n     </g>\n     <g id=\"text_2\">\n      <!-- 5 -->\n      <defs>\n       <path d=\"M 10.796875 72.90625 \nL 49.515625 72.90625 \nL 49.515625 64.59375 \nL 19.828125 64.59375 \nL 19.828125 46.734375 \nQ 21.96875 47.46875 24.109375 47.828125 \nQ 26.265625 48.1875 28.421875 48.1875 \nQ 40.625 48.1875 47.75 41.5 \nQ 54.890625 34.8125 54.890625 23.390625 \nQ 54.890625 11.625 47.5625 5.09375 \nQ 40.234375 -1.421875 26.90625 -1.421875 \nQ 22.3125 -1.421875 17.546875 -0.640625 \nQ 12.796875 0.140625 7.71875 1.703125 \nL 7.71875 11.625 \nQ 12.109375 9.234375 16.796875 8.0625 \nQ 21.484375 6.890625 26.703125 6.890625 \nQ 35.15625 6.890625 40.078125 11.328125 \nQ 45.015625 15.765625 45.015625 23.390625 \nQ 45.015625 31 40.078125 35.4375 \nQ 35.15625 39.890625 26.703125 39.890625 \nQ 22.75 39.890625 18.8125 39.015625 \nQ 14.890625 38.140625 10.796875 36.28125 \nz\n\" id=\"DejaVuSans-53\"/>\n      </defs>\n      <g style=\"fill:#5a5034;\" transform=\"translate(472.796402 590.843123)rotate(-45)scale(0.12 -0.12)\">\n       <use xlink:href=\"#DejaVuSans-53\"/>\n      </g>\n     </g>\n    </g>\n    <g id=\"xtick_3\">\n     <g id=\"line2d_3\">\n      <g>\n       <use style=\"stroke:#000000;stroke-width:0.8;\" x=\"752.154375\" xlink:href=\"#me09ffddb6d\" y=\"571.996875\"/>\n      </g>\n     </g>\n     <g id=\"text_3\">\n      <!-- 8 -->\n      <defs>\n       <path d=\"M 31.78125 34.625 \nQ 24.75 34.625 20.71875 30.859375 \nQ 16.703125 27.09375 16.703125 20.515625 \nQ 16.703125 13.921875 20.71875 10.15625 \nQ 24.75 6.390625 31.78125 6.390625 \nQ 38.8125 6.390625 42.859375 10.171875 \nQ 46.921875 13.96875 46.921875 20.515625 \nQ 46.921875 27.09375 42.890625 30.859375 \nQ 38.875 34.625 31.78125 34.625 \nz\nM 21.921875 38.8125 \nQ 15.578125 40.375 12.03125 44.71875 \nQ 8.5 49.078125 8.5 55.328125 \nQ 8.5 64.0625 14.71875 69.140625 \nQ 20.953125 74.21875 31.78125 74.21875 \nQ 42.671875 74.21875 48.875 69.140625 \nQ 55.078125 64.0625 55.078125 55.328125 \nQ 55.078125 49.078125 51.53125 44.71875 \nQ 48 40.375 41.703125 38.8125 \nQ 48.828125 37.15625 52.796875 32.3125 \nQ 56.78125 27.484375 56.78125 20.515625 \nQ 56.78125 9.90625 50.3125 4.234375 \nQ 43.84375 -1.421875 31.78125 -1.421875 \nQ 19.734375 -1.421875 13.25 4.234375 \nQ 6.78125 9.90625 6.78125 20.515625 \nQ 6.78125 27.484375 10.78125 32.3125 \nQ 14.796875 37.15625 21.921875 38.8125 \nz\nM 18.3125 54.390625 \nQ 18.3125 48.734375 21.84375 45.5625 \nQ 25.390625 42.390625 31.78125 42.390625 \nQ 38.140625 42.390625 41.71875 45.5625 \nQ 45.3125 48.734375 45.3125 54.390625 \nQ 45.3125 60.0625 41.71875 63.234375 \nQ 38.140625 66.40625 31.78125 66.40625 \nQ 25.390625 66.40625 21.84375 63.234375 \nQ 18.3125 60.0625 18.3125 54.390625 \nz\n\" id=\"DejaVuSans-56\"/>\n      </defs>\n      <g style=\"fill:#5a5034;\" transform=\"translate(751.796402 590.843123)rotate(-45)scale(0.12 -0.12)\">\n       <use xlink:href=\"#DejaVuSans-56\"/>\n      </g>\n     </g>\n    </g>\n    <g id=\"xtick_4\">\n     <g id=\"line2d_4\">\n      <g>\n       <use style=\"stroke:#000000;stroke-width:0.8;\" x=\"1031.154375\" xlink:href=\"#me09ffddb6d\" y=\"571.996875\"/>\n      </g>\n     </g>\n     <g id=\"text_4\">\n      <!-- 11 -->\n      <defs>\n       <path d=\"M 12.40625 8.296875 \nL 28.515625 8.296875 \nL 28.515625 63.921875 \nL 10.984375 60.40625 \nL 10.984375 69.390625 \nL 28.421875 72.90625 \nL 38.28125 72.90625 \nL 38.28125 8.296875 \nL 54.390625 8.296875 \nL 54.390625 0 \nL 12.40625 0 \nz\n\" id=\"DejaVuSans-49\"/>\n      </defs>\n      <g style=\"fill:#5a5034;\" transform=\"translate(1028.097022 596.241884)rotate(-45)scale(0.12 -0.12)\">\n       <use xlink:href=\"#DejaVuSans-49\"/>\n       <use x=\"63.623047\" xlink:href=\"#DejaVuSans-49\"/>\n      </g>\n     </g>\n    </g>\n    <g id=\"text_5\">\n     <!-- Materia prima producida -->\n     <defs>\n      <path d=\"M 9.8125 72.90625 \nL 24.515625 72.90625 \nL 43.109375 23.296875 \nL 61.8125 72.90625 \nL 76.515625 72.90625 \nL 76.515625 0 \nL 66.890625 0 \nL 66.890625 64.015625 \nL 48.09375 14.015625 \nL 38.1875 14.015625 \nL 19.390625 64.015625 \nL 19.390625 0 \nL 9.8125 0 \nz\n\" id=\"DejaVuSans-77\"/>\n      <path d=\"M 34.28125 27.484375 \nQ 23.390625 27.484375 19.1875 25 \nQ 14.984375 22.515625 14.984375 16.5 \nQ 14.984375 11.71875 18.140625 8.90625 \nQ 21.296875 6.109375 26.703125 6.109375 \nQ 34.1875 6.109375 38.703125 11.40625 \nQ 43.21875 16.703125 43.21875 25.484375 \nL 43.21875 27.484375 \nz\nM 52.203125 31.203125 \nL 52.203125 0 \nL 43.21875 0 \nL 43.21875 8.296875 \nQ 40.140625 3.328125 35.546875 0.953125 \nQ 30.953125 -1.421875 24.3125 -1.421875 \nQ 15.921875 -1.421875 10.953125 3.296875 \nQ 6 8.015625 6 15.921875 \nQ 6 25.140625 12.171875 29.828125 \nQ 18.359375 34.515625 30.609375 34.515625 \nL 43.21875 34.515625 \nL 43.21875 35.40625 \nQ 43.21875 41.609375 39.140625 45 \nQ 35.0625 48.390625 27.6875 48.390625 \nQ 23 48.390625 18.546875 47.265625 \nQ 14.109375 46.140625 10.015625 43.890625 \nL 10.015625 52.203125 \nQ 14.9375 54.109375 19.578125 55.046875 \nQ 24.21875 56 28.609375 56 \nQ 40.484375 56 46.34375 49.84375 \nQ 52.203125 43.703125 52.203125 31.203125 \nz\n\" id=\"DejaVuSans-97\"/>\n      <path d=\"M 18.3125 70.21875 \nL 18.3125 54.6875 \nL 36.8125 54.6875 \nL 36.8125 47.703125 \nL 18.3125 47.703125 \nL 18.3125 18.015625 \nQ 18.3125 11.328125 20.140625 9.421875 \nQ 21.96875 7.515625 27.59375 7.515625 \nL 36.8125 7.515625 \nL 36.8125 0 \nL 27.59375 0 \nQ 17.1875 0 13.234375 3.875 \nQ 9.28125 7.765625 9.28125 18.015625 \nL 9.28125 47.703125 \nL 2.6875 47.703125 \nL 2.6875 54.6875 \nL 9.28125 54.6875 \nL 9.28125 70.21875 \nz\n\" id=\"DejaVuSans-116\"/>\n      <path d=\"M 56.203125 29.59375 \nL 56.203125 25.203125 \nL 14.890625 25.203125 \nQ 15.484375 15.921875 20.484375 11.0625 \nQ 25.484375 6.203125 34.421875 6.203125 \nQ 39.59375 6.203125 44.453125 7.46875 \nQ 49.3125 8.734375 54.109375 11.28125 \nL 54.109375 2.78125 \nQ 49.265625 0.734375 44.1875 -0.34375 \nQ 39.109375 -1.421875 33.890625 -1.421875 \nQ 20.796875 -1.421875 13.15625 6.1875 \nQ 5.515625 13.8125 5.515625 26.8125 \nQ 5.515625 40.234375 12.765625 48.109375 \nQ 20.015625 56 32.328125 56 \nQ 43.359375 56 49.78125 48.890625 \nQ 56.203125 41.796875 56.203125 29.59375 \nz\nM 47.21875 32.234375 \nQ 47.125 39.59375 43.09375 43.984375 \nQ 39.0625 48.390625 32.421875 48.390625 \nQ 24.90625 48.390625 20.390625 44.140625 \nQ 15.875 39.890625 15.1875 32.171875 \nz\n\" id=\"DejaVuSans-101\"/>\n      <path d=\"M 41.109375 46.296875 \nQ 39.59375 47.171875 37.8125 47.578125 \nQ 36.03125 48 33.890625 48 \nQ 26.265625 48 22.1875 43.046875 \nQ 18.109375 38.09375 18.109375 28.8125 \nL 18.109375 0 \nL 9.078125 0 \nL 9.078125 54.6875 \nL 18.109375 54.6875 \nL 18.109375 46.1875 \nQ 20.953125 51.171875 25.484375 53.578125 \nQ 30.03125 56 36.53125 56 \nQ 37.453125 56 38.578125 55.875 \nQ 39.703125 55.765625 41.0625 55.515625 \nz\n\" id=\"DejaVuSans-114\"/>\n      <path d=\"M 9.421875 54.6875 \nL 18.40625 54.6875 \nL 18.40625 0 \nL 9.421875 0 \nz\nM 9.421875 75.984375 \nL 18.40625 75.984375 \nL 18.40625 64.59375 \nL 9.421875 64.59375 \nz\n\" id=\"DejaVuSans-105\"/>\n      <path id=\"DejaVuSans-32\"/>\n      <path d=\"M 18.109375 8.203125 \nL 18.109375 -20.796875 \nL 9.078125 -20.796875 \nL 9.078125 54.6875 \nL 18.109375 54.6875 \nL 18.109375 46.390625 \nQ 20.953125 51.265625 25.265625 53.625 \nQ 29.59375 56 35.59375 56 \nQ 45.5625 56 51.78125 48.09375 \nQ 58.015625 40.1875 58.015625 27.296875 \nQ 58.015625 14.40625 51.78125 6.484375 \nQ 45.5625 -1.421875 35.59375 -1.421875 \nQ 29.59375 -1.421875 25.265625 0.953125 \nQ 20.953125 3.328125 18.109375 8.203125 \nz\nM 48.6875 27.296875 \nQ 48.6875 37.203125 44.609375 42.84375 \nQ 40.53125 48.484375 33.40625 48.484375 \nQ 26.265625 48.484375 22.1875 42.84375 \nQ 18.109375 37.203125 18.109375 27.296875 \nQ 18.109375 17.390625 22.1875 11.75 \nQ 26.265625 6.109375 33.40625 6.109375 \nQ 40.53125 6.109375 44.609375 11.75 \nQ 48.6875 17.390625 48.6875 27.296875 \nz\n\" id=\"DejaVuSans-112\"/>\n      <path d=\"M 52 44.1875 \nQ 55.375 50.25 60.0625 53.125 \nQ 64.75 56 71.09375 56 \nQ 79.640625 56 84.28125 50.015625 \nQ 88.921875 44.046875 88.921875 33.015625 \nL 88.921875 0 \nL 79.890625 0 \nL 79.890625 32.71875 \nQ 79.890625 40.578125 77.09375 44.375 \nQ 74.3125 48.1875 68.609375 48.1875 \nQ 61.625 48.1875 57.5625 43.546875 \nQ 53.515625 38.921875 53.515625 30.90625 \nL 53.515625 0 \nL 44.484375 0 \nL 44.484375 32.71875 \nQ 44.484375 40.625 41.703125 44.40625 \nQ 38.921875 48.1875 33.109375 48.1875 \nQ 26.21875 48.1875 22.15625 43.53125 \nQ 18.109375 38.875 18.109375 30.90625 \nL 18.109375 0 \nL 9.078125 0 \nL 9.078125 54.6875 \nL 18.109375 54.6875 \nL 18.109375 46.1875 \nQ 21.1875 51.21875 25.484375 53.609375 \nQ 29.78125 56 35.6875 56 \nQ 41.65625 56 45.828125 52.96875 \nQ 50 49.953125 52 44.1875 \nz\n\" id=\"DejaVuSans-109\"/>\n      <path d=\"M 30.609375 48.390625 \nQ 23.390625 48.390625 19.1875 42.75 \nQ 14.984375 37.109375 14.984375 27.296875 \nQ 14.984375 17.484375 19.15625 11.84375 \nQ 23.34375 6.203125 30.609375 6.203125 \nQ 37.796875 6.203125 41.984375 11.859375 \nQ 46.1875 17.53125 46.1875 27.296875 \nQ 46.1875 37.015625 41.984375 42.703125 \nQ 37.796875 48.390625 30.609375 48.390625 \nz\nM 30.609375 56 \nQ 42.328125 56 49.015625 48.375 \nQ 55.71875 40.765625 55.71875 27.296875 \nQ 55.71875 13.875 49.015625 6.21875 \nQ 42.328125 -1.421875 30.609375 -1.421875 \nQ 18.84375 -1.421875 12.171875 6.21875 \nQ 5.515625 13.875 5.515625 27.296875 \nQ 5.515625 40.765625 12.171875 48.375 \nQ 18.84375 56 30.609375 56 \nz\n\" id=\"DejaVuSans-111\"/>\n      <path d=\"M 45.40625 46.390625 \nL 45.40625 75.984375 \nL 54.390625 75.984375 \nL 54.390625 0 \nL 45.40625 0 \nL 45.40625 8.203125 \nQ 42.578125 3.328125 38.25 0.953125 \nQ 33.9375 -1.421875 27.875 -1.421875 \nQ 17.96875 -1.421875 11.734375 6.484375 \nQ 5.515625 14.40625 5.515625 27.296875 \nQ 5.515625 40.1875 11.734375 48.09375 \nQ 17.96875 56 27.875 56 \nQ 33.9375 56 38.25 53.625 \nQ 42.578125 51.265625 45.40625 46.390625 \nz\nM 14.796875 27.296875 \nQ 14.796875 17.390625 18.875 11.75 \nQ 22.953125 6.109375 30.078125 6.109375 \nQ 37.203125 6.109375 41.296875 11.75 \nQ 45.40625 17.390625 45.40625 27.296875 \nQ 45.40625 37.203125 41.296875 42.84375 \nQ 37.203125 48.484375 30.078125 48.484375 \nQ 22.953125 48.484375 18.875 42.84375 \nQ 14.796875 37.203125 14.796875 27.296875 \nz\n\" id=\"DejaVuSans-100\"/>\n      <path d=\"M 8.5 21.578125 \nL 8.5 54.6875 \nL 17.484375 54.6875 \nL 17.484375 21.921875 \nQ 17.484375 14.15625 20.5 10.265625 \nQ 23.53125 6.390625 29.59375 6.390625 \nQ 36.859375 6.390625 41.078125 11.03125 \nQ 45.3125 15.671875 45.3125 23.6875 \nL 45.3125 54.6875 \nL 54.296875 54.6875 \nL 54.296875 0 \nL 45.3125 0 \nL 45.3125 8.40625 \nQ 42.046875 3.421875 37.71875 1 \nQ 33.40625 -1.421875 27.6875 -1.421875 \nQ 18.265625 -1.421875 13.375 4.4375 \nQ 8.5 10.296875 8.5 21.578125 \nz\nM 31.109375 56 \nz\n\" id=\"DejaVuSans-117\"/>\n      <path d=\"M 48.78125 52.59375 \nL 48.78125 44.1875 \nQ 44.96875 46.296875 41.140625 47.34375 \nQ 37.3125 48.390625 33.40625 48.390625 \nQ 24.65625 48.390625 19.8125 42.84375 \nQ 14.984375 37.3125 14.984375 27.296875 \nQ 14.984375 17.28125 19.8125 11.734375 \nQ 24.65625 6.203125 33.40625 6.203125 \nQ 37.3125 6.203125 41.140625 7.25 \nQ 44.96875 8.296875 48.78125 10.40625 \nL 48.78125 2.09375 \nQ 45.015625 0.34375 40.984375 -0.53125 \nQ 36.96875 -1.421875 32.421875 -1.421875 \nQ 20.0625 -1.421875 12.78125 6.34375 \nQ 5.515625 14.109375 5.515625 27.296875 \nQ 5.515625 40.671875 12.859375 48.328125 \nQ 20.21875 56 33.015625 56 \nQ 37.15625 56 41.109375 55.140625 \nQ 45.0625 54.296875 48.78125 52.59375 \nz\n\" id=\"DejaVuSans-99\"/>\n     </defs>\n     <g style=\"fill:#138d75;\" transform=\"translate(526.483281 612.644369)scale(0.14 -0.14)\">\n      <use xlink:href=\"#DejaVuSans-77\"/>\n      <use x=\"86.279297\" xlink:href=\"#DejaVuSans-97\"/>\n      <use x=\"147.558594\" xlink:href=\"#DejaVuSans-116\"/>\n      <use x=\"186.767578\" xlink:href=\"#DejaVuSans-101\"/>\n      <use x=\"248.291016\" xlink:href=\"#DejaVuSans-114\"/>\n      <use x=\"289.404297\" xlink:href=\"#DejaVuSans-105\"/>\n      <use x=\"317.1875\" xlink:href=\"#DejaVuSans-97\"/>\n      <use x=\"378.466797\" xlink:href=\"#DejaVuSans-32\"/>\n      <use x=\"410.253906\" xlink:href=\"#DejaVuSans-112\"/>\n      <use x=\"473.730469\" xlink:href=\"#DejaVuSans-114\"/>\n      <use x=\"514.84375\" xlink:href=\"#DejaVuSans-105\"/>\n      <use x=\"542.626953\" xlink:href=\"#DejaVuSans-109\"/>\n      <use x=\"640.039062\" xlink:href=\"#DejaVuSans-97\"/>\n      <use x=\"701.318359\" xlink:href=\"#DejaVuSans-32\"/>\n      <use x=\"733.105469\" xlink:href=\"#DejaVuSans-112\"/>\n      <use x=\"796.582031\" xlink:href=\"#DejaVuSans-114\"/>\n      <use x=\"835.445312\" xlink:href=\"#DejaVuSans-111\"/>\n      <use x=\"896.626953\" xlink:href=\"#DejaVuSans-100\"/>\n      <use x=\"960.103516\" xlink:href=\"#DejaVuSans-117\"/>\n      <use x=\"1023.482422\" xlink:href=\"#DejaVuSans-99\"/>\n      <use x=\"1078.462891\" xlink:href=\"#DejaVuSans-105\"/>\n      <use x=\"1106.246094\" xlink:href=\"#DejaVuSans-100\"/>\n      <use x=\"1169.722656\" xlink:href=\"#DejaVuSans-97\"/>\n     </g>\n    </g>\n   </g>\n   <g id=\"matplotlib.axis_2\">\n    <g id=\"ytick_1\">\n     <g id=\"line2d_5\">\n      <defs>\n       <path d=\"M 0 0 \nL -3.5 0 \n\" id=\"m6a9076cf35\" style=\"stroke:#000000;stroke-width:0.8;\"/>\n      </defs>\n      <g>\n       <use style=\"stroke:#000000;stroke-width:0.8;\" x=\"54.654375\" xlink:href=\"#m6a9076cf35\" y=\"571.996875\"/>\n      </g>\n     </g>\n     <g id=\"text_6\">\n      <!-- 0 -->\n      <defs>\n       <path d=\"M 31.78125 66.40625 \nQ 24.171875 66.40625 20.328125 58.90625 \nQ 16.5 51.421875 16.5 36.375 \nQ 16.5 21.390625 20.328125 13.890625 \nQ 24.171875 6.390625 31.78125 6.390625 \nQ 39.453125 6.390625 43.28125 13.890625 \nQ 47.125 21.390625 47.125 36.375 \nQ 47.125 51.421875 43.28125 58.90625 \nQ 39.453125 66.40625 31.78125 66.40625 \nz\nM 31.78125 74.21875 \nQ 44.046875 74.21875 50.515625 64.515625 \nQ 56.984375 54.828125 56.984375 36.375 \nQ 56.984375 17.96875 50.515625 8.265625 \nQ 44.046875 -1.421875 31.78125 -1.421875 \nQ 19.53125 -1.421875 13.0625 8.265625 \nQ 6.59375 17.96875 6.59375 36.375 \nQ 6.59375 54.828125 13.0625 64.515625 \nQ 19.53125 74.21875 31.78125 74.21875 \nz\n\" id=\"DejaVuSans-48\"/>\n      </defs>\n      <g style=\"fill:#5a5034;\" transform=\"translate(40.019375 576.555938)scale(0.12 -0.12)\">\n       <use xlink:href=\"#DejaVuSans-48\"/>\n      </g>\n     </g>\n    </g>\n    <g id=\"ytick_2\">\n     <g id=\"line2d_6\">\n      <g>\n       <use style=\"stroke:#000000;stroke-width:0.8;\" x=\"54.654375\" xlink:href=\"#m6a9076cf35\" y=\"489.321326\"/>\n      </g>\n     </g>\n     <g id=\"text_7\">\n      <!-- 20 -->\n      <g style=\"fill:#5a5034;\" transform=\"translate(32.384375 493.880389)scale(0.12 -0.12)\">\n       <use xlink:href=\"#DejaVuSans-50\"/>\n       <use x=\"63.623047\" xlink:href=\"#DejaVuSans-48\"/>\n      </g>\n     </g>\n    </g>\n    <g id=\"ytick_3\">\n     <g id=\"line2d_7\">\n      <g>\n       <use style=\"stroke:#000000;stroke-width:0.8;\" x=\"54.654375\" xlink:href=\"#m6a9076cf35\" y=\"406.645778\"/>\n      </g>\n     </g>\n     <g id=\"text_8\">\n      <!-- 40 -->\n      <defs>\n       <path d=\"M 37.796875 64.3125 \nL 12.890625 25.390625 \nL 37.796875 25.390625 \nz\nM 35.203125 72.90625 \nL 47.609375 72.90625 \nL 47.609375 25.390625 \nL 58.015625 25.390625 \nL 58.015625 17.1875 \nL 47.609375 17.1875 \nL 47.609375 0 \nL 37.796875 0 \nL 37.796875 17.1875 \nL 4.890625 17.1875 \nL 4.890625 26.703125 \nz\n\" id=\"DejaVuSans-52\"/>\n      </defs>\n      <g style=\"fill:#5a5034;\" transform=\"translate(32.384375 411.20484)scale(0.12 -0.12)\">\n       <use xlink:href=\"#DejaVuSans-52\"/>\n       <use x=\"63.623047\" xlink:href=\"#DejaVuSans-48\"/>\n      </g>\n     </g>\n    </g>\n    <g id=\"ytick_4\">\n     <g id=\"line2d_8\">\n      <g>\n       <use style=\"stroke:#000000;stroke-width:0.8;\" x=\"54.654375\" xlink:href=\"#m6a9076cf35\" y=\"323.970229\"/>\n      </g>\n     </g>\n     <g id=\"text_9\">\n      <!-- 60 -->\n      <defs>\n       <path d=\"M 33.015625 40.375 \nQ 26.375 40.375 22.484375 35.828125 \nQ 18.609375 31.296875 18.609375 23.390625 \nQ 18.609375 15.53125 22.484375 10.953125 \nQ 26.375 6.390625 33.015625 6.390625 \nQ 39.65625 6.390625 43.53125 10.953125 \nQ 47.40625 15.53125 47.40625 23.390625 \nQ 47.40625 31.296875 43.53125 35.828125 \nQ 39.65625 40.375 33.015625 40.375 \nz\nM 52.59375 71.296875 \nL 52.59375 62.3125 \nQ 48.875 64.0625 45.09375 64.984375 \nQ 41.3125 65.921875 37.59375 65.921875 \nQ 27.828125 65.921875 22.671875 59.328125 \nQ 17.53125 52.734375 16.796875 39.40625 \nQ 19.671875 43.65625 24.015625 45.921875 \nQ 28.375 48.1875 33.59375 48.1875 \nQ 44.578125 48.1875 50.953125 41.515625 \nQ 57.328125 34.859375 57.328125 23.390625 \nQ 57.328125 12.15625 50.6875 5.359375 \nQ 44.046875 -1.421875 33.015625 -1.421875 \nQ 20.359375 -1.421875 13.671875 8.265625 \nQ 6.984375 17.96875 6.984375 36.375 \nQ 6.984375 53.65625 15.1875 63.9375 \nQ 23.390625 74.21875 37.203125 74.21875 \nQ 40.921875 74.21875 44.703125 73.484375 \nQ 48.484375 72.75 52.59375 71.296875 \nz\n\" id=\"DejaVuSans-54\"/>\n      </defs>\n      <g style=\"fill:#5a5034;\" transform=\"translate(32.384375 328.529292)scale(0.12 -0.12)\">\n       <use xlink:href=\"#DejaVuSans-54\"/>\n       <use x=\"63.623047\" xlink:href=\"#DejaVuSans-48\"/>\n      </g>\n     </g>\n    </g>\n    <g id=\"ytick_5\">\n     <g id=\"line2d_9\">\n      <g>\n       <use style=\"stroke:#000000;stroke-width:0.8;\" x=\"54.654375\" xlink:href=\"#m6a9076cf35\" y=\"241.29468\"/>\n      </g>\n     </g>\n     <g id=\"text_10\">\n      <!-- 80 -->\n      <g style=\"fill:#5a5034;\" transform=\"translate(32.384375 245.853743)scale(0.12 -0.12)\">\n       <use xlink:href=\"#DejaVuSans-56\"/>\n       <use x=\"63.623047\" xlink:href=\"#DejaVuSans-48\"/>\n      </g>\n     </g>\n    </g>\n    <g id=\"ytick_6\">\n     <g id=\"line2d_10\">\n      <g>\n       <use style=\"stroke:#000000;stroke-width:0.8;\" x=\"54.654375\" xlink:href=\"#m6a9076cf35\" y=\"158.619132\"/>\n      </g>\n     </g>\n     <g id=\"text_11\">\n      <!-- 100 -->\n      <g style=\"fill:#5a5034;\" transform=\"translate(24.749375 163.178194)scale(0.12 -0.12)\">\n       <use xlink:href=\"#DejaVuSans-49\"/>\n       <use x=\"63.623047\" xlink:href=\"#DejaVuSans-48\"/>\n       <use x=\"127.246094\" xlink:href=\"#DejaVuSans-48\"/>\n      </g>\n     </g>\n    </g>\n    <g id=\"ytick_7\">\n     <g id=\"line2d_11\">\n      <g>\n       <use style=\"stroke:#000000;stroke-width:0.8;\" x=\"54.654375\" xlink:href=\"#m6a9076cf35\" y=\"75.943583\"/>\n      </g>\n     </g>\n     <g id=\"text_12\">\n      <!-- 120 -->\n      <g style=\"fill:#5a5034;\" transform=\"translate(24.749375 80.502646)scale(0.12 -0.12)\">\n       <use xlink:href=\"#DejaVuSans-49\"/>\n       <use x=\"63.623047\" xlink:href=\"#DejaVuSans-50\"/>\n       <use x=\"127.246094\" xlink:href=\"#DejaVuSans-48\"/>\n      </g>\n     </g>\n    </g>\n    <g id=\"text_13\">\n     <!-- Producción en toneladas -->\n     <defs>\n      <path d=\"M 19.671875 64.796875 \nL 19.671875 37.40625 \nL 32.078125 37.40625 \nQ 38.96875 37.40625 42.71875 40.96875 \nQ 46.484375 44.53125 46.484375 51.125 \nQ 46.484375 57.671875 42.71875 61.234375 \nQ 38.96875 64.796875 32.078125 64.796875 \nz\nM 9.8125 72.90625 \nL 32.078125 72.90625 \nQ 44.34375 72.90625 50.609375 67.359375 \nQ 56.890625 61.8125 56.890625 51.125 \nQ 56.890625 40.328125 50.609375 34.8125 \nQ 44.34375 29.296875 32.078125 29.296875 \nL 19.671875 29.296875 \nL 19.671875 0 \nL 9.8125 0 \nz\n\" id=\"DejaVuSans-80\"/>\n      <path d=\"M 30.609375 48.390625 \nQ 23.390625 48.390625 19.1875 42.75 \nQ 14.984375 37.109375 14.984375 27.296875 \nQ 14.984375 17.484375 19.15625 11.84375 \nQ 23.34375 6.203125 30.609375 6.203125 \nQ 37.796875 6.203125 41.984375 11.859375 \nQ 46.1875 17.53125 46.1875 27.296875 \nQ 46.1875 37.015625 41.984375 42.703125 \nQ 37.796875 48.390625 30.609375 48.390625 \nz\nM 30.609375 56 \nQ 42.328125 56 49.015625 48.375 \nQ 55.71875 40.765625 55.71875 27.296875 \nQ 55.71875 13.875 49.015625 6.21875 \nQ 42.328125 -1.421875 30.609375 -1.421875 \nQ 18.84375 -1.421875 12.171875 6.21875 \nQ 5.515625 13.875 5.515625 27.296875 \nQ 5.515625 40.765625 12.171875 48.375 \nQ 18.84375 56 30.609375 56 \nz\nM 37.40625 79.984375 \nL 47.125 79.984375 \nL 31.21875 61.625 \nL 23.734375 61.625 \nz\n\" id=\"DejaVuSans-243\"/>\n      <path d=\"M 54.890625 33.015625 \nL 54.890625 0 \nL 45.90625 0 \nL 45.90625 32.71875 \nQ 45.90625 40.484375 42.875 44.328125 \nQ 39.84375 48.1875 33.796875 48.1875 \nQ 26.515625 48.1875 22.3125 43.546875 \nQ 18.109375 38.921875 18.109375 30.90625 \nL 18.109375 0 \nL 9.078125 0 \nL 9.078125 54.6875 \nL 18.109375 54.6875 \nL 18.109375 46.1875 \nQ 21.34375 51.125 25.703125 53.5625 \nQ 30.078125 56 35.796875 56 \nQ 45.21875 56 50.046875 50.171875 \nQ 54.890625 44.34375 54.890625 33.015625 \nz\n\" id=\"DejaVuSans-110\"/>\n      <path d=\"M 9.421875 75.984375 \nL 18.40625 75.984375 \nL 18.40625 0 \nL 9.421875 0 \nz\n\" id=\"DejaVuSans-108\"/>\n      <path d=\"M 44.28125 53.078125 \nL 44.28125 44.578125 \nQ 40.484375 46.53125 36.375 47.5 \nQ 32.28125 48.484375 27.875 48.484375 \nQ 21.1875 48.484375 17.84375 46.4375 \nQ 14.5 44.390625 14.5 40.28125 \nQ 14.5 37.15625 16.890625 35.375 \nQ 19.28125 33.59375 26.515625 31.984375 \nL 29.59375 31.296875 \nQ 39.15625 29.25 43.1875 25.515625 \nQ 47.21875 21.78125 47.21875 15.09375 \nQ 47.21875 7.46875 41.1875 3.015625 \nQ 35.15625 -1.421875 24.609375 -1.421875 \nQ 20.21875 -1.421875 15.453125 -0.5625 \nQ 10.6875 0.296875 5.421875 2 \nL 5.421875 11.28125 \nQ 10.40625 8.6875 15.234375 7.390625 \nQ 20.0625 6.109375 24.8125 6.109375 \nQ 31.15625 6.109375 34.5625 8.28125 \nQ 37.984375 10.453125 37.984375 14.40625 \nQ 37.984375 18.0625 35.515625 20.015625 \nQ 33.0625 21.96875 24.703125 23.78125 \nL 21.578125 24.515625 \nQ 13.234375 26.265625 9.515625 29.90625 \nQ 5.8125 33.546875 5.8125 39.890625 \nQ 5.8125 47.609375 11.28125 51.796875 \nQ 16.75 56 26.8125 56 \nQ 31.78125 56 36.171875 55.265625 \nQ 40.578125 54.546875 44.28125 53.078125 \nz\n\" id=\"DejaVuSans-115\"/>\n     </defs>\n     <g style=\"fill:#8e44ad;\" transform=\"translate(17.837813 386.118594)rotate(-90)scale(0.14 -0.14)\">\n      <use xlink:href=\"#DejaVuSans-80\"/>\n      <use x=\"58.552734\" xlink:href=\"#DejaVuSans-114\"/>\n      <use x=\"97.416016\" xlink:href=\"#DejaVuSans-111\"/>\n      <use x=\"158.597656\" xlink:href=\"#DejaVuSans-100\"/>\n      <use x=\"222.074219\" xlink:href=\"#DejaVuSans-117\"/>\n      <use x=\"285.453125\" xlink:href=\"#DejaVuSans-99\"/>\n      <use x=\"340.433594\" xlink:href=\"#DejaVuSans-99\"/>\n      <use x=\"395.414062\" xlink:href=\"#DejaVuSans-105\"/>\n      <use x=\"423.197266\" xlink:href=\"#DejaVuSans-243\"/>\n      <use x=\"484.378906\" xlink:href=\"#DejaVuSans-110\"/>\n      <use x=\"547.757812\" xlink:href=\"#DejaVuSans-32\"/>\n      <use x=\"579.544922\" xlink:href=\"#DejaVuSans-101\"/>\n      <use x=\"641.068359\" xlink:href=\"#DejaVuSans-110\"/>\n      <use x=\"704.447266\" xlink:href=\"#DejaVuSans-32\"/>\n      <use x=\"736.234375\" xlink:href=\"#DejaVuSans-116\"/>\n      <use x=\"775.443359\" xlink:href=\"#DejaVuSans-111\"/>\n      <use x=\"836.625\" xlink:href=\"#DejaVuSans-110\"/>\n      <use x=\"900.003906\" xlink:href=\"#DejaVuSans-101\"/>\n      <use x=\"961.527344\" xlink:href=\"#DejaVuSans-108\"/>\n      <use x=\"989.310547\" xlink:href=\"#DejaVuSans-97\"/>\n      <use x=\"1050.589844\" xlink:href=\"#DejaVuSans-100\"/>\n      <use x=\"1114.066406\" xlink:href=\"#DejaVuSans-97\"/>\n      <use x=\"1175.345703\" xlink:href=\"#DejaVuSans-115\"/>\n     </g>\n    </g>\n   </g>\n   <g id=\"patch_15\">\n    <path d=\"M 54.654375 571.996875 \nL 54.654375 28.396875 \n\" style=\"fill:none;stroke:#000000;stroke-linecap:square;stroke-linejoin:miter;stroke-width:0.8;\"/>\n   </g>\n   <g id=\"patch_16\">\n    <path d=\"M 1170.654375 571.996875 \nL 1170.654375 28.396875 \n\" style=\"fill:none;stroke:#000000;stroke-linecap:square;stroke-linejoin:miter;stroke-width:0.8;\"/>\n   </g>\n   <g id=\"patch_17\">\n    <path d=\"M 54.654375 571.996875 \nL 1170.654375 571.996875 \n\" style=\"fill:none;stroke:#000000;stroke-linecap:square;stroke-linejoin:miter;stroke-width:0.8;\"/>\n   </g>\n   <g id=\"patch_18\">\n    <path d=\"M 54.654375 28.396875 \nL 1170.654375 28.396875 \n\" style=\"fill:none;stroke:#000000;stroke-linecap:square;stroke-linejoin:miter;stroke-width:0.8;\"/>\n   </g>\n   <g id=\"text_14\">\n    <!-- PRODUCCIÓN EN ESPAÑA  -->\n    <defs>\n     <path d=\"M 44.390625 34.1875 \nQ 47.5625 33.109375 50.5625 29.59375 \nQ 53.5625 26.078125 56.59375 19.921875 \nL 66.609375 0 \nL 56 0 \nL 46.6875 18.703125 \nQ 43.0625 26.03125 39.671875 28.421875 \nQ 36.28125 30.8125 30.421875 30.8125 \nL 19.671875 30.8125 \nL 19.671875 0 \nL 9.8125 0 \nL 9.8125 72.90625 \nL 32.078125 72.90625 \nQ 44.578125 72.90625 50.734375 67.671875 \nQ 56.890625 62.453125 56.890625 51.90625 \nQ 56.890625 45.015625 53.6875 40.46875 \nQ 50.484375 35.9375 44.390625 34.1875 \nz\nM 19.671875 64.796875 \nL 19.671875 38.921875 \nL 32.078125 38.921875 \nQ 39.203125 38.921875 42.84375 42.21875 \nQ 46.484375 45.515625 46.484375 51.90625 \nQ 46.484375 58.296875 42.84375 61.546875 \nQ 39.203125 64.796875 32.078125 64.796875 \nz\n\" id=\"DejaVuSans-82\"/>\n     <path d=\"M 39.40625 66.21875 \nQ 28.65625 66.21875 22.328125 58.203125 \nQ 16.015625 50.203125 16.015625 36.375 \nQ 16.015625 22.609375 22.328125 14.59375 \nQ 28.65625 6.59375 39.40625 6.59375 \nQ 50.140625 6.59375 56.421875 14.59375 \nQ 62.703125 22.609375 62.703125 36.375 \nQ 62.703125 50.203125 56.421875 58.203125 \nQ 50.140625 66.21875 39.40625 66.21875 \nz\nM 39.40625 74.21875 \nQ 54.734375 74.21875 63.90625 63.9375 \nQ 73.09375 53.65625 73.09375 36.375 \nQ 73.09375 19.140625 63.90625 8.859375 \nQ 54.734375 -1.421875 39.40625 -1.421875 \nQ 24.03125 -1.421875 14.8125 8.828125 \nQ 5.609375 19.09375 5.609375 36.375 \nQ 5.609375 53.65625 14.8125 63.9375 \nQ 24.03125 74.21875 39.40625 74.21875 \nz\n\" id=\"DejaVuSans-79\"/>\n     <path d=\"M 19.671875 64.796875 \nL 19.671875 8.109375 \nL 31.59375 8.109375 \nQ 46.6875 8.109375 53.6875 14.9375 \nQ 60.6875 21.78125 60.6875 36.53125 \nQ 60.6875 51.171875 53.6875 57.984375 \nQ 46.6875 64.796875 31.59375 64.796875 \nz\nM 9.8125 72.90625 \nL 30.078125 72.90625 \nQ 51.265625 72.90625 61.171875 64.09375 \nQ 71.09375 55.28125 71.09375 36.53125 \nQ 71.09375 17.671875 61.125 8.828125 \nQ 51.171875 0 30.078125 0 \nL 9.8125 0 \nz\n\" id=\"DejaVuSans-68\"/>\n     <path d=\"M 8.6875 72.90625 \nL 18.609375 72.90625 \nL 18.609375 28.609375 \nQ 18.609375 16.890625 22.84375 11.734375 \nQ 27.09375 6.59375 36.625 6.59375 \nQ 46.09375 6.59375 50.34375 11.734375 \nQ 54.59375 16.890625 54.59375 28.609375 \nL 54.59375 72.90625 \nL 64.5 72.90625 \nL 64.5 27.390625 \nQ 64.5 13.140625 57.4375 5.859375 \nQ 50.390625 -1.421875 36.625 -1.421875 \nQ 22.796875 -1.421875 15.734375 5.859375 \nQ 8.6875 13.140625 8.6875 27.390625 \nz\n\" id=\"DejaVuSans-85\"/>\n     <path d=\"M 64.40625 67.28125 \nL 64.40625 56.890625 \nQ 59.421875 61.53125 53.78125 63.8125 \nQ 48.140625 66.109375 41.796875 66.109375 \nQ 29.296875 66.109375 22.65625 58.46875 \nQ 16.015625 50.828125 16.015625 36.375 \nQ 16.015625 21.96875 22.65625 14.328125 \nQ 29.296875 6.6875 41.796875 6.6875 \nQ 48.140625 6.6875 53.78125 8.984375 \nQ 59.421875 11.28125 64.40625 15.921875 \nL 64.40625 5.609375 \nQ 59.234375 2.09375 53.4375 0.328125 \nQ 47.65625 -1.421875 41.21875 -1.421875 \nQ 24.65625 -1.421875 15.125 8.703125 \nQ 5.609375 18.84375 5.609375 36.375 \nQ 5.609375 53.953125 15.125 64.078125 \nQ 24.65625 74.21875 41.21875 74.21875 \nQ 47.75 74.21875 53.53125 72.484375 \nQ 59.328125 70.75 64.40625 67.28125 \nz\n\" id=\"DejaVuSans-67\"/>\n     <path d=\"M 9.8125 72.90625 \nL 19.671875 72.90625 \nL 19.671875 0 \nL 9.8125 0 \nz\n\" id=\"DejaVuSans-73\"/>\n     <path d=\"M 39.40625 66.21875 \nQ 28.65625 66.21875 22.328125 58.203125 \nQ 16.015625 50.203125 16.015625 36.375 \nQ 16.015625 22.609375 22.328125 14.59375 \nQ 28.65625 6.59375 39.40625 6.59375 \nQ 50.140625 6.59375 56.421875 14.59375 \nQ 62.703125 22.609375 62.703125 36.375 \nQ 62.703125 50.203125 56.421875 58.203125 \nQ 50.140625 66.21875 39.40625 66.21875 \nz\nM 39.40625 74.21875 \nQ 54.734375 74.21875 63.90625 63.9375 \nQ 73.09375 53.65625 73.09375 36.375 \nQ 73.09375 19.140625 63.90625 8.859375 \nQ 54.734375 -1.421875 39.40625 -1.421875 \nQ 24.03125 -1.421875 14.8125 8.828125 \nQ 5.609375 19.09375 5.609375 36.375 \nQ 5.609375 53.65625 14.8125 63.9375 \nQ 24.03125 74.21875 39.40625 74.21875 \nz\nM 42.0625 92.515625 \nL 51.09375 92.515625 \nL 39.96875 79.625 \nL 32.484375 79.625 \nz\n\" id=\"DejaVuSans-211\"/>\n     <path d=\"M 9.8125 72.90625 \nL 23.09375 72.90625 \nL 55.421875 11.921875 \nL 55.421875 72.90625 \nL 64.984375 72.90625 \nL 64.984375 0 \nL 51.703125 0 \nL 19.390625 60.984375 \nL 19.390625 0 \nL 9.8125 0 \nz\n\" id=\"DejaVuSans-78\"/>\n     <path d=\"M 9.8125 72.90625 \nL 55.90625 72.90625 \nL 55.90625 64.59375 \nL 19.671875 64.59375 \nL 19.671875 43.015625 \nL 54.390625 43.015625 \nL 54.390625 34.71875 \nL 19.671875 34.71875 \nL 19.671875 8.296875 \nL 56.78125 8.296875 \nL 56.78125 0 \nL 9.8125 0 \nz\n\" id=\"DejaVuSans-69\"/>\n     <path d=\"M 53.515625 70.515625 \nL 53.515625 60.890625 \nQ 47.90625 63.578125 42.921875 64.890625 \nQ 37.9375 66.21875 33.296875 66.21875 \nQ 25.25 66.21875 20.875 63.09375 \nQ 16.5 59.96875 16.5 54.203125 \nQ 16.5 49.359375 19.40625 46.890625 \nQ 22.3125 44.4375 30.421875 42.921875 \nL 36.375 41.703125 \nQ 47.40625 39.59375 52.65625 34.296875 \nQ 57.90625 29 57.90625 20.125 \nQ 57.90625 9.515625 50.796875 4.046875 \nQ 43.703125 -1.421875 29.984375 -1.421875 \nQ 24.8125 -1.421875 18.96875 -0.25 \nQ 13.140625 0.921875 6.890625 3.21875 \nL 6.890625 13.375 \nQ 12.890625 10.015625 18.65625 8.296875 \nQ 24.421875 6.59375 29.984375 6.59375 \nQ 38.421875 6.59375 43.015625 9.90625 \nQ 47.609375 13.234375 47.609375 19.390625 \nQ 47.609375 24.75 44.3125 27.78125 \nQ 41.015625 30.8125 33.5 32.328125 \nL 27.484375 33.5 \nQ 16.453125 35.6875 11.515625 40.375 \nQ 6.59375 45.0625 6.59375 53.421875 \nQ 6.59375 63.09375 13.40625 68.65625 \nQ 20.21875 74.21875 32.171875 74.21875 \nQ 37.3125 74.21875 42.625 73.28125 \nQ 47.953125 72.359375 53.515625 70.515625 \nz\n\" id=\"DejaVuSans-83\"/>\n     <path d=\"M 34.1875 63.1875 \nL 20.796875 26.90625 \nL 47.609375 26.90625 \nz\nM 28.609375 72.90625 \nL 39.796875 72.90625 \nL 67.578125 0 \nL 57.328125 0 \nL 50.6875 18.703125 \nL 17.828125 18.703125 \nL 11.1875 0 \nL 0.78125 0 \nz\n\" id=\"DejaVuSans-65\"/>\n     <path d=\"M 9.8125 72.90625 \nL 23.09375 72.90625 \nL 55.421875 11.921875 \nL 55.421875 72.90625 \nL 64.984375 72.90625 \nL 64.984375 0 \nL 51.703125 0 \nL 19.390625 60.984375 \nL 19.390625 0 \nL 9.8125 0 \nz\nM 37.1875 83.28125 \nL 34.390625 84.890625 \nQ 33.171875 85.578125 32.40625 85.84375 \nQ 31.65625 86.109375 31.078125 86.109375 \nQ 29.3125 86.109375 28.328125 84.890625 \nQ 27.359375 83.671875 27.359375 81.484375 \nL 27.359375 81.1875 \nL 21.265625 81.1875 \nQ 21.265625 86.109375 23.78125 88.984375 \nQ 26.296875 91.875 30.484375 91.875 \nQ 32.25 91.875 33.734375 91.484375 \nQ 35.234375 91.09375 37.578125 89.78125 \nL 40.359375 88.3125 \nQ 41.484375 87.671875 42.3125 87.375 \nQ 43.140625 87.09375 43.875 87.09375 \nQ 45.4375 87.09375 46.40625 88.328125 \nQ 47.390625 89.578125 47.390625 91.578125 \nL 47.390625 91.875 \nL 53.484375 91.875 \nQ 53.390625 87 50.875 84.09375 \nQ 48.359375 81.1875 44.265625 81.1875 \nQ 42.59375 81.1875 41.15625 81.578125 \nQ 39.71875 81.96875 37.1875 83.28125 \nz\n\" id=\"DejaVuSans-209\"/>\n    </defs>\n    <g style=\"fill:#8e44ad;\" transform=\"translate(481.960625 22.396875)scale(0.2 -0.2)\">\n     <use xlink:href=\"#DejaVuSans-80\"/>\n     <use x=\"60.302734\" xlink:href=\"#DejaVuSans-82\"/>\n     <use x=\"129.785156\" xlink:href=\"#DejaVuSans-79\"/>\n     <use x=\"208.496094\" xlink:href=\"#DejaVuSans-68\"/>\n     <use x=\"285.498047\" xlink:href=\"#DejaVuSans-85\"/>\n     <use x=\"358.691406\" xlink:href=\"#DejaVuSans-67\"/>\n     <use x=\"428.515625\" xlink:href=\"#DejaVuSans-67\"/>\n     <use x=\"498.339844\" xlink:href=\"#DejaVuSans-73\"/>\n     <use x=\"527.832031\" xlink:href=\"#DejaVuSans-211\"/>\n     <use x=\"606.542969\" xlink:href=\"#DejaVuSans-78\"/>\n     <use x=\"681.347656\" xlink:href=\"#DejaVuSans-32\"/>\n     <use x=\"713.134766\" xlink:href=\"#DejaVuSans-69\"/>\n     <use x=\"776.318359\" xlink:href=\"#DejaVuSans-78\"/>\n     <use x=\"851.123047\" xlink:href=\"#DejaVuSans-32\"/>\n     <use x=\"882.910156\" xlink:href=\"#DejaVuSans-69\"/>\n     <use x=\"946.09375\" xlink:href=\"#DejaVuSans-83\"/>\n     <use x=\"1009.570312\" xlink:href=\"#DejaVuSans-80\"/>\n     <use x=\"1063.498047\" xlink:href=\"#DejaVuSans-65\"/>\n     <use x=\"1131.90625\" xlink:href=\"#DejaVuSans-209\"/>\n     <use x=\"1206.710938\" xlink:href=\"#DejaVuSans-65\"/>\n     <use x=\"1275.119141\" xlink:href=\"#DejaVuSans-32\"/>\n    </g>\n   </g>\n   <g id=\"legend_1\">\n    <g id=\"patch_19\">\n     <path d=\"M 1072.737188 80.43125 \nL 1163.654375 80.43125 \nQ 1165.654375 80.43125 1165.654375 78.43125 \nL 1165.654375 35.396875 \nQ 1165.654375 33.396875 1163.654375 33.396875 \nL 1072.737188 33.396875 \nQ 1070.737188 33.396875 1070.737188 35.396875 \nL 1070.737188 78.43125 \nQ 1070.737188 80.43125 1072.737188 80.43125 \nz\n\" style=\"fill:#ffffff;opacity:0.8;stroke:#cccccc;stroke-linejoin:miter;\"/>\n    </g>\n    <g id=\"patch_20\">\n     <path d=\"M 1074.737188 44.995312 \nL 1094.737188 44.995312 \nL 1094.737188 37.995312 \nL 1074.737188 37.995312 \nz\n\" style=\"fill:#fcb900;\"/>\n    </g>\n    <g id=\"text_15\">\n     <!-- Precio 2007 -->\n     <defs>\n      <path d=\"M 8.203125 72.90625 \nL 55.078125 72.90625 \nL 55.078125 68.703125 \nL 28.609375 0 \nL 18.3125 0 \nL 43.21875 64.59375 \nL 8.203125 64.59375 \nz\n\" id=\"DejaVuSans-55\"/>\n     </defs>\n     <g transform=\"translate(1102.737188 44.995312)scale(0.1 -0.1)\">\n      <use xlink:href=\"#DejaVuSans-80\"/>\n      <use x=\"58.552734\" xlink:href=\"#DejaVuSans-114\"/>\n      <use x=\"97.416016\" xlink:href=\"#DejaVuSans-101\"/>\n      <use x=\"158.939453\" xlink:href=\"#DejaVuSans-99\"/>\n      <use x=\"213.919922\" xlink:href=\"#DejaVuSans-105\"/>\n      <use x=\"241.703125\" xlink:href=\"#DejaVuSans-111\"/>\n      <use x=\"302.884766\" xlink:href=\"#DejaVuSans-32\"/>\n      <use x=\"334.671875\" xlink:href=\"#DejaVuSans-50\"/>\n      <use x=\"398.294922\" xlink:href=\"#DejaVuSans-48\"/>\n      <use x=\"461.917969\" xlink:href=\"#DejaVuSans-48\"/>\n      <use x=\"525.541016\" xlink:href=\"#DejaVuSans-55\"/>\n     </g>\n    </g>\n    <g id=\"patch_21\">\n     <path d=\"M 1074.737188 59.673437 \nL 1094.737188 59.673437 \nL 1094.737188 52.673437 \nL 1074.737188 52.673437 \nz\n\" style=\"fill:#c23100;\"/>\n    </g>\n    <g id=\"text_16\">\n     <!-- Precio 2008 -->\n     <g transform=\"translate(1102.737188 59.673437)scale(0.1 -0.1)\">\n      <use xlink:href=\"#DejaVuSans-80\"/>\n      <use x=\"58.552734\" xlink:href=\"#DejaVuSans-114\"/>\n      <use x=\"97.416016\" xlink:href=\"#DejaVuSans-101\"/>\n      <use x=\"158.939453\" xlink:href=\"#DejaVuSans-99\"/>\n      <use x=\"213.919922\" xlink:href=\"#DejaVuSans-105\"/>\n      <use x=\"241.703125\" xlink:href=\"#DejaVuSans-111\"/>\n      <use x=\"302.884766\" xlink:href=\"#DejaVuSans-32\"/>\n      <use x=\"334.671875\" xlink:href=\"#DejaVuSans-50\"/>\n      <use x=\"398.294922\" xlink:href=\"#DejaVuSans-48\"/>\n      <use x=\"461.917969\" xlink:href=\"#DejaVuSans-48\"/>\n      <use x=\"525.541016\" xlink:href=\"#DejaVuSans-56\"/>\n     </g>\n    </g>\n    <g id=\"patch_22\">\n     <path d=\"M 1074.737188 74.351562 \nL 1094.737188 74.351562 \nL 1094.737188 67.351562 \nL 1074.737188 67.351562 \nz\n\" style=\"fill:#e67c00;\"/>\n    </g>\n    <g id=\"text_17\">\n     <!-- Precio 2012 -->\n     <g transform=\"translate(1102.737188 74.351562)scale(0.1 -0.1)\">\n      <use xlink:href=\"#DejaVuSans-80\"/>\n      <use x=\"58.552734\" xlink:href=\"#DejaVuSans-114\"/>\n      <use x=\"97.416016\" xlink:href=\"#DejaVuSans-101\"/>\n      <use x=\"158.939453\" xlink:href=\"#DejaVuSans-99\"/>\n      <use x=\"213.919922\" xlink:href=\"#DejaVuSans-105\"/>\n      <use x=\"241.703125\" xlink:href=\"#DejaVuSans-111\"/>\n      <use x=\"302.884766\" xlink:href=\"#DejaVuSans-32\"/>\n      <use x=\"334.671875\" xlink:href=\"#DejaVuSans-50\"/>\n      <use x=\"398.294922\" xlink:href=\"#DejaVuSans-48\"/>\n      <use x=\"461.917969\" xlink:href=\"#DejaVuSans-49\"/>\n      <use x=\"525.541016\" xlink:href=\"#DejaVuSans-50\"/>\n     </g>\n    </g>\n   </g>\n  </g>\n </g>\n <defs>\n  <clipPath id=\"pa7def6b197\">\n   <rect height=\"543.6\" width=\"1116\" x=\"54.654375\" y=\"28.396875\"/>\n  </clipPath>\n </defs>\n</svg>\n",
      "image/png": "[encoded data removed]"
     },
     "metadata": {
      "needs_background": "light"
     }
    }
   ],
   "source": [
    "plt.figure(figsize=(20, 10))\n",
    "df2[df2.Year == 2007].Value.plot(x=\"Item\",kind=\"bar\",label='Precio 2007',color=\"#FCB900\")\n",
    "df2[df2.Year == 2008].Value.plot(x=\"Item\",kind=\"bar\",label='Precio 2008',color=\"#C23100\")\n",
    "df2[df2.Year == 2012].Value.plot(x=\"Item\",kind=\"bar\",label='Precio 2012',color=\"#E67C00\")\n",
    "plt.legend(loc='top_right')\n",
    "plt.title('PRODUCCIÓN EN ESPAÑA ', size=20, color=\"#8E44AD\")\n",
    "plt.xlabel(\"Materia prima producida\", size=14, color=\"#138D75\")\n",
    "plt.ylabel(\"Producción en toneladas\",size=14, color=\"#8E44AD\")\n",
    "plt.xticks(rotation=45,FontSize=12,color=\"#5A5034\")\n",
    "plt.yticks(rotation=0,FontSize=12,color=\"#5A5034\")\n",
    "#plt.savefig('Producción_España.png')\n",
    "plt.show()"
   ]
  },
  {
   "cell_type": "code",
   "execution_count": 85,
   "metadata": {},
   "outputs": [],
   "source": [
    "year2007= df2[df2.Year == 2007]\n",
    "year2008= df2[df2.Year == 2008]\n",
    "year2012= df2[df2.Year == 2012]\n",
    "year2007.set_index(\"Year\", inplace=True)\n",
    "year2008.set_index(\"Year\", inplace=True)\n",
    "year2012.set_index(\"Year\", inplace=True)"
   ]
  },
  {
   "cell_type": "code",
   "execution_count": 142,
   "metadata": {},
   "outputs": [],
   "source": []
  },
  {
   "cell_type": "code",
   "execution_count": 86,
   "metadata": {},
   "outputs": [
    {
     "output_type": "display_data",
     "data": {
      "text/plain": "<Figure size 432x288 with 1 Axes>",
      "image/svg+xml": "<?xml version=\"1.0\" encoding=\"utf-8\" standalone=\"no\"?>\n<!DOCTYPE svg PUBLIC \"-//W3C//DTD SVG 1.1//EN\"\n  \"http://www.w3.org/Graphics/SVG/1.1/DTD/svg11.dtd\">\n<!-- Created with matplotlib (https://matplotlib.org/) -->\n<svg height=\"285.744687pt\" version=\"1.1\" viewBox=\"0 0 438.63125 285.744687\" width=\"438.63125pt\" xmlns=\"http://www.w3.org/2000/svg\" xmlns:xlink=\"http://www.w3.org/1999/xlink\">\n <defs>\n  <style type=\"text/css\">\n*{stroke-linecap:butt;stroke-linejoin:round;}\n  </style>\n </defs>\n <g id=\"figure_1\">\n  <g id=\"patch_1\">\n   <path d=\"M 0 285.744687 \nL 438.63125 285.744687 \nL 438.63125 0 \nL 0 0 \nz\n\" style=\"fill:none;\"/>\n  </g>\n  <g id=\"axes_1\">\n   <g id=\"patch_2\">\n    <path d=\"M 96.63125 244.317187 \nL 431.43125 244.317187 \nL 431.43125 26.877187 \nL 96.63125 26.877187 \nz\n\" style=\"fill:#ffffff;\"/>\n   </g>\n   <g id=\"patch_3\">\n    <path clip-path=\"url(#pd2f4349064)\" d=\"M 96.63125 234.433551 \nL 351.788251 234.433551 \nL 351.788251 192.81824 \nL 96.63125 192.81824 \nz\n\" style=\"fill:#76d7c4;opacity:0.5;\"/>\n   </g>\n   <g id=\"patch_4\">\n    <path clip-path=\"url(#pd2f4349064)\" d=\"M 96.63125 182.414412 \nL 415.488393 182.414412 \nL 415.488393 140.799101 \nL 96.63125 140.799101 \nz\n\" style=\"fill:#76d7c4;opacity:0.5;\"/>\n   </g>\n   <g id=\"patch_5\">\n    <path clip-path=\"url(#pd2f4349064)\" d=\"M 96.63125 130.395274 \nL 357.007488 130.395274 \nL 357.007488 88.779963 \nL 96.63125 88.779963 \nz\n\" style=\"fill:#76d7c4;opacity:0.5;\"/>\n   </g>\n   <g id=\"patch_6\">\n    <path clip-path=\"url(#pd2f4349064)\" d=\"M 96.63125 78.376135 \nL 352.602961 78.376135 \nL 352.602961 36.760824 \nL 96.63125 36.760824 \nz\n\" style=\"fill:#76d7c4;opacity:0.5;\"/>\n   </g>\n   <g id=\"patch_7\">\n    <path clip-path=\"url(#pd2f4349064)\" d=\"M 96.63125 234.433551 \nL 351.508195 234.433551 \nL 351.508195 192.81824 \nL 96.63125 192.81824 \nz\n\" style=\"fill:#f8c471;opacity:0.5;\"/>\n   </g>\n   <g id=\"patch_8\">\n    <path clip-path=\"url(#pd2f4349064)\" d=\"M 96.63125 182.414412 \nL 408.639737 182.414412 \nL 408.639737 140.799101 \nL 96.63125 140.799101 \nz\n\" style=\"fill:#f8c471;opacity:0.5;\"/>\n   </g>\n   <g id=\"patch_9\">\n    <path clip-path=\"url(#pd2f4349064)\" d=\"M 96.63125 130.395274 \nL 350.948082 130.395274 \nL 350.948082 88.779963 \nL 96.63125 88.779963 \nz\n\" style=\"fill:#f8c471;opacity:0.5;\"/>\n   </g>\n   <g id=\"patch_10\">\n    <path clip-path=\"url(#pd2f4349064)\" d=\"M 96.63125 78.376135 \nL 352.577502 78.376135 \nL 352.577502 36.760824 \nL 96.63125 36.760824 \nz\n\" style=\"fill:#f8c471;opacity:0.5;\"/>\n   </g>\n   <g id=\"patch_11\">\n    <path clip-path=\"url(#pd2f4349064)\" d=\"M 96.63125 234.433551 \nL 332.871703 234.433551 \nL 332.871703 192.81824 \nL 96.63125 192.81824 \nz\n\" style=\"fill:#00bfbf;opacity:0.5;\"/>\n   </g>\n   <g id=\"patch_12\">\n    <path clip-path=\"url(#pd2f4349064)\" d=\"M 96.63125 182.414412 \nL 332.158831 182.414412 \nL 332.158831 140.799101 \nL 96.63125 140.799101 \nz\n\" style=\"fill:#00bfbf;opacity:0.5;\"/>\n   </g>\n   <g id=\"patch_13\">\n    <path clip-path=\"url(#pd2f4349064)\" d=\"M 96.63125 130.395274 \nL 319.556285 130.395274 \nL 319.556285 88.779963 \nL 96.63125 88.779963 \nz\n\" style=\"fill:#00bfbf;opacity:0.5;\"/>\n   </g>\n   <g id=\"patch_14\">\n    <path clip-path=\"url(#pd2f4349064)\" d=\"M 96.63125 78.376135 \nL 333.431816 78.376135 \nL 333.431816 36.760824 \nL 96.63125 36.760824 \nz\n\" style=\"fill:#00bfbf;opacity:0.5;\"/>\n   </g>\n   <g id=\"matplotlib.axis_1\">\n    <g id=\"xtick_1\">\n     <g id=\"line2d_1\">\n      <defs>\n       <path d=\"M 0 0 \nL 0 3.5 \n\" id=\"m6d7f717db2\" style=\"stroke:#000000;stroke-width:0.8;\"/>\n      </defs>\n      <g>\n       <use style=\"stroke:#000000;stroke-width:0.8;\" x=\"96.63125\" xlink:href=\"#m6d7f717db2\" y=\"244.317187\"/>\n      </g>\n     </g>\n     <g id=\"text_1\">\n      <!-- 0 -->\n      <defs>\n       <path d=\"M 31.78125 66.40625 \nQ 24.171875 66.40625 20.328125 58.90625 \nQ 16.5 51.421875 16.5 36.375 \nQ 16.5 21.390625 20.328125 13.890625 \nQ 24.171875 6.390625 31.78125 6.390625 \nQ 39.453125 6.390625 43.28125 13.890625 \nQ 47.125 21.390625 47.125 36.375 \nQ 47.125 51.421875 43.28125 58.90625 \nQ 39.453125 66.40625 31.78125 66.40625 \nz\nM 31.78125 74.21875 \nQ 44.046875 74.21875 50.515625 64.515625 \nQ 56.984375 54.828125 56.984375 36.375 \nQ 56.984375 17.96875 50.515625 8.265625 \nQ 44.046875 -1.421875 31.78125 -1.421875 \nQ 19.53125 -1.421875 13.0625 8.265625 \nQ 6.59375 17.96875 6.59375 36.375 \nQ 6.59375 54.828125 13.0625 64.515625 \nQ 19.53125 74.21875 31.78125 74.21875 \nz\n\" id=\"DejaVuSans-48\"/>\n      </defs>\n      <g transform=\"translate(93.45 258.915625)scale(0.1 -0.1)\">\n       <use xlink:href=\"#DejaVuSans-48\"/>\n      </g>\n     </g>\n    </g>\n    <g id=\"xtick_2\">\n     <g id=\"line2d_2\">\n      <g>\n       <use style=\"stroke:#000000;stroke-width:0.8;\" x=\"147.550628\" xlink:href=\"#m6d7f717db2\" y=\"244.317187\"/>\n      </g>\n     </g>\n     <g id=\"text_2\">\n      <!-- 20 -->\n      <defs>\n       <path d=\"M 19.1875 8.296875 \nL 53.609375 8.296875 \nL 53.609375 0 \nL 7.328125 0 \nL 7.328125 8.296875 \nQ 12.9375 14.109375 22.625 23.890625 \nQ 32.328125 33.6875 34.8125 36.53125 \nQ 39.546875 41.84375 41.421875 45.53125 \nQ 43.3125 49.21875 43.3125 52.78125 \nQ 43.3125 58.59375 39.234375 62.25 \nQ 35.15625 65.921875 28.609375 65.921875 \nQ 23.96875 65.921875 18.8125 64.3125 \nQ 13.671875 62.703125 7.8125 59.421875 \nL 7.8125 69.390625 \nQ 13.765625 71.78125 18.9375 73 \nQ 24.125 74.21875 28.421875 74.21875 \nQ 39.75 74.21875 46.484375 68.546875 \nQ 53.21875 62.890625 53.21875 53.421875 \nQ 53.21875 48.921875 51.53125 44.890625 \nQ 49.859375 40.875 45.40625 35.40625 \nQ 44.1875 33.984375 37.640625 27.21875 \nQ 31.109375 20.453125 19.1875 8.296875 \nz\n\" id=\"DejaVuSans-50\"/>\n      </defs>\n      <g transform=\"translate(141.188128 258.915625)scale(0.1 -0.1)\">\n       <use xlink:href=\"#DejaVuSans-50\"/>\n       <use x=\"63.623047\" xlink:href=\"#DejaVuSans-48\"/>\n      </g>\n     </g>\n    </g>\n    <g id=\"xtick_3\">\n     <g id=\"line2d_3\">\n      <g>\n       <use style=\"stroke:#000000;stroke-width:0.8;\" x=\"198.470005\" xlink:href=\"#m6d7f717db2\" y=\"244.317187\"/>\n      </g>\n     </g>\n     <g id=\"text_3\">\n      <!-- 40 -->\n      <defs>\n       <path d=\"M 37.796875 64.3125 \nL 12.890625 25.390625 \nL 37.796875 25.390625 \nz\nM 35.203125 72.90625 \nL 47.609375 72.90625 \nL 47.609375 25.390625 \nL 58.015625 25.390625 \nL 58.015625 17.1875 \nL 47.609375 17.1875 \nL 47.609375 0 \nL 37.796875 0 \nL 37.796875 17.1875 \nL 4.890625 17.1875 \nL 4.890625 26.703125 \nz\n\" id=\"DejaVuSans-52\"/>\n      </defs>\n      <g transform=\"translate(192.107505 258.915625)scale(0.1 -0.1)\">\n       <use xlink:href=\"#DejaVuSans-52\"/>\n       <use x=\"63.623047\" xlink:href=\"#DejaVuSans-48\"/>\n      </g>\n     </g>\n    </g>\n    <g id=\"xtick_4\">\n     <g id=\"line2d_4\">\n      <g>\n       <use style=\"stroke:#000000;stroke-width:0.8;\" x=\"249.389383\" xlink:href=\"#m6d7f717db2\" y=\"244.317187\"/>\n      </g>\n     </g>\n     <g id=\"text_4\">\n      <!-- 60 -->\n      <defs>\n       <path d=\"M 33.015625 40.375 \nQ 26.375 40.375 22.484375 35.828125 \nQ 18.609375 31.296875 18.609375 23.390625 \nQ 18.609375 15.53125 22.484375 10.953125 \nQ 26.375 6.390625 33.015625 6.390625 \nQ 39.65625 6.390625 43.53125 10.953125 \nQ 47.40625 15.53125 47.40625 23.390625 \nQ 47.40625 31.296875 43.53125 35.828125 \nQ 39.65625 40.375 33.015625 40.375 \nz\nM 52.59375 71.296875 \nL 52.59375 62.3125 \nQ 48.875 64.0625 45.09375 64.984375 \nQ 41.3125 65.921875 37.59375 65.921875 \nQ 27.828125 65.921875 22.671875 59.328125 \nQ 17.53125 52.734375 16.796875 39.40625 \nQ 19.671875 43.65625 24.015625 45.921875 \nQ 28.375 48.1875 33.59375 48.1875 \nQ 44.578125 48.1875 50.953125 41.515625 \nQ 57.328125 34.859375 57.328125 23.390625 \nQ 57.328125 12.15625 50.6875 5.359375 \nQ 44.046875 -1.421875 33.015625 -1.421875 \nQ 20.359375 -1.421875 13.671875 8.265625 \nQ 6.984375 17.96875 6.984375 36.375 \nQ 6.984375 53.65625 15.1875 63.9375 \nQ 23.390625 74.21875 37.203125 74.21875 \nQ 40.921875 74.21875 44.703125 73.484375 \nQ 48.484375 72.75 52.59375 71.296875 \nz\n\" id=\"DejaVuSans-54\"/>\n      </defs>\n      <g transform=\"translate(243.026883 258.915625)scale(0.1 -0.1)\">\n       <use xlink:href=\"#DejaVuSans-54\"/>\n       <use x=\"63.623047\" xlink:href=\"#DejaVuSans-48\"/>\n      </g>\n     </g>\n    </g>\n    <g id=\"xtick_5\">\n     <g id=\"line2d_5\">\n      <g>\n       <use style=\"stroke:#000000;stroke-width:0.8;\" x=\"300.308761\" xlink:href=\"#m6d7f717db2\" y=\"244.317187\"/>\n      </g>\n     </g>\n     <g id=\"text_5\">\n      <!-- 80 -->\n      <defs>\n       <path d=\"M 31.78125 34.625 \nQ 24.75 34.625 20.71875 30.859375 \nQ 16.703125 27.09375 16.703125 20.515625 \nQ 16.703125 13.921875 20.71875 10.15625 \nQ 24.75 6.390625 31.78125 6.390625 \nQ 38.8125 6.390625 42.859375 10.171875 \nQ 46.921875 13.96875 46.921875 20.515625 \nQ 46.921875 27.09375 42.890625 30.859375 \nQ 38.875 34.625 31.78125 34.625 \nz\nM 21.921875 38.8125 \nQ 15.578125 40.375 12.03125 44.71875 \nQ 8.5 49.078125 8.5 55.328125 \nQ 8.5 64.0625 14.71875 69.140625 \nQ 20.953125 74.21875 31.78125 74.21875 \nQ 42.671875 74.21875 48.875 69.140625 \nQ 55.078125 64.0625 55.078125 55.328125 \nQ 55.078125 49.078125 51.53125 44.71875 \nQ 48 40.375 41.703125 38.8125 \nQ 48.828125 37.15625 52.796875 32.3125 \nQ 56.78125 27.484375 56.78125 20.515625 \nQ 56.78125 9.90625 50.3125 4.234375 \nQ 43.84375 -1.421875 31.78125 -1.421875 \nQ 19.734375 -1.421875 13.25 4.234375 \nQ 6.78125 9.90625 6.78125 20.515625 \nQ 6.78125 27.484375 10.78125 32.3125 \nQ 14.796875 37.15625 21.921875 38.8125 \nz\nM 18.3125 54.390625 \nQ 18.3125 48.734375 21.84375 45.5625 \nQ 25.390625 42.390625 31.78125 42.390625 \nQ 38.140625 42.390625 41.71875 45.5625 \nQ 45.3125 48.734375 45.3125 54.390625 \nQ 45.3125 60.0625 41.71875 63.234375 \nQ 38.140625 66.40625 31.78125 66.40625 \nQ 25.390625 66.40625 21.84375 63.234375 \nQ 18.3125 60.0625 18.3125 54.390625 \nz\n\" id=\"DejaVuSans-56\"/>\n      </defs>\n      <g transform=\"translate(293.946261 258.915625)scale(0.1 -0.1)\">\n       <use xlink:href=\"#DejaVuSans-56\"/>\n       <use x=\"63.623047\" xlink:href=\"#DejaVuSans-48\"/>\n      </g>\n     </g>\n    </g>\n    <g id=\"xtick_6\">\n     <g id=\"line2d_6\">\n      <g>\n       <use style=\"stroke:#000000;stroke-width:0.8;\" x=\"351.228138\" xlink:href=\"#m6d7f717db2\" y=\"244.317187\"/>\n      </g>\n     </g>\n     <g id=\"text_6\">\n      <!-- 100 -->\n      <defs>\n       <path d=\"M 12.40625 8.296875 \nL 28.515625 8.296875 \nL 28.515625 63.921875 \nL 10.984375 60.40625 \nL 10.984375 69.390625 \nL 28.421875 72.90625 \nL 38.28125 72.90625 \nL 38.28125 8.296875 \nL 54.390625 8.296875 \nL 54.390625 0 \nL 12.40625 0 \nz\n\" id=\"DejaVuSans-49\"/>\n      </defs>\n      <g transform=\"translate(341.684388 258.915625)scale(0.1 -0.1)\">\n       <use xlink:href=\"#DejaVuSans-49\"/>\n       <use x=\"63.623047\" xlink:href=\"#DejaVuSans-48\"/>\n       <use x=\"127.246094\" xlink:href=\"#DejaVuSans-48\"/>\n      </g>\n     </g>\n    </g>\n    <g id=\"xtick_7\">\n     <g id=\"line2d_7\">\n      <g>\n       <use style=\"stroke:#000000;stroke-width:0.8;\" x=\"402.147516\" xlink:href=\"#m6d7f717db2\" y=\"244.317187\"/>\n      </g>\n     </g>\n     <g id=\"text_7\">\n      <!-- 120 -->\n      <g transform=\"translate(392.603766 258.915625)scale(0.1 -0.1)\">\n       <use xlink:href=\"#DejaVuSans-49\"/>\n       <use x=\"63.623047\" xlink:href=\"#DejaVuSans-50\"/>\n       <use x=\"127.246094\" xlink:href=\"#DejaVuSans-48\"/>\n      </g>\n     </g>\n    </g>\n    <g id=\"text_8\">\n     <!-- Value -->\n     <defs>\n      <path d=\"M 28.609375 0 \nL 0.78125 72.90625 \nL 11.078125 72.90625 \nL 34.1875 11.53125 \nL 57.328125 72.90625 \nL 67.578125 72.90625 \nL 39.796875 0 \nz\n\" id=\"DejaVuSans-86\"/>\n      <path d=\"M 34.28125 27.484375 \nQ 23.390625 27.484375 19.1875 25 \nQ 14.984375 22.515625 14.984375 16.5 \nQ 14.984375 11.71875 18.140625 8.90625 \nQ 21.296875 6.109375 26.703125 6.109375 \nQ 34.1875 6.109375 38.703125 11.40625 \nQ 43.21875 16.703125 43.21875 25.484375 \nL 43.21875 27.484375 \nz\nM 52.203125 31.203125 \nL 52.203125 0 \nL 43.21875 0 \nL 43.21875 8.296875 \nQ 40.140625 3.328125 35.546875 0.953125 \nQ 30.953125 -1.421875 24.3125 -1.421875 \nQ 15.921875 -1.421875 10.953125 3.296875 \nQ 6 8.015625 6 15.921875 \nQ 6 25.140625 12.171875 29.828125 \nQ 18.359375 34.515625 30.609375 34.515625 \nL 43.21875 34.515625 \nL 43.21875 35.40625 \nQ 43.21875 41.609375 39.140625 45 \nQ 35.0625 48.390625 27.6875 48.390625 \nQ 23 48.390625 18.546875 47.265625 \nQ 14.109375 46.140625 10.015625 43.890625 \nL 10.015625 52.203125 \nQ 14.9375 54.109375 19.578125 55.046875 \nQ 24.21875 56 28.609375 56 \nQ 40.484375 56 46.34375 49.84375 \nQ 52.203125 43.703125 52.203125 31.203125 \nz\n\" id=\"DejaVuSans-97\"/>\n      <path d=\"M 9.421875 75.984375 \nL 18.40625 75.984375 \nL 18.40625 0 \nL 9.421875 0 \nz\n\" id=\"DejaVuSans-108\"/>\n      <path d=\"M 8.5 21.578125 \nL 8.5 54.6875 \nL 17.484375 54.6875 \nL 17.484375 21.921875 \nQ 17.484375 14.15625 20.5 10.265625 \nQ 23.53125 6.390625 29.59375 6.390625 \nQ 36.859375 6.390625 41.078125 11.03125 \nQ 45.3125 15.671875 45.3125 23.6875 \nL 45.3125 54.6875 \nL 54.296875 54.6875 \nL 54.296875 0 \nL 45.3125 0 \nL 45.3125 8.40625 \nQ 42.046875 3.421875 37.71875 1 \nQ 33.40625 -1.421875 27.6875 -1.421875 \nQ 18.265625 -1.421875 13.375 4.4375 \nQ 8.5 10.296875 8.5 21.578125 \nz\nM 31.109375 56 \nz\n\" id=\"DejaVuSans-117\"/>\n      <path d=\"M 56.203125 29.59375 \nL 56.203125 25.203125 \nL 14.890625 25.203125 \nQ 15.484375 15.921875 20.484375 11.0625 \nQ 25.484375 6.203125 34.421875 6.203125 \nQ 39.59375 6.203125 44.453125 7.46875 \nQ 49.3125 8.734375 54.109375 11.28125 \nL 54.109375 2.78125 \nQ 49.265625 0.734375 44.1875 -0.34375 \nQ 39.109375 -1.421875 33.890625 -1.421875 \nQ 20.796875 -1.421875 13.15625 6.1875 \nQ 5.515625 13.8125 5.515625 26.8125 \nQ 5.515625 40.234375 12.765625 48.109375 \nQ 20.015625 56 32.328125 56 \nQ 43.359375 56 49.78125 48.890625 \nQ 56.203125 41.796875 56.203125 29.59375 \nz\nM 47.21875 32.234375 \nQ 47.125 39.59375 43.09375 43.984375 \nQ 39.0625 48.390625 32.421875 48.390625 \nQ 24.90625 48.390625 20.390625 44.140625 \nQ 15.875 39.890625 15.1875 32.171875 \nz\n\" id=\"DejaVuSans-101\"/>\n     </defs>\n     <g style=\"fill:#138d75;\" transform=\"translate(244.8075 275.633125)scale(0.14 -0.14)\">\n      <use xlink:href=\"#DejaVuSans-86\"/>\n      <use x=\"60.658203\" xlink:href=\"#DejaVuSans-97\"/>\n      <use x=\"121.9375\" xlink:href=\"#DejaVuSans-108\"/>\n      <use x=\"149.720703\" xlink:href=\"#DejaVuSans-117\"/>\n      <use x=\"213.099609\" xlink:href=\"#DejaVuSans-101\"/>\n     </g>\n    </g>\n   </g>\n   <g id=\"matplotlib.axis_2\">\n    <g id=\"ytick_1\">\n     <g id=\"line2d_8\">\n      <defs>\n       <path d=\"M 0 0 \nL -3.5 0 \n\" id=\"m98ffab9fa0\" style=\"stroke:#000000;stroke-width:0.8;\"/>\n      </defs>\n      <g>\n       <use style=\"stroke:#000000;stroke-width:0.8;\" x=\"96.63125\" xlink:href=\"#m98ffab9fa0\" y=\"213.625896\"/>\n      </g>\n     </g>\n     <g id=\"text_9\">\n      <!-- Agriculture (PIN) -->\n      <defs>\n       <path d=\"M 34.1875 63.1875 \nL 20.796875 26.90625 \nL 47.609375 26.90625 \nz\nM 28.609375 72.90625 \nL 39.796875 72.90625 \nL 67.578125 0 \nL 57.328125 0 \nL 50.6875 18.703125 \nL 17.828125 18.703125 \nL 11.1875 0 \nL 0.78125 0 \nz\n\" id=\"DejaVuSans-65\"/>\n       <path d=\"M 45.40625 27.984375 \nQ 45.40625 37.75 41.375 43.109375 \nQ 37.359375 48.484375 30.078125 48.484375 \nQ 22.859375 48.484375 18.828125 43.109375 \nQ 14.796875 37.75 14.796875 27.984375 \nQ 14.796875 18.265625 18.828125 12.890625 \nQ 22.859375 7.515625 30.078125 7.515625 \nQ 37.359375 7.515625 41.375 12.890625 \nQ 45.40625 18.265625 45.40625 27.984375 \nz\nM 54.390625 6.78125 \nQ 54.390625 -7.171875 48.1875 -13.984375 \nQ 42 -20.796875 29.203125 -20.796875 \nQ 24.46875 -20.796875 20.265625 -20.09375 \nQ 16.0625 -19.390625 12.109375 -17.921875 \nL 12.109375 -9.1875 \nQ 16.0625 -11.328125 19.921875 -12.34375 \nQ 23.78125 -13.375 27.78125 -13.375 \nQ 36.625 -13.375 41.015625 -8.765625 \nQ 45.40625 -4.15625 45.40625 5.171875 \nL 45.40625 9.625 \nQ 42.625 4.78125 38.28125 2.390625 \nQ 33.9375 0 27.875 0 \nQ 17.828125 0 11.671875 7.65625 \nQ 5.515625 15.328125 5.515625 27.984375 \nQ 5.515625 40.671875 11.671875 48.328125 \nQ 17.828125 56 27.875 56 \nQ 33.9375 56 38.28125 53.609375 \nQ 42.625 51.21875 45.40625 46.390625 \nL 45.40625 54.6875 \nL 54.390625 54.6875 \nz\n\" id=\"DejaVuSans-103\"/>\n       <path d=\"M 41.109375 46.296875 \nQ 39.59375 47.171875 37.8125 47.578125 \nQ 36.03125 48 33.890625 48 \nQ 26.265625 48 22.1875 43.046875 \nQ 18.109375 38.09375 18.109375 28.8125 \nL 18.109375 0 \nL 9.078125 0 \nL 9.078125 54.6875 \nL 18.109375 54.6875 \nL 18.109375 46.1875 \nQ 20.953125 51.171875 25.484375 53.578125 \nQ 30.03125 56 36.53125 56 \nQ 37.453125 56 38.578125 55.875 \nQ 39.703125 55.765625 41.0625 55.515625 \nz\n\" id=\"DejaVuSans-114\"/>\n       <path d=\"M 9.421875 54.6875 \nL 18.40625 54.6875 \nL 18.40625 0 \nL 9.421875 0 \nz\nM 9.421875 75.984375 \nL 18.40625 75.984375 \nL 18.40625 64.59375 \nL 9.421875 64.59375 \nz\n\" id=\"DejaVuSans-105\"/>\n       <path d=\"M 48.78125 52.59375 \nL 48.78125 44.1875 \nQ 44.96875 46.296875 41.140625 47.34375 \nQ 37.3125 48.390625 33.40625 48.390625 \nQ 24.65625 48.390625 19.8125 42.84375 \nQ 14.984375 37.3125 14.984375 27.296875 \nQ 14.984375 17.28125 19.8125 11.734375 \nQ 24.65625 6.203125 33.40625 6.203125 \nQ 37.3125 6.203125 41.140625 7.25 \nQ 44.96875 8.296875 48.78125 10.40625 \nL 48.78125 2.09375 \nQ 45.015625 0.34375 40.984375 -0.53125 \nQ 36.96875 -1.421875 32.421875 -1.421875 \nQ 20.0625 -1.421875 12.78125 6.34375 \nQ 5.515625 14.109375 5.515625 27.296875 \nQ 5.515625 40.671875 12.859375 48.328125 \nQ 20.21875 56 33.015625 56 \nQ 37.15625 56 41.109375 55.140625 \nQ 45.0625 54.296875 48.78125 52.59375 \nz\n\" id=\"DejaVuSans-99\"/>\n       <path d=\"M 18.3125 70.21875 \nL 18.3125 54.6875 \nL 36.8125 54.6875 \nL 36.8125 47.703125 \nL 18.3125 47.703125 \nL 18.3125 18.015625 \nQ 18.3125 11.328125 20.140625 9.421875 \nQ 21.96875 7.515625 27.59375 7.515625 \nL 36.8125 7.515625 \nL 36.8125 0 \nL 27.59375 0 \nQ 17.1875 0 13.234375 3.875 \nQ 9.28125 7.765625 9.28125 18.015625 \nL 9.28125 47.703125 \nL 2.6875 47.703125 \nL 2.6875 54.6875 \nL 9.28125 54.6875 \nL 9.28125 70.21875 \nz\n\" id=\"DejaVuSans-116\"/>\n       <path id=\"DejaVuSans-32\"/>\n       <path d=\"M 31 75.875 \nQ 24.46875 64.65625 21.28125 53.65625 \nQ 18.109375 42.671875 18.109375 31.390625 \nQ 18.109375 20.125 21.3125 9.0625 \nQ 24.515625 -2 31 -13.1875 \nL 23.1875 -13.1875 \nQ 15.875 -1.703125 12.234375 9.375 \nQ 8.59375 20.453125 8.59375 31.390625 \nQ 8.59375 42.28125 12.203125 53.3125 \nQ 15.828125 64.359375 23.1875 75.875 \nz\n\" id=\"DejaVuSans-40\"/>\n       <path d=\"M 19.671875 64.796875 \nL 19.671875 37.40625 \nL 32.078125 37.40625 \nQ 38.96875 37.40625 42.71875 40.96875 \nQ 46.484375 44.53125 46.484375 51.125 \nQ 46.484375 57.671875 42.71875 61.234375 \nQ 38.96875 64.796875 32.078125 64.796875 \nz\nM 9.8125 72.90625 \nL 32.078125 72.90625 \nQ 44.34375 72.90625 50.609375 67.359375 \nQ 56.890625 61.8125 56.890625 51.125 \nQ 56.890625 40.328125 50.609375 34.8125 \nQ 44.34375 29.296875 32.078125 29.296875 \nL 19.671875 29.296875 \nL 19.671875 0 \nL 9.8125 0 \nz\n\" id=\"DejaVuSans-80\"/>\n       <path d=\"M 9.8125 72.90625 \nL 19.671875 72.90625 \nL 19.671875 0 \nL 9.8125 0 \nz\n\" id=\"DejaVuSans-73\"/>\n       <path d=\"M 9.8125 72.90625 \nL 23.09375 72.90625 \nL 55.421875 11.921875 \nL 55.421875 72.90625 \nL 64.984375 72.90625 \nL 64.984375 0 \nL 51.703125 0 \nL 19.390625 60.984375 \nL 19.390625 0 \nL 9.8125 0 \nz\n\" id=\"DejaVuSans-78\"/>\n       <path d=\"M 8.015625 75.875 \nL 15.828125 75.875 \nQ 23.140625 64.359375 26.78125 53.3125 \nQ 30.421875 42.28125 30.421875 31.390625 \nQ 30.421875 20.453125 26.78125 9.375 \nQ 23.140625 -1.703125 15.828125 -13.1875 \nL 8.015625 -13.1875 \nQ 14.5 -2 17.703125 9.0625 \nQ 20.90625 20.125 20.90625 31.390625 \nQ 20.90625 42.671875 17.703125 53.65625 \nQ 14.5 64.65625 8.015625 75.875 \nz\n\" id=\"DejaVuSans-41\"/>\n      </defs>\n      <g transform=\"translate(7.2 217.425114)scale(0.1 -0.1)\">\n       <use xlink:href=\"#DejaVuSans-65\"/>\n       <use x=\"68.408203\" xlink:href=\"#DejaVuSans-103\"/>\n       <use x=\"131.884766\" xlink:href=\"#DejaVuSans-114\"/>\n       <use x=\"172.998047\" xlink:href=\"#DejaVuSans-105\"/>\n       <use x=\"200.78125\" xlink:href=\"#DejaVuSans-99\"/>\n       <use x=\"255.761719\" xlink:href=\"#DejaVuSans-117\"/>\n       <use x=\"319.140625\" xlink:href=\"#DejaVuSans-108\"/>\n       <use x=\"346.923828\" xlink:href=\"#DejaVuSans-116\"/>\n       <use x=\"386.132812\" xlink:href=\"#DejaVuSans-117\"/>\n       <use x=\"449.511719\" xlink:href=\"#DejaVuSans-114\"/>\n       <use x=\"488.375\" xlink:href=\"#DejaVuSans-101\"/>\n       <use x=\"549.898438\" xlink:href=\"#DejaVuSans-32\"/>\n       <use x=\"581.685547\" xlink:href=\"#DejaVuSans-40\"/>\n       <use x=\"620.699219\" xlink:href=\"#DejaVuSans-80\"/>\n       <use x=\"681.001953\" xlink:href=\"#DejaVuSans-73\"/>\n       <use x=\"710.494141\" xlink:href=\"#DejaVuSans-78\"/>\n       <use x=\"785.298828\" xlink:href=\"#DejaVuSans-41\"/>\n      </g>\n     </g>\n    </g>\n    <g id=\"ytick_2\">\n     <g id=\"line2d_9\">\n      <g>\n       <use style=\"stroke:#000000;stroke-width:0.8;\" x=\"96.63125\" xlink:href=\"#m98ffab9fa0\" y=\"161.606757\"/>\n      </g>\n     </g>\n     <g id=\"text_10\">\n      <!-- Cereals,Total -->\n      <defs>\n       <path d=\"M 64.40625 67.28125 \nL 64.40625 56.890625 \nQ 59.421875 61.53125 53.78125 63.8125 \nQ 48.140625 66.109375 41.796875 66.109375 \nQ 29.296875 66.109375 22.65625 58.46875 \nQ 16.015625 50.828125 16.015625 36.375 \nQ 16.015625 21.96875 22.65625 14.328125 \nQ 29.296875 6.6875 41.796875 6.6875 \nQ 48.140625 6.6875 53.78125 8.984375 \nQ 59.421875 11.28125 64.40625 15.921875 \nL 64.40625 5.609375 \nQ 59.234375 2.09375 53.4375 0.328125 \nQ 47.65625 -1.421875 41.21875 -1.421875 \nQ 24.65625 -1.421875 15.125 8.703125 \nQ 5.609375 18.84375 5.609375 36.375 \nQ 5.609375 53.953125 15.125 64.078125 \nQ 24.65625 74.21875 41.21875 74.21875 \nQ 47.75 74.21875 53.53125 72.484375 \nQ 59.328125 70.75 64.40625 67.28125 \nz\n\" id=\"DejaVuSans-67\"/>\n       <path d=\"M 44.28125 53.078125 \nL 44.28125 44.578125 \nQ 40.484375 46.53125 36.375 47.5 \nQ 32.28125 48.484375 27.875 48.484375 \nQ 21.1875 48.484375 17.84375 46.4375 \nQ 14.5 44.390625 14.5 40.28125 \nQ 14.5 37.15625 16.890625 35.375 \nQ 19.28125 33.59375 26.515625 31.984375 \nL 29.59375 31.296875 \nQ 39.15625 29.25 43.1875 25.515625 \nQ 47.21875 21.78125 47.21875 15.09375 \nQ 47.21875 7.46875 41.1875 3.015625 \nQ 35.15625 -1.421875 24.609375 -1.421875 \nQ 20.21875 -1.421875 15.453125 -0.5625 \nQ 10.6875 0.296875 5.421875 2 \nL 5.421875 11.28125 \nQ 10.40625 8.6875 15.234375 7.390625 \nQ 20.0625 6.109375 24.8125 6.109375 \nQ 31.15625 6.109375 34.5625 8.28125 \nQ 37.984375 10.453125 37.984375 14.40625 \nQ 37.984375 18.0625 35.515625 20.015625 \nQ 33.0625 21.96875 24.703125 23.78125 \nL 21.578125 24.515625 \nQ 13.234375 26.265625 9.515625 29.90625 \nQ 5.8125 33.546875 5.8125 39.890625 \nQ 5.8125 47.609375 11.28125 51.796875 \nQ 16.75 56 26.8125 56 \nQ 31.78125 56 36.171875 55.265625 \nQ 40.578125 54.546875 44.28125 53.078125 \nz\n\" id=\"DejaVuSans-115\"/>\n       <path d=\"M 11.71875 12.40625 \nL 22.015625 12.40625 \nL 22.015625 4 \nL 14.015625 -11.625 \nL 7.71875 -11.625 \nL 11.71875 4 \nz\n\" id=\"DejaVuSans-44\"/>\n       <path d=\"M -0.296875 72.90625 \nL 61.375 72.90625 \nL 61.375 64.59375 \nL 35.5 64.59375 \nL 35.5 0 \nL 25.59375 0 \nL 25.59375 64.59375 \nL -0.296875 64.59375 \nz\n\" id=\"DejaVuSans-84\"/>\n       <path d=\"M 30.609375 48.390625 \nQ 23.390625 48.390625 19.1875 42.75 \nQ 14.984375 37.109375 14.984375 27.296875 \nQ 14.984375 17.484375 19.15625 11.84375 \nQ 23.34375 6.203125 30.609375 6.203125 \nQ 37.796875 6.203125 41.984375 11.859375 \nQ 46.1875 17.53125 46.1875 27.296875 \nQ 46.1875 37.015625 41.984375 42.703125 \nQ 37.796875 48.390625 30.609375 48.390625 \nz\nM 30.609375 56 \nQ 42.328125 56 49.015625 48.375 \nQ 55.71875 40.765625 55.71875 27.296875 \nQ 55.71875 13.875 49.015625 6.21875 \nQ 42.328125 -1.421875 30.609375 -1.421875 \nQ 18.84375 -1.421875 12.171875 6.21875 \nQ 5.515625 13.875 5.515625 27.296875 \nQ 5.515625 40.765625 12.171875 48.375 \nQ 18.84375 56 30.609375 56 \nz\n\" id=\"DejaVuSans-111\"/>\n      </defs>\n      <g transform=\"translate(25.809375 165.405976)scale(0.1 -0.1)\">\n       <use xlink:href=\"#DejaVuSans-67\"/>\n       <use x=\"69.824219\" xlink:href=\"#DejaVuSans-101\"/>\n       <use x=\"131.347656\" xlink:href=\"#DejaVuSans-114\"/>\n       <use x=\"170.210938\" xlink:href=\"#DejaVuSans-101\"/>\n       <use x=\"231.734375\" xlink:href=\"#DejaVuSans-97\"/>\n       <use x=\"293.013672\" xlink:href=\"#DejaVuSans-108\"/>\n       <use x=\"320.796875\" xlink:href=\"#DejaVuSans-115\"/>\n       <use x=\"372.896484\" xlink:href=\"#DejaVuSans-44\"/>\n       <use x=\"404.683594\" xlink:href=\"#DejaVuSans-84\"/>\n       <use x=\"448.767578\" xlink:href=\"#DejaVuSans-111\"/>\n       <use x=\"509.949219\" xlink:href=\"#DejaVuSans-116\"/>\n       <use x=\"549.158203\" xlink:href=\"#DejaVuSans-97\"/>\n       <use x=\"610.4375\" xlink:href=\"#DejaVuSans-108\"/>\n      </g>\n     </g>\n    </g>\n    <g id=\"ytick_3\">\n     <g id=\"line2d_10\">\n      <g>\n       <use style=\"stroke:#000000;stroke-width:0.8;\" x=\"96.63125\" xlink:href=\"#m98ffab9fa0\" y=\"109.587618\"/>\n      </g>\n     </g>\n     <g id=\"text_11\">\n      <!-- Crops (PIN) -->\n      <defs>\n       <path d=\"M 18.109375 8.203125 \nL 18.109375 -20.796875 \nL 9.078125 -20.796875 \nL 9.078125 54.6875 \nL 18.109375 54.6875 \nL 18.109375 46.390625 \nQ 20.953125 51.265625 25.265625 53.625 \nQ 29.59375 56 35.59375 56 \nQ 45.5625 56 51.78125 48.09375 \nQ 58.015625 40.1875 58.015625 27.296875 \nQ 58.015625 14.40625 51.78125 6.484375 \nQ 45.5625 -1.421875 35.59375 -1.421875 \nQ 29.59375 -1.421875 25.265625 0.953125 \nQ 20.953125 3.328125 18.109375 8.203125 \nz\nM 48.6875 27.296875 \nQ 48.6875 37.203125 44.609375 42.84375 \nQ 40.53125 48.484375 33.40625 48.484375 \nQ 26.265625 48.484375 22.1875 42.84375 \nQ 18.109375 37.203125 18.109375 27.296875 \nQ 18.109375 17.390625 22.1875 11.75 \nQ 26.265625 6.109375 33.40625 6.109375 \nQ 40.53125 6.109375 44.609375 11.75 \nQ 48.6875 17.390625 48.6875 27.296875 \nz\n\" id=\"DejaVuSans-112\"/>\n      </defs>\n      <g transform=\"translate(33.64375 113.386837)scale(0.1 -0.1)\">\n       <use xlink:href=\"#DejaVuSans-67\"/>\n       <use x=\"69.824219\" xlink:href=\"#DejaVuSans-114\"/>\n       <use x=\"108.6875\" xlink:href=\"#DejaVuSans-111\"/>\n       <use x=\"169.869141\" xlink:href=\"#DejaVuSans-112\"/>\n       <use x=\"233.345703\" xlink:href=\"#DejaVuSans-115\"/>\n       <use x=\"285.445312\" xlink:href=\"#DejaVuSans-32\"/>\n       <use x=\"317.232422\" xlink:href=\"#DejaVuSans-40\"/>\n       <use x=\"356.246094\" xlink:href=\"#DejaVuSans-80\"/>\n       <use x=\"416.548828\" xlink:href=\"#DejaVuSans-73\"/>\n       <use x=\"446.041016\" xlink:href=\"#DejaVuSans-78\"/>\n       <use x=\"520.845703\" xlink:href=\"#DejaVuSans-41\"/>\n      </g>\n     </g>\n    </g>\n    <g id=\"ytick_4\">\n     <g id=\"line2d_11\">\n      <g>\n       <use style=\"stroke:#000000;stroke-width:0.8;\" x=\"96.63125\" xlink:href=\"#m98ffab9fa0\" y=\"57.568479\"/>\n      </g>\n     </g>\n     <g id=\"text_12\">\n      <!-- Food (PIN) -->\n      <defs>\n       <path d=\"M 9.8125 72.90625 \nL 51.703125 72.90625 \nL 51.703125 64.59375 \nL 19.671875 64.59375 \nL 19.671875 43.109375 \nL 48.578125 43.109375 \nL 48.578125 34.8125 \nL 19.671875 34.8125 \nL 19.671875 0 \nL 9.8125 0 \nz\n\" id=\"DejaVuSans-70\"/>\n       <path d=\"M 45.40625 46.390625 \nL 45.40625 75.984375 \nL 54.390625 75.984375 \nL 54.390625 0 \nL 45.40625 0 \nL 45.40625 8.203125 \nQ 42.578125 3.328125 38.25 0.953125 \nQ 33.9375 -1.421875 27.875 -1.421875 \nQ 17.96875 -1.421875 11.734375 6.484375 \nQ 5.515625 14.40625 5.515625 27.296875 \nQ 5.515625 40.1875 11.734375 48.09375 \nQ 17.96875 56 27.875 56 \nQ 33.9375 56 38.25 53.625 \nQ 42.578125 51.265625 45.40625 46.390625 \nz\nM 14.796875 27.296875 \nQ 14.796875 17.390625 18.875 11.75 \nQ 22.953125 6.109375 30.078125 6.109375 \nQ 37.203125 6.109375 41.296875 11.75 \nQ 45.40625 17.390625 45.40625 27.296875 \nQ 45.40625 37.203125 41.296875 42.84375 \nQ 37.203125 48.484375 30.078125 48.484375 \nQ 22.953125 48.484375 18.875 42.84375 \nQ 14.796875 37.203125 14.796875 27.296875 \nz\n\" id=\"DejaVuSans-100\"/>\n      </defs>\n      <g transform=\"translate(38.214062 61.367698)scale(0.1 -0.1)\">\n       <use xlink:href=\"#DejaVuSans-70\"/>\n       <use x=\"53.894531\" xlink:href=\"#DejaVuSans-111\"/>\n       <use x=\"115.076172\" xlink:href=\"#DejaVuSans-111\"/>\n       <use x=\"176.257812\" xlink:href=\"#DejaVuSans-100\"/>\n       <use x=\"239.734375\" xlink:href=\"#DejaVuSans-32\"/>\n       <use x=\"271.521484\" xlink:href=\"#DejaVuSans-40\"/>\n       <use x=\"310.535156\" xlink:href=\"#DejaVuSans-80\"/>\n       <use x=\"370.837891\" xlink:href=\"#DejaVuSans-73\"/>\n       <use x=\"400.330078\" xlink:href=\"#DejaVuSans-78\"/>\n       <use x=\"475.134766\" xlink:href=\"#DejaVuSans-41\"/>\n      </g>\n     </g>\n    </g>\n   </g>\n   <g id=\"patch_15\">\n    <path d=\"M 96.63125 244.317187 \nL 96.63125 26.877187 \n\" style=\"fill:none;stroke:#000000;stroke-linecap:square;stroke-linejoin:miter;stroke-width:0.8;\"/>\n   </g>\n   <g id=\"patch_16\">\n    <path d=\"M 431.43125 244.317187 \nL 431.43125 26.877187 \n\" style=\"fill:none;stroke:#000000;stroke-linecap:square;stroke-linejoin:miter;stroke-width:0.8;\"/>\n   </g>\n   <g id=\"patch_17\">\n    <path d=\"M 96.63125 244.317187 \nL 431.43125 244.317187 \n\" style=\"fill:none;stroke:#000000;stroke-linecap:square;stroke-linejoin:miter;stroke-width:0.8;\"/>\n   </g>\n   <g id=\"patch_18\">\n    <path d=\"M 96.63125 26.877187 \nL 431.43125 26.877187 \n\" style=\"fill:none;stroke:#000000;stroke-linecap:square;stroke-linejoin:miter;stroke-width:0.8;\"/>\n   </g>\n   <g id=\"text_13\">\n    <!-- PRODUCCIÓN EN ESPAÑA  -->\n    <defs>\n     <path d=\"M 44.390625 34.1875 \nQ 47.5625 33.109375 50.5625 29.59375 \nQ 53.5625 26.078125 56.59375 19.921875 \nL 66.609375 0 \nL 56 0 \nL 46.6875 18.703125 \nQ 43.0625 26.03125 39.671875 28.421875 \nQ 36.28125 30.8125 30.421875 30.8125 \nL 19.671875 30.8125 \nL 19.671875 0 \nL 9.8125 0 \nL 9.8125 72.90625 \nL 32.078125 72.90625 \nQ 44.578125 72.90625 50.734375 67.671875 \nQ 56.890625 62.453125 56.890625 51.90625 \nQ 56.890625 45.015625 53.6875 40.46875 \nQ 50.484375 35.9375 44.390625 34.1875 \nz\nM 19.671875 64.796875 \nL 19.671875 38.921875 \nL 32.078125 38.921875 \nQ 39.203125 38.921875 42.84375 42.21875 \nQ 46.484375 45.515625 46.484375 51.90625 \nQ 46.484375 58.296875 42.84375 61.546875 \nQ 39.203125 64.796875 32.078125 64.796875 \nz\n\" id=\"DejaVuSans-82\"/>\n     <path d=\"M 39.40625 66.21875 \nQ 28.65625 66.21875 22.328125 58.203125 \nQ 16.015625 50.203125 16.015625 36.375 \nQ 16.015625 22.609375 22.328125 14.59375 \nQ 28.65625 6.59375 39.40625 6.59375 \nQ 50.140625 6.59375 56.421875 14.59375 \nQ 62.703125 22.609375 62.703125 36.375 \nQ 62.703125 50.203125 56.421875 58.203125 \nQ 50.140625 66.21875 39.40625 66.21875 \nz\nM 39.40625 74.21875 \nQ 54.734375 74.21875 63.90625 63.9375 \nQ 73.09375 53.65625 73.09375 36.375 \nQ 73.09375 19.140625 63.90625 8.859375 \nQ 54.734375 -1.421875 39.40625 -1.421875 \nQ 24.03125 -1.421875 14.8125 8.828125 \nQ 5.609375 19.09375 5.609375 36.375 \nQ 5.609375 53.65625 14.8125 63.9375 \nQ 24.03125 74.21875 39.40625 74.21875 \nz\n\" id=\"DejaVuSans-79\"/>\n     <path d=\"M 19.671875 64.796875 \nL 19.671875 8.109375 \nL 31.59375 8.109375 \nQ 46.6875 8.109375 53.6875 14.9375 \nQ 60.6875 21.78125 60.6875 36.53125 \nQ 60.6875 51.171875 53.6875 57.984375 \nQ 46.6875 64.796875 31.59375 64.796875 \nz\nM 9.8125 72.90625 \nL 30.078125 72.90625 \nQ 51.265625 72.90625 61.171875 64.09375 \nQ 71.09375 55.28125 71.09375 36.53125 \nQ 71.09375 17.671875 61.125 8.828125 \nQ 51.171875 0 30.078125 0 \nL 9.8125 0 \nz\n\" id=\"DejaVuSans-68\"/>\n     <path d=\"M 8.6875 72.90625 \nL 18.609375 72.90625 \nL 18.609375 28.609375 \nQ 18.609375 16.890625 22.84375 11.734375 \nQ 27.09375 6.59375 36.625 6.59375 \nQ 46.09375 6.59375 50.34375 11.734375 \nQ 54.59375 16.890625 54.59375 28.609375 \nL 54.59375 72.90625 \nL 64.5 72.90625 \nL 64.5 27.390625 \nQ 64.5 13.140625 57.4375 5.859375 \nQ 50.390625 -1.421875 36.625 -1.421875 \nQ 22.796875 -1.421875 15.734375 5.859375 \nQ 8.6875 13.140625 8.6875 27.390625 \nz\n\" id=\"DejaVuSans-85\"/>\n     <path d=\"M 39.40625 66.21875 \nQ 28.65625 66.21875 22.328125 58.203125 \nQ 16.015625 50.203125 16.015625 36.375 \nQ 16.015625 22.609375 22.328125 14.59375 \nQ 28.65625 6.59375 39.40625 6.59375 \nQ 50.140625 6.59375 56.421875 14.59375 \nQ 62.703125 22.609375 62.703125 36.375 \nQ 62.703125 50.203125 56.421875 58.203125 \nQ 50.140625 66.21875 39.40625 66.21875 \nz\nM 39.40625 74.21875 \nQ 54.734375 74.21875 63.90625 63.9375 \nQ 73.09375 53.65625 73.09375 36.375 \nQ 73.09375 19.140625 63.90625 8.859375 \nQ 54.734375 -1.421875 39.40625 -1.421875 \nQ 24.03125 -1.421875 14.8125 8.828125 \nQ 5.609375 19.09375 5.609375 36.375 \nQ 5.609375 53.65625 14.8125 63.9375 \nQ 24.03125 74.21875 39.40625 74.21875 \nz\nM 42.0625 92.515625 \nL 51.09375 92.515625 \nL 39.96875 79.625 \nL 32.484375 79.625 \nz\n\" id=\"DejaVuSans-211\"/>\n     <path d=\"M 9.8125 72.90625 \nL 55.90625 72.90625 \nL 55.90625 64.59375 \nL 19.671875 64.59375 \nL 19.671875 43.015625 \nL 54.390625 43.015625 \nL 54.390625 34.71875 \nL 19.671875 34.71875 \nL 19.671875 8.296875 \nL 56.78125 8.296875 \nL 56.78125 0 \nL 9.8125 0 \nz\n\" id=\"DejaVuSans-69\"/>\n     <path d=\"M 53.515625 70.515625 \nL 53.515625 60.890625 \nQ 47.90625 63.578125 42.921875 64.890625 \nQ 37.9375 66.21875 33.296875 66.21875 \nQ 25.25 66.21875 20.875 63.09375 \nQ 16.5 59.96875 16.5 54.203125 \nQ 16.5 49.359375 19.40625 46.890625 \nQ 22.3125 44.4375 30.421875 42.921875 \nL 36.375 41.703125 \nQ 47.40625 39.59375 52.65625 34.296875 \nQ 57.90625 29 57.90625 20.125 \nQ 57.90625 9.515625 50.796875 4.046875 \nQ 43.703125 -1.421875 29.984375 -1.421875 \nQ 24.8125 -1.421875 18.96875 -0.25 \nQ 13.140625 0.921875 6.890625 3.21875 \nL 6.890625 13.375 \nQ 12.890625 10.015625 18.65625 8.296875 \nQ 24.421875 6.59375 29.984375 6.59375 \nQ 38.421875 6.59375 43.015625 9.90625 \nQ 47.609375 13.234375 47.609375 19.390625 \nQ 47.609375 24.75 44.3125 27.78125 \nQ 41.015625 30.8125 33.5 32.328125 \nL 27.484375 33.5 \nQ 16.453125 35.6875 11.515625 40.375 \nQ 6.59375 45.0625 6.59375 53.421875 \nQ 6.59375 63.09375 13.40625 68.65625 \nQ 20.21875 74.21875 32.171875 74.21875 \nQ 37.3125 74.21875 42.625 73.28125 \nQ 47.953125 72.359375 53.515625 70.515625 \nz\n\" id=\"DejaVuSans-83\"/>\n     <path d=\"M 9.8125 72.90625 \nL 23.09375 72.90625 \nL 55.421875 11.921875 \nL 55.421875 72.90625 \nL 64.984375 72.90625 \nL 64.984375 0 \nL 51.703125 0 \nL 19.390625 60.984375 \nL 19.390625 0 \nL 9.8125 0 \nz\nM 37.1875 83.28125 \nL 34.390625 84.890625 \nQ 33.171875 85.578125 32.40625 85.84375 \nQ 31.65625 86.109375 31.078125 86.109375 \nQ 29.3125 86.109375 28.328125 84.890625 \nQ 27.359375 83.671875 27.359375 81.484375 \nL 27.359375 81.1875 \nL 21.265625 81.1875 \nQ 21.265625 86.109375 23.78125 88.984375 \nQ 26.296875 91.875 30.484375 91.875 \nQ 32.25 91.875 33.734375 91.484375 \nQ 35.234375 91.09375 37.578125 89.78125 \nL 40.359375 88.3125 \nQ 41.484375 87.671875 42.3125 87.375 \nQ 43.140625 87.09375 43.875 87.09375 \nQ 45.4375 87.09375 46.40625 88.328125 \nQ 47.390625 89.578125 47.390625 91.578125 \nL 47.390625 91.875 \nL 53.484375 91.875 \nQ 53.390625 87 50.875 84.09375 \nQ 48.359375 81.1875 44.265625 81.1875 \nQ 42.59375 81.1875 41.15625 81.578125 \nQ 39.71875 81.96875 37.1875 83.28125 \nz\n\" id=\"DejaVuSans-209\"/>\n    </defs>\n    <g style=\"fill:#138d75;\" transform=\"translate(146.406875 20.877187)scale(0.18 -0.18)\">\n     <use xlink:href=\"#DejaVuSans-80\"/>\n     <use x=\"60.302734\" xlink:href=\"#DejaVuSans-82\"/>\n     <use x=\"129.785156\" xlink:href=\"#DejaVuSans-79\"/>\n     <use x=\"208.496094\" xlink:href=\"#DejaVuSans-68\"/>\n     <use x=\"285.498047\" xlink:href=\"#DejaVuSans-85\"/>\n     <use x=\"358.691406\" xlink:href=\"#DejaVuSans-67\"/>\n     <use x=\"428.515625\" xlink:href=\"#DejaVuSans-67\"/>\n     <use x=\"498.339844\" xlink:href=\"#DejaVuSans-73\"/>\n     <use x=\"527.832031\" xlink:href=\"#DejaVuSans-211\"/>\n     <use x=\"606.542969\" xlink:href=\"#DejaVuSans-78\"/>\n     <use x=\"681.347656\" xlink:href=\"#DejaVuSans-32\"/>\n     <use x=\"713.134766\" xlink:href=\"#DejaVuSans-69\"/>\n     <use x=\"776.318359\" xlink:href=\"#DejaVuSans-78\"/>\n     <use x=\"851.123047\" xlink:href=\"#DejaVuSans-32\"/>\n     <use x=\"882.910156\" xlink:href=\"#DejaVuSans-69\"/>\n     <use x=\"946.09375\" xlink:href=\"#DejaVuSans-83\"/>\n     <use x=\"1009.570312\" xlink:href=\"#DejaVuSans-80\"/>\n     <use x=\"1063.498047\" xlink:href=\"#DejaVuSans-65\"/>\n     <use x=\"1131.90625\" xlink:href=\"#DejaVuSans-209\"/>\n     <use x=\"1206.710938\" xlink:href=\"#DejaVuSans-65\"/>\n     <use x=\"1275.119141\" xlink:href=\"#DejaVuSans-32\"/>\n    </g>\n   </g>\n  </g>\n </g>\n <defs>\n  <clipPath id=\"pd2f4349064\">\n   <rect height=\"217.44\" width=\"334.8\" x=\"96.63125\" y=\"26.877187\"/>\n  </clipPath>\n </defs>\n</svg>\n",
      "image/png": "[encoded data removed]"
     },
     "metadata": {
      "needs_background": "light"
     }
    }
   ],
   "source": [
    "\n",
    "#Obtenemos una lista con las posiciones de cada lenguaje, ejemplo 0, 1, 2, 3.....\n",
    "y_pos2007 = np.arange(len(year2007.Item))\n",
    "y_pos2008 = np.arange(len(year2008.Item))\n",
    "y_pos2012 = np.arange(len(year2012.Item))\n",
    "\n",
    " \n",
    "#Ahora obtenemos la cantidad de usos de cada lenguaje\n",
    "cantidad_usos2007 = year2007.Value\n",
    "cantidad_usos2008 = year2008.Value\n",
    "cantidad_usos2012 = year2012.Value\n",
    "\n",
    "#Creamos la grafica pasando los valores en el eje X, Y, donde X = cantidad_usos y Y = lenguajes\n",
    "plt.barh(y_pos2007, cantidad_usos2007, align='center', alpha=0.5,color=\"#76D7C4\")\n",
    "plt.barh(y_pos2008, cantidad_usos2008, align='center', alpha=0.5,color=\"#F8C471\")\n",
    "plt.barh(y_pos2012, cantidad_usos2012, align='center', alpha=0.5,color=\"c\")\n",
    "\n",
    "#Añadimos la etiqueta de nombre de cada lenguaje en su posicion correcta\n",
    "plt.yticks(y_pos2007, year2007.Item)\n",
    "#plt.yticks(y_pos2008, year2008.Item)\n",
    "#añadimos una etiqueta en el eje X\n",
    "plt.xlabel('Value', size=14, color=\"#138D75\")\n",
    "#Y una etiqueta superior\n",
    "plt.title('PRODUCCIÓN EN ESPAÑA ', size=18, color=\"#138D75\")\n",
    "#plt.savefig('Producción_anual.png')\n",
    "plt.show()"
   ]
  },
  {
   "cell_type": "code",
   "execution_count": null,
   "metadata": {},
   "outputs": [],
   "source": []
  }
 ]
}